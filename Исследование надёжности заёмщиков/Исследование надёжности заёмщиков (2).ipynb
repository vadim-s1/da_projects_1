{
 "cells": [
  {
   "cell_type": "markdown",
   "id": "ef2afda8",
   "metadata": {},
   "source": [
    "# Исследование надёжности заёмщиков"
   ]
  },
  {
   "cell_type": "markdown",
   "id": "69ea3f80",
   "metadata": {},
   "source": [
    "**Заказчик** - кредитный отдел банка. \n",
    "\n",
    "**Цель исследования** - оценить способность потенциального заёмщика вернуть кредит банку, а также выяснить, влияет ли семейное положение и количество детей клиента на факт погашения заёмныъ средств в срок. На основе статистики о платёжеспособности клиентов в процессе исследования необходимо проверить следующие гипотезы:\n",
    "1. Чем больше детей в семье, тем меньше вероятность возврата кредита в срок\n",
    "2. Люди, проживающие в браке, имеют вероятность не вернуть кредит в срок больше, чем люди, которые не проживают в браке\n",
    "3. Чем ниже уровнь дохода, тем ниже веростность возврата кредита в срок\n",
    "4. Разные цели кредита по-разному влияют на его возврат в срок\n",
    "\n",
    "**Ход исследования:** данные о платёжеспособности клиентов будут получены из файла `data.csv`. О качестве данных ничего не известно, поэтому перед проверкой гипотез понадобится проверить данные на качество и наличие в них различных ошибок, пропусков и аномалий. Также будет оценено влияние ошибок на исследование. Затем, на этапе предобработки будут исправлены самые критичные ошибки.\n",
    "\n",
    "Результаты исследования будут учтены при построении модели кредитного скоринга — специальной системы, которая оценивает способность потенциального заёмщика вернуть кредит банку.\n",
    " \n",
    "Таким образом, исследование пройдёт в три этапа:\n",
    " 1. Обзор данных.\n",
    " 2. Предобработка данных.\n",
    " 3. Исследовательский анализ данных.\n",
    " 4. Итоговый вывод"
   ]
  },
  {
   "cell_type": "markdown",
   "id": "b75fbd8e",
   "metadata": {},
   "source": [
    "## 1. Обзор данных\n",
    "На данном этапе будет сформирована первая картина о данных, с которыми предстоит работать дальше. "
   ]
  },
  {
   "cell_type": "code",
   "execution_count": 1,
   "id": "01ce20a3",
   "metadata": {},
   "outputs": [],
   "source": [
    "# Подключение библиотек \n",
    "import pandas as pd\n",
    "import matplotlib.pyplot as plt\n",
    "import seaborn as sns\n",
    "plt.style.use('seaborn-dark')\n",
    "# Устанавливаем дополнительные настройки отображения данных в таблице (округление чисел до двух знаков после запятой)\n",
    "pd.set_option('display.float_format', '{:.2f}'.format) "
   ]
  },
  {
   "cell_type": "code",
   "execution_count": 2,
   "id": "18ef91b5",
   "metadata": {},
   "outputs": [],
   "source": [
    "# Чтение файла data.csv и сохранение его в переменной df\n",
    "try:\n",
    "    df = pd.read_csv('data.csv')\n",
    "except:\n",
    "    df = pd.read_csv('/datasets/data.csv')"
   ]
  },
  {
   "cell_type": "code",
   "execution_count": 3,
   "id": "9c3ffd41",
   "metadata": {
    "scrolled": false
   },
   "outputs": [
    {
     "data": {
      "text/html": [
       "<div>\n",
       "<style scoped>\n",
       "    .dataframe tbody tr th:only-of-type {\n",
       "        vertical-align: middle;\n",
       "    }\n",
       "\n",
       "    .dataframe tbody tr th {\n",
       "        vertical-align: top;\n",
       "    }\n",
       "\n",
       "    .dataframe thead th {\n",
       "        text-align: right;\n",
       "    }\n",
       "</style>\n",
       "<table border=\"1\" class=\"dataframe\">\n",
       "  <thead>\n",
       "    <tr style=\"text-align: right;\">\n",
       "      <th></th>\n",
       "      <th>children</th>\n",
       "      <th>days_employed</th>\n",
       "      <th>dob_years</th>\n",
       "      <th>education</th>\n",
       "      <th>education_id</th>\n",
       "      <th>family_status</th>\n",
       "      <th>family_status_id</th>\n",
       "      <th>gender</th>\n",
       "      <th>income_type</th>\n",
       "      <th>debt</th>\n",
       "      <th>total_income</th>\n",
       "      <th>purpose</th>\n",
       "    </tr>\n",
       "  </thead>\n",
       "  <tbody>\n",
       "    <tr>\n",
       "      <th>0</th>\n",
       "      <td>1</td>\n",
       "      <td>-8437.67</td>\n",
       "      <td>42</td>\n",
       "      <td>высшее</td>\n",
       "      <td>0</td>\n",
       "      <td>женат / замужем</td>\n",
       "      <td>0</td>\n",
       "      <td>F</td>\n",
       "      <td>сотрудник</td>\n",
       "      <td>0</td>\n",
       "      <td>253875.64</td>\n",
       "      <td>покупка жилья</td>\n",
       "    </tr>\n",
       "    <tr>\n",
       "      <th>1</th>\n",
       "      <td>1</td>\n",
       "      <td>-4024.80</td>\n",
       "      <td>36</td>\n",
       "      <td>среднее</td>\n",
       "      <td>1</td>\n",
       "      <td>женат / замужем</td>\n",
       "      <td>0</td>\n",
       "      <td>F</td>\n",
       "      <td>сотрудник</td>\n",
       "      <td>0</td>\n",
       "      <td>112080.01</td>\n",
       "      <td>приобретение автомобиля</td>\n",
       "    </tr>\n",
       "    <tr>\n",
       "      <th>2</th>\n",
       "      <td>0</td>\n",
       "      <td>-5623.42</td>\n",
       "      <td>33</td>\n",
       "      <td>Среднее</td>\n",
       "      <td>1</td>\n",
       "      <td>женат / замужем</td>\n",
       "      <td>0</td>\n",
       "      <td>M</td>\n",
       "      <td>сотрудник</td>\n",
       "      <td>0</td>\n",
       "      <td>145885.95</td>\n",
       "      <td>покупка жилья</td>\n",
       "    </tr>\n",
       "    <tr>\n",
       "      <th>3</th>\n",
       "      <td>3</td>\n",
       "      <td>-4124.75</td>\n",
       "      <td>32</td>\n",
       "      <td>среднее</td>\n",
       "      <td>1</td>\n",
       "      <td>женат / замужем</td>\n",
       "      <td>0</td>\n",
       "      <td>M</td>\n",
       "      <td>сотрудник</td>\n",
       "      <td>0</td>\n",
       "      <td>267628.55</td>\n",
       "      <td>дополнительное образование</td>\n",
       "    </tr>\n",
       "    <tr>\n",
       "      <th>4</th>\n",
       "      <td>0</td>\n",
       "      <td>340266.07</td>\n",
       "      <td>53</td>\n",
       "      <td>среднее</td>\n",
       "      <td>1</td>\n",
       "      <td>гражданский брак</td>\n",
       "      <td>1</td>\n",
       "      <td>F</td>\n",
       "      <td>пенсионер</td>\n",
       "      <td>0</td>\n",
       "      <td>158616.08</td>\n",
       "      <td>сыграть свадьбу</td>\n",
       "    </tr>\n",
       "  </tbody>\n",
       "</table>\n",
       "</div>"
      ],
      "text/plain": [
       "   children  days_employed  dob_years education  education_id  \\\n",
       "0         1       -8437.67         42    высшее             0   \n",
       "1         1       -4024.80         36   среднее             1   \n",
       "2         0       -5623.42         33   Среднее             1   \n",
       "3         3       -4124.75         32   среднее             1   \n",
       "4         0      340266.07         53   среднее             1   \n",
       "\n",
       "      family_status  family_status_id gender income_type  debt  total_income  \\\n",
       "0   женат / замужем                 0      F   сотрудник     0     253875.64   \n",
       "1   женат / замужем                 0      F   сотрудник     0     112080.01   \n",
       "2   женат / замужем                 0      M   сотрудник     0     145885.95   \n",
       "3   женат / замужем                 0      M   сотрудник     0     267628.55   \n",
       "4  гражданский брак                 1      F   пенсионер     0     158616.08   \n",
       "\n",
       "                      purpose  \n",
       "0               покупка жилья  \n",
       "1     приобретение автомобиля  \n",
       "2               покупка жилья  \n",
       "3  дополнительное образование  \n",
       "4             сыграть свадьбу  "
      ]
     },
     "execution_count": 3,
     "metadata": {},
     "output_type": "execute_result"
    }
   ],
   "source": [
    "df.head()"
   ]
  },
  {
   "cell_type": "code",
   "execution_count": 4,
   "id": "34290d86",
   "metadata": {},
   "outputs": [
    {
     "name": "stdout",
     "output_type": "stream",
     "text": [
      "<class 'pandas.core.frame.DataFrame'>\n",
      "RangeIndex: 21525 entries, 0 to 21524\n",
      "Data columns (total 12 columns):\n",
      " #   Column            Non-Null Count  Dtype  \n",
      "---  ------            --------------  -----  \n",
      " 0   children          21525 non-null  int64  \n",
      " 1   days_employed     19351 non-null  float64\n",
      " 2   dob_years         21525 non-null  int64  \n",
      " 3   education         21525 non-null  object \n",
      " 4   education_id      21525 non-null  int64  \n",
      " 5   family_status     21525 non-null  object \n",
      " 6   family_status_id  21525 non-null  int64  \n",
      " 7   gender            21525 non-null  object \n",
      " 8   income_type       21525 non-null  object \n",
      " 9   debt              21525 non-null  int64  \n",
      " 10  total_income      19351 non-null  float64\n",
      " 11  purpose           21525 non-null  object \n",
      "dtypes: float64(2), int64(5), object(5)\n",
      "memory usage: 2.0+ MB\n"
     ]
    }
   ],
   "source": [
    "# Получаем общую картину о данных датасета\n",
    "df.info()"
   ]
  },
  {
   "cell_type": "markdown",
   "id": "140962ba",
   "metadata": {},
   "source": [
    "Итак, в таблице 12 столбцов. Тип данных в столбцах — `object`,`float64` и `int64 ` \n",
    "\n",
    "Согласно документации к данным:\n",
    "* `children` — количество детей в семье;\n",
    "* `days_employed` — общий трудовой стаж в днях; \n",
    "* `dob_years` — возраст клиента в годах;\n",
    "* `education` — уровень образования клиента;\n",
    "* `education_id` — идентификатор уровня образования;\n",
    "* `family_status` — семейное положение;\n",
    "* `family_status_id` — идентификатор семейного положения;\n",
    "* `gender` - пол клиента;\n",
    "* `income_type` - тип занятости;\n",
    "* `debt` - имел ли задолженность по возврату кредитов;\n",
    "* `total_income` - ежемесячный доход;\n",
    "* `purpose` - цель получения кредита;\n",
    "\n",
    "Названия колонок написаны без нарушения стиля. Однако количество значений в столбцах различается, следовательно, в данных есть пропущенные значения. \n",
    "\n",
    "Также, необходимо заметить, что в колонке `days_employed` некоторые значения отрицательны, но трудовой стаж не может быть выражен подобным образом."
   ]
  },
  {
   "cell_type": "markdown",
   "id": "5cd4253e",
   "metadata": {},
   "source": [
    "**Вывод**\n",
    "\n",
    "В каждой строке таблицы — информация о клиенте. Один столбец -`purpose`- описывает сам кредит: то, на что были предоставлены средства банком. Остальные данные рассказывают о заёмщике: его трудовой стаж, ежемесячную зарплату, пол, семейное положение и тд. \n",
    "\n",
    "Предварительно можно утверждать, что предоставленных данных достаточно для проверки поставленных гипотез. Но встречаются пропуски в данных, которые необходимо проанализировать и устранить, прежде чем двигаться дальше. "
   ]
  },
  {
   "cell_type": "markdown",
   "id": "c04d8f83",
   "metadata": {},
   "source": [
    "## 2. Предобработка данных\n",
    "На данном этапе будут устранены выявленные проблемы в данных."
   ]
  },
  {
   "cell_type": "markdown",
   "id": "5716787b",
   "metadata": {},
   "source": [
    "### 2.1. Обработка аномальных значений"
   ]
  },
  {
   "cell_type": "markdown",
   "id": "ef1d9fd4",
   "metadata": {},
   "source": [
    "В столбце `days_employed` видны аномалии, которые выражаются в отрицательных значениях. Так как трудавой стаж не может быть выражен отрицательным числом, необходимо эти данные обработать"
   ]
  },
  {
   "cell_type": "code",
   "execution_count": 5,
   "id": "31883d3e",
   "metadata": {},
   "outputs": [
    {
     "data": {
      "text/html": [
       "<div>\n",
       "<style scoped>\n",
       "    .dataframe tbody tr th:only-of-type {\n",
       "        vertical-align: middle;\n",
       "    }\n",
       "\n",
       "    .dataframe tbody tr th {\n",
       "        vertical-align: top;\n",
       "    }\n",
       "\n",
       "    .dataframe thead th {\n",
       "        text-align: right;\n",
       "    }\n",
       "</style>\n",
       "<table border=\"1\" class=\"dataframe\">\n",
       "  <thead>\n",
       "    <tr style=\"text-align: right;\">\n",
       "      <th></th>\n",
       "      <th>children</th>\n",
       "      <th>days_employed</th>\n",
       "      <th>dob_years</th>\n",
       "      <th>education</th>\n",
       "      <th>education_id</th>\n",
       "      <th>family_status</th>\n",
       "      <th>family_status_id</th>\n",
       "      <th>gender</th>\n",
       "      <th>income_type</th>\n",
       "      <th>debt</th>\n",
       "      <th>total_income</th>\n",
       "      <th>purpose</th>\n",
       "    </tr>\n",
       "  </thead>\n",
       "  <tbody>\n",
       "    <tr>\n",
       "      <th>0</th>\n",
       "      <td>1</td>\n",
       "      <td>8437.67</td>\n",
       "      <td>42</td>\n",
       "      <td>высшее</td>\n",
       "      <td>0</td>\n",
       "      <td>женат / замужем</td>\n",
       "      <td>0</td>\n",
       "      <td>F</td>\n",
       "      <td>сотрудник</td>\n",
       "      <td>0</td>\n",
       "      <td>253875.64</td>\n",
       "      <td>покупка жилья</td>\n",
       "    </tr>\n",
       "    <tr>\n",
       "      <th>1</th>\n",
       "      <td>1</td>\n",
       "      <td>4024.80</td>\n",
       "      <td>36</td>\n",
       "      <td>среднее</td>\n",
       "      <td>1</td>\n",
       "      <td>женат / замужем</td>\n",
       "      <td>0</td>\n",
       "      <td>F</td>\n",
       "      <td>сотрудник</td>\n",
       "      <td>0</td>\n",
       "      <td>112080.01</td>\n",
       "      <td>приобретение автомобиля</td>\n",
       "    </tr>\n",
       "    <tr>\n",
       "      <th>2</th>\n",
       "      <td>0</td>\n",
       "      <td>5623.42</td>\n",
       "      <td>33</td>\n",
       "      <td>Среднее</td>\n",
       "      <td>1</td>\n",
       "      <td>женат / замужем</td>\n",
       "      <td>0</td>\n",
       "      <td>M</td>\n",
       "      <td>сотрудник</td>\n",
       "      <td>0</td>\n",
       "      <td>145885.95</td>\n",
       "      <td>покупка жилья</td>\n",
       "    </tr>\n",
       "    <tr>\n",
       "      <th>3</th>\n",
       "      <td>3</td>\n",
       "      <td>4124.75</td>\n",
       "      <td>32</td>\n",
       "      <td>среднее</td>\n",
       "      <td>1</td>\n",
       "      <td>женат / замужем</td>\n",
       "      <td>0</td>\n",
       "      <td>M</td>\n",
       "      <td>сотрудник</td>\n",
       "      <td>0</td>\n",
       "      <td>267628.55</td>\n",
       "      <td>дополнительное образование</td>\n",
       "    </tr>\n",
       "    <tr>\n",
       "      <th>4</th>\n",
       "      <td>0</td>\n",
       "      <td>340266.07</td>\n",
       "      <td>53</td>\n",
       "      <td>среднее</td>\n",
       "      <td>1</td>\n",
       "      <td>гражданский брак</td>\n",
       "      <td>1</td>\n",
       "      <td>F</td>\n",
       "      <td>пенсионер</td>\n",
       "      <td>0</td>\n",
       "      <td>158616.08</td>\n",
       "      <td>сыграть свадьбу</td>\n",
       "    </tr>\n",
       "  </tbody>\n",
       "</table>\n",
       "</div>"
      ],
      "text/plain": [
       "   children  days_employed  dob_years education  education_id  \\\n",
       "0         1        8437.67         42    высшее             0   \n",
       "1         1        4024.80         36   среднее             1   \n",
       "2         0        5623.42         33   Среднее             1   \n",
       "3         3        4124.75         32   среднее             1   \n",
       "4         0      340266.07         53   среднее             1   \n",
       "\n",
       "      family_status  family_status_id gender income_type  debt  total_income  \\\n",
       "0   женат / замужем                 0      F   сотрудник     0     253875.64   \n",
       "1   женат / замужем                 0      F   сотрудник     0     112080.01   \n",
       "2   женат / замужем                 0      M   сотрудник     0     145885.95   \n",
       "3   женат / замужем                 0      M   сотрудник     0     267628.55   \n",
       "4  гражданский брак                 1      F   пенсионер     0     158616.08   \n",
       "\n",
       "                      purpose  \n",
       "0               покупка жилья  \n",
       "1     приобретение автомобиля  \n",
       "2               покупка жилья  \n",
       "3  дополнительное образование  \n",
       "4             сыграть свадьбу  "
      ]
     },
     "execution_count": 5,
     "metadata": {},
     "output_type": "execute_result"
    }
   ],
   "source": [
    "# Исключим отрицательные значения в столбце days_employed\n",
    "df['days_employed'] = df['days_employed'].abs()\n",
    "df.head()"
   ]
  },
  {
   "cell_type": "markdown",
   "id": "7eca6f8c",
   "metadata": {},
   "source": [
    "Для изучения распределения количественных столбцов лучше всего подойдет метод `describe()`"
   ]
  },
  {
   "cell_type": "code",
   "execution_count": 6,
   "id": "32069d83",
   "metadata": {},
   "outputs": [
    {
     "data": {
      "text/html": [
       "<div>\n",
       "<style scoped>\n",
       "    .dataframe tbody tr th:only-of-type {\n",
       "        vertical-align: middle;\n",
       "    }\n",
       "\n",
       "    .dataframe tbody tr th {\n",
       "        vertical-align: top;\n",
       "    }\n",
       "\n",
       "    .dataframe thead th {\n",
       "        text-align: right;\n",
       "    }\n",
       "</style>\n",
       "<table border=\"1\" class=\"dataframe\">\n",
       "  <thead>\n",
       "    <tr style=\"text-align: right;\">\n",
       "      <th></th>\n",
       "      <th>children</th>\n",
       "      <th>days_employed</th>\n",
       "      <th>dob_years</th>\n",
       "      <th>total_income</th>\n",
       "    </tr>\n",
       "  </thead>\n",
       "  <tbody>\n",
       "    <tr>\n",
       "      <th>count</th>\n",
       "      <td>21525.00</td>\n",
       "      <td>19351.00</td>\n",
       "      <td>21525.00</td>\n",
       "      <td>19351.00</td>\n",
       "    </tr>\n",
       "    <tr>\n",
       "      <th>mean</th>\n",
       "      <td>0.54</td>\n",
       "      <td>66914.73</td>\n",
       "      <td>43.29</td>\n",
       "      <td>167422.30</td>\n",
       "    </tr>\n",
       "    <tr>\n",
       "      <th>std</th>\n",
       "      <td>1.38</td>\n",
       "      <td>139030.88</td>\n",
       "      <td>12.57</td>\n",
       "      <td>102971.57</td>\n",
       "    </tr>\n",
       "    <tr>\n",
       "      <th>min</th>\n",
       "      <td>-1.00</td>\n",
       "      <td>24.14</td>\n",
       "      <td>0.00</td>\n",
       "      <td>20667.26</td>\n",
       "    </tr>\n",
       "    <tr>\n",
       "      <th>25%</th>\n",
       "      <td>0.00</td>\n",
       "      <td>927.01</td>\n",
       "      <td>33.00</td>\n",
       "      <td>103053.15</td>\n",
       "    </tr>\n",
       "    <tr>\n",
       "      <th>50%</th>\n",
       "      <td>0.00</td>\n",
       "      <td>2194.22</td>\n",
       "      <td>42.00</td>\n",
       "      <td>145017.94</td>\n",
       "    </tr>\n",
       "    <tr>\n",
       "      <th>75%</th>\n",
       "      <td>1.00</td>\n",
       "      <td>5537.88</td>\n",
       "      <td>53.00</td>\n",
       "      <td>203435.07</td>\n",
       "    </tr>\n",
       "    <tr>\n",
       "      <th>max</th>\n",
       "      <td>20.00</td>\n",
       "      <td>401755.40</td>\n",
       "      <td>75.00</td>\n",
       "      <td>2265604.03</td>\n",
       "    </tr>\n",
       "  </tbody>\n",
       "</table>\n",
       "</div>"
      ],
      "text/plain": [
       "       children  days_employed  dob_years  total_income\n",
       "count  21525.00       19351.00   21525.00      19351.00\n",
       "mean       0.54       66914.73      43.29     167422.30\n",
       "std        1.38      139030.88      12.57     102971.57\n",
       "min       -1.00          24.14       0.00      20667.26\n",
       "25%        0.00         927.01      33.00     103053.15\n",
       "50%        0.00        2194.22      42.00     145017.94\n",
       "75%        1.00        5537.88      53.00     203435.07\n",
       "max       20.00      401755.40      75.00    2265604.03"
      ]
     },
     "execution_count": 6,
     "metadata": {},
     "output_type": "execute_result"
    }
   ],
   "source": [
    "# Смотрим на описательную характеристику количественных данных\n",
    "df[['children', 'days_employed', 'dob_years', 'total_income']].describe()"
   ]
  },
  {
   "cell_type": "markdown",
   "id": "79abf164",
   "metadata": {},
   "source": [
    "Моменты, которые нужно проанализировать и при необходимости исправить:\n",
    "- Максимальный трудовой стаж в столбце равен более 400 000 дней. Конечно же это нереальное значение\n",
    "- В столбце с количеством детей есть отрицательные значения, а также максимальное значение - 20\n",
    "- Минимальный возраст клиента равен нулю"
   ]
  },
  {
   "cell_type": "code",
   "execution_count": 7,
   "id": "7a349d77",
   "metadata": {},
   "outputs": [
    {
     "data": {
      "text/html": [
       "<div>\n",
       "<style scoped>\n",
       "    .dataframe tbody tr th:only-of-type {\n",
       "        vertical-align: middle;\n",
       "    }\n",
       "\n",
       "    .dataframe tbody tr th {\n",
       "        vertical-align: top;\n",
       "    }\n",
       "\n",
       "    .dataframe thead th {\n",
       "        text-align: right;\n",
       "    }\n",
       "</style>\n",
       "<table border=\"1\" class=\"dataframe\">\n",
       "  <thead>\n",
       "    <tr style=\"text-align: right;\">\n",
       "      <th></th>\n",
       "      <th>days_employed</th>\n",
       "    </tr>\n",
       "    <tr>\n",
       "      <th>income_type</th>\n",
       "      <th></th>\n",
       "    </tr>\n",
       "  </thead>\n",
       "  <tbody>\n",
       "    <tr>\n",
       "      <th>безработный</th>\n",
       "      <td>366413.65</td>\n",
       "    </tr>\n",
       "    <tr>\n",
       "      <th>в декрете</th>\n",
       "      <td>3296.76</td>\n",
       "    </tr>\n",
       "    <tr>\n",
       "      <th>госслужащий</th>\n",
       "      <td>3399.90</td>\n",
       "    </tr>\n",
       "    <tr>\n",
       "      <th>компаньон</th>\n",
       "      <td>2111.52</td>\n",
       "    </tr>\n",
       "    <tr>\n",
       "      <th>пенсионер</th>\n",
       "      <td>365003.49</td>\n",
       "    </tr>\n",
       "    <tr>\n",
       "      <th>предприниматель</th>\n",
       "      <td>520.85</td>\n",
       "    </tr>\n",
       "    <tr>\n",
       "      <th>сотрудник</th>\n",
       "      <td>2326.50</td>\n",
       "    </tr>\n",
       "    <tr>\n",
       "      <th>студент</th>\n",
       "      <td>578.75</td>\n",
       "    </tr>\n",
       "  </tbody>\n",
       "</table>\n",
       "</div>"
      ],
      "text/plain": [
       "                 days_employed\n",
       "income_type                   \n",
       "безработный          366413.65\n",
       "в декрете              3296.76\n",
       "госслужащий            3399.90\n",
       "компаньон              2111.52\n",
       "пенсионер            365003.49\n",
       "предприниматель         520.85\n",
       "сотрудник              2326.50\n",
       "студент                 578.75"
      ]
     },
     "execution_count": 7,
     "metadata": {},
     "output_type": "execute_result"
    }
   ],
   "source": [
    "income_df = df.groupby('income_type')[['days_employed']].mean()\n",
    "income_df"
   ]
  },
  {
   "cell_type": "code",
   "execution_count": 8,
   "id": "17c1702f",
   "metadata": {},
   "outputs": [],
   "source": [
    "def plotting_income_type(df):\n",
    "    (df.sort_values(by='days_employed', ascending=False)\n",
    "       .plot(kind='bar', figsize=(12,5), grid=True, legend=False)\n",
    "    )\n",
    "    plt.title('Общий трудовой стаж в разрезе типа занятости')\n",
    "    plt.xlabel('Тип занятости')\n",
    "    plt.ylabel('Трудовой стаж, дней')\n",
    "    plt.xticks(rotation=360);"
   ]
  },
  {
   "cell_type": "code",
   "execution_count": 9,
   "id": "70b7c8d7",
   "metadata": {},
   "outputs": [
    {
     "data": {
      "image/png": "[encoded data removed]",
      "text/plain": [
       "<Figure size 864x360 with 1 Axes>"
      ]
     },
     "metadata": {},
     "output_type": "display_data"
    }
   ],
   "source": [
    "plotting_income_type(income_df)"
   ]
  },
  {
   "cell_type": "markdown",
   "id": "c89ef541",
   "metadata": {},
   "source": [
    "Мы нашли среднее значение по каждой категории заёмщиков. Видно, что аномальные значения преимущественно принадлежат категориям `безработные` и `пенсионер`, поэтому необходимо капнуть немного глубже именно в эти категории. \n",
    "\n",
    "Исходя из полученных средних по каждой категории, выдвину гипотезу: данные по этим столбцам записаны не в днях, а часах. "
   ]
  },
  {
   "cell_type": "code",
   "execution_count": 10,
   "id": "e2719e42",
   "metadata": {},
   "outputs": [],
   "source": [
    "# Проверим гипотезу, переведя значения столбца из дней в часы\n",
    "df.loc[df['income_type'] == 'пенсионер', 'days_employed'] = df['days_employed'] / 24"
   ]
  },
  {
   "cell_type": "code",
   "execution_count": 11,
   "id": "a25fd9f8",
   "metadata": {},
   "outputs": [
    {
     "data": {
      "text/html": [
       "<div>\n",
       "<style scoped>\n",
       "    .dataframe tbody tr th:only-of-type {\n",
       "        vertical-align: middle;\n",
       "    }\n",
       "\n",
       "    .dataframe tbody tr th {\n",
       "        vertical-align: top;\n",
       "    }\n",
       "\n",
       "    .dataframe thead th {\n",
       "        text-align: right;\n",
       "    }\n",
       "</style>\n",
       "<table border=\"1\" class=\"dataframe\">\n",
       "  <thead>\n",
       "    <tr style=\"text-align: right;\">\n",
       "      <th></th>\n",
       "      <th>days_employed</th>\n",
       "    </tr>\n",
       "    <tr>\n",
       "      <th>income_type</th>\n",
       "      <th></th>\n",
       "    </tr>\n",
       "  </thead>\n",
       "  <tbody>\n",
       "    <tr>\n",
       "      <th>безработный</th>\n",
       "      <td>366413.65</td>\n",
       "    </tr>\n",
       "    <tr>\n",
       "      <th>в декрете</th>\n",
       "      <td>3296.76</td>\n",
       "    </tr>\n",
       "    <tr>\n",
       "      <th>госслужащий</th>\n",
       "      <td>3399.90</td>\n",
       "    </tr>\n",
       "    <tr>\n",
       "      <th>компаньон</th>\n",
       "      <td>2111.52</td>\n",
       "    </tr>\n",
       "    <tr>\n",
       "      <th>пенсионер</th>\n",
       "      <td>15208.48</td>\n",
       "    </tr>\n",
       "    <tr>\n",
       "      <th>предприниматель</th>\n",
       "      <td>520.85</td>\n",
       "    </tr>\n",
       "    <tr>\n",
       "      <th>сотрудник</th>\n",
       "      <td>2326.50</td>\n",
       "    </tr>\n",
       "    <tr>\n",
       "      <th>студент</th>\n",
       "      <td>578.75</td>\n",
       "    </tr>\n",
       "  </tbody>\n",
       "</table>\n",
       "</div>"
      ],
      "text/plain": [
       "                 days_employed\n",
       "income_type                   \n",
       "безработный          366413.65\n",
       "в декрете              3296.76\n",
       "госслужащий            3399.90\n",
       "компаньон              2111.52\n",
       "пенсионер             15208.48\n",
       "предприниматель         520.85\n",
       "сотрудник              2326.50\n",
       "студент                 578.75"
      ]
     },
     "execution_count": 11,
     "metadata": {},
     "output_type": "execute_result"
    }
   ],
   "source": [
    "# Проверим выполнение кода\n",
    "income_df = df.groupby('income_type')[['days_employed']].mean()\n",
    "income_df"
   ]
  },
  {
   "cell_type": "code",
   "execution_count": 12,
   "id": "2fac6526",
   "metadata": {},
   "outputs": [
    {
     "data": {
      "image/png": "[encoded data removed]",
      "text/plain": [
       "<Figure size 864x360 with 1 Axes>"
      ]
     },
     "metadata": {},
     "output_type": "display_data"
    }
   ],
   "source": [
    "plotting_income_type(income_df)"
   ]
  },
  {
   "cell_type": "markdown",
   "id": "ab8f3514",
   "metadata": {},
   "source": [
    "Проверив гипотезу, мы видим, что среднее значение по столбцу уменьшилось и уже больше похоже на правду. Однако всё равно значительно отличается от среднего значения по всем категориям. "
   ]
  },
  {
   "cell_type": "code",
   "execution_count": 13,
   "id": "8f186149",
   "metadata": {},
   "outputs": [],
   "source": [
    "# Тоже самое проделаем с другим аномальным столбцом\n",
    "df.loc[df['income_type'] == 'безработный', 'days_employed'] = df['days_employed'] / 24"
   ]
  },
  {
   "cell_type": "code",
   "execution_count": 14,
   "id": "6d978c89",
   "metadata": {},
   "outputs": [
    {
     "data": {
      "text/html": [
       "<div>\n",
       "<style scoped>\n",
       "    .dataframe tbody tr th:only-of-type {\n",
       "        vertical-align: middle;\n",
       "    }\n",
       "\n",
       "    .dataframe tbody tr th {\n",
       "        vertical-align: top;\n",
       "    }\n",
       "\n",
       "    .dataframe thead th {\n",
       "        text-align: right;\n",
       "    }\n",
       "</style>\n",
       "<table border=\"1\" class=\"dataframe\">\n",
       "  <thead>\n",
       "    <tr style=\"text-align: right;\">\n",
       "      <th></th>\n",
       "      <th>days_employed</th>\n",
       "    </tr>\n",
       "    <tr>\n",
       "      <th>income_type</th>\n",
       "      <th></th>\n",
       "    </tr>\n",
       "  </thead>\n",
       "  <tbody>\n",
       "    <tr>\n",
       "      <th>безработный</th>\n",
       "      <td>15267.24</td>\n",
       "    </tr>\n",
       "    <tr>\n",
       "      <th>в декрете</th>\n",
       "      <td>3296.76</td>\n",
       "    </tr>\n",
       "    <tr>\n",
       "      <th>госслужащий</th>\n",
       "      <td>3399.90</td>\n",
       "    </tr>\n",
       "    <tr>\n",
       "      <th>компаньон</th>\n",
       "      <td>2111.52</td>\n",
       "    </tr>\n",
       "    <tr>\n",
       "      <th>пенсионер</th>\n",
       "      <td>15208.48</td>\n",
       "    </tr>\n",
       "    <tr>\n",
       "      <th>предприниматель</th>\n",
       "      <td>520.85</td>\n",
       "    </tr>\n",
       "    <tr>\n",
       "      <th>сотрудник</th>\n",
       "      <td>2326.50</td>\n",
       "    </tr>\n",
       "    <tr>\n",
       "      <th>студент</th>\n",
       "      <td>578.75</td>\n",
       "    </tr>\n",
       "  </tbody>\n",
       "</table>\n",
       "</div>"
      ],
      "text/plain": [
       "                 days_employed\n",
       "income_type                   \n",
       "безработный           15267.24\n",
       "в декрете              3296.76\n",
       "госслужащий            3399.90\n",
       "компаньон              2111.52\n",
       "пенсионер             15208.48\n",
       "предприниматель         520.85\n",
       "сотрудник              2326.50\n",
       "студент                 578.75"
      ]
     },
     "execution_count": 14,
     "metadata": {},
     "output_type": "execute_result"
    }
   ],
   "source": [
    "# Проверим, что из этого вышло\n",
    "income_df = df.groupby('income_type')[['days_employed']].mean()\n",
    "income_df"
   ]
  },
  {
   "cell_type": "code",
   "execution_count": 15,
   "id": "bd878bd6",
   "metadata": {},
   "outputs": [
    {
     "data": {
      "image/png": "[encoded data removed]",
      "text/plain": [
       "<Figure size 864x360 with 1 Axes>"
      ]
     },
     "metadata": {},
     "output_type": "display_data"
    }
   ],
   "source": [
    "plotting_income_type(income_df)"
   ]
  },
  {
   "cell_type": "markdown",
   "id": "87abeabe",
   "metadata": {},
   "source": [
    "Здесь мы также наблюдаем сильное изменение в данных, которое уже больше похоже на правду. \n",
    "\n",
    "Однако замечу, что, если по столбцу `пенсионер`, выдвигаемую гипотезу можно подтвердить (полученное среднее значение в данной категории на практике может быть получено, потому что про пенсоинера понятно, что человек работает большую часть жизни), то для столбца `безработный` данную гипотезу подтвердить не можем, так как не знаем, кто именно входит в эту категорию и какой возраст в этой категории преобладает. \n",
    "\n",
    "Если говорить в целом про столбец `days_employed`, то данные очень плохие и следует вернуть эти данные с целью их доработки и приведения в нормальный вид. На данном этапе оставим данные в таком виде. "
   ]
  },
  {
   "cell_type": "markdown",
   "id": "9437f71b",
   "metadata": {},
   "source": [
    "Что касается столбца `children`, то здесь также наблюдаются аномалии и ошибки. \n",
    "\n",
    "Во-первых, количество детей не может быть выражено отрицательным числом. Во-вторых, число детей в количестве 20 человек, это тоже очень странно, этот момент нужно проработать."
   ]
  },
  {
   "cell_type": "code",
   "execution_count": 16,
   "id": "3dc5b706",
   "metadata": {},
   "outputs": [],
   "source": [
    "# Уберём из столбца отрицательные значения\n",
    "df['children'] = df['children'].abs()"
   ]
  },
  {
   "cell_type": "code",
   "execution_count": 17,
   "id": "b1f777b8",
   "metadata": {},
   "outputs": [
    {
     "data": {
      "text/html": [
       "<div>\n",
       "<style scoped>\n",
       "    .dataframe tbody tr th:only-of-type {\n",
       "        vertical-align: middle;\n",
       "    }\n",
       "\n",
       "    .dataframe tbody tr th {\n",
       "        vertical-align: top;\n",
       "    }\n",
       "\n",
       "    .dataframe thead th {\n",
       "        text-align: right;\n",
       "    }\n",
       "</style>\n",
       "<table border=\"1\" class=\"dataframe\">\n",
       "  <thead>\n",
       "    <tr style=\"text-align: right;\">\n",
       "      <th></th>\n",
       "      <th>children</th>\n",
       "      <th>cnt</th>\n",
       "    </tr>\n",
       "  </thead>\n",
       "  <tbody>\n",
       "    <tr>\n",
       "      <th>0</th>\n",
       "      <td>0</td>\n",
       "      <td>14149</td>\n",
       "    </tr>\n",
       "    <tr>\n",
       "      <th>1</th>\n",
       "      <td>1</td>\n",
       "      <td>4865</td>\n",
       "    </tr>\n",
       "    <tr>\n",
       "      <th>2</th>\n",
       "      <td>2</td>\n",
       "      <td>2055</td>\n",
       "    </tr>\n",
       "    <tr>\n",
       "      <th>3</th>\n",
       "      <td>3</td>\n",
       "      <td>330</td>\n",
       "    </tr>\n",
       "    <tr>\n",
       "      <th>4</th>\n",
       "      <td>4</td>\n",
       "      <td>41</td>\n",
       "    </tr>\n",
       "    <tr>\n",
       "      <th>5</th>\n",
       "      <td>5</td>\n",
       "      <td>9</td>\n",
       "    </tr>\n",
       "    <tr>\n",
       "      <th>6</th>\n",
       "      <td>20</td>\n",
       "      <td>76</td>\n",
       "    </tr>\n",
       "  </tbody>\n",
       "</table>\n",
       "</div>"
      ],
      "text/plain": [
       "   children    cnt\n",
       "0         0  14149\n",
       "1         1   4865\n",
       "2         2   2055\n",
       "3         3    330\n",
       "4         4     41\n",
       "5         5      9\n",
       "6        20     76"
      ]
     },
     "execution_count": 17,
     "metadata": {},
     "output_type": "execute_result"
    }
   ],
   "source": [
    "# Посмотрим на то, какое количество детей в семье преобладает\n",
    "(df.groupby('children')[['children']].count()\n",
    "                                     .rename(columns={'children':'cnt'})\n",
    "                                     .reset_index()\n",
    ")"
   ]
  },
  {
   "cell_type": "markdown",
   "id": "13034dc2",
   "metadata": {},
   "source": [
    "Мы видим, что основное количество детей у заёмщиков варьируется в диапазоне от 0 до 5. Дальше заметен сильный скачок до 20 и промежуточных значений от 6 до 19 нет. Следовательно, можно утверждать, что количество детей равное 20 - аномалии, которые необходимо либо удалить, либо предположить, что вместо числа 2, было записано число 20 и обработать соответствующим образом. "
   ]
  },
  {
   "cell_type": "code",
   "execution_count": 18,
   "id": "00ff2478",
   "metadata": {},
   "outputs": [
    {
     "data": {
      "text/plain": [
       "0.0035307781649245064"
      ]
     },
     "execution_count": 18,
     "metadata": {},
     "output_type": "execute_result"
    }
   ],
   "source": [
    "# Найдем долю этой аномалии\n",
    "len(df[df['children'] == 20]) / len(df)"
   ]
  },
  {
   "cell_type": "markdown",
   "id": "71e8a7a4",
   "metadata": {},
   "source": [
    "Исходя из расчётов, видно, что доля аномальных значений в столбце `children` очень мала, следовательно, эти строки можно обработать одним из двух способом, названных ранее, но в любом случае, на результат исследования не повляет. "
   ]
  },
  {
   "cell_type": "code",
   "execution_count": 19,
   "id": "4a88f6da",
   "metadata": {},
   "outputs": [],
   "source": [
    "# Перезаписываем датасет \n",
    "df = df.loc[df['children'] != 20]"
   ]
  },
  {
   "cell_type": "code",
   "execution_count": 20,
   "id": "2ca164b2",
   "metadata": {},
   "outputs": [
    {
     "data": {
      "text/plain": [
       "5"
      ]
     },
     "execution_count": 20,
     "metadata": {},
     "output_type": "execute_result"
    }
   ],
   "source": [
    "# Проверяем корректность написанного кода\n",
    "df['children'].max()"
   ]
  },
  {
   "cell_type": "markdown",
   "id": "1955dc9f",
   "metadata": {},
   "source": [
    "Видим, что аномалии в столбце `children` обработаны и устранены"
   ]
  },
  {
   "cell_type": "markdown",
   "id": "b667f6d0",
   "metadata": {},
   "source": [
    "Далее необходимо проанализировать возраст заёмщиков, так как в данных также видим некорректные значения в виде нулевого возраста. Доля таких значений также мала, поэтому, исключив эти значения из таблицы, ничего критичного не произойдёт.  "
   ]
  },
  {
   "cell_type": "code",
   "execution_count": 21,
   "id": "0f84de45",
   "metadata": {},
   "outputs": [
    {
     "data": {
      "text/plain": [
       "dob_years\n",
       "0     100\n",
       "19     14\n",
       "20     51\n",
       "21    110\n",
       "22    183\n",
       "Name: dob_years, dtype: int64"
      ]
     },
     "execution_count": 21,
     "metadata": {},
     "output_type": "execute_result"
    }
   ],
   "source": [
    "# Группируем по возрасту и находим количество\n",
    "df.groupby('dob_years')['dob_years'].count().head()"
   ]
  },
  {
   "cell_type": "code",
   "execution_count": 22,
   "id": "ae7251b7",
   "metadata": {},
   "outputs": [],
   "source": [
    "# Исключаем аномальные значения\n",
    "df = df.loc[df['dob_years'] != 0]"
   ]
  },
  {
   "cell_type": "code",
   "execution_count": 23,
   "id": "00746421",
   "metadata": {},
   "outputs": [
    {
     "data": {
      "text/plain": [
       "dob_years\n",
       "19     14\n",
       "20     51\n",
       "21    110\n",
       "22    183\n",
       "23    253\n",
       "Name: dob_years, dtype: int64"
      ]
     },
     "execution_count": 23,
     "metadata": {},
     "output_type": "execute_result"
    }
   ],
   "source": [
    "# Проверяем корректность отработанного кода\n",
    "df.groupby('dob_years')['dob_years'].count().head()"
   ]
  },
  {
   "cell_type": "markdown",
   "id": "158454c0",
   "metadata": {},
   "source": [
    "Аномалия в столбце `dob_years` обработана и исключина из датафрейма"
   ]
  },
  {
   "cell_type": "markdown",
   "id": "eb58e13c",
   "metadata": {},
   "source": [
    "### 2.2. Обработка пропущенных значений"
   ]
  },
  {
   "cell_type": "code",
   "execution_count": 24,
   "id": "473ecf57",
   "metadata": {},
   "outputs": [
    {
     "data": {
      "text/plain": [
       "children               0\n",
       "days_employed       2155\n",
       "dob_years              0\n",
       "education              0\n",
       "education_id           0\n",
       "family_status          0\n",
       "family_status_id       0\n",
       "gender                 0\n",
       "income_type            0\n",
       "debt                   0\n",
       "total_income        2155\n",
       "purpose                0\n",
       "dtype: int64"
      ]
     },
     "execution_count": 24,
     "metadata": {},
     "output_type": "execute_result"
    }
   ],
   "source": [
    "# Смотрим на количество пропущенных значений в разрезе каждого столбца\n",
    "df.isna().sum()"
   ]
  },
  {
   "cell_type": "markdown",
   "id": "308e7289",
   "metadata": {},
   "source": [
    "В столбцах, в которых были обнаружены пропуски, находятся количественные переменные. Поэтому, чтобы заполнить пропуски в данных столбцах, необходимо для каждого типа занятости, посчиатать медианное значение в столбцах `days_employed` и `total_income`, после чего заменить этим числом пропуски в соответствующей строке. "
   ]
  },
  {
   "cell_type": "markdown",
   "id": "10e23ac6",
   "metadata": {},
   "source": [
    "Так как количество пропусков в обеих столбцах равно, то найдем пропуски для одного столбца и приравняем полученный результат к другому столбцу. После чего с нахождением доли сделаем то же самое (доля пропущенных значений у одного столбца будет равна доле пропусков в другом столбце)"
   ]
  },
  {
   "cell_type": "code",
   "execution_count": 25,
   "id": "807ce661",
   "metadata": {
    "scrolled": true
   },
   "outputs": [
    {
     "name": "stdout",
     "output_type": "stream",
     "text": [
      "Количество пропусков в столбцах про трудовой стаж и доход заёмщика составляют: 2154\n"
     ]
    }
   ],
   "source": [
    "# В столбце days_employed видны аномалии, которые выражаются в отрицательных значениях. Так как трудавой стаж не может быть \n",
    "# выражен отрицательным числом, необходимо эти данные обработатьНахождение количества пропусков в столбце про трудавой стаж\n",
    "share_days = df['days_employed'].duplicated().sum() \n",
    "print('Количество пропусков в столбцах про трудовой стаж и доход заёмщика составляют:', share_days)"
   ]
  },
  {
   "cell_type": "code",
   "execution_count": 26,
   "id": "50330fdc",
   "metadata": {
    "scrolled": true
   },
   "outputs": [
    {
     "name": "stdout",
     "output_type": "stream",
     "text": [
      "Доля пропусков в столбцах про трудовой стаж и доход заёмщика составляет: 10.09%\n"
     ]
    }
   ],
   "source": [
    "# Нахождение доли пропусков в объёме данных по столбцу\n",
    "final_share = share_days / len(df['days_employed'])\n",
    "print(f'Доля пропусков в столбцах про трудовой стаж и доход заёмщика составляет: {final_share:.2%}')"
   ]
  },
  {
   "cell_type": "markdown",
   "id": "b7deb1fb",
   "metadata": {},
   "source": [
    "**Возможные причины появления пропусков в данных:** \n",
    "1. Человеческий фактор (например, человек просматривал данные, пытался проанализировать выборку и случайно удалил некоторые ячейки). Человеку свойственно ошибаться, именно поэтому при внесении данных, он может опечататься, указать другой формат или тип данных, перепутать числа или категориальные значения.\n",
    "2. Технологический фактор (при выгрузке данных из БД, произошёл какой-либо сбой и некоторые данные либо не выгрузились, либо удалились (пропали)\n",
    "3. Ошибки также могли возникнуть при копировании, считывании, смене формата данных."
   ]
  },
  {
   "cell_type": "markdown",
   "id": "29b32803",
   "metadata": {},
   "source": [
    "Далее, напишем функцию, которая заменит пропуски в столбцах `days_employed` и `total_income`, заполнив их медианными значениями в разрезе `income_type`: для каждого `income_type` посчитаем медианный `total_income` и заполним пропуски этим значением. Так мы не усредним данные и меньше повлияем на распределение"
   ]
  },
  {
   "cell_type": "code",
   "execution_count": 27,
   "id": "22cb2381",
   "metadata": {},
   "outputs": [],
   "source": [
    "# Функция, которая заменяет пропуски в определённом столбце на медианное значение относительно типа занятости\n",
    "def fill_passes(column):\n",
    "    for category in df['income_type'].unique():\n",
    "        df_fill = df[df['income_type'] == category]\n",
    "        median_number = df_fill[column].median()\n",
    "        df[column] = df[column].fillna(median_number)"
   ]
  },
  {
   "cell_type": "code",
   "execution_count": 28,
   "id": "84a616b3",
   "metadata": {},
   "outputs": [],
   "source": [
    "# Заменяем пропуски в столбцах days_employed и total_income\n",
    "fill_passes('days_employed')\n",
    "fill_passes('total_income')"
   ]
  },
  {
   "cell_type": "code",
   "execution_count": 29,
   "id": "02dd9296",
   "metadata": {
    "scrolled": false
   },
   "outputs": [
    {
     "data": {
      "text/plain": [
       "children            0\n",
       "days_employed       0\n",
       "dob_years           0\n",
       "education           0\n",
       "education_id        0\n",
       "family_status       0\n",
       "family_status_id    0\n",
       "gender              0\n",
       "income_type         0\n",
       "debt                0\n",
       "total_income        0\n",
       "purpose             0\n",
       "dtype: int64"
      ]
     },
     "execution_count": 29,
     "metadata": {},
     "output_type": "execute_result"
    }
   ],
   "source": [
    "# Убедимся в том, что в таблице не осталось пропущенных значений\n",
    "df.isna().sum()"
   ]
  },
  {
   "cell_type": "markdown",
   "id": "ce530951",
   "metadata": {},
   "source": [
    "**Вывод**\n",
    "\n",
    "Я считаю, что заполнять пропуски в количественных переменных медианным значением лучшего всего, потому что данная цифра отражает наиболее приближенную картину к тем данным, что находятся в столбце.\n",
    "\n",
    "Во-первых, мы не знаем, есть ли аномалии в данных, и если они присутствуют и мы выберем среднее значение по столбцу для заполнения пропусков, а не медианное, то дальнейший анализ исказиться, так как средний показатель слишком сильно реагирует на артефакты, которые не отражают реальной картины, что в последствие приведёт к неточному результату. \n",
    "\n",
    "Во-вторых, оставлять строчки, ячейки с количественными переменными не заполненными, неправильно, так как это также может повлиять на анализ данных и поспособствует неправильным выводам. Точно также неправильно и удалять полностью строки с пропущенными значениями, так как можно лишиться нужных для анализа данных. \n",
    "\n",
    "Следовательно, медианное значение по нужному столбцу в разрезе типа занятости самое приближенное значение данным выборки, и пропуски количественных переменных были заполнены наиболее верным способом. "
   ]
  },
  {
   "cell_type": "markdown",
   "id": "6a6010a5",
   "metadata": {},
   "source": [
    "### 2.3. Замена вещественного типа данных на целочисленный"
   ]
  },
  {
   "cell_type": "markdown",
   "id": "fd70f408",
   "metadata": {},
   "source": [
    "Заменим вещественный тип данных в столбце `total_income` на целочисленный для того, чтобы со значениями столбца можно было работать корректно."
   ]
  },
  {
   "cell_type": "code",
   "execution_count": 30,
   "id": "6ef5124d",
   "metadata": {},
   "outputs": [],
   "source": [
    "df['total_income'] = df['total_income'].astype('int')"
   ]
  },
  {
   "cell_type": "code",
   "execution_count": 31,
   "id": "8455dd1c",
   "metadata": {},
   "outputs": [
    {
     "data": {
      "text/plain": [
       "dtype('int64')"
      ]
     },
     "execution_count": 31,
     "metadata": {},
     "output_type": "execute_result"
    }
   ],
   "source": [
    "# Проверяем корректность замены\n",
    "df['total_income'].dtype"
   ]
  },
  {
   "cell_type": "markdown",
   "id": "46f05533",
   "metadata": {},
   "source": [
    "### 2.4. Поиск и устранение дубликатов"
   ]
  },
  {
   "cell_type": "markdown",
   "id": "ae93b6c9",
   "metadata": {},
   "source": [
    "Теперь таблицу необходимо проанализировать на наличие явных дубликатов."
   ]
  },
  {
   "cell_type": "code",
   "execution_count": 32,
   "id": "f7efc35d",
   "metadata": {},
   "outputs": [
    {
     "data": {
      "text/plain": [
       "54"
      ]
     },
     "execution_count": 32,
     "metadata": {},
     "output_type": "execute_result"
    }
   ],
   "source": [
    "df.duplicated().sum()"
   ]
  },
  {
   "cell_type": "code",
   "execution_count": 33,
   "id": "8be95845",
   "metadata": {},
   "outputs": [],
   "source": [
    "# Избавляемся от найденных дубликатов\n",
    "df = df.drop_duplicates() "
   ]
  },
  {
   "cell_type": "code",
   "execution_count": 34,
   "id": "2f2f9dd9",
   "metadata": {},
   "outputs": [
    {
     "data": {
      "text/plain": [
       "0"
      ]
     },
     "execution_count": 34,
     "metadata": {},
     "output_type": "execute_result"
    }
   ],
   "source": [
    "# Проверим то, как отработал метод\n",
    "df.duplicated().sum()"
   ]
  },
  {
   "cell_type": "markdown",
   "id": "ae76f72f",
   "metadata": {},
   "source": [
    "Далее необходимо проанализировать данные на наличие уже неявных дубликатов. "
   ]
  },
  {
   "cell_type": "code",
   "execution_count": 35,
   "id": "0e45aaa9",
   "metadata": {},
   "outputs": [
    {
     "data": {
      "text/plain": [
       "array(['высшее', 'среднее', 'Среднее', 'СРЕДНЕЕ', 'ВЫСШЕЕ',\n",
       "       'неоконченное высшее', 'начальное', 'Высшее',\n",
       "       'НЕОКОНЧЕННОЕ ВЫСШЕЕ', 'Неоконченное высшее', 'НАЧАЛЬНОЕ',\n",
       "       'Начальное', 'Ученая степень', 'УЧЕНАЯ СТЕПЕНЬ', 'ученая степень'],\n",
       "      dtype=object)"
      ]
     },
     "execution_count": 35,
     "metadata": {},
     "output_type": "execute_result"
    }
   ],
   "source": [
    "df['education'].unique()"
   ]
  },
  {
   "cell_type": "markdown",
   "id": "ee80a525",
   "metadata": {},
   "source": [
    "Можно заметить, что в этом столбце присутсвуют неявные дубликаты: одни и те же значения, записанные по-разному: с использованием заглавных и строчных букв. Эти значения нужно обработать - привести их к единому регистру."
   ]
  },
  {
   "cell_type": "code",
   "execution_count": 36,
   "id": "8cfde32e",
   "metadata": {},
   "outputs": [],
   "source": [
    "df['education'] = df['education'].str.lower()"
   ]
  },
  {
   "cell_type": "code",
   "execution_count": 37,
   "id": "2305576c",
   "metadata": {},
   "outputs": [
    {
     "data": {
      "text/plain": [
       "array(['высшее', 'среднее', 'неоконченное высшее', 'начальное',\n",
       "       'ученая степень'], dtype=object)"
      ]
     },
     "execution_count": 37,
     "metadata": {},
     "output_type": "execute_result"
    }
   ],
   "source": [
    "# Проверяем, как справился выбранный метод с задачей\n",
    "df['education'].unique()"
   ]
  },
  {
   "cell_type": "markdown",
   "id": "a7bc3b6b",
   "metadata": {},
   "source": [
    "Далее проверим другие столбцы с категориальными значениями на наличие неявных дубликатов"
   ]
  },
  {
   "cell_type": "code",
   "execution_count": 38,
   "id": "287b40ae",
   "metadata": {},
   "outputs": [
    {
     "data": {
      "text/plain": [
       "array(['женат / замужем', 'гражданский брак', 'вдовец / вдова',\n",
       "       'в разводе', 'Не женат / не замужем'], dtype=object)"
      ]
     },
     "execution_count": 38,
     "metadata": {},
     "output_type": "execute_result"
    }
   ],
   "source": [
    "df['family_status'].unique()"
   ]
  },
  {
   "cell_type": "markdown",
   "id": "d876d363",
   "metadata": {},
   "source": [
    "В данном столбце неявные дубликаты не просматриваются, но есть одно замечание к записи: одна категория записана с заглавной буквы, что в дальнейшем может привести к путанице. Для удобства все категории также приведём к одному регистру."
   ]
  },
  {
   "cell_type": "code",
   "execution_count": 39,
   "id": "9599215f",
   "metadata": {},
   "outputs": [],
   "source": [
    "df['family_status'] = df['family_status'].str.lower()"
   ]
  },
  {
   "cell_type": "code",
   "execution_count": 40,
   "id": "8846575c",
   "metadata": {},
   "outputs": [
    {
     "data": {
      "text/plain": [
       "array(['женат / замужем', 'гражданский брак', 'вдовец / вдова',\n",
       "       'в разводе', 'не женат / не замужем'], dtype=object)"
      ]
     },
     "execution_count": 40,
     "metadata": {},
     "output_type": "execute_result"
    }
   ],
   "source": [
    "df['family_status'].unique()"
   ]
  },
  {
   "cell_type": "code",
   "execution_count": 41,
   "id": "8ccec059",
   "metadata": {},
   "outputs": [
    {
     "data": {
      "text/plain": [
       "array(['F', 'M', 'XNA'], dtype=object)"
      ]
     },
     "execution_count": 41,
     "metadata": {},
     "output_type": "execute_result"
    }
   ],
   "source": [
    "df['gender'].unique()"
   ]
  },
  {
   "cell_type": "markdown",
   "id": "7eb5ade0",
   "metadata": {},
   "source": [
    "Присутствие в данных `XNA` - аномалия, следовательно, необходимо посмотреть на это подробнее"
   ]
  },
  {
   "cell_type": "code",
   "execution_count": 42,
   "id": "7d60a495",
   "metadata": {},
   "outputs": [
    {
     "data": {
      "text/plain": [
       "gender\n",
       "F      14071\n",
       "M       7223\n",
       "XNA        1\n",
       "Name: gender, dtype: int64"
      ]
     },
     "execution_count": 42,
     "metadata": {},
     "output_type": "execute_result"
    }
   ],
   "source": [
    "# Нахождение количества человек по их полу\n",
    "df.groupby('gender')['gender'].count()"
   ]
  },
  {
   "cell_type": "markdown",
   "id": "5698a5c2",
   "metadata": {},
   "source": [
    "Из расчёта видно, что выброс в виде \"XNA\" в столбце `gender` найден всего один, поэтому его можно безболезненно удалить. "
   ]
  },
  {
   "cell_type": "code",
   "execution_count": 43,
   "id": "26e2f0c1",
   "metadata": {},
   "outputs": [],
   "source": [
    "# Удалим данный выброс из данных\n",
    "df = df.loc[df['gender'] != 'XNA']"
   ]
  },
  {
   "cell_type": "code",
   "execution_count": 44,
   "id": "f93da459",
   "metadata": {},
   "outputs": [
    {
     "data": {
      "text/plain": [
       "gender\n",
       "F    14071\n",
       "M     7223\n",
       "Name: gender, dtype: int64"
      ]
     },
     "execution_count": 44,
     "metadata": {},
     "output_type": "execute_result"
    }
   ],
   "source": [
    "# Проверим, получилось ли обработать данные\n",
    "df.groupby('gender')['gender'].count()"
   ]
  },
  {
   "cell_type": "code",
   "execution_count": 45,
   "id": "95774954",
   "metadata": {
    "scrolled": true
   },
   "outputs": [
    {
     "data": {
      "text/plain": [
       "array(['сотрудник', 'пенсионер', 'компаньон', 'госслужащий',\n",
       "       'безработный', 'предприниматель', 'студент', 'в декрете'],\n",
       "      dtype=object)"
      ]
     },
     "execution_count": 45,
     "metadata": {},
     "output_type": "execute_result"
    }
   ],
   "source": [
    "df['income_type'].unique()"
   ]
  },
  {
   "cell_type": "markdown",
   "id": "4b6fc605",
   "metadata": {},
   "source": [
    "В этом столбце неявные дубликаты не обнаружены"
   ]
  },
  {
   "cell_type": "code",
   "execution_count": 46,
   "id": "e02f1fb7",
   "metadata": {
    "scrolled": true
   },
   "outputs": [
    {
     "data": {
      "text/plain": [
       "array(['покупка жилья', 'приобретение автомобиля',\n",
       "       'дополнительное образование', 'сыграть свадьбу',\n",
       "       'операции с жильем', 'образование', 'на проведение свадьбы',\n",
       "       'покупка жилья для семьи', 'покупка недвижимости',\n",
       "       'покупка коммерческой недвижимости', 'покупка жилой недвижимости',\n",
       "       'строительство собственной недвижимости', 'недвижимость',\n",
       "       'строительство недвижимости', 'на покупку подержанного автомобиля',\n",
       "       'на покупку своего автомобиля',\n",
       "       'операции с коммерческой недвижимостью',\n",
       "       'строительство жилой недвижимости', 'жилье',\n",
       "       'операции со своей недвижимостью', 'автомобили',\n",
       "       'заняться образованием', 'сделка с подержанным автомобилем',\n",
       "       'получение образования', 'автомобиль', 'свадьба',\n",
       "       'получение дополнительного образования', 'покупка своего жилья',\n",
       "       'операции с недвижимостью', 'получение высшего образования',\n",
       "       'свой автомобиль', 'сделка с автомобилем',\n",
       "       'профильное образование', 'высшее образование',\n",
       "       'покупка жилья для сдачи', 'на покупку автомобиля', 'ремонт жилью',\n",
       "       'заняться высшим образованием'], dtype=object)"
      ]
     },
     "execution_count": 46,
     "metadata": {},
     "output_type": "execute_result"
    }
   ],
   "source": [
    "df['purpose'].unique()"
   ]
  },
  {
   "cell_type": "markdown",
   "id": "444a6fcd",
   "metadata": {},
   "source": [
    "В данном столбце прослеживается много однородных категорий, которые имеют одним смысл, но записаны по-разному, но я думаю, что для данного столбца это нормально и изменять здесь ничего не надо. "
   ]
  },
  {
   "cell_type": "markdown",
   "id": "e92219de",
   "metadata": {},
   "source": [
    "**Вывод**\n",
    "\n",
    "Что касается предобработки данных, то были проанализированы и при необходимости обработаны:\n",
    "- Аномальные значения \n",
    "- Пропуски в данных\n",
    "- Типы данных\n",
    "- Дубликаты (явные и неявные)\n",
    "\n",
    "Также можно сказать, что основные причины возникновения дубликатов — повторные представления данных, неправильное соединение данных из разных источников, ошибки пользователя при занесении информации."
   ]
  },
  {
   "cell_type": "markdown",
   "id": "a3552e19",
   "metadata": {},
   "source": [
    "## 3. Исследовательский анализ данных"
   ]
  },
  {
   "cell_type": "markdown",
   "id": "5edbd181",
   "metadata": {},
   "source": [
    "### 3.1. Создание вспомогательных словарей для основного датафрейма\n",
    "Продолжая работу, в исходном датасете видим, что из данных можно сделать некий словарь, по ключу которого будем подтягивать наши данные. Для этого необходимо создать два новых датафрейма, что сделает изначальную таблицу компактнее, а с данными будет легче работать. В общем, цель этого пункта - сформировать таблицы, в которых будут лежать уникальные связки `id` с значениями `тип образования` и `семейный статус`. \n",
    "\n",
    "В первом датасете названия столбцов - `education_id` и `education`; во втором - `family_status_id` и `family_status`."
   ]
  },
  {
   "cell_type": "code",
   "execution_count": 47,
   "id": "951d166f",
   "metadata": {},
   "outputs": [],
   "source": [
    "# Создаём два датафрейма, которые в дальнейшем будут служить словарями\n",
    "education_dict = df[['education_id', 'education']]\n",
    "family_status_dict = df[['family_status_id', 'family_status']]"
   ]
  },
  {
   "cell_type": "code",
   "execution_count": 48,
   "id": "9b5866cf",
   "metadata": {},
   "outputs": [
    {
     "data": {
      "text/html": [
       "<div>\n",
       "<style scoped>\n",
       "    .dataframe tbody tr th:only-of-type {\n",
       "        vertical-align: middle;\n",
       "    }\n",
       "\n",
       "    .dataframe tbody tr th {\n",
       "        vertical-align: top;\n",
       "    }\n",
       "\n",
       "    .dataframe thead th {\n",
       "        text-align: right;\n",
       "    }\n",
       "</style>\n",
       "<table border=\"1\" class=\"dataframe\">\n",
       "  <thead>\n",
       "    <tr style=\"text-align: right;\">\n",
       "      <th></th>\n",
       "      <th>education_id</th>\n",
       "      <th>education</th>\n",
       "    </tr>\n",
       "  </thead>\n",
       "  <tbody>\n",
       "    <tr>\n",
       "      <th>0</th>\n",
       "      <td>0</td>\n",
       "      <td>высшее</td>\n",
       "    </tr>\n",
       "    <tr>\n",
       "      <th>1</th>\n",
       "      <td>1</td>\n",
       "      <td>среднее</td>\n",
       "    </tr>\n",
       "    <tr>\n",
       "      <th>2</th>\n",
       "      <td>2</td>\n",
       "      <td>неоконченное высшее</td>\n",
       "    </tr>\n",
       "    <tr>\n",
       "      <th>3</th>\n",
       "      <td>3</td>\n",
       "      <td>начальное</td>\n",
       "    </tr>\n",
       "    <tr>\n",
       "      <th>4</th>\n",
       "      <td>4</td>\n",
       "      <td>ученая степень</td>\n",
       "    </tr>\n",
       "  </tbody>\n",
       "</table>\n",
       "</div>"
      ],
      "text/plain": [
       "   education_id            education\n",
       "0             0               высшее\n",
       "1             1              среднее\n",
       "2             2  неоконченное высшее\n",
       "3             3            начальное\n",
       "4             4       ученая степень"
      ]
     },
     "execution_count": 48,
     "metadata": {},
     "output_type": "execute_result"
    }
   ],
   "source": [
    "education_dict = education_dict.drop_duplicates().reset_index(drop=True)\n",
    "education_dict"
   ]
  },
  {
   "cell_type": "code",
   "execution_count": 49,
   "id": "75921390",
   "metadata": {},
   "outputs": [
    {
     "data": {
      "text/html": [
       "<div>\n",
       "<style scoped>\n",
       "    .dataframe tbody tr th:only-of-type {\n",
       "        vertical-align: middle;\n",
       "    }\n",
       "\n",
       "    .dataframe tbody tr th {\n",
       "        vertical-align: top;\n",
       "    }\n",
       "\n",
       "    .dataframe thead th {\n",
       "        text-align: right;\n",
       "    }\n",
       "</style>\n",
       "<table border=\"1\" class=\"dataframe\">\n",
       "  <thead>\n",
       "    <tr style=\"text-align: right;\">\n",
       "      <th></th>\n",
       "      <th>family_status_id</th>\n",
       "      <th>family_status</th>\n",
       "    </tr>\n",
       "  </thead>\n",
       "  <tbody>\n",
       "    <tr>\n",
       "      <th>0</th>\n",
       "      <td>0</td>\n",
       "      <td>женат / замужем</td>\n",
       "    </tr>\n",
       "    <tr>\n",
       "      <th>1</th>\n",
       "      <td>1</td>\n",
       "      <td>гражданский брак</td>\n",
       "    </tr>\n",
       "    <tr>\n",
       "      <th>2</th>\n",
       "      <td>2</td>\n",
       "      <td>вдовец / вдова</td>\n",
       "    </tr>\n",
       "    <tr>\n",
       "      <th>3</th>\n",
       "      <td>3</td>\n",
       "      <td>в разводе</td>\n",
       "    </tr>\n",
       "    <tr>\n",
       "      <th>4</th>\n",
       "      <td>4</td>\n",
       "      <td>не женат / не замужем</td>\n",
       "    </tr>\n",
       "  </tbody>\n",
       "</table>\n",
       "</div>"
      ],
      "text/plain": [
       "   family_status_id          family_status\n",
       "0                 0        женат / замужем\n",
       "1                 1       гражданский брак\n",
       "2                 2         вдовец / вдова\n",
       "3                 3              в разводе\n",
       "4                 4  не женат / не замужем"
      ]
     },
     "execution_count": 49,
     "metadata": {},
     "output_type": "execute_result"
    }
   ],
   "source": [
    "family_status_dict = family_status_dict.drop_duplicates().reset_index(drop=True)\n",
    "family_status_dict"
   ]
  },
  {
   "cell_type": "markdown",
   "id": "0944eb7a",
   "metadata": {},
   "source": [
    "Так как выше было создано два датафрейма, благодаря которым в любой необходимый момент можно подтянуть информацию о семейном статусе или образовании, следовательно, в исходном датафрейме можем удалить столбцы `education` и `family_status`, так как при необходимости, эти значения будут лежать в словаре `education_dict` и `family_status_dict` соответственно"
   ]
  },
  {
   "cell_type": "code",
   "execution_count": 50,
   "id": "f2bedafe",
   "metadata": {},
   "outputs": [
    {
     "data": {
      "text/plain": [
       "0         женат / замужем\n",
       "1         женат / замужем\n",
       "2         женат / замужем\n",
       "3         женат / замужем\n",
       "4        гражданский брак\n",
       "               ...       \n",
       "21520    гражданский брак\n",
       "21521     женат / замужем\n",
       "21522    гражданский брак\n",
       "21523     женат / замужем\n",
       "21524     женат / замужем\n",
       "Name: family_status, Length: 21294, dtype: object"
      ]
     },
     "execution_count": 50,
     "metadata": {},
     "output_type": "execute_result"
    }
   ],
   "source": [
    "# Из исходного датафрейма удаляем столбцы education и family_status\n",
    "df.pop('education')\n",
    "df.pop('family_status')"
   ]
  },
  {
   "cell_type": "code",
   "execution_count": 51,
   "id": "b383db3e",
   "metadata": {
    "scrolled": false
   },
   "outputs": [
    {
     "data": {
      "text/html": [
       "<div>\n",
       "<style scoped>\n",
       "    .dataframe tbody tr th:only-of-type {\n",
       "        vertical-align: middle;\n",
       "    }\n",
       "\n",
       "    .dataframe tbody tr th {\n",
       "        vertical-align: top;\n",
       "    }\n",
       "\n",
       "    .dataframe thead th {\n",
       "        text-align: right;\n",
       "    }\n",
       "</style>\n",
       "<table border=\"1\" class=\"dataframe\">\n",
       "  <thead>\n",
       "    <tr style=\"text-align: right;\">\n",
       "      <th></th>\n",
       "      <th>children</th>\n",
       "      <th>days_employed</th>\n",
       "      <th>dob_years</th>\n",
       "      <th>education_id</th>\n",
       "      <th>family_status_id</th>\n",
       "      <th>gender</th>\n",
       "      <th>income_type</th>\n",
       "      <th>debt</th>\n",
       "      <th>total_income</th>\n",
       "      <th>purpose</th>\n",
       "    </tr>\n",
       "  </thead>\n",
       "  <tbody>\n",
       "    <tr>\n",
       "      <th>0</th>\n",
       "      <td>1</td>\n",
       "      <td>8437.67</td>\n",
       "      <td>42</td>\n",
       "      <td>0</td>\n",
       "      <td>0</td>\n",
       "      <td>F</td>\n",
       "      <td>сотрудник</td>\n",
       "      <td>0</td>\n",
       "      <td>253875</td>\n",
       "      <td>покупка жилья</td>\n",
       "    </tr>\n",
       "    <tr>\n",
       "      <th>1</th>\n",
       "      <td>1</td>\n",
       "      <td>4024.80</td>\n",
       "      <td>36</td>\n",
       "      <td>1</td>\n",
       "      <td>0</td>\n",
       "      <td>F</td>\n",
       "      <td>сотрудник</td>\n",
       "      <td>0</td>\n",
       "      <td>112080</td>\n",
       "      <td>приобретение автомобиля</td>\n",
       "    </tr>\n",
       "    <tr>\n",
       "      <th>2</th>\n",
       "      <td>0</td>\n",
       "      <td>5623.42</td>\n",
       "      <td>33</td>\n",
       "      <td>1</td>\n",
       "      <td>0</td>\n",
       "      <td>M</td>\n",
       "      <td>сотрудник</td>\n",
       "      <td>0</td>\n",
       "      <td>145885</td>\n",
       "      <td>покупка жилья</td>\n",
       "    </tr>\n",
       "    <tr>\n",
       "      <th>3</th>\n",
       "      <td>3</td>\n",
       "      <td>4124.75</td>\n",
       "      <td>32</td>\n",
       "      <td>1</td>\n",
       "      <td>0</td>\n",
       "      <td>M</td>\n",
       "      <td>сотрудник</td>\n",
       "      <td>0</td>\n",
       "      <td>267628</td>\n",
       "      <td>дополнительное образование</td>\n",
       "    </tr>\n",
       "    <tr>\n",
       "      <th>4</th>\n",
       "      <td>0</td>\n",
       "      <td>14177.75</td>\n",
       "      <td>53</td>\n",
       "      <td>1</td>\n",
       "      <td>1</td>\n",
       "      <td>F</td>\n",
       "      <td>пенсионер</td>\n",
       "      <td>0</td>\n",
       "      <td>158616</td>\n",
       "      <td>сыграть свадьбу</td>\n",
       "    </tr>\n",
       "  </tbody>\n",
       "</table>\n",
       "</div>"
      ],
      "text/plain": [
       "   children  days_employed  dob_years  education_id  family_status_id gender  \\\n",
       "0         1        8437.67         42             0                 0      F   \n",
       "1         1        4024.80         36             1                 0      F   \n",
       "2         0        5623.42         33             1                 0      M   \n",
       "3         3        4124.75         32             1                 0      M   \n",
       "4         0       14177.75         53             1                 1      F   \n",
       "\n",
       "  income_type  debt  total_income                     purpose  \n",
       "0   сотрудник     0        253875               покупка жилья  \n",
       "1   сотрудник     0        112080     приобретение автомобиля  \n",
       "2   сотрудник     0        145885               покупка жилья  \n",
       "3   сотрудник     0        267628  дополнительное образование  \n",
       "4   пенсионер     0        158616             сыграть свадьбу  "
      ]
     },
     "execution_count": 51,
     "metadata": {},
     "output_type": "execute_result"
    }
   ],
   "source": [
    "# Проверяем то, как справился метод и удалил столбцы\n",
    "df.head()"
   ]
  },
  {
   "cell_type": "markdown",
   "id": "9b5cb8f0",
   "metadata": {},
   "source": [
    "### 3.2. Создание вспомогательных столбцов с категориями"
   ]
  },
  {
   "cell_type": "code",
   "execution_count": 52,
   "id": "b52cc2b0",
   "metadata": {},
   "outputs": [],
   "source": [
    "# Функция для проставления категории относительно дохода\n",
    "def income_category(number):\n",
    "    try:\n",
    "        total = number['total_income']\n",
    "        if 0 <= total <= 30000:\n",
    "            return 'E'\n",
    "        elif 30001 <= total <= 50000:\n",
    "            return 'D'\n",
    "        elif 50001 <= total <= 200000:\n",
    "            return 'C'\n",
    "        elif 200001 <= total <= 1000000:\n",
    "            return 'B'\n",
    "        elif total >= 1000001:\n",
    "            return 'A'\n",
    "        else:\n",
    "            return 'ошибка'\n",
    "    except:\n",
    "        return 'ошибка'\n",
    "# Создаём новый столбец и передаём методу apply собственную функцию\n",
    "df['total_income_category'] = df.apply(income_category, axis=1)"
   ]
  },
  {
   "cell_type": "code",
   "execution_count": 53,
   "id": "f3fda581",
   "metadata": {},
   "outputs": [
    {
     "data": {
      "text/html": [
       "<div>\n",
       "<style scoped>\n",
       "    .dataframe tbody tr th:only-of-type {\n",
       "        vertical-align: middle;\n",
       "    }\n",
       "\n",
       "    .dataframe tbody tr th {\n",
       "        vertical-align: top;\n",
       "    }\n",
       "\n",
       "    .dataframe thead th {\n",
       "        text-align: right;\n",
       "    }\n",
       "</style>\n",
       "<table border=\"1\" class=\"dataframe\">\n",
       "  <thead>\n",
       "    <tr style=\"text-align: right;\">\n",
       "      <th></th>\n",
       "      <th>children</th>\n",
       "      <th>days_employed</th>\n",
       "      <th>dob_years</th>\n",
       "      <th>education_id</th>\n",
       "      <th>family_status_id</th>\n",
       "      <th>gender</th>\n",
       "      <th>income_type</th>\n",
       "      <th>debt</th>\n",
       "      <th>total_income</th>\n",
       "      <th>purpose</th>\n",
       "      <th>total_income_category</th>\n",
       "    </tr>\n",
       "  </thead>\n",
       "  <tbody>\n",
       "    <tr>\n",
       "      <th>0</th>\n",
       "      <td>1</td>\n",
       "      <td>8437.67</td>\n",
       "      <td>42</td>\n",
       "      <td>0</td>\n",
       "      <td>0</td>\n",
       "      <td>F</td>\n",
       "      <td>сотрудник</td>\n",
       "      <td>0</td>\n",
       "      <td>253875</td>\n",
       "      <td>покупка жилья</td>\n",
       "      <td>B</td>\n",
       "    </tr>\n",
       "    <tr>\n",
       "      <th>1</th>\n",
       "      <td>1</td>\n",
       "      <td>4024.80</td>\n",
       "      <td>36</td>\n",
       "      <td>1</td>\n",
       "      <td>0</td>\n",
       "      <td>F</td>\n",
       "      <td>сотрудник</td>\n",
       "      <td>0</td>\n",
       "      <td>112080</td>\n",
       "      <td>приобретение автомобиля</td>\n",
       "      <td>C</td>\n",
       "    </tr>\n",
       "    <tr>\n",
       "      <th>2</th>\n",
       "      <td>0</td>\n",
       "      <td>5623.42</td>\n",
       "      <td>33</td>\n",
       "      <td>1</td>\n",
       "      <td>0</td>\n",
       "      <td>M</td>\n",
       "      <td>сотрудник</td>\n",
       "      <td>0</td>\n",
       "      <td>145885</td>\n",
       "      <td>покупка жилья</td>\n",
       "      <td>C</td>\n",
       "    </tr>\n",
       "    <tr>\n",
       "      <th>3</th>\n",
       "      <td>3</td>\n",
       "      <td>4124.75</td>\n",
       "      <td>32</td>\n",
       "      <td>1</td>\n",
       "      <td>0</td>\n",
       "      <td>M</td>\n",
       "      <td>сотрудник</td>\n",
       "      <td>0</td>\n",
       "      <td>267628</td>\n",
       "      <td>дополнительное образование</td>\n",
       "      <td>B</td>\n",
       "    </tr>\n",
       "    <tr>\n",
       "      <th>4</th>\n",
       "      <td>0</td>\n",
       "      <td>14177.75</td>\n",
       "      <td>53</td>\n",
       "      <td>1</td>\n",
       "      <td>1</td>\n",
       "      <td>F</td>\n",
       "      <td>пенсионер</td>\n",
       "      <td>0</td>\n",
       "      <td>158616</td>\n",
       "      <td>сыграть свадьбу</td>\n",
       "      <td>C</td>\n",
       "    </tr>\n",
       "  </tbody>\n",
       "</table>\n",
       "</div>"
      ],
      "text/plain": [
       "   children  days_employed  dob_years  education_id  family_status_id gender  \\\n",
       "0         1        8437.67         42             0                 0      F   \n",
       "1         1        4024.80         36             1                 0      F   \n",
       "2         0        5623.42         33             1                 0      M   \n",
       "3         3        4124.75         32             1                 0      M   \n",
       "4         0       14177.75         53             1                 1      F   \n",
       "\n",
       "  income_type  debt  total_income                     purpose  \\\n",
       "0   сотрудник     0        253875               покупка жилья   \n",
       "1   сотрудник     0        112080     приобретение автомобиля   \n",
       "2   сотрудник     0        145885               покупка жилья   \n",
       "3   сотрудник     0        267628  дополнительное образование   \n",
       "4   пенсионер     0        158616             сыграть свадьбу   \n",
       "\n",
       "  total_income_category  \n",
       "0                     B  \n",
       "1                     C  \n",
       "2                     C  \n",
       "3                     B  \n",
       "4                     C  "
      ]
     },
     "execution_count": 53,
     "metadata": {},
     "output_type": "execute_result"
    }
   ],
   "source": [
    "df.head()"
   ]
  },
  {
   "cell_type": "code",
   "execution_count": 54,
   "id": "fcb8d93c",
   "metadata": {},
   "outputs": [
    {
     "data": {
      "text/plain": [
       "array(['B', 'C', 'D', 'E', 'A'], dtype=object)"
      ]
     },
     "execution_count": 54,
     "metadata": {},
     "output_type": "execute_result"
    }
   ],
   "source": [
    "# Проверяем, нет ли ошибок в созданном столбце\n",
    "df['total_income_category'].unique()"
   ]
  },
  {
   "cell_type": "markdown",
   "id": "6f9c6b39",
   "metadata": {},
   "source": [
    "Видим, что пропусков в новом столбце нет, тем самым, убедились в том, что созданная функция отработала корректно"
   ]
  },
  {
   "cell_type": "code",
   "execution_count": 55,
   "id": "3c902ab3",
   "metadata": {
    "scrolled": false
   },
   "outputs": [],
   "source": [
    "# Функция для категоризации данных в зависимости от цели кредита\n",
    "def goal_category(number):\n",
    "    try:\n",
    "        loan = number['purpose']\n",
    "        if 'автомоб' in loan:\n",
    "            return 'операции с автомобилем'\n",
    "        elif 'недвижим' in loan:\n",
    "            return 'операции с недвижимостью'\n",
    "        elif 'свадьб' in loan:\n",
    "            return 'проведение свадьбы'\n",
    "        elif 'образован' in loan:\n",
    "            return 'получение образования'\n",
    "        elif 'жиль' in loan:\n",
    "            return 'покупка жилья'\n",
    "        else:\n",
    "            return 'ошибка'\n",
    "    except:\n",
    "        return 'ошибка'\n",
    "# Создаём новый столбец и передаём методу apply собственную функцию \n",
    "df['purpose_category'] = df.apply(goal_category, axis=1)"
   ]
  },
  {
   "cell_type": "code",
   "execution_count": 56,
   "id": "cd8e6da3",
   "metadata": {},
   "outputs": [
    {
     "data": {
      "text/html": [
       "<div>\n",
       "<style scoped>\n",
       "    .dataframe tbody tr th:only-of-type {\n",
       "        vertical-align: middle;\n",
       "    }\n",
       "\n",
       "    .dataframe tbody tr th {\n",
       "        vertical-align: top;\n",
       "    }\n",
       "\n",
       "    .dataframe thead th {\n",
       "        text-align: right;\n",
       "    }\n",
       "</style>\n",
       "<table border=\"1\" class=\"dataframe\">\n",
       "  <thead>\n",
       "    <tr style=\"text-align: right;\">\n",
       "      <th></th>\n",
       "      <th>children</th>\n",
       "      <th>days_employed</th>\n",
       "      <th>dob_years</th>\n",
       "      <th>education_id</th>\n",
       "      <th>family_status_id</th>\n",
       "      <th>gender</th>\n",
       "      <th>income_type</th>\n",
       "      <th>debt</th>\n",
       "      <th>total_income</th>\n",
       "      <th>purpose</th>\n",
       "      <th>total_income_category</th>\n",
       "      <th>purpose_category</th>\n",
       "    </tr>\n",
       "  </thead>\n",
       "  <tbody>\n",
       "    <tr>\n",
       "      <th>0</th>\n",
       "      <td>1</td>\n",
       "      <td>8437.67</td>\n",
       "      <td>42</td>\n",
       "      <td>0</td>\n",
       "      <td>0</td>\n",
       "      <td>F</td>\n",
       "      <td>сотрудник</td>\n",
       "      <td>0</td>\n",
       "      <td>253875</td>\n",
       "      <td>покупка жилья</td>\n",
       "      <td>B</td>\n",
       "      <td>покупка жилья</td>\n",
       "    </tr>\n",
       "    <tr>\n",
       "      <th>1</th>\n",
       "      <td>1</td>\n",
       "      <td>4024.80</td>\n",
       "      <td>36</td>\n",
       "      <td>1</td>\n",
       "      <td>0</td>\n",
       "      <td>F</td>\n",
       "      <td>сотрудник</td>\n",
       "      <td>0</td>\n",
       "      <td>112080</td>\n",
       "      <td>приобретение автомобиля</td>\n",
       "      <td>C</td>\n",
       "      <td>операции с автомобилем</td>\n",
       "    </tr>\n",
       "    <tr>\n",
       "      <th>2</th>\n",
       "      <td>0</td>\n",
       "      <td>5623.42</td>\n",
       "      <td>33</td>\n",
       "      <td>1</td>\n",
       "      <td>0</td>\n",
       "      <td>M</td>\n",
       "      <td>сотрудник</td>\n",
       "      <td>0</td>\n",
       "      <td>145885</td>\n",
       "      <td>покупка жилья</td>\n",
       "      <td>C</td>\n",
       "      <td>покупка жилья</td>\n",
       "    </tr>\n",
       "    <tr>\n",
       "      <th>3</th>\n",
       "      <td>3</td>\n",
       "      <td>4124.75</td>\n",
       "      <td>32</td>\n",
       "      <td>1</td>\n",
       "      <td>0</td>\n",
       "      <td>M</td>\n",
       "      <td>сотрудник</td>\n",
       "      <td>0</td>\n",
       "      <td>267628</td>\n",
       "      <td>дополнительное образование</td>\n",
       "      <td>B</td>\n",
       "      <td>получение образования</td>\n",
       "    </tr>\n",
       "    <tr>\n",
       "      <th>4</th>\n",
       "      <td>0</td>\n",
       "      <td>14177.75</td>\n",
       "      <td>53</td>\n",
       "      <td>1</td>\n",
       "      <td>1</td>\n",
       "      <td>F</td>\n",
       "      <td>пенсионер</td>\n",
       "      <td>0</td>\n",
       "      <td>158616</td>\n",
       "      <td>сыграть свадьбу</td>\n",
       "      <td>C</td>\n",
       "      <td>проведение свадьбы</td>\n",
       "    </tr>\n",
       "  </tbody>\n",
       "</table>\n",
       "</div>"
      ],
      "text/plain": [
       "   children  days_employed  dob_years  education_id  family_status_id gender  \\\n",
       "0         1        8437.67         42             0                 0      F   \n",
       "1         1        4024.80         36             1                 0      F   \n",
       "2         0        5623.42         33             1                 0      M   \n",
       "3         3        4124.75         32             1                 0      M   \n",
       "4         0       14177.75         53             1                 1      F   \n",
       "\n",
       "  income_type  debt  total_income                     purpose  \\\n",
       "0   сотрудник     0        253875               покупка жилья   \n",
       "1   сотрудник     0        112080     приобретение автомобиля   \n",
       "2   сотрудник     0        145885               покупка жилья   \n",
       "3   сотрудник     0        267628  дополнительное образование   \n",
       "4   пенсионер     0        158616             сыграть свадьбу   \n",
       "\n",
       "  total_income_category        purpose_category  \n",
       "0                     B           покупка жилья  \n",
       "1                     C  операции с автомобилем  \n",
       "2                     C           покупка жилья  \n",
       "3                     B   получение образования  \n",
       "4                     C      проведение свадьбы  "
      ]
     },
     "execution_count": 56,
     "metadata": {},
     "output_type": "execute_result"
    }
   ],
   "source": [
    "df.head()"
   ]
  },
  {
   "cell_type": "code",
   "execution_count": 57,
   "id": "8b4f33b4",
   "metadata": {},
   "outputs": [
    {
     "data": {
      "text/plain": [
       "array(['покупка жилья', 'операции с автомобилем', 'получение образования',\n",
       "       'проведение свадьбы', 'операции с недвижимостью'], dtype=object)"
      ]
     },
     "execution_count": 57,
     "metadata": {},
     "output_type": "execute_result"
    }
   ],
   "source": [
    "# Проверяем корректность созданного столбца\n",
    "df['purpose_category'].unique()"
   ]
  },
  {
   "cell_type": "markdown",
   "id": "43b0acf6",
   "metadata": {},
   "source": [
    "И в столбце `purpose_category` пропусков тоже не оказалось, тем самым убеждаемся в том, что созданная функция работает корректно"
   ]
  },
  {
   "cell_type": "markdown",
   "id": "36efebcf",
   "metadata": {},
   "source": [
    "Далее посмотрим на распределение дохода и возраста людей, которые есть в данном датафрейме для анализа"
   ]
  },
  {
   "cell_type": "code",
   "execution_count": 58,
   "id": "8758159b",
   "metadata": {},
   "outputs": [
    {
     "data": {
      "image/png": "[encoded data removed]",
      "text/plain": [
       "<Figure size 864x360 with 1 Axes>"
      ]
     },
     "metadata": {},
     "output_type": "display_data"
    }
   ],
   "source": [
    "plt.subplots(figsize=(12,5))\n",
    "# Строим гистограмму для столбца total_income, добавив график кривой KDE\n",
    "sns.histplot(x='total_income', data=df)\n",
    "# ограничиваем ось X для наглядности\n",
    "plt.xlim(0, 400000)\n",
    "# указываем заголовок графика и подписи осей\n",
    "plt.title('Распределение дохода')\n",
    "plt.xlabel('Доход, руб')\n",
    "plt.ylabel('Частота встречаемого значения, раз')\n",
    "plt.grid();"
   ]
  },
  {
   "cell_type": "code",
   "execution_count": 59,
   "id": "b5d029a7",
   "metadata": {},
   "outputs": [
    {
     "data": {
      "image/png": "[encoded data removed]",
      "text/plain": [
       "<Figure size 864x360 with 1 Axes>"
      ]
     },
     "metadata": {},
     "output_type": "display_data"
    }
   ],
   "source": [
    "plt.subplots(figsize=(12,5))\n",
    "# Строим гистограмму для столбца total_income, добавив график кривой KDE\n",
    "sns.histplot(x='dob_years', data=df, bins=50)\n",
    "# указываем заголовок графика и подписи осей\n",
    "plt.title('Распределение возраста')\n",
    "plt.xlabel('Возраст')\n",
    "plt.ylabel('Частота встречаемого значения, раз')\n",
    "plt.grid();"
   ]
  },
  {
   "cell_type": "markdown",
   "id": "9359bfce",
   "metadata": {},
   "source": [
    "**Вывод**\n",
    "\n",
    "Что касается распределений, то по доходу есть явный всплеск, выбивающийся из общей массы. Это означает, что наибольшую зарплату, которую получают люди приблизительно равна 140-145 тыс. руб. \n",
    "\n",
    "Глядя на распределение возраста, то и здесь видны всплески в данных, но уже в большем объёме: наиболее часто встречаются люди в возрасте примерно 29, 38, 48, 57 лет. "
   ]
  },
  {
   "cell_type": "markdown",
   "id": "02fa6c51",
   "metadata": {},
   "source": [
    "### 3.3. Проверка гипотез"
   ]
  },
  {
   "cell_type": "markdown",
   "id": "0e3ae91b",
   "metadata": {},
   "source": [
    "#### Гипотеза 1: чем больше детей в семье, тем меньше вероятность возврата кредита в срок"
   ]
  },
  {
   "cell_type": "code",
   "execution_count": 60,
   "id": "ccf1eb7f",
   "metadata": {},
   "outputs": [
    {
     "data": {
      "text/html": [
       "<div>\n",
       "<style scoped>\n",
       "    .dataframe tbody tr th:only-of-type {\n",
       "        vertical-align: middle;\n",
       "    }\n",
       "\n",
       "    .dataframe tbody tr th {\n",
       "        vertical-align: top;\n",
       "    }\n",
       "\n",
       "    .dataframe thead th {\n",
       "        text-align: right;\n",
       "    }\n",
       "</style>\n",
       "<table border=\"1\" class=\"dataframe\">\n",
       "  <thead>\n",
       "    <tr style=\"text-align: right;\">\n",
       "      <th></th>\n",
       "      <th>cnt_debtors</th>\n",
       "      <th>total_cnt</th>\n",
       "      <th>share_debtors, %</th>\n",
       "    </tr>\n",
       "    <tr>\n",
       "      <th>children</th>\n",
       "      <th></th>\n",
       "      <th></th>\n",
       "      <th></th>\n",
       "    </tr>\n",
       "  </thead>\n",
       "  <tbody>\n",
       "    <tr>\n",
       "      <th>4</th>\n",
       "      <td>4</td>\n",
       "      <td>41</td>\n",
       "      <td>9.76</td>\n",
       "    </tr>\n",
       "    <tr>\n",
       "      <th>2</th>\n",
       "      <td>194</td>\n",
       "      <td>2039</td>\n",
       "      <td>9.51</td>\n",
       "    </tr>\n",
       "    <tr>\n",
       "      <th>1</th>\n",
       "      <td>442</td>\n",
       "      <td>4840</td>\n",
       "      <td>9.13</td>\n",
       "    </tr>\n",
       "    <tr>\n",
       "      <th>3</th>\n",
       "      <td>27</td>\n",
       "      <td>328</td>\n",
       "      <td>8.23</td>\n",
       "    </tr>\n",
       "    <tr>\n",
       "      <th>0</th>\n",
       "      <td>1058</td>\n",
       "      <td>14037</td>\n",
       "      <td>7.54</td>\n",
       "    </tr>\n",
       "    <tr>\n",
       "      <th>5</th>\n",
       "      <td>0</td>\n",
       "      <td>9</td>\n",
       "      <td>0.00</td>\n",
       "    </tr>\n",
       "  </tbody>\n",
       "</table>\n",
       "</div>"
      ],
      "text/plain": [
       "          cnt_debtors  total_cnt  share_debtors, %\n",
       "children                                          \n",
       "4                   4         41              9.76\n",
       "2                 194       2039              9.51\n",
       "1                 442       4840              9.13\n",
       "3                  27        328              8.23\n",
       "0                1058      14037              7.54\n",
       "5                   0          9              0.00"
      ]
     },
     "execution_count": 60,
     "metadata": {},
     "output_type": "execute_result"
    }
   ],
   "source": [
    "pivot_children = df.pivot_table(index='children', values='debt', aggfunc=['sum', 'count', 'mean'])\n",
    "pivot_children.columns = ['cnt_debtors', 'total_cnt', 'share_debtors, %']\n",
    "pivot_children['share_debtors, %'] = pivot_children['share_debtors, %'] * 100\n",
    "pivot_children.sort_values(by='share_debtors, %', ascending=False)"
   ]
  },
  {
   "cell_type": "markdown",
   "id": "cc364842",
   "metadata": {},
   "source": [
    "**Вывод по гипотезе 1**\n",
    "\n",
    "Зависимость между количеством детей в семье и возвратом кредита в срок действительно прослеживается. Заёмщики, которые не имеют ни одного ребёнка склонны не возвращать кредит не так сильно, как это прослеживается у заёмщиков, которые имеют от 1 до 4 детей. \n",
    "\n",
    "Что касается тех, у кого 5 детей в семье, то здесь, скорее всего, играет роль тот факт, что таких семей в России совсем не много, а если такие и есть, то они не спешат кредитоваться (возможно, такие семьи больше рассчитывают на гос. поддержку в виде различных выплат и предоставлении льгот), поэтому в данном случае доля таких заёмщиков равна нулю. "
   ]
  },
  {
   "cell_type": "markdown",
   "id": "03a9851b",
   "metadata": {},
   "source": [
    "Теперь посмотрим на то, как с ростом количества детей меняется количество взятых кредитов, а также количество задолженников"
   ]
  },
  {
   "cell_type": "code",
   "execution_count": 61,
   "id": "3e315f6d",
   "metadata": {},
   "outputs": [],
   "source": [
    "columns_pivot = ['total_cnt', 'cnt_debtors']\n",
    "labels = [\n",
    "    ['Количество взятых кредитов, шт.', 'Зависимость количества взятых кредитов от количества детей'],\n",
    "    ['Количество задолженников, чел', 'Зависимость количества задолженников от количества детей']\n",
    "         ]\n",
    "def plotting_line(data_frame):\n",
    "    labels_dict = dict(zip(columns_pivot, labels))\n",
    "    plt.figure(figsize=(20, 5))\n",
    "    for i, column in enumerate(columns_pivot):\n",
    "        sns.lineplot(x=data_frame.index, y=column, data=data_frame, ax=plt.subplot(1, 2, i + 1))\n",
    "        plt.xlabel('Количество детей, чел.')\n",
    "        plt.ylabel(labels_dict[column][0])\n",
    "        plt.title(labels_dict[column][1])\n",
    "        plt.grid()"
   ]
  },
  {
   "cell_type": "code",
   "execution_count": 62,
   "id": "46f81c79",
   "metadata": {},
   "outputs": [
    {
     "data": {
      "image/png": "[encoded data removed]",
      "text/plain": [
       "<Figure size 1440x360 with 2 Axes>"
      ]
     },
     "metadata": {},
     "output_type": "display_data"
    }
   ],
   "source": [
    "plotting_line(pivot_children)"
   ]
  },
  {
   "cell_type": "markdown",
   "id": "f5372f97",
   "metadata": {},
   "source": [
    "**Вывод**\n",
    "\n",
    "По первому графику видно, как падает число выданных кредитов в зависимости от числа детей в семье заёмщика, ровно такая же картина наблюдается и на втором графике. Возможно, это не связано с тем, что многодетные семьи реже берут кредиты или с большей вероятностью возвращают кредит в срок. Скорее всего, семей без детей или с 1–2 детьми намного больше, чем многодетных. В таком случае для полного и объективного понимания всей картины стоит ориентироваться на относительные величины."
   ]
  },
  {
   "cell_type": "markdown",
   "id": "ffcc8191",
   "metadata": {},
   "source": [
    "#### Гипотеза 2: люди, проживающие в браке, имеют вероятность не вернуть кредит в срок больше, чем люди, которые не проживают в браке"
   ]
  },
  {
   "cell_type": "code",
   "execution_count": 63,
   "id": "93c2376e",
   "metadata": {},
   "outputs": [
    {
     "data": {
      "text/html": [
       "<div>\n",
       "<style scoped>\n",
       "    .dataframe tbody tr th:only-of-type {\n",
       "        vertical-align: middle;\n",
       "    }\n",
       "\n",
       "    .dataframe tbody tr th {\n",
       "        vertical-align: top;\n",
       "    }\n",
       "\n",
       "    .dataframe thead th {\n",
       "        text-align: right;\n",
       "    }\n",
       "</style>\n",
       "<table border=\"1\" class=\"dataframe\">\n",
       "  <thead>\n",
       "    <tr style=\"text-align: right;\">\n",
       "      <th></th>\n",
       "      <th>family_status_id</th>\n",
       "      <th>cnt_debtors</th>\n",
       "      <th>total_cnt</th>\n",
       "      <th>share_debtors, %</th>\n",
       "      <th>family_status</th>\n",
       "    </tr>\n",
       "  </thead>\n",
       "  <tbody>\n",
       "    <tr>\n",
       "      <th>0</th>\n",
       "      <td>4</td>\n",
       "      <td>272</td>\n",
       "      <td>2785</td>\n",
       "      <td>9.77</td>\n",
       "      <td>не женат / не замужем</td>\n",
       "    </tr>\n",
       "    <tr>\n",
       "      <th>1</th>\n",
       "      <td>1</td>\n",
       "      <td>383</td>\n",
       "      <td>4129</td>\n",
       "      <td>9.28</td>\n",
       "      <td>гражданский брак</td>\n",
       "    </tr>\n",
       "    <tr>\n",
       "      <th>2</th>\n",
       "      <td>0</td>\n",
       "      <td>924</td>\n",
       "      <td>12247</td>\n",
       "      <td>7.54</td>\n",
       "      <td>женат / замужем</td>\n",
       "    </tr>\n",
       "    <tr>\n",
       "      <th>3</th>\n",
       "      <td>3</td>\n",
       "      <td>84</td>\n",
       "      <td>1183</td>\n",
       "      <td>7.10</td>\n",
       "      <td>в разводе</td>\n",
       "    </tr>\n",
       "    <tr>\n",
       "      <th>4</th>\n",
       "      <td>2</td>\n",
       "      <td>62</td>\n",
       "      <td>950</td>\n",
       "      <td>6.53</td>\n",
       "      <td>вдовец / вдова</td>\n",
       "    </tr>\n",
       "  </tbody>\n",
       "</table>\n",
       "</div>"
      ],
      "text/plain": [
       "   family_status_id  cnt_debtors  total_cnt  share_debtors, %  \\\n",
       "0                 4          272       2785              9.77   \n",
       "1                 1          383       4129              9.28   \n",
       "2                 0          924      12247              7.54   \n",
       "3                 3           84       1183              7.10   \n",
       "4                 2           62        950              6.53   \n",
       "\n",
       "           family_status  \n",
       "0  не женат / не замужем  \n",
       "1       гражданский брак  \n",
       "2        женат / замужем  \n",
       "3              в разводе  \n",
       "4         вдовец / вдова  "
      ]
     },
     "execution_count": 63,
     "metadata": {},
     "output_type": "execute_result"
    }
   ],
   "source": [
    "pivot_family_status = df.pivot_table(index='family_status_id', values='debt', aggfunc=['sum', 'count', 'mean'])\n",
    "pivot_family_status.columns = ['cnt_debtors', 'total_cnt', 'share_debtors, %']\n",
    "pivot_family_status['share_debtors, %'] = pivot_family_status['share_debtors, %'] * 100\n",
    "pivot_family_status = pivot_family_status.sort_values(by='share_debtors, %', ascending=False)\n",
    "pivot_family_status.merge(family_status_dict, on='family_status_id', how='left')"
   ]
  },
  {
   "cell_type": "markdown",
   "id": "a36a1110",
   "metadata": {},
   "source": [
    "**Вывод по гипотезе 2**\n",
    "\n",
    "Что касается зависимости семейного положения и возврата кредита в срок, то больше всего должниками являются те, кто не состоит в браке. На втором месте те, кто состоят в гражданском браке. И на третьем - уже те, кто женат/замужем. \n",
    "\n",
    "Могу связать это с тем, что, когда у людей начинаются появляться дополнительные обязанности в роде официальной, зарегистрированной семьи, человек начинает вести себя более осторожно с финансами и не спешит влезать в кредиты. "
   ]
  },
  {
   "cell_type": "markdown",
   "id": "3fea01c1",
   "metadata": {},
   "source": [
    "#### Гипотеза 3: чем ниже уровнь дохода, тем ниже веростность возврата кредита в срок"
   ]
  },
  {
   "cell_type": "code",
   "execution_count": 64,
   "id": "1998a7a6",
   "metadata": {},
   "outputs": [
    {
     "data": {
      "text/html": [
       "<div>\n",
       "<style scoped>\n",
       "    .dataframe tbody tr th:only-of-type {\n",
       "        vertical-align: middle;\n",
       "    }\n",
       "\n",
       "    .dataframe tbody tr th {\n",
       "        vertical-align: top;\n",
       "    }\n",
       "\n",
       "    .dataframe thead th {\n",
       "        text-align: right;\n",
       "    }\n",
       "</style>\n",
       "<table border=\"1\" class=\"dataframe\">\n",
       "  <thead>\n",
       "    <tr style=\"text-align: right;\">\n",
       "      <th></th>\n",
       "      <th>cnt_debtors</th>\n",
       "      <th>total_cnt</th>\n",
       "      <th>share_debtors, %</th>\n",
       "      <th>income_group</th>\n",
       "    </tr>\n",
       "    <tr>\n",
       "      <th>total_income_category</th>\n",
       "      <th></th>\n",
       "      <th></th>\n",
       "      <th></th>\n",
       "      <th></th>\n",
       "    </tr>\n",
       "  </thead>\n",
       "  <tbody>\n",
       "    <tr>\n",
       "      <th>E</th>\n",
       "      <td>2</td>\n",
       "      <td>22</td>\n",
       "      <td>9.09</td>\n",
       "      <td>доход от 0 до 30000</td>\n",
       "    </tr>\n",
       "    <tr>\n",
       "      <th>C</th>\n",
       "      <td>1347</td>\n",
       "      <td>15905</td>\n",
       "      <td>8.47</td>\n",
       "      <td>доход от 50001 до 200000</td>\n",
       "    </tr>\n",
       "    <tr>\n",
       "      <th>A</th>\n",
       "      <td>2</td>\n",
       "      <td>25</td>\n",
       "      <td>8.00</td>\n",
       "      <td>доход от 1000001 и выше</td>\n",
       "    </tr>\n",
       "    <tr>\n",
       "      <th>B</th>\n",
       "      <td>353</td>\n",
       "      <td>4994</td>\n",
       "      <td>7.07</td>\n",
       "      <td>доход от 200001 до 1000000</td>\n",
       "    </tr>\n",
       "    <tr>\n",
       "      <th>D</th>\n",
       "      <td>21</td>\n",
       "      <td>348</td>\n",
       "      <td>6.03</td>\n",
       "      <td>доход от 30001 до 50000</td>\n",
       "    </tr>\n",
       "  </tbody>\n",
       "</table>\n",
       "</div>"
      ],
      "text/plain": [
       "                       cnt_debtors  total_cnt  share_debtors, %  \\\n",
       "total_income_category                                             \n",
       "E                                2         22              9.09   \n",
       "C                             1347      15905              8.47   \n",
       "A                                2         25              8.00   \n",
       "B                              353       4994              7.07   \n",
       "D                               21        348              6.03   \n",
       "\n",
       "                                     income_group  \n",
       "total_income_category                              \n",
       "E                             доход от 0 до 30000  \n",
       "C                        доход от 50001 до 200000  \n",
       "A                         доход от 1000001 и выше  \n",
       "B                      доход от 200001 до 1000000  \n",
       "D                         доход от 30001 до 50000  "
      ]
     },
     "execution_count": 64,
     "metadata": {},
     "output_type": "execute_result"
    }
   ],
   "source": [
    "pivot_income_category = df.pivot_table(index='total_income_category', \n",
    "                                       values='debt', \n",
    "                                       aggfunc=['sum', 'count', 'mean'])\n",
    "pivot_income_category.columns = ['cnt_debtors', 'total_cnt', 'share_debtors, %']\n",
    "pivot_income_category['share_debtors, %'] = pivot_income_category['share_debtors, %'] * 100\n",
    "pivot_income_category['income_group'] = ['доход от 1000001 и выше', 'доход от 200001 до 1000000', \n",
    "                                         'доход от 50001 до 200000', 'доход от 30001 до 50000', \n",
    "                                         'доход от 0 до 30000']\n",
    "pivot_income_category.sort_values(by='share_debtors, %', ascending=False)"
   ]
  },
  {
   "cell_type": "markdown",
   "id": "8e23cd90",
   "metadata": {},
   "source": [
    "**Вывод по гипотезе 3**\n",
    "\n",
    "Что касается зависимости дохода и возврата кредита в срок, то здесь прослеживается следующая тенденция: в срок выплатить не могут, и как следствие, попадают в должники те, у кого ежемесячный доход очень низкий. \n",
    "\n",
    "Однако люди, у которых доход составляет более 1 млн. рублей, тоже берут кредиты, хоть и количество таких совсем не большое, относительно людей в категориях `B`, `C` и `D`. Скорее всего, это вызвано тем, что такие люди имеют своё дело, а бизнес требует постоянных вложений, но своих средств не всегда хватает, так как большинство денег находятся в обороте, следовательно, они идут в банк за кредитом."
   ]
  },
  {
   "cell_type": "markdown",
   "id": "257d8cde",
   "metadata": {},
   "source": [
    "Теперь проанализируем, влияет ли образование на уровень дохода и наличие задолженности"
   ]
  },
  {
   "cell_type": "code",
   "execution_count": 65,
   "id": "e8e7139b",
   "metadata": {},
   "outputs": [],
   "source": [
    "# Создаём датафрейм с данными\n",
    "data_edu = df.groupby(['education_id', 'debt'], as_index=False)[['total_income']].median()\n",
    "# Из словаря подтягиваем нужные значения, которые соответствуют ключу education_id\n",
    "data_edu = data_edu.merge(education_dict, on='education_id', how='left')\n",
    "# Предобрабатываем колонку debt, делая её более читабельной\n",
    "data_edu['debt'] = data_edu['debt'].apply(lambda x: 'должник' if x == 1 else 'не должник')"
   ]
  },
  {
   "cell_type": "code",
   "execution_count": 66,
   "id": "7eacd790",
   "metadata": {},
   "outputs": [
    {
     "data": {
      "image/png": "[encoded data removed]",
      "text/plain": [
       "<Figure size 864x360 with 1 Axes>"
      ]
     },
     "metadata": {},
     "output_type": "display_data"
    }
   ],
   "source": [
    "# Строим график\n",
    "plt.figure(figsize=(12, 5))\n",
    "# строим столбчатый график средствами seaborn\n",
    "sns.barplot(x='total_income', y='education', data=data_edu, hue='debt')\n",
    "plt.title('Влияние образования на уровень дохода и наличие задолженности')\n",
    "plt.xlabel('Медианный доход, руб')\n",
    "plt.ylabel('Ступень образования')\n",
    "# выбираем положение легенды и указываем размер шрифта\n",
    "plt.legend(loc='lower right', fontsize=10)\n",
    "plt.grid();"
   ]
  },
  {
   "cell_type": "markdown",
   "id": "4765dbb8",
   "metadata": {},
   "source": [
    "**Вывод**\n",
    "\n",
    "Должниками бывают люди с любой степенью образования. Однако среди людей с учёной степенью должников нет вообще. Также видим, что среди всех людей наивысший медианных доход у тех, кто имеет неоконченное высшее образование, более того, это прослеживается среди должников. Наименьший медианный доход - среди людей с начальной степенью образования, но только уже среди тех, кто не является должником. "
   ]
  },
  {
   "cell_type": "markdown",
   "id": "9ca861aa",
   "metadata": {},
   "source": [
    "#### Гипотеза 4: разные цели кредита по-разному влияют на его возврат в срок"
   ]
  },
  {
   "cell_type": "code",
   "execution_count": 67,
   "id": "5e6ab005",
   "metadata": {},
   "outputs": [
    {
     "data": {
      "text/html": [
       "<div>\n",
       "<style scoped>\n",
       "    .dataframe tbody tr th:only-of-type {\n",
       "        vertical-align: middle;\n",
       "    }\n",
       "\n",
       "    .dataframe tbody tr th {\n",
       "        vertical-align: top;\n",
       "    }\n",
       "\n",
       "    .dataframe thead th {\n",
       "        text-align: right;\n",
       "    }\n",
       "</style>\n",
       "<table border=\"1\" class=\"dataframe\">\n",
       "  <thead>\n",
       "    <tr style=\"text-align: right;\">\n",
       "      <th></th>\n",
       "      <th>cnt_debtors</th>\n",
       "      <th>total_cnt</th>\n",
       "      <th>share_debtors, %</th>\n",
       "    </tr>\n",
       "    <tr>\n",
       "      <th>purpose_category</th>\n",
       "      <th></th>\n",
       "      <th></th>\n",
       "      <th></th>\n",
       "    </tr>\n",
       "  </thead>\n",
       "  <tbody>\n",
       "    <tr>\n",
       "      <th>операции с автомобилем</th>\n",
       "      <td>398</td>\n",
       "      <td>4271</td>\n",
       "      <td>9.32</td>\n",
       "    </tr>\n",
       "    <tr>\n",
       "      <th>получение образования</th>\n",
       "      <td>369</td>\n",
       "      <td>3981</td>\n",
       "      <td>9.27</td>\n",
       "    </tr>\n",
       "    <tr>\n",
       "      <th>проведение свадьбы</th>\n",
       "      <td>181</td>\n",
       "      <td>2312</td>\n",
       "      <td>7.83</td>\n",
       "    </tr>\n",
       "    <tr>\n",
       "      <th>операции с недвижимостью</th>\n",
       "      <td>471</td>\n",
       "      <td>6308</td>\n",
       "      <td>7.47</td>\n",
       "    </tr>\n",
       "    <tr>\n",
       "      <th>покупка жилья</th>\n",
       "      <td>306</td>\n",
       "      <td>4422</td>\n",
       "      <td>6.92</td>\n",
       "    </tr>\n",
       "  </tbody>\n",
       "</table>\n",
       "</div>"
      ],
      "text/plain": [
       "                          cnt_debtors  total_cnt  share_debtors, %\n",
       "purpose_category                                                  \n",
       "операции с автомобилем            398       4271              9.32\n",
       "получение образования             369       3981              9.27\n",
       "проведение свадьбы                181       2312              7.83\n",
       "операции с недвижимостью          471       6308              7.47\n",
       "покупка жилья                     306       4422              6.92"
      ]
     },
     "execution_count": 67,
     "metadata": {},
     "output_type": "execute_result"
    }
   ],
   "source": [
    "pivot_purpose_category = df.pivot_table(index='purpose_category', values='debt', aggfunc=['sum','count', 'mean'])\n",
    "pivot_purpose_category.columns = ['cnt_debtors', 'total_cnt', 'share_debtors, %']\n",
    "pivot_purpose_category['share_debtors, %'] = pivot_purpose_category['share_debtors, %'] * 100\n",
    "pivot_purpose_category.sort_values(by='share_debtors, %', ascending=False)"
   ]
  },
  {
   "cell_type": "markdown",
   "id": "9efc5313",
   "metadata": {},
   "source": [
    "**Вывод по гипотезе 4**\n",
    "\n",
    "Что касается целей кредита, то мы можем увидеть, что люди, которые берут деньги на операции с автомобилем, больше являются задолжниками. Это можно связать с тем, что в целом машины стоят немало, так еще и простое обслуживание автомобиля обходится совсем не дёшево. "
   ]
  },
  {
   "cell_type": "markdown",
   "id": "803862bb",
   "metadata": {},
   "source": [
    "Проанализируем цели получения кредита"
   ]
  },
  {
   "cell_type": "code",
   "execution_count": 68,
   "id": "46d360bd",
   "metadata": {},
   "outputs": [
    {
     "data": {
      "image/png": "[encoded data removed]",
      "text/plain": [
       "<Figure size 864x360 with 1 Axes>"
      ]
     },
     "metadata": {},
     "output_type": "display_data"
    }
   ],
   "source": [
    "(df.pivot_table(index='purpose_category', values='purpose', aggfunc='count')\n",
    "   .sort_values(by='purpose', ascending=False)\n",
    "   .plot(kind='bar', figsize=(12, 5), grid=True, legend=False)\n",
    ")\n",
    "plt.title('Количество кредитов в зависимости от цели')\n",
    "plt.xlabel('Название категории покупки')\n",
    "plt.ylabel('Количество, шт.')\n",
    "plt.xticks(rotation=360);"
   ]
  },
  {
   "cell_type": "markdown",
   "id": "b5e4aa25",
   "metadata": {},
   "source": [
    "**Вывод**\n",
    "\n",
    "Наиболее частой целью кредита являются операции с недвижимостью: подавляющее большинство денег берётся именно для этого. "
   ]
  },
  {
   "cell_type": "code",
   "execution_count": 69,
   "id": "370285b2",
   "metadata": {},
   "outputs": [
    {
     "data": {
      "image/png": "[encoded data removed]",
      "text/plain": [
       "<Figure size 864x360 with 1 Axes>"
      ]
     },
     "metadata": {},
     "output_type": "display_data"
    }
   ],
   "source": [
    "(df.groupby('income_type')[['debt']].sum()\n",
    "                                    .sort_values(by='debt', ascending=False)\n",
    "                                    .plot(kind='bar', figsize=(12, 5), grid=True, legend=False)\n",
    ")\n",
    "plt.title('Количество должников по типу занятости')\n",
    "plt.xlabel('Тип занятости')\n",
    "plt.ylabel('Количество, чел.')\n",
    "plt.xticks(rotation=360);"
   ]
  },
  {
   "cell_type": "markdown",
   "id": "354b642a",
   "metadata": {},
   "source": [
    "**Вывод**\n",
    "\n",
    "Среди всех категорий сотрудники компаний намного чаще бывают должниками, чем остальные люди, относящиеся к другим типам занятости"
   ]
  },
  {
   "cell_type": "markdown",
   "id": "e67efc27",
   "metadata": {},
   "source": [
    "Сравним доход у должников и ответственных заёмщиков"
   ]
  },
  {
   "cell_type": "code",
   "execution_count": 70,
   "id": "d415dd36",
   "metadata": {},
   "outputs": [],
   "source": [
    "# Для столбца debt проделаем аналогичную предобработку, что и выше, но уже для исходного датафрейма\n",
    "df['debt'] = df['debt'].apply(lambda x: 'должник' if x == 1 else 'не должник')"
   ]
  },
  {
   "cell_type": "code",
   "execution_count": 71,
   "id": "d524a27f",
   "metadata": {},
   "outputs": [
    {
     "data": {
      "image/png": "[encoded data removed]",
      "text/plain": [
       "<Figure size 864x360 with 1 Axes>"
      ]
     },
     "metadata": {},
     "output_type": "display_data"
    }
   ],
   "source": [
    "# Строим график\n",
    "plt.figure(figsize=(12, 5))\n",
    "sns.boxplot(x='total_income', y='debt', data=df)\n",
    "plt.xlim(0, 350000)\n",
    "plt.title('Распределение дохода в зависимости от наличия задолженности')\n",
    "plt.xlabel('Доход, руб')\n",
    "plt.ylabel(None);"
   ]
  },
  {
   "cell_type": "markdown",
   "id": "a70e31a1",
   "metadata": {},
   "source": [
    "**Вывод**\n",
    "\n",
    "Распределение дохода среди должников и не должников сильно похоже друг на друга, единственное, среди не должников скошенность данных больше в правую сторону, а также сам ящик немного длиннее, что говорит о том, что основное скопление данных находится в чуть большем диапазоне. "
   ]
  },
  {
   "cell_type": "markdown",
   "id": "aafceb7f",
   "metadata": {},
   "source": [
    "Посмотрим на то, как задолженность проявляется среди мужчин и женщин"
   ]
  },
  {
   "cell_type": "code",
   "execution_count": 72,
   "id": "6b1afae2",
   "metadata": {},
   "outputs": [],
   "source": [
    "df['gender'] = df['gender'].apply(lambda x: 'женщина' if x == 'F' else 'мужчина')"
   ]
  },
  {
   "cell_type": "code",
   "execution_count": 73,
   "id": "70b5079b",
   "metadata": {},
   "outputs": [
    {
     "data": {
      "image/png": "[encoded data removed]",
      "text/plain": [
       "<Figure size 864x360 with 1 Axes>"
      ]
     },
     "metadata": {},
     "output_type": "display_data"
    }
   ],
   "source": [
    "df_gen = df.groupby(['debt', 'gender'], as_index=False)[['education_id']].count()\n",
    "plt.figure(figsize=(12, 5))\n",
    "sns.barplot(x='education_id', y='debt', data=df_gen, hue='gender')\n",
    "plt.title('Соотношение должников и не должников среди мужчин и женщин')\n",
    "plt.xlabel('Количество людей, чел')\n",
    "plt.ylabel(None);"
   ]
  },
  {
   "cell_type": "markdown",
   "id": "9245c9c6",
   "metadata": {},
   "source": [
    "**Вывод**\n",
    "\n",
    "Среди должников женщин прослеживается чуть больше, чем мужчин. Но также и среди не должников женщин больше, только уже различия существенные. "
   ]
  },
  {
   "cell_type": "markdown",
   "id": "bbc37b4c",
   "metadata": {},
   "source": [
    "## 4. Итоговый вывод"
   ]
  },
  {
   "cell_type": "markdown",
   "id": "da08d815",
   "metadata": {},
   "source": [
    "После проверки четырёх гипотез было установлено:\n",
    "1. Чем больше детей в семье, тем меньше вероятность возврата кредита в срок\n",
    "\n",
    "Данная зависимость действительно прослеживается, так как наибольшую долю должников имеют те семьи, в которых 4 и 2 ребёнка. \n",
    "\n",
    "2. Люди, проживающие в браке, имеют вероятность не вернуть кредит в срок больше, чем люди, которые не проживают в браке\n",
    "\n",
    "Гипотеза не подтвердилась, так как наибольшую долю должников видим у тех, кто либо не женат/не замужем, либо находится в гражданском браке, но это также не является официальным союзом семьи. \n",
    "\n",
    "3. Чем ниже уровнь дохода, тем ниже веростность возврата кредита в срок\n",
    "\n",
    "Данную версию можно подтвердить лишь от части, так как люди, входящие в категорию с самой низкой зарплатой, имеют наибольшую долю должников, однако стоит заметить, что те, кто входит в категорию D (доход от 31 000 до 50 000), имеют наименьшую долю задолженников, поэтому здесь не совсем однозначно. \n",
    "\n",
    "4. Разные цели кредита по-разному влияют на его возврат в срок\n",
    "\n",
    "Здесь можем частично принять гипотезу, так как из пяти представленных целей получения кредита, первые две имеют очень похожую долю задолженников, третья и четвёртая цели тоже имеют похожую долю, но уже в меньшей мере. \n",
    "\n",
    "Кроме этого, обнаружены некоторые дополнительные моменты:\n",
    "- Наиболее популярная цель кредита связана с операциями с недвижимостью\n",
    "- Подавляющее количество должников прослеживается среди сотрудников каких-либо компаний\n",
    "- Распределение дохода среди должников и не должников отличается не существенно\n",
    "- Мужчины чуть меньше склонны к статусы задолженников"
   ]
  }
 ],
 "metadata": {
  "ExecuteTimeLog": [
   {
    "duration": 496,
    "start_time": "2022-05-04T06:46:06.274Z"
   },
   {
    "duration": 307,
    "start_time": "2022-05-04T06:46:06.773Z"
   },
   {
    "duration": 0,
    "start_time": "2022-05-04T06:46:07.084Z"
   },
   {
    "duration": 0,
    "start_time": "2022-05-04T06:46:07.086Z"
   },
   {
    "duration": 0,
    "start_time": "2022-05-04T06:46:07.088Z"
   },
   {
    "duration": 0,
    "start_time": "2022-05-04T06:46:07.089Z"
   },
   {
    "duration": 1,
    "start_time": "2022-05-04T06:46:07.090Z"
   },
   {
    "duration": 0,
    "start_time": "2022-05-04T06:46:07.092Z"
   },
   {
    "duration": 0,
    "start_time": "2022-05-04T06:46:07.093Z"
   },
   {
    "duration": 1,
    "start_time": "2022-05-04T06:46:07.094Z"
   },
   {
    "duration": 0,
    "start_time": "2022-05-04T06:46:07.096Z"
   },
   {
    "duration": 0,
    "start_time": "2022-05-04T06:46:07.098Z"
   },
   {
    "duration": 0,
    "start_time": "2022-05-04T06:46:07.100Z"
   },
   {
    "duration": 0,
    "start_time": "2022-05-04T06:46:07.101Z"
   },
   {
    "duration": 0,
    "start_time": "2022-05-04T06:46:07.102Z"
   },
   {
    "duration": 0,
    "start_time": "2022-05-04T06:46:07.104Z"
   },
   {
    "duration": 0,
    "start_time": "2022-05-04T06:46:07.105Z"
   },
   {
    "duration": 0,
    "start_time": "2022-05-04T06:46:07.106Z"
   },
   {
    "duration": 0,
    "start_time": "2022-05-04T06:46:07.107Z"
   },
   {
    "duration": 0,
    "start_time": "2022-05-04T06:46:07.109Z"
   },
   {
    "duration": 0,
    "start_time": "2022-05-04T06:46:07.111Z"
   },
   {
    "duration": 0,
    "start_time": "2022-05-04T06:46:07.152Z"
   },
   {
    "duration": 0,
    "start_time": "2022-05-04T06:46:07.154Z"
   },
   {
    "duration": 0,
    "start_time": "2022-05-04T06:46:07.156Z"
   },
   {
    "duration": 0,
    "start_time": "2022-05-04T06:46:07.158Z"
   },
   {
    "duration": 0,
    "start_time": "2022-05-04T06:46:07.160Z"
   },
   {
    "duration": 0,
    "start_time": "2022-05-04T06:46:07.163Z"
   },
   {
    "duration": 0,
    "start_time": "2022-05-04T06:46:07.165Z"
   },
   {
    "duration": 0,
    "start_time": "2022-05-04T06:46:07.167Z"
   },
   {
    "duration": 0,
    "start_time": "2022-05-04T06:46:07.169Z"
   },
   {
    "duration": 0,
    "start_time": "2022-05-04T06:46:07.171Z"
   },
   {
    "duration": 0,
    "start_time": "2022-05-04T06:46:07.174Z"
   },
   {
    "duration": 0,
    "start_time": "2022-05-04T06:46:07.176Z"
   },
   {
    "duration": 0,
    "start_time": "2022-05-04T06:46:07.178Z"
   },
   {
    "duration": 0,
    "start_time": "2022-05-04T06:46:07.181Z"
   },
   {
    "duration": 0,
    "start_time": "2022-05-04T06:46:07.183Z"
   },
   {
    "duration": 0,
    "start_time": "2022-05-04T06:46:07.184Z"
   },
   {
    "duration": 0,
    "start_time": "2022-05-04T06:46:07.187Z"
   },
   {
    "duration": 0,
    "start_time": "2022-05-04T06:46:07.189Z"
   },
   {
    "duration": 0,
    "start_time": "2022-05-04T06:46:07.252Z"
   },
   {
    "duration": 0,
    "start_time": "2022-05-04T06:46:07.254Z"
   },
   {
    "duration": 0,
    "start_time": "2022-05-04T06:46:07.257Z"
   },
   {
    "duration": 0,
    "start_time": "2022-05-04T06:46:07.259Z"
   },
   {
    "duration": 0,
    "start_time": "2022-05-04T06:46:07.261Z"
   },
   {
    "duration": 0,
    "start_time": "2022-05-04T06:46:07.262Z"
   },
   {
    "duration": 0,
    "start_time": "2022-05-04T06:46:07.264Z"
   },
   {
    "duration": 0,
    "start_time": "2022-05-04T06:46:07.265Z"
   },
   {
    "duration": 0,
    "start_time": "2022-05-04T06:46:07.267Z"
   },
   {
    "duration": 0,
    "start_time": "2022-05-04T06:46:07.269Z"
   },
   {
    "duration": 0,
    "start_time": "2022-05-04T06:46:07.271Z"
   },
   {
    "duration": 0,
    "start_time": "2022-05-04T06:46:07.272Z"
   },
   {
    "duration": 0,
    "start_time": "2022-05-04T06:46:07.273Z"
   },
   {
    "duration": 0,
    "start_time": "2022-05-04T06:46:07.275Z"
   },
   {
    "duration": 0,
    "start_time": "2022-05-04T06:46:07.277Z"
   },
   {
    "duration": 0,
    "start_time": "2022-05-04T06:46:07.279Z"
   },
   {
    "duration": 0,
    "start_time": "2022-05-04T06:46:07.280Z"
   },
   {
    "duration": 0,
    "start_time": "2022-05-04T06:46:07.282Z"
   },
   {
    "duration": 0,
    "start_time": "2022-05-04T06:46:07.284Z"
   },
   {
    "duration": 0,
    "start_time": "2022-05-04T06:46:07.285Z"
   },
   {
    "duration": 499,
    "start_time": "2022-05-04T06:46:36.365Z"
   },
   {
    "duration": 71,
    "start_time": "2022-05-04T06:46:36.867Z"
   },
   {
    "duration": 38,
    "start_time": "2022-05-04T06:46:36.940Z"
   },
   {
    "duration": 21,
    "start_time": "2022-05-04T06:46:36.980Z"
   },
   {
    "duration": 13,
    "start_time": "2022-05-04T06:46:37.003Z"
   },
   {
    "duration": 35,
    "start_time": "2022-05-04T06:46:37.018Z"
   },
   {
    "duration": 7,
    "start_time": "2022-05-04T06:46:37.056Z"
   },
   {
    "duration": 14,
    "start_time": "2022-05-04T06:46:37.065Z"
   },
   {
    "duration": 11,
    "start_time": "2022-05-04T06:46:37.081Z"
   },
   {
    "duration": 6,
    "start_time": "2022-05-04T06:46:37.096Z"
   },
   {
    "duration": 19,
    "start_time": "2022-05-04T06:46:37.104Z"
   },
   {
    "duration": 28,
    "start_time": "2022-05-04T06:46:37.125Z"
   },
   {
    "duration": 10,
    "start_time": "2022-05-04T06:46:37.156Z"
   },
   {
    "duration": 12,
    "start_time": "2022-05-04T06:46:37.168Z"
   },
   {
    "duration": 18,
    "start_time": "2022-05-04T06:46:37.182Z"
   },
   {
    "duration": 20,
    "start_time": "2022-05-04T06:46:37.203Z"
   },
   {
    "duration": 27,
    "start_time": "2022-05-04T06:46:37.226Z"
   },
   {
    "duration": 7,
    "start_time": "2022-05-04T06:46:37.255Z"
   },
   {
    "duration": 13,
    "start_time": "2022-05-04T06:46:37.264Z"
   },
   {
    "duration": 13,
    "start_time": "2022-05-04T06:46:37.279Z"
   },
   {
    "duration": 14,
    "start_time": "2022-05-04T06:46:37.294Z"
   },
   {
    "duration": 15,
    "start_time": "2022-05-04T06:46:37.309Z"
   },
   {
    "duration": 28,
    "start_time": "2022-05-04T06:46:37.326Z"
   },
   {
    "duration": 13,
    "start_time": "2022-05-04T06:46:37.356Z"
   },
   {
    "duration": 13,
    "start_time": "2022-05-04T06:46:37.371Z"
   },
   {
    "duration": 12,
    "start_time": "2022-05-04T06:46:37.386Z"
   },
   {
    "duration": 9,
    "start_time": "2022-05-04T06:46:37.400Z"
   },
   {
    "duration": 8,
    "start_time": "2022-05-04T06:46:37.414Z"
   },
   {
    "duration": 37,
    "start_time": "2022-05-04T06:46:37.424Z"
   },
   {
    "duration": 4,
    "start_time": "2022-05-04T06:46:37.465Z"
   },
   {
    "duration": 27,
    "start_time": "2022-05-04T06:46:37.472Z"
   },
   {
    "duration": 51,
    "start_time": "2022-05-04T06:46:37.501Z"
   },
   {
    "duration": 28,
    "start_time": "2022-05-04T06:46:37.554Z"
   },
   {
    "duration": 7,
    "start_time": "2022-05-04T06:46:37.584Z"
   },
   {
    "duration": 17,
    "start_time": "2022-05-04T06:46:37.594Z"
   },
   {
    "duration": 42,
    "start_time": "2022-05-04T06:46:37.614Z"
   },
   {
    "duration": 8,
    "start_time": "2022-05-04T06:46:37.658Z"
   },
   {
    "duration": 20,
    "start_time": "2022-05-04T06:46:37.668Z"
   },
   {
    "duration": 9,
    "start_time": "2022-05-04T06:46:37.690Z"
   },
   {
    "duration": 6,
    "start_time": "2022-05-04T06:46:37.701Z"
   },
   {
    "duration": 48,
    "start_time": "2022-05-04T06:46:37.710Z"
   },
   {
    "duration": 9,
    "start_time": "2022-05-04T06:46:37.760Z"
   },
   {
    "duration": 11,
    "start_time": "2022-05-04T06:46:37.771Z"
   },
   {
    "duration": 7,
    "start_time": "2022-05-04T06:46:37.784Z"
   },
   {
    "duration": 13,
    "start_time": "2022-05-04T06:46:37.793Z"
   },
   {
    "duration": 47,
    "start_time": "2022-05-04T06:46:37.809Z"
   },
   {
    "duration": 16,
    "start_time": "2022-05-04T06:46:37.858Z"
   },
   {
    "duration": 26,
    "start_time": "2022-05-04T06:46:37.876Z"
   },
   {
    "duration": 307,
    "start_time": "2022-05-04T06:46:37.905Z"
   },
   {
    "duration": 7,
    "start_time": "2022-05-04T06:46:38.214Z"
   },
   {
    "duration": 256,
    "start_time": "2022-05-04T06:46:38.223Z"
   },
   {
    "duration": 8,
    "start_time": "2022-05-04T06:46:38.481Z"
   },
   {
    "duration": 34,
    "start_time": "2022-05-04T06:46:38.491Z"
   },
   {
    "duration": 54,
    "start_time": "2022-05-04T06:46:38.527Z"
   },
   {
    "duration": 35,
    "start_time": "2022-05-04T06:46:38.583Z"
   },
   {
    "duration": 62,
    "start_time": "2022-05-04T06:46:38.620Z"
   },
   {
    "duration": 21,
    "start_time": "2022-05-04T06:46:38.684Z"
   },
   {
    "duration": 49,
    "start_time": "2022-05-04T06:46:38.706Z"
   },
   {
    "duration": 19,
    "start_time": "2022-05-04T06:46:38.757Z"
   },
   {
    "duration": 12,
    "start_time": "2022-05-04T06:51:13.172Z"
   },
   {
    "duration": 7,
    "start_time": "2022-05-04T06:51:26.580Z"
   },
   {
    "duration": 8,
    "start_time": "2022-05-04T06:51:31.420Z"
   },
   {
    "duration": 28,
    "start_time": "2022-05-04T06:54:30.835Z"
   },
   {
    "duration": 33,
    "start_time": "2022-05-04T06:55:22.706Z"
   },
   {
    "duration": 31,
    "start_time": "2022-05-04T06:55:56.367Z"
   },
   {
    "duration": 31,
    "start_time": "2022-05-04T06:56:14.931Z"
   },
   {
    "duration": 9,
    "start_time": "2022-05-04T06:56:26.803Z"
   },
   {
    "duration": 39,
    "start_time": "2022-05-04T06:56:45.671Z"
   },
   {
    "duration": 39,
    "start_time": "2022-05-04T06:57:14.642Z"
   },
   {
    "duration": 523,
    "start_time": "2022-05-04T06:59:56.485Z"
   },
   {
    "duration": 139,
    "start_time": "2022-05-04T06:59:57.011Z"
   },
   {
    "duration": 0,
    "start_time": "2022-05-04T06:59:57.155Z"
   },
   {
    "duration": 0,
    "start_time": "2022-05-04T06:59:57.157Z"
   },
   {
    "duration": 0,
    "start_time": "2022-05-04T06:59:57.159Z"
   },
   {
    "duration": 0,
    "start_time": "2022-05-04T06:59:57.160Z"
   },
   {
    "duration": 0,
    "start_time": "2022-05-04T06:59:57.161Z"
   },
   {
    "duration": 0,
    "start_time": "2022-05-04T06:59:57.163Z"
   },
   {
    "duration": 0,
    "start_time": "2022-05-04T06:59:57.164Z"
   },
   {
    "duration": 0,
    "start_time": "2022-05-04T06:59:57.166Z"
   },
   {
    "duration": 1,
    "start_time": "2022-05-04T06:59:57.167Z"
   },
   {
    "duration": 0,
    "start_time": "2022-05-04T06:59:57.169Z"
   },
   {
    "duration": 0,
    "start_time": "2022-05-04T06:59:57.170Z"
   },
   {
    "duration": 0,
    "start_time": "2022-05-04T06:59:57.171Z"
   },
   {
    "duration": 0,
    "start_time": "2022-05-04T06:59:57.173Z"
   },
   {
    "duration": 0,
    "start_time": "2022-05-04T06:59:57.175Z"
   },
   {
    "duration": 0,
    "start_time": "2022-05-04T06:59:57.176Z"
   },
   {
    "duration": 0,
    "start_time": "2022-05-04T06:59:57.177Z"
   },
   {
    "duration": 0,
    "start_time": "2022-05-04T06:59:57.178Z"
   },
   {
    "duration": 0,
    "start_time": "2022-05-04T06:59:57.179Z"
   },
   {
    "duration": 0,
    "start_time": "2022-05-04T06:59:57.181Z"
   },
   {
    "duration": 0,
    "start_time": "2022-05-04T06:59:57.182Z"
   },
   {
    "duration": 0,
    "start_time": "2022-05-04T06:59:57.184Z"
   },
   {
    "duration": 0,
    "start_time": "2022-05-04T06:59:57.185Z"
   },
   {
    "duration": 0,
    "start_time": "2022-05-04T06:59:57.187Z"
   },
   {
    "duration": 0,
    "start_time": "2022-05-04T06:59:57.188Z"
   },
   {
    "duration": 0,
    "start_time": "2022-05-04T06:59:57.190Z"
   },
   {
    "duration": 0,
    "start_time": "2022-05-04T06:59:57.191Z"
   },
   {
    "duration": 0,
    "start_time": "2022-05-04T06:59:57.252Z"
   },
   {
    "duration": 0,
    "start_time": "2022-05-04T06:59:57.254Z"
   },
   {
    "duration": 0,
    "start_time": "2022-05-04T06:59:57.255Z"
   },
   {
    "duration": 0,
    "start_time": "2022-05-04T06:59:57.256Z"
   },
   {
    "duration": 0,
    "start_time": "2022-05-04T06:59:57.258Z"
   },
   {
    "duration": 0,
    "start_time": "2022-05-04T06:59:57.259Z"
   },
   {
    "duration": 0,
    "start_time": "2022-05-04T06:59:57.261Z"
   },
   {
    "duration": 0,
    "start_time": "2022-05-04T06:59:57.262Z"
   },
   {
    "duration": 0,
    "start_time": "2022-05-04T06:59:57.264Z"
   },
   {
    "duration": 0,
    "start_time": "2022-05-04T06:59:57.266Z"
   },
   {
    "duration": 0,
    "start_time": "2022-05-04T06:59:57.267Z"
   },
   {
    "duration": 0,
    "start_time": "2022-05-04T06:59:57.268Z"
   },
   {
    "duration": 0,
    "start_time": "2022-05-04T06:59:57.269Z"
   },
   {
    "duration": 0,
    "start_time": "2022-05-04T06:59:57.271Z"
   },
   {
    "duration": 0,
    "start_time": "2022-05-04T06:59:57.273Z"
   },
   {
    "duration": 0,
    "start_time": "2022-05-04T06:59:57.274Z"
   },
   {
    "duration": 0,
    "start_time": "2022-05-04T06:59:57.276Z"
   },
   {
    "duration": 0,
    "start_time": "2022-05-04T06:59:57.277Z"
   },
   {
    "duration": 0,
    "start_time": "2022-05-04T06:59:57.279Z"
   },
   {
    "duration": 0,
    "start_time": "2022-05-04T06:59:57.280Z"
   },
   {
    "duration": 0,
    "start_time": "2022-05-04T06:59:57.282Z"
   },
   {
    "duration": 0,
    "start_time": "2022-05-04T06:59:57.283Z"
   },
   {
    "duration": 0,
    "start_time": "2022-05-04T06:59:57.285Z"
   },
   {
    "duration": 0,
    "start_time": "2022-05-04T06:59:57.287Z"
   },
   {
    "duration": 0,
    "start_time": "2022-05-04T06:59:57.352Z"
   },
   {
    "duration": 0,
    "start_time": "2022-05-04T06:59:57.354Z"
   },
   {
    "duration": 0,
    "start_time": "2022-05-04T06:59:57.355Z"
   },
   {
    "duration": 0,
    "start_time": "2022-05-04T06:59:57.357Z"
   },
   {
    "duration": 0,
    "start_time": "2022-05-04T06:59:57.358Z"
   },
   {
    "duration": 0,
    "start_time": "2022-05-04T06:59:57.361Z"
   },
   {
    "duration": 0,
    "start_time": "2022-05-04T06:59:57.363Z"
   },
   {
    "duration": 0,
    "start_time": "2022-05-04T06:59:57.364Z"
   },
   {
    "duration": 0,
    "start_time": "2022-05-04T06:59:57.366Z"
   },
   {
    "duration": 47,
    "start_time": "2022-05-04T08:51:27.168Z"
   },
   {
    "duration": 395,
    "start_time": "2022-05-04T08:51:38.680Z"
   },
   {
    "duration": 136,
    "start_time": "2022-05-04T08:51:39.077Z"
   },
   {
    "duration": 0,
    "start_time": "2022-05-04T08:51:39.217Z"
   },
   {
    "duration": 0,
    "start_time": "2022-05-04T08:51:39.218Z"
   },
   {
    "duration": 0,
    "start_time": "2022-05-04T08:51:39.218Z"
   },
   {
    "duration": 0,
    "start_time": "2022-05-04T08:51:39.219Z"
   },
   {
    "duration": 0,
    "start_time": "2022-05-04T08:51:39.220Z"
   },
   {
    "duration": 0,
    "start_time": "2022-05-04T08:51:39.221Z"
   },
   {
    "duration": 0,
    "start_time": "2022-05-04T08:51:39.222Z"
   },
   {
    "duration": 0,
    "start_time": "2022-05-04T08:51:39.223Z"
   },
   {
    "duration": 0,
    "start_time": "2022-05-04T08:51:39.224Z"
   },
   {
    "duration": 0,
    "start_time": "2022-05-04T08:51:39.225Z"
   },
   {
    "duration": 0,
    "start_time": "2022-05-04T08:51:39.226Z"
   },
   {
    "duration": 0,
    "start_time": "2022-05-04T08:51:39.227Z"
   },
   {
    "duration": 0,
    "start_time": "2022-05-04T08:51:39.228Z"
   },
   {
    "duration": 0,
    "start_time": "2022-05-04T08:51:39.229Z"
   },
   {
    "duration": 0,
    "start_time": "2022-05-04T08:51:39.230Z"
   },
   {
    "duration": 0,
    "start_time": "2022-05-04T08:51:39.231Z"
   },
   {
    "duration": 0,
    "start_time": "2022-05-04T08:51:39.232Z"
   },
   {
    "duration": 0,
    "start_time": "2022-05-04T08:51:39.232Z"
   },
   {
    "duration": 0,
    "start_time": "2022-05-04T08:51:39.255Z"
   },
   {
    "duration": 0,
    "start_time": "2022-05-04T08:51:39.256Z"
   },
   {
    "duration": 0,
    "start_time": "2022-05-04T08:51:39.257Z"
   },
   {
    "duration": 0,
    "start_time": "2022-05-04T08:51:39.258Z"
   },
   {
    "duration": 0,
    "start_time": "2022-05-04T08:51:39.259Z"
   },
   {
    "duration": 0,
    "start_time": "2022-05-04T08:51:39.260Z"
   },
   {
    "duration": 0,
    "start_time": "2022-05-04T08:51:39.261Z"
   },
   {
    "duration": 0,
    "start_time": "2022-05-04T08:51:39.262Z"
   },
   {
    "duration": 0,
    "start_time": "2022-05-04T08:51:39.263Z"
   },
   {
    "duration": 0,
    "start_time": "2022-05-04T08:51:39.264Z"
   },
   {
    "duration": 0,
    "start_time": "2022-05-04T08:51:39.265Z"
   },
   {
    "duration": 0,
    "start_time": "2022-05-04T08:51:39.266Z"
   },
   {
    "duration": 0,
    "start_time": "2022-05-04T08:51:39.267Z"
   },
   {
    "duration": 0,
    "start_time": "2022-05-04T08:51:39.268Z"
   },
   {
    "duration": 0,
    "start_time": "2022-05-04T08:51:39.269Z"
   },
   {
    "duration": 0,
    "start_time": "2022-05-04T08:51:39.270Z"
   },
   {
    "duration": 0,
    "start_time": "2022-05-04T08:51:39.271Z"
   },
   {
    "duration": 0,
    "start_time": "2022-05-04T08:51:39.272Z"
   },
   {
    "duration": 0,
    "start_time": "2022-05-04T08:51:39.273Z"
   },
   {
    "duration": 0,
    "start_time": "2022-05-04T08:51:39.274Z"
   },
   {
    "duration": 0,
    "start_time": "2022-05-04T08:51:39.275Z"
   },
   {
    "duration": 0,
    "start_time": "2022-05-04T08:51:39.276Z"
   },
   {
    "duration": 0,
    "start_time": "2022-05-04T08:51:39.277Z"
   },
   {
    "duration": 0,
    "start_time": "2022-05-04T08:51:39.278Z"
   },
   {
    "duration": 0,
    "start_time": "2022-05-04T08:51:39.279Z"
   },
   {
    "duration": 0,
    "start_time": "2022-05-04T08:51:39.280Z"
   },
   {
    "duration": 0,
    "start_time": "2022-05-04T08:51:39.281Z"
   },
   {
    "duration": 0,
    "start_time": "2022-05-04T08:51:39.282Z"
   },
   {
    "duration": 0,
    "start_time": "2022-05-04T08:51:39.283Z"
   },
   {
    "duration": 0,
    "start_time": "2022-05-04T08:51:39.283Z"
   },
   {
    "duration": 0,
    "start_time": "2022-05-04T08:51:39.284Z"
   },
   {
    "duration": 0,
    "start_time": "2022-05-04T08:51:39.285Z"
   },
   {
    "duration": 0,
    "start_time": "2022-05-04T08:51:39.287Z"
   },
   {
    "duration": 0,
    "start_time": "2022-05-04T08:51:39.289Z"
   },
   {
    "duration": 0,
    "start_time": "2022-05-04T08:51:39.290Z"
   },
   {
    "duration": 0,
    "start_time": "2022-05-04T08:51:39.355Z"
   },
   {
    "duration": 0,
    "start_time": "2022-05-04T08:51:39.356Z"
   },
   {
    "duration": 0,
    "start_time": "2022-05-04T08:51:39.357Z"
   },
   {
    "duration": 0,
    "start_time": "2022-05-04T08:51:39.358Z"
   },
   {
    "duration": 0,
    "start_time": "2022-05-04T08:51:39.359Z"
   },
   {
    "duration": 0,
    "start_time": "2022-05-04T08:51:39.360Z"
   },
   {
    "duration": 0,
    "start_time": "2022-05-04T08:51:39.361Z"
   },
   {
    "duration": 126,
    "start_time": "2022-05-04T08:58:37.637Z"
   },
   {
    "duration": 18,
    "start_time": "2022-05-04T08:58:45.632Z"
   },
   {
    "duration": 415,
    "start_time": "2022-05-04T08:58:52.249Z"
   },
   {
    "duration": 122,
    "start_time": "2022-05-04T08:58:52.667Z"
   },
   {
    "duration": 20,
    "start_time": "2022-05-04T08:58:52.790Z"
   },
   {
    "duration": 25,
    "start_time": "2022-05-04T08:58:52.812Z"
   },
   {
    "duration": 16,
    "start_time": "2022-05-04T08:58:52.839Z"
   },
   {
    "duration": 3,
    "start_time": "2022-05-04T08:58:52.857Z"
   },
   {
    "duration": 4,
    "start_time": "2022-05-04T08:58:52.862Z"
   },
   {
    "duration": 6,
    "start_time": "2022-05-04T08:58:52.867Z"
   },
   {
    "duration": 4,
    "start_time": "2022-05-04T08:58:52.875Z"
   },
   {
    "duration": 4,
    "start_time": "2022-05-04T08:58:52.882Z"
   },
   {
    "duration": 11,
    "start_time": "2022-05-04T08:58:52.887Z"
   },
   {
    "duration": 4,
    "start_time": "2022-05-04T08:58:52.900Z"
   },
   {
    "duration": 7,
    "start_time": "2022-05-04T08:58:52.905Z"
   },
   {
    "duration": 43,
    "start_time": "2022-05-04T08:58:52.913Z"
   },
   {
    "duration": 16,
    "start_time": "2022-05-04T08:58:52.958Z"
   },
   {
    "duration": 22,
    "start_time": "2022-05-04T08:58:52.976Z"
   },
   {
    "duration": 9,
    "start_time": "2022-05-04T08:58:52.999Z"
   },
   {
    "duration": 5,
    "start_time": "2022-05-04T08:58:53.009Z"
   },
   {
    "duration": 10,
    "start_time": "2022-05-04T08:58:53.016Z"
   },
   {
    "duration": 6,
    "start_time": "2022-05-04T08:58:53.028Z"
   },
   {
    "duration": 19,
    "start_time": "2022-05-04T08:58:53.035Z"
   },
   {
    "duration": 7,
    "start_time": "2022-05-04T08:58:53.056Z"
   },
   {
    "duration": 7,
    "start_time": "2022-05-04T08:58:53.065Z"
   },
   {
    "duration": 9,
    "start_time": "2022-05-04T08:58:53.074Z"
   },
   {
    "duration": 5,
    "start_time": "2022-05-04T08:58:53.085Z"
   },
   {
    "duration": 5,
    "start_time": "2022-05-04T08:58:53.092Z"
   },
   {
    "duration": 4,
    "start_time": "2022-05-04T08:58:53.099Z"
   },
   {
    "duration": 6,
    "start_time": "2022-05-04T08:58:53.106Z"
   },
   {
    "duration": 41,
    "start_time": "2022-05-04T08:58:53.113Z"
   },
   {
    "duration": 7,
    "start_time": "2022-05-04T08:58:53.156Z"
   },
   {
    "duration": 4,
    "start_time": "2022-05-04T08:58:53.165Z"
   },
   {
    "duration": 18,
    "start_time": "2022-05-04T08:58:53.171Z"
   },
   {
    "duration": 17,
    "start_time": "2022-05-04T08:58:53.191Z"
   },
   {
    "duration": 45,
    "start_time": "2022-05-04T08:58:53.210Z"
   },
   {
    "duration": 5,
    "start_time": "2022-05-04T08:58:53.257Z"
   },
   {
    "duration": 12,
    "start_time": "2022-05-04T08:58:53.264Z"
   },
   {
    "duration": 13,
    "start_time": "2022-05-04T08:58:53.278Z"
   },
   {
    "duration": 6,
    "start_time": "2022-05-04T08:58:53.293Z"
   },
   {
    "duration": 12,
    "start_time": "2022-05-04T08:58:53.301Z"
   },
   {
    "duration": 10,
    "start_time": "2022-05-04T08:58:53.314Z"
   },
   {
    "duration": 29,
    "start_time": "2022-05-04T08:58:53.326Z"
   },
   {
    "duration": 7,
    "start_time": "2022-05-04T08:58:53.357Z"
   },
   {
    "duration": 5,
    "start_time": "2022-05-04T08:58:53.366Z"
   },
   {
    "duration": 6,
    "start_time": "2022-05-04T08:58:53.373Z"
   },
   {
    "duration": 4,
    "start_time": "2022-05-04T08:58:53.381Z"
   },
   {
    "duration": 6,
    "start_time": "2022-05-04T08:58:53.387Z"
   },
   {
    "duration": 4,
    "start_time": "2022-05-04T08:58:53.395Z"
   },
   {
    "duration": 11,
    "start_time": "2022-05-04T08:58:53.400Z"
   },
   {
    "duration": 55,
    "start_time": "2022-05-04T08:58:53.412Z"
   },
   {
    "duration": 146,
    "start_time": "2022-05-04T08:58:53.468Z"
   },
   {
    "duration": 5,
    "start_time": "2022-05-04T08:58:53.616Z"
   },
   {
    "duration": 152,
    "start_time": "2022-05-04T08:58:53.622Z"
   },
   {
    "duration": 5,
    "start_time": "2022-05-04T08:58:53.776Z"
   },
   {
    "duration": 24,
    "start_time": "2022-05-04T08:58:53.783Z"
   },
   {
    "duration": 21,
    "start_time": "2022-05-04T08:58:53.808Z"
   },
   {
    "duration": 28,
    "start_time": "2022-05-04T08:58:53.854Z"
   },
   {
    "duration": 21,
    "start_time": "2022-05-04T08:58:53.884Z"
   },
   {
    "duration": 22,
    "start_time": "2022-05-04T08:58:53.907Z"
   },
   {
    "duration": 36,
    "start_time": "2022-05-04T08:58:53.930Z"
   },
   {
    "duration": 14,
    "start_time": "2022-05-04T08:58:53.968Z"
   },
   {
    "duration": 12,
    "start_time": "2022-05-04T08:58:53.984Z"
   },
   {
    "duration": 216,
    "start_time": "2022-05-04T09:13:46.245Z"
   },
   {
    "duration": 14,
    "start_time": "2022-05-04T09:14:36.877Z"
   },
   {
    "duration": 25,
    "start_time": "2022-05-04T09:24:53.565Z"
   },
   {
    "duration": 8,
    "start_time": "2022-05-04T09:34:53.936Z"
   },
   {
    "duration": 71,
    "start_time": "2022-05-04T09:36:26.896Z"
   },
   {
    "duration": 11,
    "start_time": "2022-05-04T09:36:40.474Z"
   },
   {
    "duration": 411,
    "start_time": "2022-05-04T09:36:45.853Z"
   },
   {
    "duration": 130,
    "start_time": "2022-05-04T09:36:46.266Z"
   },
   {
    "duration": 20,
    "start_time": "2022-05-04T09:36:46.398Z"
   },
   {
    "duration": 15,
    "start_time": "2022-05-04T09:36:46.420Z"
   },
   {
    "duration": 24,
    "start_time": "2022-05-04T09:36:46.436Z"
   },
   {
    "duration": 5,
    "start_time": "2022-05-04T09:36:46.462Z"
   },
   {
    "duration": 6,
    "start_time": "2022-05-04T09:36:46.468Z"
   },
   {
    "duration": 8,
    "start_time": "2022-05-04T09:36:46.475Z"
   },
   {
    "duration": 5,
    "start_time": "2022-05-04T09:36:46.485Z"
   },
   {
    "duration": 7,
    "start_time": "2022-05-04T09:36:46.492Z"
   },
   {
    "duration": 11,
    "start_time": "2022-05-04T09:36:46.500Z"
   },
   {
    "duration": 4,
    "start_time": "2022-05-04T09:36:46.513Z"
   },
   {
    "duration": 5,
    "start_time": "2022-05-04T09:36:46.554Z"
   },
   {
    "duration": 5,
    "start_time": "2022-05-04T09:36:46.561Z"
   },
   {
    "duration": 9,
    "start_time": "2022-05-04T09:36:46.568Z"
   },
   {
    "duration": 6,
    "start_time": "2022-05-04T09:36:46.579Z"
   },
   {
    "duration": 7,
    "start_time": "2022-05-04T09:36:46.587Z"
   },
   {
    "duration": 8,
    "start_time": "2022-05-04T09:36:46.595Z"
   },
   {
    "duration": 10,
    "start_time": "2022-05-04T09:36:46.605Z"
   },
   {
    "duration": 4,
    "start_time": "2022-05-04T09:36:46.616Z"
   },
   {
    "duration": 5,
    "start_time": "2022-05-04T09:36:46.654Z"
   },
   {
    "duration": 7,
    "start_time": "2022-05-04T09:36:46.661Z"
   },
   {
    "duration": 8,
    "start_time": "2022-05-04T09:36:46.669Z"
   },
   {
    "duration": 6,
    "start_time": "2022-05-04T09:36:46.679Z"
   },
   {
    "duration": 8,
    "start_time": "2022-05-04T09:36:46.686Z"
   },
   {
    "duration": 5,
    "start_time": "2022-05-04T09:36:46.696Z"
   },
   {
    "duration": 5,
    "start_time": "2022-05-04T09:36:46.703Z"
   },
   {
    "duration": 48,
    "start_time": "2022-05-04T09:36:46.711Z"
   },
   {
    "duration": 6,
    "start_time": "2022-05-04T09:36:46.760Z"
   },
   {
    "duration": 6,
    "start_time": "2022-05-04T09:36:46.768Z"
   },
   {
    "duration": 4,
    "start_time": "2022-05-04T09:36:46.775Z"
   },
   {
    "duration": 17,
    "start_time": "2022-05-04T09:36:46.781Z"
   },
   {
    "duration": 17,
    "start_time": "2022-05-04T09:36:46.800Z"
   },
   {
    "duration": 46,
    "start_time": "2022-05-04T09:36:46.819Z"
   },
   {
    "duration": 17,
    "start_time": "2022-05-04T09:36:46.867Z"
   },
   {
    "duration": 5,
    "start_time": "2022-05-04T09:36:46.886Z"
   },
   {
    "duration": 13,
    "start_time": "2022-05-04T09:36:46.893Z"
   },
   {
    "duration": 6,
    "start_time": "2022-05-04T09:36:46.907Z"
   },
   {
    "duration": 40,
    "start_time": "2022-05-04T09:36:46.915Z"
   },
   {
    "duration": 14,
    "start_time": "2022-05-04T09:36:46.957Z"
   },
   {
    "duration": 9,
    "start_time": "2022-05-04T09:36:46.972Z"
   },
   {
    "duration": 6,
    "start_time": "2022-05-04T09:36:46.982Z"
   },
   {
    "duration": 7,
    "start_time": "2022-05-04T09:36:46.990Z"
   },
   {
    "duration": 6,
    "start_time": "2022-05-04T09:36:46.999Z"
   },
   {
    "duration": 8,
    "start_time": "2022-05-04T09:36:47.006Z"
   },
   {
    "duration": 42,
    "start_time": "2022-05-04T09:36:47.015Z"
   },
   {
    "duration": 6,
    "start_time": "2022-05-04T09:36:47.059Z"
   },
   {
    "duration": 7,
    "start_time": "2022-05-04T09:36:47.067Z"
   },
   {
    "duration": 10,
    "start_time": "2022-05-04T09:36:47.076Z"
   },
   {
    "duration": 15,
    "start_time": "2022-05-04T09:36:47.087Z"
   },
   {
    "duration": 168,
    "start_time": "2022-05-04T09:36:47.103Z"
   },
   {
    "duration": 5,
    "start_time": "2022-05-04T09:36:47.273Z"
   },
   {
    "duration": 152,
    "start_time": "2022-05-04T09:36:47.280Z"
   },
   {
    "duration": 5,
    "start_time": "2022-05-04T09:36:47.434Z"
   },
   {
    "duration": 39,
    "start_time": "2022-05-04T09:36:47.440Z"
   },
   {
    "duration": 23,
    "start_time": "2022-05-04T09:36:47.481Z"
   },
   {
    "duration": 11,
    "start_time": "2022-05-04T09:36:47.506Z"
   },
   {
    "duration": 43,
    "start_time": "2022-05-04T09:36:47.518Z"
   },
   {
    "duration": 25,
    "start_time": "2022-05-04T09:36:47.563Z"
   },
   {
    "duration": 15,
    "start_time": "2022-05-04T09:36:47.590Z"
   },
   {
    "duration": 22,
    "start_time": "2022-05-04T09:36:47.607Z"
   },
   {
    "duration": 36,
    "start_time": "2022-05-04T09:36:47.631Z"
   },
   {
    "duration": 66,
    "start_time": "2022-05-04T09:44:15.034Z"
   },
   {
    "duration": 10,
    "start_time": "2022-05-04T09:44:19.100Z"
   },
   {
    "duration": 482,
    "start_time": "2022-05-04T09:44:24.723Z"
   },
   {
    "duration": 129,
    "start_time": "2022-05-04T09:44:25.207Z"
   },
   {
    "duration": 22,
    "start_time": "2022-05-04T09:44:25.338Z"
   },
   {
    "duration": 25,
    "start_time": "2022-05-04T09:44:25.362Z"
   },
   {
    "duration": 19,
    "start_time": "2022-05-04T09:44:25.389Z"
   },
   {
    "duration": 5,
    "start_time": "2022-05-04T09:44:25.411Z"
   },
   {
    "duration": 5,
    "start_time": "2022-05-04T09:44:25.418Z"
   },
   {
    "duration": 29,
    "start_time": "2022-05-04T09:44:25.425Z"
   },
   {
    "duration": 5,
    "start_time": "2022-05-04T09:44:25.456Z"
   },
   {
    "duration": 6,
    "start_time": "2022-05-04T09:44:25.465Z"
   },
   {
    "duration": 17,
    "start_time": "2022-05-04T09:44:25.473Z"
   },
   {
    "duration": 5,
    "start_time": "2022-05-04T09:44:25.492Z"
   },
   {
    "duration": 7,
    "start_time": "2022-05-04T09:44:25.499Z"
   },
   {
    "duration": 6,
    "start_time": "2022-05-04T09:44:25.507Z"
   },
   {
    "duration": 45,
    "start_time": "2022-05-04T09:44:25.515Z"
   },
   {
    "duration": 8,
    "start_time": "2022-05-04T09:44:25.561Z"
   },
   {
    "duration": 8,
    "start_time": "2022-05-04T09:44:25.570Z"
   },
   {
    "duration": 9,
    "start_time": "2022-05-04T09:44:25.579Z"
   },
   {
    "duration": 9,
    "start_time": "2022-05-04T09:44:25.590Z"
   },
   {
    "duration": 7,
    "start_time": "2022-05-04T09:44:25.601Z"
   },
   {
    "duration": 4,
    "start_time": "2022-05-04T09:44:25.609Z"
   },
   {
    "duration": 7,
    "start_time": "2022-05-04T09:44:25.615Z"
   },
   {
    "duration": 38,
    "start_time": "2022-05-04T09:44:25.624Z"
   },
   {
    "duration": 14,
    "start_time": "2022-05-04T09:44:25.663Z"
   },
   {
    "duration": 7,
    "start_time": "2022-05-04T09:44:25.679Z"
   },
   {
    "duration": 10,
    "start_time": "2022-05-04T09:44:25.688Z"
   },
   {
    "duration": 8,
    "start_time": "2022-05-04T09:44:25.700Z"
   },
   {
    "duration": 7,
    "start_time": "2022-05-04T09:44:25.713Z"
   },
   {
    "duration": 36,
    "start_time": "2022-05-04T09:44:25.722Z"
   },
   {
    "duration": 11,
    "start_time": "2022-05-04T09:44:25.759Z"
   },
   {
    "duration": 8,
    "start_time": "2022-05-04T09:44:25.772Z"
   },
   {
    "duration": 25,
    "start_time": "2022-05-04T09:44:25.782Z"
   },
   {
    "duration": 26,
    "start_time": "2022-05-04T09:44:25.809Z"
   },
   {
    "duration": 27,
    "start_time": "2022-05-04T09:44:25.854Z"
   },
   {
    "duration": 26,
    "start_time": "2022-05-04T09:44:25.883Z"
   },
   {
    "duration": 7,
    "start_time": "2022-05-04T09:44:25.912Z"
   },
   {
    "duration": 44,
    "start_time": "2022-05-04T09:44:25.921Z"
   },
   {
    "duration": 19,
    "start_time": "2022-05-04T09:44:25.968Z"
   },
   {
    "duration": 8,
    "start_time": "2022-05-04T09:44:25.989Z"
   },
   {
    "duration": 24,
    "start_time": "2022-05-04T09:44:25.999Z"
   },
   {
    "duration": 16,
    "start_time": "2022-05-04T09:44:26.026Z"
   },
   {
    "duration": 17,
    "start_time": "2022-05-04T09:44:26.044Z"
   },
   {
    "duration": 12,
    "start_time": "2022-05-04T09:44:26.063Z"
   },
   {
    "duration": 10,
    "start_time": "2022-05-04T09:44:26.077Z"
   },
   {
    "duration": 11,
    "start_time": "2022-05-04T09:44:26.089Z"
   },
   {
    "duration": 12,
    "start_time": "2022-05-04T09:44:26.102Z"
   },
   {
    "duration": 46,
    "start_time": "2022-05-04T09:44:26.116Z"
   },
   {
    "duration": 25,
    "start_time": "2022-05-04T09:44:26.164Z"
   },
   {
    "duration": 13,
    "start_time": "2022-05-04T09:44:26.192Z"
   },
   {
    "duration": 22,
    "start_time": "2022-05-04T09:44:26.207Z"
   },
   {
    "duration": 164,
    "start_time": "2022-05-04T09:44:26.231Z"
   },
   {
    "duration": 6,
    "start_time": "2022-05-04T09:44:26.396Z"
   },
   {
    "duration": 171,
    "start_time": "2022-05-04T09:44:26.403Z"
   },
   {
    "duration": 5,
    "start_time": "2022-05-04T09:44:26.575Z"
   },
   {
    "duration": 29,
    "start_time": "2022-05-04T09:44:26.582Z"
   },
   {
    "duration": 47,
    "start_time": "2022-05-04T09:44:26.613Z"
   },
   {
    "duration": 11,
    "start_time": "2022-05-04T09:44:26.662Z"
   },
   {
    "duration": 27,
    "start_time": "2022-05-04T09:44:26.675Z"
   },
   {
    "duration": 52,
    "start_time": "2022-05-04T09:44:26.704Z"
   },
   {
    "duration": 16,
    "start_time": "2022-05-04T09:44:26.758Z"
   },
   {
    "duration": 18,
    "start_time": "2022-05-04T09:44:26.775Z"
   },
   {
    "duration": 14,
    "start_time": "2022-05-04T09:44:26.795Z"
   },
   {
    "duration": 14,
    "start_time": "2022-05-04T09:47:54.102Z"
   },
   {
    "duration": 9,
    "start_time": "2022-05-04T09:48:09.205Z"
   },
   {
    "duration": 8,
    "start_time": "2022-05-04T09:48:18.934Z"
   },
   {
    "duration": 437,
    "start_time": "2022-05-04T09:51:53.531Z"
   },
   {
    "duration": 146,
    "start_time": "2022-05-04T09:51:53.970Z"
   },
   {
    "duration": 19,
    "start_time": "2022-05-04T09:51:54.118Z"
   },
   {
    "duration": 15,
    "start_time": "2022-05-04T09:51:54.139Z"
   },
   {
    "duration": 10,
    "start_time": "2022-05-04T09:51:54.156Z"
   },
   {
    "duration": 5,
    "start_time": "2022-05-04T09:51:54.168Z"
   },
   {
    "duration": 4,
    "start_time": "2022-05-04T09:51:54.175Z"
   },
   {
    "duration": 7,
    "start_time": "2022-05-04T09:51:54.180Z"
   },
   {
    "duration": 5,
    "start_time": "2022-05-04T09:51:54.189Z"
   },
   {
    "duration": 6,
    "start_time": "2022-05-04T09:51:54.197Z"
   },
   {
    "duration": 13,
    "start_time": "2022-05-04T09:51:54.205Z"
   },
   {
    "duration": 5,
    "start_time": "2022-05-04T09:51:54.255Z"
   },
   {
    "duration": 6,
    "start_time": "2022-05-04T09:51:54.262Z"
   },
   {
    "duration": 6,
    "start_time": "2022-05-04T09:51:54.270Z"
   },
   {
    "duration": 8,
    "start_time": "2022-05-04T09:51:54.278Z"
   },
   {
    "duration": 9,
    "start_time": "2022-05-04T09:51:54.288Z"
   },
   {
    "duration": 11,
    "start_time": "2022-05-04T09:51:54.299Z"
   },
   {
    "duration": 15,
    "start_time": "2022-05-04T09:51:54.311Z"
   },
   {
    "duration": 16,
    "start_time": "2022-05-04T09:51:54.354Z"
   },
   {
    "duration": 4,
    "start_time": "2022-05-04T09:51:54.372Z"
   },
   {
    "duration": 9,
    "start_time": "2022-05-04T09:51:54.377Z"
   },
   {
    "duration": 14,
    "start_time": "2022-05-04T09:51:54.387Z"
   },
   {
    "duration": 7,
    "start_time": "2022-05-04T09:51:54.403Z"
   },
   {
    "duration": 9,
    "start_time": "2022-05-04T09:51:54.412Z"
   },
   {
    "duration": 8,
    "start_time": "2022-05-04T09:51:54.423Z"
   },
   {
    "duration": 24,
    "start_time": "2022-05-04T09:51:54.432Z"
   },
   {
    "duration": 5,
    "start_time": "2022-05-04T09:51:54.458Z"
   },
   {
    "duration": 8,
    "start_time": "2022-05-04T09:51:54.467Z"
   },
   {
    "duration": 7,
    "start_time": "2022-05-04T09:51:54.476Z"
   },
   {
    "duration": 8,
    "start_time": "2022-05-04T09:51:54.484Z"
   },
   {
    "duration": 6,
    "start_time": "2022-05-04T09:51:54.494Z"
   },
   {
    "duration": 19,
    "start_time": "2022-05-04T09:51:54.501Z"
   },
   {
    "duration": 48,
    "start_time": "2022-05-04T09:51:54.522Z"
   },
   {
    "duration": 18,
    "start_time": "2022-05-04T09:51:54.572Z"
   },
   {
    "duration": 20,
    "start_time": "2022-05-04T09:51:54.592Z"
   },
   {
    "duration": 6,
    "start_time": "2022-05-04T09:51:54.614Z"
   },
   {
    "duration": 14,
    "start_time": "2022-05-04T09:51:54.653Z"
   },
   {
    "duration": 19,
    "start_time": "2022-05-04T09:51:54.669Z"
   },
   {
    "duration": 14,
    "start_time": "2022-05-04T09:51:54.690Z"
   },
   {
    "duration": 34,
    "start_time": "2022-05-04T09:51:54.706Z"
   },
   {
    "duration": 23,
    "start_time": "2022-05-04T09:51:54.741Z"
   },
   {
    "duration": 12,
    "start_time": "2022-05-04T09:51:54.766Z"
   },
   {
    "duration": 21,
    "start_time": "2022-05-04T09:51:54.779Z"
   },
   {
    "duration": 14,
    "start_time": "2022-05-04T09:51:54.801Z"
   },
   {
    "duration": 34,
    "start_time": "2022-05-04T09:51:54.816Z"
   },
   {
    "duration": 19,
    "start_time": "2022-05-04T09:51:54.851Z"
   },
   {
    "duration": 12,
    "start_time": "2022-05-04T09:51:54.872Z"
   },
   {
    "duration": 11,
    "start_time": "2022-05-04T09:51:54.886Z"
   },
   {
    "duration": 25,
    "start_time": "2022-05-04T09:51:54.898Z"
   },
   {
    "duration": 32,
    "start_time": "2022-05-04T09:51:54.924Z"
   },
   {
    "duration": 29,
    "start_time": "2022-05-04T09:51:54.957Z"
   },
   {
    "duration": 16,
    "start_time": "2022-05-04T09:51:54.989Z"
   },
   {
    "duration": 235,
    "start_time": "2022-05-04T09:51:55.007Z"
   },
   {
    "duration": 13,
    "start_time": "2022-05-04T09:51:55.243Z"
   },
   {
    "duration": 157,
    "start_time": "2022-05-04T09:51:55.258Z"
   },
   {
    "duration": 6,
    "start_time": "2022-05-04T09:51:55.416Z"
   },
   {
    "duration": 36,
    "start_time": "2022-05-04T09:51:55.424Z"
   },
   {
    "duration": 24,
    "start_time": "2022-05-04T09:51:55.462Z"
   },
   {
    "duration": 9,
    "start_time": "2022-05-04T09:51:55.487Z"
   },
   {
    "duration": 40,
    "start_time": "2022-05-04T09:51:55.498Z"
   },
   {
    "duration": 26,
    "start_time": "2022-05-04T09:51:55.554Z"
   },
   {
    "duration": 16,
    "start_time": "2022-05-04T09:51:55.582Z"
   },
   {
    "duration": 31,
    "start_time": "2022-05-04T09:51:55.600Z"
   },
   {
    "duration": 31,
    "start_time": "2022-05-04T09:51:55.633Z"
   },
   {
    "duration": 429,
    "start_time": "2022-05-04T10:27:59.131Z"
   },
   {
    "duration": 132,
    "start_time": "2022-05-04T10:27:59.562Z"
   },
   {
    "duration": 19,
    "start_time": "2022-05-04T10:27:59.695Z"
   },
   {
    "duration": 28,
    "start_time": "2022-05-04T10:27:59.716Z"
   },
   {
    "duration": 11,
    "start_time": "2022-05-04T10:27:59.746Z"
   },
   {
    "duration": 11,
    "start_time": "2022-05-04T10:27:59.759Z"
   },
   {
    "duration": 24,
    "start_time": "2022-05-04T10:27:59.772Z"
   },
   {
    "duration": 25,
    "start_time": "2022-05-04T10:27:59.798Z"
   },
   {
    "duration": 17,
    "start_time": "2022-05-04T10:27:59.824Z"
   },
   {
    "duration": 21,
    "start_time": "2022-05-04T10:27:59.843Z"
   },
   {
    "duration": 19,
    "start_time": "2022-05-04T10:27:59.866Z"
   },
   {
    "duration": 13,
    "start_time": "2022-05-04T10:27:59.886Z"
   },
   {
    "duration": 16,
    "start_time": "2022-05-04T10:27:59.901Z"
   },
   {
    "duration": 11,
    "start_time": "2022-05-04T10:27:59.918Z"
   },
   {
    "duration": 23,
    "start_time": "2022-05-04T10:27:59.931Z"
   },
   {
    "duration": 13,
    "start_time": "2022-05-04T10:27:59.955Z"
   },
   {
    "duration": 14,
    "start_time": "2022-05-04T10:27:59.969Z"
   },
   {
    "duration": 6,
    "start_time": "2022-05-04T10:27:59.985Z"
   },
   {
    "duration": 15,
    "start_time": "2022-05-04T10:27:59.992Z"
   },
   {
    "duration": 14,
    "start_time": "2022-05-04T10:28:00.009Z"
   },
   {
    "duration": 26,
    "start_time": "2022-05-04T10:28:00.025Z"
   },
   {
    "duration": 13,
    "start_time": "2022-05-04T10:28:00.052Z"
   },
   {
    "duration": 7,
    "start_time": "2022-05-04T10:28:00.066Z"
   },
   {
    "duration": 7,
    "start_time": "2022-05-04T10:28:00.075Z"
   },
   {
    "duration": 6,
    "start_time": "2022-05-04T10:28:00.084Z"
   },
   {
    "duration": 7,
    "start_time": "2022-05-04T10:28:00.092Z"
   },
   {
    "duration": 25,
    "start_time": "2022-05-04T10:28:00.101Z"
   },
   {
    "duration": 38,
    "start_time": "2022-05-04T10:28:00.131Z"
   },
   {
    "duration": 9,
    "start_time": "2022-05-04T10:28:00.171Z"
   },
   {
    "duration": 9,
    "start_time": "2022-05-04T10:28:00.182Z"
   },
   {
    "duration": 12,
    "start_time": "2022-05-04T10:28:00.192Z"
   },
   {
    "duration": 25,
    "start_time": "2022-05-04T10:28:00.205Z"
   },
   {
    "duration": 24,
    "start_time": "2022-05-04T10:28:00.232Z"
   },
   {
    "duration": 18,
    "start_time": "2022-05-04T10:28:00.258Z"
   },
   {
    "duration": 33,
    "start_time": "2022-05-04T10:28:00.278Z"
   },
   {
    "duration": 10,
    "start_time": "2022-05-04T10:28:00.313Z"
   },
   {
    "duration": 63,
    "start_time": "2022-05-04T10:28:00.325Z"
   },
   {
    "duration": 42,
    "start_time": "2022-05-04T10:28:00.390Z"
   },
   {
    "duration": 54,
    "start_time": "2022-05-04T10:28:00.434Z"
   },
   {
    "duration": 58,
    "start_time": "2022-05-04T10:28:00.490Z"
   },
   {
    "duration": 39,
    "start_time": "2022-05-04T10:28:00.550Z"
   },
   {
    "duration": 49,
    "start_time": "2022-05-04T10:28:00.590Z"
   },
   {
    "duration": 27,
    "start_time": "2022-05-04T10:28:00.641Z"
   },
   {
    "duration": 12,
    "start_time": "2022-05-04T10:28:00.670Z"
   },
   {
    "duration": 17,
    "start_time": "2022-05-04T10:28:00.683Z"
   },
   {
    "duration": 9,
    "start_time": "2022-05-04T10:28:00.702Z"
   },
   {
    "duration": 23,
    "start_time": "2022-05-04T10:28:00.712Z"
   },
   {
    "duration": 6,
    "start_time": "2022-05-04T10:28:00.737Z"
   },
   {
    "duration": 13,
    "start_time": "2022-05-04T10:28:00.744Z"
   },
   {
    "duration": 16,
    "start_time": "2022-05-04T10:28:00.758Z"
   },
   {
    "duration": 12,
    "start_time": "2022-05-04T10:28:00.776Z"
   },
   {
    "duration": 10,
    "start_time": "2022-05-04T10:28:00.790Z"
   },
   {
    "duration": 154,
    "start_time": "2022-05-04T10:28:00.801Z"
   },
   {
    "duration": 6,
    "start_time": "2022-05-04T10:28:00.957Z"
   },
   {
    "duration": 157,
    "start_time": "2022-05-04T10:28:00.965Z"
   },
   {
    "duration": 6,
    "start_time": "2022-05-04T10:28:01.124Z"
   },
   {
    "duration": 51,
    "start_time": "2022-05-04T10:28:01.132Z"
   },
   {
    "duration": 22,
    "start_time": "2022-05-04T10:28:01.185Z"
   },
   {
    "duration": 10,
    "start_time": "2022-05-04T10:28:01.209Z"
   },
   {
    "duration": 36,
    "start_time": "2022-05-04T10:28:01.221Z"
   },
   {
    "duration": 37,
    "start_time": "2022-05-04T10:28:01.259Z"
   },
   {
    "duration": 14,
    "start_time": "2022-05-04T10:28:01.298Z"
   },
   {
    "duration": 18,
    "start_time": "2022-05-04T10:28:01.314Z"
   },
   {
    "duration": 32,
    "start_time": "2022-05-04T10:28:01.334Z"
   },
   {
    "duration": 677,
    "start_time": "2022-05-04T16:16:05.232Z"
   },
   {
    "duration": 167,
    "start_time": "2022-05-04T16:16:05.911Z"
   },
   {
    "duration": 23,
    "start_time": "2022-05-04T16:16:06.080Z"
   },
   {
    "duration": 79,
    "start_time": "2022-05-04T16:16:06.105Z"
   },
   {
    "duration": 12,
    "start_time": "2022-05-04T16:16:06.186Z"
   },
   {
    "duration": 5,
    "start_time": "2022-05-04T16:16:06.200Z"
   },
   {
    "duration": 69,
    "start_time": "2022-05-04T16:16:06.207Z"
   },
   {
    "duration": 9,
    "start_time": "2022-05-04T16:16:06.279Z"
   },
   {
    "duration": 13,
    "start_time": "2022-05-04T16:16:06.290Z"
   },
   {
    "duration": 70,
    "start_time": "2022-05-04T16:16:06.306Z"
   },
   {
    "duration": 13,
    "start_time": "2022-05-04T16:16:06.379Z"
   },
   {
    "duration": 7,
    "start_time": "2022-05-04T16:16:06.394Z"
   },
   {
    "duration": 8,
    "start_time": "2022-05-04T16:16:06.403Z"
   },
   {
    "duration": 6,
    "start_time": "2022-05-04T16:16:06.473Z"
   },
   {
    "duration": 14,
    "start_time": "2022-05-04T16:16:06.481Z"
   },
   {
    "duration": 11,
    "start_time": "2022-05-04T16:16:06.497Z"
   },
   {
    "duration": 9,
    "start_time": "2022-05-04T16:16:06.574Z"
   },
   {
    "duration": 9,
    "start_time": "2022-05-04T16:16:06.585Z"
   },
   {
    "duration": 78,
    "start_time": "2022-05-04T16:16:06.596Z"
   },
   {
    "duration": 6,
    "start_time": "2022-05-04T16:16:06.676Z"
   },
   {
    "duration": 7,
    "start_time": "2022-05-04T16:16:06.684Z"
   },
   {
    "duration": 11,
    "start_time": "2022-05-04T16:16:06.693Z"
   },
   {
    "duration": 70,
    "start_time": "2022-05-04T16:16:06.706Z"
   },
   {
    "duration": 11,
    "start_time": "2022-05-04T16:16:06.778Z"
   },
   {
    "duration": 13,
    "start_time": "2022-05-04T16:16:06.790Z"
   },
   {
    "duration": 69,
    "start_time": "2022-05-04T16:16:06.805Z"
   },
   {
    "duration": 5,
    "start_time": "2022-05-04T16:16:06.876Z"
   },
   {
    "duration": 12,
    "start_time": "2022-05-04T16:16:06.885Z"
   },
   {
    "duration": 73,
    "start_time": "2022-05-04T16:16:06.900Z"
   },
   {
    "duration": 8,
    "start_time": "2022-05-04T16:16:06.975Z"
   },
   {
    "duration": 12,
    "start_time": "2022-05-04T16:16:06.985Z"
   },
   {
    "duration": 76,
    "start_time": "2022-05-04T16:16:06.999Z"
   },
   {
    "duration": 20,
    "start_time": "2022-05-04T16:16:07.077Z"
   },
   {
    "duration": 82,
    "start_time": "2022-05-04T16:16:07.099Z"
   },
   {
    "duration": 22,
    "start_time": "2022-05-04T16:16:07.183Z"
   },
   {
    "duration": 6,
    "start_time": "2022-05-04T16:16:07.207Z"
   },
   {
    "duration": 13,
    "start_time": "2022-05-04T16:16:07.274Z"
   },
   {
    "duration": 12,
    "start_time": "2022-05-04T16:16:07.289Z"
   },
   {
    "duration": 7,
    "start_time": "2022-05-04T16:16:07.303Z"
   },
   {
    "duration": 14,
    "start_time": "2022-05-04T16:16:07.373Z"
   },
   {
    "duration": 21,
    "start_time": "2022-05-04T16:16:07.389Z"
   },
   {
    "duration": 63,
    "start_time": "2022-05-04T16:16:07.412Z"
   },
   {
    "duration": 15,
    "start_time": "2022-05-04T16:16:07.477Z"
   },
   {
    "duration": 7,
    "start_time": "2022-05-04T16:16:07.494Z"
   },
   {
    "duration": 71,
    "start_time": "2022-05-04T16:16:07.503Z"
   },
   {
    "duration": 6,
    "start_time": "2022-05-04T16:16:07.576Z"
   },
   {
    "duration": 10,
    "start_time": "2022-05-04T16:16:07.583Z"
   },
   {
    "duration": 6,
    "start_time": "2022-05-04T16:16:07.595Z"
   },
   {
    "duration": 72,
    "start_time": "2022-05-04T16:16:07.603Z"
   },
   {
    "duration": 21,
    "start_time": "2022-05-04T16:16:07.678Z"
   },
   {
    "duration": 73,
    "start_time": "2022-05-04T16:16:07.701Z"
   },
   {
    "duration": 12,
    "start_time": "2022-05-04T16:16:07.776Z"
   },
   {
    "duration": 307,
    "start_time": "2022-05-04T16:16:07.790Z"
   },
   {
    "duration": 6,
    "start_time": "2022-05-04T16:16:08.099Z"
   },
   {
    "duration": 301,
    "start_time": "2022-05-04T16:16:08.106Z"
   },
   {
    "duration": 6,
    "start_time": "2022-05-04T16:16:08.409Z"
   },
   {
    "duration": 26,
    "start_time": "2022-05-04T16:16:08.474Z"
   },
   {
    "duration": 84,
    "start_time": "2022-05-04T16:16:08.501Z"
   },
   {
    "duration": 8,
    "start_time": "2022-05-04T16:16:08.587Z"
   },
   {
    "duration": 87,
    "start_time": "2022-05-04T16:16:08.597Z"
   },
   {
    "duration": 28,
    "start_time": "2022-05-04T16:16:08.686Z"
   },
   {
    "duration": 18,
    "start_time": "2022-05-04T16:16:08.772Z"
   },
   {
    "duration": 82,
    "start_time": "2022-05-04T16:16:08.791Z"
   },
   {
    "duration": 15,
    "start_time": "2022-05-04T16:16:08.875Z"
   },
   {
    "duration": 459,
    "start_time": "2022-05-04T16:18:51.948Z"
   },
   {
    "duration": 106,
    "start_time": "2022-05-04T16:18:52.409Z"
   },
   {
    "duration": 23,
    "start_time": "2022-05-04T16:18:52.517Z"
   },
   {
    "duration": 17,
    "start_time": "2022-05-04T16:18:52.543Z"
   },
   {
    "duration": 12,
    "start_time": "2022-05-04T16:18:52.573Z"
   },
   {
    "duration": 4,
    "start_time": "2022-05-04T16:18:52.588Z"
   },
   {
    "duration": 5,
    "start_time": "2022-05-04T16:18:52.594Z"
   },
   {
    "duration": 7,
    "start_time": "2022-05-04T16:18:52.601Z"
   },
   {
    "duration": 6,
    "start_time": "2022-05-04T16:18:52.610Z"
   },
   {
    "duration": 6,
    "start_time": "2022-05-04T16:18:52.619Z"
   },
   {
    "duration": 52,
    "start_time": "2022-05-04T16:18:52.627Z"
   },
   {
    "duration": 5,
    "start_time": "2022-05-04T16:18:52.681Z"
   },
   {
    "duration": 7,
    "start_time": "2022-05-04T16:18:52.688Z"
   },
   {
    "duration": 6,
    "start_time": "2022-05-04T16:18:52.697Z"
   },
   {
    "duration": 13,
    "start_time": "2022-05-04T16:18:52.704Z"
   },
   {
    "duration": 7,
    "start_time": "2022-05-04T16:18:52.718Z"
   },
   {
    "duration": 7,
    "start_time": "2022-05-04T16:18:52.727Z"
   },
   {
    "duration": 8,
    "start_time": "2022-05-04T16:18:52.773Z"
   },
   {
    "duration": 11,
    "start_time": "2022-05-04T16:18:52.783Z"
   },
   {
    "duration": 6,
    "start_time": "2022-05-04T16:18:52.796Z"
   },
   {
    "duration": 11,
    "start_time": "2022-05-04T16:18:52.804Z"
   },
   {
    "duration": 19,
    "start_time": "2022-05-04T16:18:52.817Z"
   },
   {
    "duration": 10,
    "start_time": "2022-05-04T16:18:52.840Z"
   },
   {
    "duration": 9,
    "start_time": "2022-05-04T16:18:52.852Z"
   },
   {
    "duration": 13,
    "start_time": "2022-05-04T16:18:52.862Z"
   },
   {
    "duration": 7,
    "start_time": "2022-05-04T16:18:52.877Z"
   },
   {
    "duration": 5,
    "start_time": "2022-05-04T16:18:52.886Z"
   },
   {
    "duration": 9,
    "start_time": "2022-05-04T16:18:52.895Z"
   },
   {
    "duration": 5,
    "start_time": "2022-05-04T16:18:52.906Z"
   },
   {
    "duration": 7,
    "start_time": "2022-05-04T16:18:52.913Z"
   },
   {
    "duration": 3,
    "start_time": "2022-05-04T16:18:52.922Z"
   },
   {
    "duration": 55,
    "start_time": "2022-05-04T16:18:52.927Z"
   },
   {
    "duration": 18,
    "start_time": "2022-05-04T16:18:52.983Z"
   },
   {
    "duration": 19,
    "start_time": "2022-05-04T16:18:53.003Z"
   },
   {
    "duration": 19,
    "start_time": "2022-05-04T16:18:53.024Z"
   },
   {
    "duration": 30,
    "start_time": "2022-05-04T16:18:53.045Z"
   },
   {
    "duration": 13,
    "start_time": "2022-05-04T16:18:53.076Z"
   },
   {
    "duration": 18,
    "start_time": "2022-05-04T16:18:53.090Z"
   },
   {
    "duration": 6,
    "start_time": "2022-05-04T16:18:53.110Z"
   },
   {
    "duration": 15,
    "start_time": "2022-05-04T16:18:53.118Z"
   },
   {
    "duration": 23,
    "start_time": "2022-05-04T16:18:53.135Z"
   },
   {
    "duration": 6,
    "start_time": "2022-05-04T16:18:53.173Z"
   },
   {
    "duration": 10,
    "start_time": "2022-05-04T16:18:53.180Z"
   },
   {
    "duration": 7,
    "start_time": "2022-05-04T16:18:53.192Z"
   },
   {
    "duration": 12,
    "start_time": "2022-05-04T16:18:53.201Z"
   },
   {
    "duration": 7,
    "start_time": "2022-05-04T16:18:53.214Z"
   },
   {
    "duration": 8,
    "start_time": "2022-05-04T16:18:53.222Z"
   },
   {
    "duration": 7,
    "start_time": "2022-05-04T16:18:53.232Z"
   },
   {
    "duration": 41,
    "start_time": "2022-05-04T16:18:53.240Z"
   },
   {
    "duration": 17,
    "start_time": "2022-05-04T16:18:53.283Z"
   },
   {
    "duration": 18,
    "start_time": "2022-05-04T16:18:53.301Z"
   },
   {
    "duration": 11,
    "start_time": "2022-05-04T16:18:53.321Z"
   },
   {
    "duration": 173,
    "start_time": "2022-05-04T16:18:53.334Z"
   },
   {
    "duration": 6,
    "start_time": "2022-05-04T16:18:53.509Z"
   },
   {
    "duration": 157,
    "start_time": "2022-05-04T16:18:53.517Z"
   },
   {
    "duration": 7,
    "start_time": "2022-05-04T16:18:53.676Z"
   },
   {
    "duration": 24,
    "start_time": "2022-05-04T16:18:53.685Z"
   },
   {
    "duration": 24,
    "start_time": "2022-05-04T16:18:53.711Z"
   },
   {
    "duration": 37,
    "start_time": "2022-05-04T16:18:53.737Z"
   },
   {
    "duration": 26,
    "start_time": "2022-05-04T16:18:53.776Z"
   },
   {
    "duration": 25,
    "start_time": "2022-05-04T16:18:53.804Z"
   },
   {
    "duration": 42,
    "start_time": "2022-05-04T16:18:53.831Z"
   },
   {
    "duration": 18,
    "start_time": "2022-05-04T16:18:53.875Z"
   },
   {
    "duration": 14,
    "start_time": "2022-05-04T16:18:53.895Z"
   }
  ],
  "kernelspec": {
   "display_name": "Python 3 (ipykernel)",
   "language": "python",
   "name": "python3"
  },
  "language_info": {
   "codemirror_mode": {
    "name": "ipython",
    "version": 3
   },
   "file_extension": ".py",
   "mimetype": "text/x-python",
   "name": "python",
   "nbconvert_exporter": "python",
   "pygments_lexer": "ipython3",
   "version": "3.9.7"
  },
  "toc": {
   "base_numbering": 1,
   "nav_menu": {},
   "number_sections": true,
   "sideBar": true,
   "skip_h1_title": true,
   "title_cell": "Table of Contents",
   "title_sidebar": "Contents",
   "toc_cell": false,
   "toc_position": {},
   "toc_section_display": true,
   "toc_window_display": false
  }
 },
 "nbformat": 4,
 "nbformat_minor": 5
}
