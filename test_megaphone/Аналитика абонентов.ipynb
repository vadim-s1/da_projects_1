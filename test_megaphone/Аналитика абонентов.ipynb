{
 "cells": [
  {
   "cell_type": "code",
   "execution_count": 1,
   "id": "1ef760f8",
   "metadata": {},
   "outputs": [],
   "source": [
    "import pandas as pd\n",
    "import matplotlib.pyplot as plt\n",
    "import warnings\n",
    "\n",
    "# Вводим дополнительные надстройки\n",
    "warnings.filterwarnings('ignore')\n",
    "# Устанавливаем дополнительные настройки отображения данных в таблице (округление чисел до двух знаков после запятой)\n",
    "pd.set_option('display.float_format', '{:.2f}'.format)\n",
    "# Задаём стиль отрисовки графиков\n",
    "plt.style.use('seaborn-dark')"
   ]
  },
  {
   "cell_type": "markdown",
   "id": "d9d279be",
   "metadata": {},
   "source": [
    "## Задание 1.\n",
    "На листах 1 и 2 приведены данные по абонентской базе и выручке.\n",
    "\n",
    "Необходимо рассчитать среднюю выручку от активного абонента по сегменту B2B в разрезе филиалов, показать помесячную динамику. Выручка должна быть указана в руб. без НДС на одного абонента."
   ]
  },
  {
   "cell_type": "code",
   "execution_count": 2,
   "id": "6739a5cd",
   "metadata": {},
   "outputs": [
    {
     "data": {
      "text/html": [
       "<div>\n",
       "<style scoped>\n",
       "    .dataframe tbody tr th:only-of-type {\n",
       "        vertical-align: middle;\n",
       "    }\n",
       "\n",
       "    .dataframe tbody tr th {\n",
       "        vertical-align: top;\n",
       "    }\n",
       "\n",
       "    .dataframe thead th {\n",
       "        text-align: right;\n",
       "    }\n",
       "</style>\n",
       "<table border=\"1\" class=\"dataframe\">\n",
       "  <thead>\n",
       "    <tr style=\"text-align: right;\">\n",
       "      <th></th>\n",
       "      <th>Месяц (YYYYMM)</th>\n",
       "      <th>Филиал</th>\n",
       "      <th>Регион клиента (Hyperion)</th>\n",
       "      <th>Сегмент рынка</th>\n",
       "      <th>Кол-во активных абонентов на конец периода, шт.</th>\n",
       "    </tr>\n",
       "  </thead>\n",
       "  <tbody>\n",
       "    <tr>\n",
       "      <th>0</th>\n",
       "      <td>201701</td>\n",
       "      <td>Дальневосточный филиал</td>\n",
       "      <td>Амурская область</td>\n",
       "      <td>B2B</td>\n",
       "      <td>13590</td>\n",
       "    </tr>\n",
       "    <tr>\n",
       "      <th>1</th>\n",
       "      <td>201701</td>\n",
       "      <td>Дальневосточный филиал</td>\n",
       "      <td>Амурская область</td>\n",
       "      <td>B2C</td>\n",
       "      <td>238181</td>\n",
       "    </tr>\n",
       "    <tr>\n",
       "      <th>2</th>\n",
       "      <td>201701</td>\n",
       "      <td>Дальневосточный филиал</td>\n",
       "      <td>Амурская область</td>\n",
       "      <td>B2G</td>\n",
       "      <td>9455</td>\n",
       "    </tr>\n",
       "    <tr>\n",
       "      <th>3</th>\n",
       "      <td>201701</td>\n",
       "      <td>Дальневосточный филиал</td>\n",
       "      <td>Амурская область</td>\n",
       "      <td>B2O</td>\n",
       "      <td>0</td>\n",
       "    </tr>\n",
       "    <tr>\n",
       "      <th>4</th>\n",
       "      <td>201701</td>\n",
       "      <td>Дальневосточный филиал</td>\n",
       "      <td>Еврейская АО</td>\n",
       "      <td>B2B</td>\n",
       "      <td>6444</td>\n",
       "    </tr>\n",
       "  </tbody>\n",
       "</table>\n",
       "</div>"
      ],
      "text/plain": [
       "   Месяц (YYYYMM)                  Филиал Регион клиента (Hyperion)  \\\n",
       "0          201701  Дальневосточный филиал          Амурская область   \n",
       "1          201701  Дальневосточный филиал          Амурская область   \n",
       "2          201701  Дальневосточный филиал          Амурская область   \n",
       "3          201701  Дальневосточный филиал          Амурская область   \n",
       "4          201701  Дальневосточный филиал              Еврейская АО   \n",
       "\n",
       "  Сегмент рынка  Кол-во активных абонентов на конец периода, шт.  \n",
       "0           B2B                                            13590  \n",
       "1           B2C                                           238181  \n",
       "2           B2G                                             9455  \n",
       "3           B2O                                                0  \n",
       "4           B2B                                             6444  "
      ]
     },
     "execution_count": 2,
     "metadata": {},
     "output_type": "execute_result"
    }
   ],
   "source": [
    "subscriber_base = pd.read_excel('Тестовое задание аналитика.xlsx', sheet_name='Лист1')\n",
    "subscriber_base.head()"
   ]
  },
  {
   "cell_type": "code",
   "execution_count": 3,
   "id": "36d888c6",
   "metadata": {},
   "outputs": [
    {
     "name": "stdout",
     "output_type": "stream",
     "text": [
      "<class 'pandas.core.frame.DataFrame'>\n",
      "RangeIndex: 1934 entries, 0 to 1933\n",
      "Data columns (total 5 columns):\n",
      " #   Column                                           Non-Null Count  Dtype \n",
      "---  ------                                           --------------  ----- \n",
      " 0   Месяц (YYYYMM)                                   1934 non-null   int64 \n",
      " 1   Филиал                                           1934 non-null   object\n",
      " 2   Регион клиента (Hyperion)                        1828 non-null   object\n",
      " 3   Сегмент рынка                                    1844 non-null   object\n",
      " 4   Кол-во активных абонентов на конец периода, шт.  1934 non-null   int64 \n",
      "dtypes: int64(2), object(3)\n",
      "memory usage: 75.7+ KB\n"
     ]
    }
   ],
   "source": [
    "# Информация по абонентской базе\n",
    "subscriber_base.info()"
   ]
  },
  {
   "cell_type": "code",
   "execution_count": 4,
   "id": "cd2b48b5",
   "metadata": {},
   "outputs": [
    {
     "data": {
      "text/html": [
       "<div>\n",
       "<style scoped>\n",
       "    .dataframe tbody tr th:only-of-type {\n",
       "        vertical-align: middle;\n",
       "    }\n",
       "\n",
       "    .dataframe tbody tr th {\n",
       "        vertical-align: top;\n",
       "    }\n",
       "\n",
       "    .dataframe thead th {\n",
       "        text-align: right;\n",
       "    }\n",
       "</style>\n",
       "<table border=\"1\" class=\"dataframe\">\n",
       "  <thead>\n",
       "    <tr style=\"text-align: right;\">\n",
       "      <th></th>\n",
       "      <th>Месяц (YYYYMM)</th>\n",
       "      <th>Филиал</th>\n",
       "      <th>Сегмент рынка</th>\n",
       "      <th>Выручка, тыс руб., без НДС</th>\n",
       "    </tr>\n",
       "  </thead>\n",
       "  <tbody>\n",
       "    <tr>\n",
       "      <th>0</th>\n",
       "      <td>201701</td>\n",
       "      <td>Дальневосточный филиал</td>\n",
       "      <td>B2B</td>\n",
       "      <td>54949.08</td>\n",
       "    </tr>\n",
       "    <tr>\n",
       "      <th>1</th>\n",
       "      <td>201701</td>\n",
       "      <td>Дальневосточный филиал</td>\n",
       "      <td>B2C</td>\n",
       "      <td>1023969.75</td>\n",
       "    </tr>\n",
       "    <tr>\n",
       "      <th>2</th>\n",
       "      <td>201701</td>\n",
       "      <td>Дальневосточный филиал</td>\n",
       "      <td>B2G</td>\n",
       "      <td>21139.21</td>\n",
       "    </tr>\n",
       "    <tr>\n",
       "      <th>3</th>\n",
       "      <td>201701</td>\n",
       "      <td>Дальневосточный филиал</td>\n",
       "      <td>B2O</td>\n",
       "      <td>0.39</td>\n",
       "    </tr>\n",
       "    <tr>\n",
       "      <th>4</th>\n",
       "      <td>201701</td>\n",
       "      <td>Кавказский филиал</td>\n",
       "      <td>B2B</td>\n",
       "      <td>89872.08</td>\n",
       "    </tr>\n",
       "  </tbody>\n",
       "</table>\n",
       "</div>"
      ],
      "text/plain": [
       "   Месяц (YYYYMM)                  Филиал Сегмент рынка  \\\n",
       "0          201701  Дальневосточный филиал           B2B   \n",
       "1          201701  Дальневосточный филиал           B2C   \n",
       "2          201701  Дальневосточный филиал           B2G   \n",
       "3          201701  Дальневосточный филиал           B2O   \n",
       "4          201701       Кавказский филиал           B2B   \n",
       "\n",
       "   Выручка, тыс руб., без НДС  \n",
       "0                    54949.08  \n",
       "1                  1023969.75  \n",
       "2                    21139.21  \n",
       "3                        0.39  \n",
       "4                    89872.08  "
      ]
     },
     "execution_count": 4,
     "metadata": {},
     "output_type": "execute_result"
    }
   ],
   "source": [
    "revenue_subscribers = pd.read_excel('Тестовое задание аналитика.xlsx', sheet_name='Лист2')\n",
    "revenue_subscribers.head()"
   ]
  },
  {
   "cell_type": "code",
   "execution_count": 5,
   "id": "6513cd41",
   "metadata": {},
   "outputs": [
    {
     "name": "stdout",
     "output_type": "stream",
     "text": [
      "<class 'pandas.core.frame.DataFrame'>\n",
      "RangeIndex: 201 entries, 0 to 200\n",
      "Data columns (total 4 columns):\n",
      " #   Column                      Non-Null Count  Dtype  \n",
      "---  ------                      --------------  -----  \n",
      " 0   Месяц (YYYYMM)              201 non-null    int64  \n",
      " 1   Филиал                      201 non-null    object \n",
      " 2   Сегмент рынка               189 non-null    object \n",
      " 3   Выручка, тыс руб., без НДС  201 non-null    float64\n",
      "dtypes: float64(1), int64(1), object(2)\n",
      "memory usage: 6.4+ KB\n"
     ]
    }
   ],
   "source": [
    "# Информация по выручке от абонентов\n",
    "revenue_subscribers.info()"
   ]
  },
  {
   "cell_type": "markdown",
   "id": "d850b0c2",
   "metadata": {},
   "source": [
    "Видим следующие проблемы в данных: столбец с месяцем представлен в виде целого числа в обоих датасетах\n",
    "\n",
    "Перед тем, как начать исследование, необходимо исправить эти недочёты, чтобы можно было корректно анализировать данные."
   ]
  },
  {
   "cell_type": "code",
   "execution_count": 6,
   "id": "4447a992",
   "metadata": {},
   "outputs": [],
   "source": [
    "# Исправляем тип данных в столбцах с датой (также рабочий метод)\n",
    "subscriber_base['Месяц (YYYYMM)'] = pd.to_datetime(subscriber_base['Месяц (YYYYMM)'], format='%Y%m')\n",
    "revenue_subscribers['Месяц (YYYYMM)'] = pd.to_datetime(revenue_subscribers['Месяц (YYYYMM)'], format='%Y%m')"
   ]
  },
  {
   "cell_type": "markdown",
   "id": "1a591d42",
   "metadata": {},
   "source": [
    "Теперь нужно проверить то, как отработали методы по предобработке данных"
   ]
  },
  {
   "cell_type": "code",
   "execution_count": 7,
   "id": "2584ae27",
   "metadata": {},
   "outputs": [
    {
     "data": {
      "text/html": [
       "<div>\n",
       "<style scoped>\n",
       "    .dataframe tbody tr th:only-of-type {\n",
       "        vertical-align: middle;\n",
       "    }\n",
       "\n",
       "    .dataframe tbody tr th {\n",
       "        vertical-align: top;\n",
       "    }\n",
       "\n",
       "    .dataframe thead th {\n",
       "        text-align: right;\n",
       "    }\n",
       "</style>\n",
       "<table border=\"1\" class=\"dataframe\">\n",
       "  <thead>\n",
       "    <tr style=\"text-align: right;\">\n",
       "      <th></th>\n",
       "      <th>Месяц (YYYYMM)</th>\n",
       "      <th>Филиал</th>\n",
       "      <th>Регион клиента (Hyperion)</th>\n",
       "      <th>Сегмент рынка</th>\n",
       "      <th>Кол-во активных абонентов на конец периода, шт.</th>\n",
       "    </tr>\n",
       "  </thead>\n",
       "  <tbody>\n",
       "    <tr>\n",
       "      <th>0</th>\n",
       "      <td>2017-01-01</td>\n",
       "      <td>Дальневосточный филиал</td>\n",
       "      <td>Амурская область</td>\n",
       "      <td>B2B</td>\n",
       "      <td>13590</td>\n",
       "    </tr>\n",
       "    <tr>\n",
       "      <th>1</th>\n",
       "      <td>2017-01-01</td>\n",
       "      <td>Дальневосточный филиал</td>\n",
       "      <td>Амурская область</td>\n",
       "      <td>B2C</td>\n",
       "      <td>238181</td>\n",
       "    </tr>\n",
       "    <tr>\n",
       "      <th>2</th>\n",
       "      <td>2017-01-01</td>\n",
       "      <td>Дальневосточный филиал</td>\n",
       "      <td>Амурская область</td>\n",
       "      <td>B2G</td>\n",
       "      <td>9455</td>\n",
       "    </tr>\n",
       "    <tr>\n",
       "      <th>3</th>\n",
       "      <td>2017-01-01</td>\n",
       "      <td>Дальневосточный филиал</td>\n",
       "      <td>Амурская область</td>\n",
       "      <td>B2O</td>\n",
       "      <td>0</td>\n",
       "    </tr>\n",
       "    <tr>\n",
       "      <th>4</th>\n",
       "      <td>2017-01-01</td>\n",
       "      <td>Дальневосточный филиал</td>\n",
       "      <td>Еврейская АО</td>\n",
       "      <td>B2B</td>\n",
       "      <td>6444</td>\n",
       "    </tr>\n",
       "  </tbody>\n",
       "</table>\n",
       "</div>"
      ],
      "text/plain": [
       "  Месяц (YYYYMM)                  Филиал Регион клиента (Hyperion)  \\\n",
       "0     2017-01-01  Дальневосточный филиал          Амурская область   \n",
       "1     2017-01-01  Дальневосточный филиал          Амурская область   \n",
       "2     2017-01-01  Дальневосточный филиал          Амурская область   \n",
       "3     2017-01-01  Дальневосточный филиал          Амурская область   \n",
       "4     2017-01-01  Дальневосточный филиал              Еврейская АО   \n",
       "\n",
       "  Сегмент рынка  Кол-во активных абонентов на конец периода, шт.  \n",
       "0           B2B                                            13590  \n",
       "1           B2C                                           238181  \n",
       "2           B2G                                             9455  \n",
       "3           B2O                                                0  \n",
       "4           B2B                                             6444  "
      ]
     },
     "execution_count": 7,
     "metadata": {},
     "output_type": "execute_result"
    }
   ],
   "source": [
    "subscriber_base.head()"
   ]
  },
  {
   "cell_type": "code",
   "execution_count": 8,
   "id": "c6a9bf37",
   "metadata": {},
   "outputs": [
    {
     "data": {
      "text/html": [
       "<div>\n",
       "<style scoped>\n",
       "    .dataframe tbody tr th:only-of-type {\n",
       "        vertical-align: middle;\n",
       "    }\n",
       "\n",
       "    .dataframe tbody tr th {\n",
       "        vertical-align: top;\n",
       "    }\n",
       "\n",
       "    .dataframe thead th {\n",
       "        text-align: right;\n",
       "    }\n",
       "</style>\n",
       "<table border=\"1\" class=\"dataframe\">\n",
       "  <thead>\n",
       "    <tr style=\"text-align: right;\">\n",
       "      <th></th>\n",
       "      <th>Месяц (YYYYMM)</th>\n",
       "      <th>Филиал</th>\n",
       "      <th>Сегмент рынка</th>\n",
       "      <th>Выручка, тыс руб., без НДС</th>\n",
       "    </tr>\n",
       "  </thead>\n",
       "  <tbody>\n",
       "    <tr>\n",
       "      <th>0</th>\n",
       "      <td>2017-01-01</td>\n",
       "      <td>Дальневосточный филиал</td>\n",
       "      <td>B2B</td>\n",
       "      <td>54949.08</td>\n",
       "    </tr>\n",
       "    <tr>\n",
       "      <th>1</th>\n",
       "      <td>2017-01-01</td>\n",
       "      <td>Дальневосточный филиал</td>\n",
       "      <td>B2C</td>\n",
       "      <td>1023969.75</td>\n",
       "    </tr>\n",
       "    <tr>\n",
       "      <th>2</th>\n",
       "      <td>2017-01-01</td>\n",
       "      <td>Дальневосточный филиал</td>\n",
       "      <td>B2G</td>\n",
       "      <td>21139.21</td>\n",
       "    </tr>\n",
       "    <tr>\n",
       "      <th>3</th>\n",
       "      <td>2017-01-01</td>\n",
       "      <td>Дальневосточный филиал</td>\n",
       "      <td>B2O</td>\n",
       "      <td>0.39</td>\n",
       "    </tr>\n",
       "    <tr>\n",
       "      <th>4</th>\n",
       "      <td>2017-01-01</td>\n",
       "      <td>Кавказский филиал</td>\n",
       "      <td>B2B</td>\n",
       "      <td>89872.08</td>\n",
       "    </tr>\n",
       "  </tbody>\n",
       "</table>\n",
       "</div>"
      ],
      "text/plain": [
       "  Месяц (YYYYMM)                  Филиал Сегмент рынка  \\\n",
       "0     2017-01-01  Дальневосточный филиал           B2B   \n",
       "1     2017-01-01  Дальневосточный филиал           B2C   \n",
       "2     2017-01-01  Дальневосточный филиал           B2G   \n",
       "3     2017-01-01  Дальневосточный филиал           B2O   \n",
       "4     2017-01-01       Кавказский филиал           B2B   \n",
       "\n",
       "   Выручка, тыс руб., без НДС  \n",
       "0                    54949.08  \n",
       "1                  1023969.75  \n",
       "2                    21139.21  \n",
       "3                        0.39  \n",
       "4                    89872.08  "
      ]
     },
     "execution_count": 8,
     "metadata": {},
     "output_type": "execute_result"
    }
   ],
   "source": [
    "revenue_subscribers.head()"
   ]
  },
  {
   "cell_type": "markdown",
   "id": "438e0781",
   "metadata": {},
   "source": [
    "Далее посмотрим на столбец с месяцем, за одинаковый ли период даны данные и совпадают ли эти значения. Если да, то можно соединить две таблицы именно по этому полю."
   ]
  },
  {
   "cell_type": "code",
   "execution_count": 9,
   "id": "9b20cb34",
   "metadata": {},
   "outputs": [
    {
     "data": {
      "text/plain": [
       "array(['2017-01-01T00:00:00.000000000', '2017-02-01T00:00:00.000000000',\n",
       "       '2017-03-01T00:00:00.000000000', '2017-04-01T00:00:00.000000000',\n",
       "       '2017-05-01T00:00:00.000000000', '2017-06-01T00:00:00.000000000'],\n",
       "      dtype='datetime64[ns]')"
      ]
     },
     "execution_count": 9,
     "metadata": {},
     "output_type": "execute_result"
    }
   ],
   "source": [
    "subscriber_base['Месяц (YYYYMM)'].unique()"
   ]
  },
  {
   "cell_type": "code",
   "execution_count": 10,
   "id": "a66367b2",
   "metadata": {},
   "outputs": [
    {
     "data": {
      "text/plain": [
       "array(['2017-01-01T00:00:00.000000000', '2017-02-01T00:00:00.000000000',\n",
       "       '2017-03-01T00:00:00.000000000', '2017-04-01T00:00:00.000000000',\n",
       "       '2017-05-01T00:00:00.000000000', '2017-06-01T00:00:00.000000000'],\n",
       "      dtype='datetime64[ns]')"
      ]
     },
     "execution_count": 10,
     "metadata": {},
     "output_type": "execute_result"
    }
   ],
   "source": [
    "revenue_subscribers['Месяц (YYYYMM)'].unique()"
   ]
  },
  {
   "cell_type": "markdown",
   "id": "29c7c603",
   "metadata": {},
   "source": [
    "На данном этапе необходимо соединить два датасета в один, чтобы можно было уже приступить к исследованию данных. Видим, что данные по месяцам абсолютно одинаковы, можем соединить именно по этому столбцу. Однако, при таком соединении, получится слишком много записей. \n",
    "\n",
    "Также, стоит заметить, что в таблицах нет первичного и вторичного ключей, по которым можно было бы их соединить, поэтому сджойним по двум полям: `Филиал` и `Сегмент рынка`, а не по какому-то одному из них, во избежании дубликатов и помноженных лишних записей. "
   ]
  },
  {
   "cell_type": "code",
   "execution_count": 11,
   "id": "61d8d062",
   "metadata": {},
   "outputs": [
    {
     "data": {
      "text/html": [
       "<div>\n",
       "<style scoped>\n",
       "    .dataframe tbody tr th:only-of-type {\n",
       "        vertical-align: middle;\n",
       "    }\n",
       "\n",
       "    .dataframe tbody tr th {\n",
       "        vertical-align: top;\n",
       "    }\n",
       "\n",
       "    .dataframe thead th {\n",
       "        text-align: right;\n",
       "    }\n",
       "</style>\n",
       "<table border=\"1\" class=\"dataframe\">\n",
       "  <thead>\n",
       "    <tr style=\"text-align: right;\">\n",
       "      <th></th>\n",
       "      <th>Месяц (YYYYMM)_x</th>\n",
       "      <th>Филиал</th>\n",
       "      <th>Регион клиента (Hyperion)</th>\n",
       "      <th>Сегмент рынка</th>\n",
       "      <th>Кол-во активных абонентов на конец периода, шт.</th>\n",
       "      <th>Месяц (YYYYMM)_y</th>\n",
       "      <th>Выручка, тыс руб., без НДС</th>\n",
       "    </tr>\n",
       "  </thead>\n",
       "  <tbody>\n",
       "    <tr>\n",
       "      <th>0</th>\n",
       "      <td>2017-01-01</td>\n",
       "      <td>Дальневосточный филиал</td>\n",
       "      <td>Амурская область</td>\n",
       "      <td>B2B</td>\n",
       "      <td>13590</td>\n",
       "      <td>2017-01-01</td>\n",
       "      <td>54949.08</td>\n",
       "    </tr>\n",
       "    <tr>\n",
       "      <th>1</th>\n",
       "      <td>2017-01-01</td>\n",
       "      <td>Дальневосточный филиал</td>\n",
       "      <td>Амурская область</td>\n",
       "      <td>B2B</td>\n",
       "      <td>13590</td>\n",
       "      <td>2017-02-01</td>\n",
       "      <td>52572.03</td>\n",
       "    </tr>\n",
       "    <tr>\n",
       "      <th>2</th>\n",
       "      <td>2017-01-01</td>\n",
       "      <td>Дальневосточный филиал</td>\n",
       "      <td>Амурская область</td>\n",
       "      <td>B2B</td>\n",
       "      <td>13590</td>\n",
       "      <td>2017-03-01</td>\n",
       "      <td>56091.22</td>\n",
       "    </tr>\n",
       "    <tr>\n",
       "      <th>3</th>\n",
       "      <td>2017-01-01</td>\n",
       "      <td>Дальневосточный филиал</td>\n",
       "      <td>Амурская область</td>\n",
       "      <td>B2B</td>\n",
       "      <td>13590</td>\n",
       "      <td>2017-04-01</td>\n",
       "      <td>53383.59</td>\n",
       "    </tr>\n",
       "    <tr>\n",
       "      <th>4</th>\n",
       "      <td>2017-01-01</td>\n",
       "      <td>Дальневосточный филиал</td>\n",
       "      <td>Амурская область</td>\n",
       "      <td>B2B</td>\n",
       "      <td>13590</td>\n",
       "      <td>2017-05-01</td>\n",
       "      <td>54386.30</td>\n",
       "    </tr>\n",
       "  </tbody>\n",
       "</table>\n",
       "</div>"
      ],
      "text/plain": [
       "  Месяц (YYYYMM)_x                  Филиал Регион клиента (Hyperion)  \\\n",
       "0       2017-01-01  Дальневосточный филиал          Амурская область   \n",
       "1       2017-01-01  Дальневосточный филиал          Амурская область   \n",
       "2       2017-01-01  Дальневосточный филиал          Амурская область   \n",
       "3       2017-01-01  Дальневосточный филиал          Амурская область   \n",
       "4       2017-01-01  Дальневосточный филиал          Амурская область   \n",
       "\n",
       "  Сегмент рынка  Кол-во активных абонентов на конец периода, шт.  \\\n",
       "0           B2B                                            13590   \n",
       "1           B2B                                            13590   \n",
       "2           B2B                                            13590   \n",
       "3           B2B                                            13590   \n",
       "4           B2B                                            13590   \n",
       "\n",
       "  Месяц (YYYYMM)_y  Выручка, тыс руб., без НДС  \n",
       "0       2017-01-01                    54949.08  \n",
       "1       2017-02-01                    52572.03  \n",
       "2       2017-03-01                    56091.22  \n",
       "3       2017-04-01                    53383.59  \n",
       "4       2017-05-01                    54386.30  "
      ]
     },
     "execution_count": 11,
     "metadata": {},
     "output_type": "execute_result"
    }
   ],
   "source": [
    "# Получаем итоговый датасет\n",
    "total_df = subscriber_base.merge(revenue_subscribers, on=['Филиал', 'Сегмент рынка'], how='left')\n",
    "total_df.head()"
   ]
  },
  {
   "cell_type": "code",
   "execution_count": 12,
   "id": "69f68293",
   "metadata": {},
   "outputs": [
    {
     "name": "stdout",
     "output_type": "stream",
     "text": [
      "<class 'pandas.core.frame.DataFrame'>\n",
      "Int64Index: 11595 entries, 0 to 11594\n",
      "Data columns (total 7 columns):\n",
      " #   Column                                           Non-Null Count  Dtype         \n",
      "---  ------                                           --------------  -----         \n",
      " 0   Месяц (YYYYMM)_x                                 11595 non-null  datetime64[ns]\n",
      " 1   Филиал                                           11595 non-null  object        \n",
      " 2   Регион клиента (Hyperion)                        10959 non-null  object        \n",
      " 3   Сегмент рынка                                    11055 non-null  object        \n",
      " 4   Кол-во активных абонентов на конец периода, шт.  11595 non-null  int64         \n",
      " 5   Месяц (YYYYMM)_y                                 11595 non-null  datetime64[ns]\n",
      " 6   Выручка, тыс руб., без НДС                       11595 non-null  float64       \n",
      "dtypes: datetime64[ns](2), float64(1), int64(1), object(3)\n",
      "memory usage: 724.7+ KB\n"
     ]
    }
   ],
   "source": [
    "total_df.info()"
   ]
  },
  {
   "cell_type": "markdown",
   "id": "6be6ae6d",
   "metadata": {},
   "source": [
    "Видим, что соединение таблиц произвелось корректным образом."
   ]
  },
  {
   "cell_type": "code",
   "execution_count": 13,
   "id": "2c1ad89e",
   "metadata": {},
   "outputs": [
    {
     "data": {
      "text/html": [
       "<div>\n",
       "<style scoped>\n",
       "    .dataframe tbody tr th:only-of-type {\n",
       "        vertical-align: middle;\n",
       "    }\n",
       "\n",
       "    .dataframe tbody tr th {\n",
       "        vertical-align: top;\n",
       "    }\n",
       "\n",
       "    .dataframe thead th {\n",
       "        text-align: right;\n",
       "    }\n",
       "</style>\n",
       "<table border=\"1\" class=\"dataframe\">\n",
       "  <thead>\n",
       "    <tr style=\"text-align: right;\">\n",
       "      <th></th>\n",
       "      <th>Месяц (YYYYMM)_x</th>\n",
       "      <th>Филиал</th>\n",
       "      <th>Регион клиента (Hyperion)</th>\n",
       "      <th>Сегмент рынка</th>\n",
       "      <th>Кол-во активных абонентов на конец периода, шт.</th>\n",
       "      <th>Месяц (YYYYMM)_y</th>\n",
       "      <th>Выручка, тыс руб., без НДС</th>\n",
       "    </tr>\n",
       "  </thead>\n",
       "  <tbody>\n",
       "    <tr>\n",
       "      <th>0</th>\n",
       "      <td>2017-01-01</td>\n",
       "      <td>Дальневосточный филиал</td>\n",
       "      <td>Амурская область</td>\n",
       "      <td>B2B</td>\n",
       "      <td>13590</td>\n",
       "      <td>2017-01-01</td>\n",
       "      <td>54949.08</td>\n",
       "    </tr>\n",
       "    <tr>\n",
       "      <th>1</th>\n",
       "      <td>2017-01-01</td>\n",
       "      <td>Дальневосточный филиал</td>\n",
       "      <td>Амурская область</td>\n",
       "      <td>B2B</td>\n",
       "      <td>13590</td>\n",
       "      <td>2017-02-01</td>\n",
       "      <td>52572.03</td>\n",
       "    </tr>\n",
       "    <tr>\n",
       "      <th>2</th>\n",
       "      <td>2017-01-01</td>\n",
       "      <td>Дальневосточный филиал</td>\n",
       "      <td>Амурская область</td>\n",
       "      <td>B2B</td>\n",
       "      <td>13590</td>\n",
       "      <td>2017-03-01</td>\n",
       "      <td>56091.22</td>\n",
       "    </tr>\n",
       "    <tr>\n",
       "      <th>3</th>\n",
       "      <td>2017-01-01</td>\n",
       "      <td>Дальневосточный филиал</td>\n",
       "      <td>Амурская область</td>\n",
       "      <td>B2B</td>\n",
       "      <td>13590</td>\n",
       "      <td>2017-04-01</td>\n",
       "      <td>53383.59</td>\n",
       "    </tr>\n",
       "    <tr>\n",
       "      <th>4</th>\n",
       "      <td>2017-01-01</td>\n",
       "      <td>Дальневосточный филиал</td>\n",
       "      <td>Амурская область</td>\n",
       "      <td>B2B</td>\n",
       "      <td>13590</td>\n",
       "      <td>2017-05-01</td>\n",
       "      <td>54386.30</td>\n",
       "    </tr>\n",
       "  </tbody>\n",
       "</table>\n",
       "</div>"
      ],
      "text/plain": [
       "  Месяц (YYYYMM)_x                  Филиал Регион клиента (Hyperion)  \\\n",
       "0       2017-01-01  Дальневосточный филиал          Амурская область   \n",
       "1       2017-01-01  Дальневосточный филиал          Амурская область   \n",
       "2       2017-01-01  Дальневосточный филиал          Амурская область   \n",
       "3       2017-01-01  Дальневосточный филиал          Амурская область   \n",
       "4       2017-01-01  Дальневосточный филиал          Амурская область   \n",
       "\n",
       "  Сегмент рынка  Кол-во активных абонентов на конец периода, шт.  \\\n",
       "0           B2B                                            13590   \n",
       "1           B2B                                            13590   \n",
       "2           B2B                                            13590   \n",
       "3           B2B                                            13590   \n",
       "4           B2B                                            13590   \n",
       "\n",
       "  Месяц (YYYYMM)_y  Выручка, тыс руб., без НДС  \n",
       "0       2017-01-01                    54949.08  \n",
       "1       2017-02-01                    52572.03  \n",
       "2       2017-03-01                    56091.22  \n",
       "3       2017-04-01                    53383.59  \n",
       "4       2017-05-01                    54386.30  "
      ]
     },
     "execution_count": 13,
     "metadata": {},
     "output_type": "execute_result"
    }
   ],
   "source": [
    "# Срезаем данные по нужному нам сегменту\n",
    "b2b_df = total_df[total_df['Сегмент рынка'] == 'B2B']\n",
    "b2b_df.head()"
   ]
  },
  {
   "cell_type": "markdown",
   "id": "c3c05a10",
   "metadata": {},
   "source": [
    "Далее находим среднюю выручку на одного активного абонента. Для этого необходимо поделить показатель выручки на количество активных абонентов на конец периода."
   ]
  },
  {
   "cell_type": "code",
   "execution_count": 14,
   "id": "67e82b32",
   "metadata": {},
   "outputs": [
    {
     "data": {
      "text/html": [
       "<div>\n",
       "<style scoped>\n",
       "    .dataframe tbody tr th:only-of-type {\n",
       "        vertical-align: middle;\n",
       "    }\n",
       "\n",
       "    .dataframe tbody tr th {\n",
       "        vertical-align: top;\n",
       "    }\n",
       "\n",
       "    .dataframe thead th {\n",
       "        text-align: right;\n",
       "    }\n",
       "</style>\n",
       "<table border=\"1\" class=\"dataframe\">\n",
       "  <thead>\n",
       "    <tr style=\"text-align: right;\">\n",
       "      <th></th>\n",
       "      <th>Месяц (YYYYMM)_x</th>\n",
       "      <th>Филиал</th>\n",
       "      <th>Регион клиента (Hyperion)</th>\n",
       "      <th>Сегмент рынка</th>\n",
       "      <th>Кол-во активных абонентов на конец периода, шт.</th>\n",
       "      <th>Месяц (YYYYMM)_y</th>\n",
       "      <th>Выручка, руб., без НДС</th>\n",
       "    </tr>\n",
       "  </thead>\n",
       "  <tbody>\n",
       "    <tr>\n",
       "      <th>0</th>\n",
       "      <td>2017-01-01</td>\n",
       "      <td>Дальневосточный филиал</td>\n",
       "      <td>Амурская область</td>\n",
       "      <td>B2B</td>\n",
       "      <td>13590</td>\n",
       "      <td>2017-01-01</td>\n",
       "      <td>54949082.82</td>\n",
       "    </tr>\n",
       "    <tr>\n",
       "      <th>1</th>\n",
       "      <td>2017-01-01</td>\n",
       "      <td>Дальневосточный филиал</td>\n",
       "      <td>Амурская область</td>\n",
       "      <td>B2B</td>\n",
       "      <td>13590</td>\n",
       "      <td>2017-02-01</td>\n",
       "      <td>52572027.00</td>\n",
       "    </tr>\n",
       "    <tr>\n",
       "      <th>2</th>\n",
       "      <td>2017-01-01</td>\n",
       "      <td>Дальневосточный филиал</td>\n",
       "      <td>Амурская область</td>\n",
       "      <td>B2B</td>\n",
       "      <td>13590</td>\n",
       "      <td>2017-03-01</td>\n",
       "      <td>56091217.18</td>\n",
       "    </tr>\n",
       "    <tr>\n",
       "      <th>3</th>\n",
       "      <td>2017-01-01</td>\n",
       "      <td>Дальневосточный филиал</td>\n",
       "      <td>Амурская область</td>\n",
       "      <td>B2B</td>\n",
       "      <td>13590</td>\n",
       "      <td>2017-04-01</td>\n",
       "      <td>53383593.95</td>\n",
       "    </tr>\n",
       "    <tr>\n",
       "      <th>4</th>\n",
       "      <td>2017-01-01</td>\n",
       "      <td>Дальневосточный филиал</td>\n",
       "      <td>Амурская область</td>\n",
       "      <td>B2B</td>\n",
       "      <td>13590</td>\n",
       "      <td>2017-05-01</td>\n",
       "      <td>54386295.67</td>\n",
       "    </tr>\n",
       "  </tbody>\n",
       "</table>\n",
       "</div>"
      ],
      "text/plain": [
       "  Месяц (YYYYMM)_x                  Филиал Регион клиента (Hyperion)  \\\n",
       "0       2017-01-01  Дальневосточный филиал          Амурская область   \n",
       "1       2017-01-01  Дальневосточный филиал          Амурская область   \n",
       "2       2017-01-01  Дальневосточный филиал          Амурская область   \n",
       "3       2017-01-01  Дальневосточный филиал          Амурская область   \n",
       "4       2017-01-01  Дальневосточный филиал          Амурская область   \n",
       "\n",
       "  Сегмент рынка  Кол-во активных абонентов на конец периода, шт.  \\\n",
       "0           B2B                                            13590   \n",
       "1           B2B                                            13590   \n",
       "2           B2B                                            13590   \n",
       "3           B2B                                            13590   \n",
       "4           B2B                                            13590   \n",
       "\n",
       "  Месяц (YYYYMM)_y  Выручка, руб., без НДС  \n",
       "0       2017-01-01             54949082.82  \n",
       "1       2017-02-01             52572027.00  \n",
       "2       2017-03-01             56091217.18  \n",
       "3       2017-04-01             53383593.95  \n",
       "4       2017-05-01             54386295.67  "
      ]
     },
     "execution_count": 14,
     "metadata": {},
     "output_type": "execute_result"
    }
   ],
   "source": [
    "# Переводим выручку из тыс. руб в рубли\n",
    "b2b_df['Выручка, тыс руб., без НДС'] = b2b_df['Выручка, тыс руб., без НДС'] * 1000\n",
    "b2b_df = b2b_df.rename(columns={'Выручка, тыс руб., без НДС': 'Выручка, руб., без НДС'})\n",
    "b2b_df.head()"
   ]
  },
  {
   "cell_type": "markdown",
   "id": "3158ffb2",
   "metadata": {},
   "source": [
    "Так как дальне шам необходимо будет посчитать динамику в разрезе филиалов, уберу из датасета `Столичный филиал`, потому что там большинство данных сильно отличаются от всех остальных. Возможно, данный столбец так сильно выделяется, потому что изначально там данные представлены в рублях, а может и совершены какие-то ошибки. \n",
    "\n",
    "Также стоит предположить, что данные в порядке, так как всё-таки филиал находится в столице и такие показатели для Москвы это вполне себе нормальное явяление, но, чтобы на графиках всё визуализировалось красиво, уберём из анализа информацию об этом филиале."
   ]
  },
  {
   "cell_type": "code",
   "execution_count": 15,
   "id": "72955de3",
   "metadata": {},
   "outputs": [],
   "source": [
    "b2b_df = b2b_df[b2b_df['Филиал'] != 'Столичный филиал']"
   ]
  },
  {
   "cell_type": "code",
   "execution_count": 16,
   "id": "064131a2",
   "metadata": {},
   "outputs": [
    {
     "data": {
      "text/html": [
       "<div>\n",
       "<style scoped>\n",
       "    .dataframe tbody tr th:only-of-type {\n",
       "        vertical-align: middle;\n",
       "    }\n",
       "\n",
       "    .dataframe tbody tr th {\n",
       "        vertical-align: top;\n",
       "    }\n",
       "\n",
       "    .dataframe thead th {\n",
       "        text-align: right;\n",
       "    }\n",
       "</style>\n",
       "<table border=\"1\" class=\"dataframe\">\n",
       "  <thead>\n",
       "    <tr style=\"text-align: right;\">\n",
       "      <th></th>\n",
       "      <th>Месяц (YYYYMM)_x</th>\n",
       "      <th>Филиал</th>\n",
       "      <th>Регион клиента (Hyperion)</th>\n",
       "      <th>Сегмент рынка</th>\n",
       "      <th>Кол-во активных абонентов на конец периода, шт.</th>\n",
       "      <th>Месяц (YYYYMM)_y</th>\n",
       "      <th>Выручка, руб., без НДС</th>\n",
       "      <th>Средняя выручка на одного активного абонента, руб.</th>\n",
       "    </tr>\n",
       "  </thead>\n",
       "  <tbody>\n",
       "    <tr>\n",
       "      <th>0</th>\n",
       "      <td>2017-01-01</td>\n",
       "      <td>Дальневосточный филиал</td>\n",
       "      <td>Амурская область</td>\n",
       "      <td>B2B</td>\n",
       "      <td>13590</td>\n",
       "      <td>2017-01-01</td>\n",
       "      <td>54949082.82</td>\n",
       "      <td>4043.35</td>\n",
       "    </tr>\n",
       "    <tr>\n",
       "      <th>1</th>\n",
       "      <td>2017-01-01</td>\n",
       "      <td>Дальневосточный филиал</td>\n",
       "      <td>Амурская область</td>\n",
       "      <td>B2B</td>\n",
       "      <td>13590</td>\n",
       "      <td>2017-02-01</td>\n",
       "      <td>52572027.00</td>\n",
       "      <td>3868.43</td>\n",
       "    </tr>\n",
       "    <tr>\n",
       "      <th>2</th>\n",
       "      <td>2017-01-01</td>\n",
       "      <td>Дальневосточный филиал</td>\n",
       "      <td>Амурская область</td>\n",
       "      <td>B2B</td>\n",
       "      <td>13590</td>\n",
       "      <td>2017-03-01</td>\n",
       "      <td>56091217.18</td>\n",
       "      <td>4127.39</td>\n",
       "    </tr>\n",
       "    <tr>\n",
       "      <th>3</th>\n",
       "      <td>2017-01-01</td>\n",
       "      <td>Дальневосточный филиал</td>\n",
       "      <td>Амурская область</td>\n",
       "      <td>B2B</td>\n",
       "      <td>13590</td>\n",
       "      <td>2017-04-01</td>\n",
       "      <td>53383593.95</td>\n",
       "      <td>3928.15</td>\n",
       "    </tr>\n",
       "    <tr>\n",
       "      <th>4</th>\n",
       "      <td>2017-01-01</td>\n",
       "      <td>Дальневосточный филиал</td>\n",
       "      <td>Амурская область</td>\n",
       "      <td>B2B</td>\n",
       "      <td>13590</td>\n",
       "      <td>2017-05-01</td>\n",
       "      <td>54386295.67</td>\n",
       "      <td>4001.93</td>\n",
       "    </tr>\n",
       "  </tbody>\n",
       "</table>\n",
       "</div>"
      ],
      "text/plain": [
       "  Месяц (YYYYMM)_x                  Филиал Регион клиента (Hyperion)  \\\n",
       "0       2017-01-01  Дальневосточный филиал          Амурская область   \n",
       "1       2017-01-01  Дальневосточный филиал          Амурская область   \n",
       "2       2017-01-01  Дальневосточный филиал          Амурская область   \n",
       "3       2017-01-01  Дальневосточный филиал          Амурская область   \n",
       "4       2017-01-01  Дальневосточный филиал          Амурская область   \n",
       "\n",
       "  Сегмент рынка  Кол-во активных абонентов на конец периода, шт.  \\\n",
       "0           B2B                                            13590   \n",
       "1           B2B                                            13590   \n",
       "2           B2B                                            13590   \n",
       "3           B2B                                            13590   \n",
       "4           B2B                                            13590   \n",
       "\n",
       "  Месяц (YYYYMM)_y  Выручка, руб., без НДС  \\\n",
       "0       2017-01-01             54949082.82   \n",
       "1       2017-02-01             52572027.00   \n",
       "2       2017-03-01             56091217.18   \n",
       "3       2017-04-01             53383593.95   \n",
       "4       2017-05-01             54386295.67   \n",
       "\n",
       "   Средняя выручка на одного активного абонента, руб.  \n",
       "0                                            4043.35   \n",
       "1                                            3868.43   \n",
       "2                                            4127.39   \n",
       "3                                            3928.15   \n",
       "4                                            4001.93   "
      ]
     },
     "execution_count": 16,
     "metadata": {},
     "output_type": "execute_result"
    }
   ],
   "source": [
    "b2b_df['Средняя выручка на одного активного абонента, руб.'] = (b2b_df['Выручка, руб., без НДС'] / \n",
    "                                         b2b_df['Кол-во активных абонентов на конец периода, шт.']\n",
    "                                         )\n",
    "b2b_df.head()"
   ]
  },
  {
   "cell_type": "markdown",
   "id": "1409ae7c",
   "metadata": {},
   "source": [
    "После того, как была найдена средняя выручка на одного активного абонента, необходимо посмотреть на помесячную динамику данной метрики в разрезе филиалов.\n",
    "\n",
    "Однако, в сводной таблице будет найден медианный показатель по всем месяца, так как в данных есть сильно выбивающиеся значения, которые искажают данные, медиана будет отражать наиболее правдоподобную картину. По сути, поделив выручку на количество абонентов, мы нашли, сколько в среднем выручки приходится на одного пользователя. "
   ]
  },
  {
   "cell_type": "code",
   "execution_count": 17,
   "id": "73193f2f",
   "metadata": {},
   "outputs": [
    {
     "data": {
      "text/html": [
       "<div>\n",
       "<style scoped>\n",
       "    .dataframe tbody tr th:only-of-type {\n",
       "        vertical-align: middle;\n",
       "    }\n",
       "\n",
       "    .dataframe tbody tr th {\n",
       "        vertical-align: top;\n",
       "    }\n",
       "\n",
       "    .dataframe thead th {\n",
       "        text-align: right;\n",
       "    }\n",
       "</style>\n",
       "<table border=\"1\" class=\"dataframe\">\n",
       "  <thead>\n",
       "    <tr style=\"text-align: right;\">\n",
       "      <th>Месяц (YYYYMM)_x</th>\n",
       "      <th>2017-01-01</th>\n",
       "      <th>2017-02-01</th>\n",
       "      <th>2017-03-01</th>\n",
       "      <th>2017-04-01</th>\n",
       "      <th>2017-05-01</th>\n",
       "      <th>2017-06-01</th>\n",
       "    </tr>\n",
       "    <tr>\n",
       "      <th>Филиал</th>\n",
       "      <th></th>\n",
       "      <th></th>\n",
       "      <th></th>\n",
       "      <th></th>\n",
       "      <th></th>\n",
       "      <th></th>\n",
       "    </tr>\n",
       "  </thead>\n",
       "  <tbody>\n",
       "    <tr>\n",
       "      <th>Дальневосточный филиал</th>\n",
       "      <td>3929.74</td>\n",
       "      <td>3953.47</td>\n",
       "      <td>3919.61</td>\n",
       "      <td>3858.20</td>\n",
       "      <td>3853.21</td>\n",
       "      <td>3664.38</td>\n",
       "    </tr>\n",
       "    <tr>\n",
       "      <th>Кавказский филиал</th>\n",
       "      <td>8617.93</td>\n",
       "      <td>8619.90</td>\n",
       "      <td>8389.50</td>\n",
       "      <td>8170.36</td>\n",
       "      <td>8008.05</td>\n",
       "      <td>7801.86</td>\n",
       "    </tr>\n",
       "    <tr>\n",
       "      <th>Поволжский филиал</th>\n",
       "      <td>4857.52</td>\n",
       "      <td>4818.07</td>\n",
       "      <td>4757.76</td>\n",
       "      <td>4675.11</td>\n",
       "      <td>4621.97</td>\n",
       "      <td>4559.94</td>\n",
       "    </tr>\n",
       "    <tr>\n",
       "      <th>Северо-Западный филиал</th>\n",
       "      <td>10501.14</td>\n",
       "      <td>10414.52</td>\n",
       "      <td>10330.66</td>\n",
       "      <td>10221.84</td>\n",
       "      <td>10135.24</td>\n",
       "      <td>10034.57</td>\n",
       "    </tr>\n",
       "    <tr>\n",
       "      <th>Сибирский филиал</th>\n",
       "      <td>1885.62</td>\n",
       "      <td>1856.09</td>\n",
       "      <td>1802.55</td>\n",
       "      <td>1795.53</td>\n",
       "      <td>1783.26</td>\n",
       "      <td>1747.93</td>\n",
       "    </tr>\n",
       "    <tr>\n",
       "      <th>Уральский филиал</th>\n",
       "      <td>4245.87</td>\n",
       "      <td>4211.50</td>\n",
       "      <td>4140.03</td>\n",
       "      <td>4125.31</td>\n",
       "      <td>4156.08</td>\n",
       "      <td>3966.20</td>\n",
       "    </tr>\n",
       "    <tr>\n",
       "      <th>Центральный филиал</th>\n",
       "      <td>2822.80</td>\n",
       "      <td>2804.01</td>\n",
       "      <td>2745.24</td>\n",
       "      <td>2725.00</td>\n",
       "      <td>2687.46</td>\n",
       "      <td>2655.22</td>\n",
       "    </tr>\n",
       "  </tbody>\n",
       "</table>\n",
       "</div>"
      ],
      "text/plain": [
       "Месяц (YYYYMM)_x        2017-01-01  2017-02-01  2017-03-01  2017-04-01  \\\n",
       "Филиал                                                                   \n",
       "Дальневосточный филиал     3929.74     3953.47     3919.61     3858.20   \n",
       "Кавказский филиал          8617.93     8619.90     8389.50     8170.36   \n",
       "Поволжский филиал          4857.52     4818.07     4757.76     4675.11   \n",
       "Северо-Западный филиал    10501.14    10414.52    10330.66    10221.84   \n",
       "Сибирский филиал           1885.62     1856.09     1802.55     1795.53   \n",
       "Уральский филиал           4245.87     4211.50     4140.03     4125.31   \n",
       "Центральный филиал         2822.80     2804.01     2745.24     2725.00   \n",
       "\n",
       "Месяц (YYYYMM)_x        2017-05-01  2017-06-01  \n",
       "Филиал                                          \n",
       "Дальневосточный филиал     3853.21     3664.38  \n",
       "Кавказский филиал          8008.05     7801.86  \n",
       "Поволжский филиал          4621.97     4559.94  \n",
       "Северо-Западный филиал    10135.24    10034.57  \n",
       "Сибирский филиал           1783.26     1747.93  \n",
       "Уральский филиал           4156.08     3966.20  \n",
       "Центральный филиал         2687.46     2655.22  "
      ]
     },
     "execution_count": 17,
     "metadata": {},
     "output_type": "execute_result"
    }
   ],
   "source": [
    "pivot_revenue = b2b_df.pivot_table(index='Филиал', columns='Месяц (YYYYMM)_x', \n",
    "                                   values='Средняя выручка на одного активного абонента, руб.', \n",
    "                                   aggfunc='median')\n",
    "pivot_revenue"
   ]
  },
  {
   "cell_type": "code",
   "execution_count": 18,
   "id": "43fbdeb1",
   "metadata": {},
   "outputs": [
    {
     "data": {
      "image/png": "[encoded data removed]",
      "text/plain": [
       "<Figure size 1080x504 with 1 Axes>"
      ]
     },
     "metadata": {
      "needs_background": "light"
     },
     "output_type": "display_data"
    }
   ],
   "source": [
    "pivot_revenue.T.plot(figsize=(15, 7))\n",
    "plt.title('Медианный показатель выручки по месяцам на одного абонента без НДС в разрезе филиалов')\n",
    "plt.xlabel('Месяц')\n",
    "plt.ylabel('Выручка на одного абонента, руб.')\n",
    "plt.show()"
   ]
  },
  {
   "cell_type": "markdown",
   "id": "13d921d6",
   "metadata": {},
   "source": [
    "## Итоговый вывод по 1 заданию\n",
    "\n",
    "Анализируя помесячную динамику средней выручки от активного абонента по сегменту B2B в разрезе филиалов, можно сделать следующие выводы: \n",
    "\n",
    "1. Показатель выручки по всем филиалам на протяжение всего рассматриваемого периода стабильный и никаких колебаний по ней не наблюдается.\n",
    "2. Наибольшая выручка на одного активного абонента представлена в Северо-Западном и Кавказском филиалах. Выручка остальных филиалов находится в диапазоне примерно от 2000 до 5000 рублей. "
   ]
  },
  {
   "cell_type": "markdown",
   "id": "e1cd714f",
   "metadata": {},
   "source": [
    "## Задание 2. \n",
    "В таблице приведены данные по начислениям и интернет-трафику группы абонентов.\n",
    "1. Посчитать затраты на трафик и маржинальность в разрезе типов устройств в абсолютных значениях и в %. Себестоимость 1 Мб трафика принять равной 1 коп.\n",
    "2. Визуализировать на одном графике выручку, затраты и % GM по типам устройств.\n",
    "3. Определить самую низкомаржинальную категорию среди типов устройств."
   ]
  },
  {
   "cell_type": "markdown",
   "id": "f860381c",
   "metadata": {},
   "source": [
    "В таблице Excel предварительно был посчитан последний столбец с себестоимостью. Исходя из задания, себестоимость 1 Мб трафика равна 1 копейки, значит, чтобы найти затраты на трафик в рублях, необходимо значение трафика умножить на единицу и поделить на 100. "
   ]
  },
  {
   "cell_type": "code",
   "execution_count": 19,
   "id": "0f7c63a9",
   "metadata": {},
   "outputs": [
    {
     "data": {
      "text/html": [
       "<div>\n",
       "<style scoped>\n",
       "    .dataframe tbody tr th:only-of-type {\n",
       "        vertical-align: middle;\n",
       "    }\n",
       "\n",
       "    .dataframe tbody tr th {\n",
       "        vertical-align: top;\n",
       "    }\n",
       "\n",
       "    .dataframe thead th {\n",
       "        text-align: right;\n",
       "    }\n",
       "</style>\n",
       "<table border=\"1\" class=\"dataframe\">\n",
       "  <thead>\n",
       "    <tr style=\"text-align: right;\">\n",
       "      <th></th>\n",
       "      <th>Тип устройства</th>\n",
       "      <th>Название ТП</th>\n",
       "      <th>Начисления, руб.</th>\n",
       "      <th>Трафик ПД, Мб</th>\n",
       "      <th>Себестоимость трафика, руб.</th>\n",
       "    </tr>\n",
       "  </thead>\n",
       "  <tbody>\n",
       "    <tr>\n",
       "      <th>0</th>\n",
       "      <td>(пусто)</td>\n",
       "      <td>МегаФон.Безлимит IVN</td>\n",
       "      <td>0.18</td>\n",
       "      <td>142999.19</td>\n",
       "      <td>1429.99</td>\n",
       "    </tr>\n",
       "    <tr>\n",
       "      <th>1</th>\n",
       "      <td>(пусто)</td>\n",
       "      <td>КОРПОРАТИВНЫЙ СТАНДАРТ VIP</td>\n",
       "      <td>6.78</td>\n",
       "      <td>2408970.36</td>\n",
       "      <td>24089.70</td>\n",
       "    </tr>\n",
       "    <tr>\n",
       "      <th>2</th>\n",
       "      <td>SMARTPHONE</td>\n",
       "      <td>КОРПОРАТИВНЫЙ СТАНДАРТ VIP</td>\n",
       "      <td>0.73</td>\n",
       "      <td>160722.83</td>\n",
       "      <td>1607.23</td>\n",
       "    </tr>\n",
       "    <tr>\n",
       "      <th>3</th>\n",
       "      <td>TABLET</td>\n",
       "      <td>КОРПОРАТИВНЫЙ СТАНДАРТ VIP</td>\n",
       "      <td>0.29</td>\n",
       "      <td>56361.21</td>\n",
       "      <td>563.61</td>\n",
       "    </tr>\n",
       "    <tr>\n",
       "      <th>4</th>\n",
       "      <td>PHONE</td>\n",
       "      <td>Теплый прием 2016</td>\n",
       "      <td>1.27</td>\n",
       "      <td>85210.31</td>\n",
       "      <td>852.10</td>\n",
       "    </tr>\n",
       "  </tbody>\n",
       "</table>\n",
       "</div>"
      ],
      "text/plain": [
       "  Тип устройства                 Название ТП  Начисления, руб.  Трафик ПД, Мб  \\\n",
       "0        (пусто)        МегаФон.Безлимит IVN              0.18      142999.19   \n",
       "1        (пусто)  КОРПОРАТИВНЫЙ СТАНДАРТ VIP              6.78     2408970.36   \n",
       "2     SMARTPHONE  КОРПОРАТИВНЫЙ СТАНДАРТ VIP              0.73      160722.83   \n",
       "3         TABLET  КОРПОРАТИВНЫЙ СТАНДАРТ VIP              0.29       56361.21   \n",
       "4          PHONE           Теплый прием 2016              1.27       85210.31   \n",
       "\n",
       "   Себестоимость трафика, руб.  \n",
       "0                      1429.99  \n",
       "1                     24089.70  \n",
       "2                      1607.23  \n",
       "3                       563.61  \n",
       "4                       852.10  "
      ]
     },
     "execution_count": 19,
     "metadata": {},
     "output_type": "execute_result"
    }
   ],
   "source": [
    "data = pd.read_excel('Тестовое задание аналитика.xlsx', sheet_name='Задание 2', header=6)\n",
    "data.head()"
   ]
  },
  {
   "cell_type": "code",
   "execution_count": 20,
   "id": "5622891e",
   "metadata": {},
   "outputs": [
    {
     "name": "stdout",
     "output_type": "stream",
     "text": [
      "<class 'pandas.core.frame.DataFrame'>\n",
      "RangeIndex: 5837 entries, 0 to 5836\n",
      "Data columns (total 5 columns):\n",
      " #   Column                       Non-Null Count  Dtype  \n",
      "---  ------                       --------------  -----  \n",
      " 0   Тип устройства               5837 non-null   object \n",
      " 1   Название ТП                  5837 non-null   object \n",
      " 2   Начисления, руб.             5837 non-null   float64\n",
      " 3   Трафик ПД, Мб                5837 non-null   float64\n",
      " 4   Себестоимость трафика, руб.  5837 non-null   float64\n",
      "dtypes: float64(3), object(2)\n",
      "memory usage: 228.1+ KB\n"
     ]
    }
   ],
   "source": [
    "data.info()"
   ]
  },
  {
   "cell_type": "markdown",
   "id": "15c720f5",
   "metadata": {},
   "source": [
    "Видим, что в данных нет пропусков, однако в таблице есть значения, которые, скорее всего, проставлялись специально. Значение `(пусто)` - из контекста задачи непонятно, с чем связан тот факт, что тип устройства не проставлялся, может быть, было найдено какое-то устройство, которого не было в базе или что-то ещё.\n",
    "\n",
    "Также, стоит заметить, что в остальном в таблице никаких недочётов найдено не было, однако столбцы стоит ещё проверить на неявные дубликаты. "
   ]
  },
  {
   "cell_type": "code",
   "execution_count": 21,
   "id": "d92a1234",
   "metadata": {},
   "outputs": [
    {
     "data": {
      "text/plain": [
       "SMARTPHONE        2048\n",
       "USB MODEM         1054\n",
       "TABLET             791\n",
       "ROUTER             710\n",
       "PHONE              440\n",
       "UNDEFINED          315\n",
       "(пусто)            273\n",
       "DATA CARD          133\n",
       "NETWORK DEVICE      73\n",
       "Name: Тип устройства, dtype: int64"
      ]
     },
     "execution_count": 21,
     "metadata": {},
     "output_type": "execute_result"
    }
   ],
   "source": [
    "data['Тип устройства'].value_counts()"
   ]
  },
  {
   "cell_type": "code",
   "execution_count": 22,
   "id": "c8b7b87e",
   "metadata": {},
   "outputs": [
    {
     "data": {
      "text/plain": [
       "Федеральный Специальный           238\n",
       "МегаФон-Онлайн                    104\n",
       "Корпоративный стандарт             97\n",
       "МегаФон Онлайн Корпоративный       91\n",
       "Включайся! Общайся                 83\n",
       "                                 ... \n",
       "МФ-Все включ. L 2013 KOS            1\n",
       "Включайся! Пиши MUR                 1\n",
       "МегаФон-Всё вкл-ноS_ 2012 СИТИ      1\n",
       "Включайся! Говори MUR               1\n",
       "Единый                              1\n",
       "Name: Название ТП, Length: 1143, dtype: int64"
      ]
     },
     "execution_count": 22,
     "metadata": {},
     "output_type": "execute_result"
    }
   ],
   "source": [
    "data['Название ТП'].value_counts()"
   ]
  },
  {
   "cell_type": "code",
   "execution_count": 23,
   "id": "01b2ac34",
   "metadata": {},
   "outputs": [
    {
     "data": {
      "text/html": [
       "<div>\n",
       "<style scoped>\n",
       "    .dataframe tbody tr th:only-of-type {\n",
       "        vertical-align: middle;\n",
       "    }\n",
       "\n",
       "    .dataframe tbody tr th {\n",
       "        vertical-align: top;\n",
       "    }\n",
       "\n",
       "    .dataframe thead th {\n",
       "        text-align: right;\n",
       "    }\n",
       "</style>\n",
       "<table border=\"1\" class=\"dataframe\">\n",
       "  <thead>\n",
       "    <tr style=\"text-align: right;\">\n",
       "      <th></th>\n",
       "      <th>Начисления, руб.</th>\n",
       "      <th>Трафик ПД, Мб</th>\n",
       "      <th>Себестоимость трафика, руб.</th>\n",
       "    </tr>\n",
       "  </thead>\n",
       "  <tbody>\n",
       "    <tr>\n",
       "      <th>count</th>\n",
       "      <td>5837.00</td>\n",
       "      <td>5837.00</td>\n",
       "      <td>5837.00</td>\n",
       "    </tr>\n",
       "    <tr>\n",
       "      <th>mean</th>\n",
       "      <td>50144.98</td>\n",
       "      <td>4938013.28</td>\n",
       "      <td>49380.13</td>\n",
       "    </tr>\n",
       "    <tr>\n",
       "      <th>std</th>\n",
       "      <td>281542.95</td>\n",
       "      <td>30851410.90</td>\n",
       "      <td>308514.11</td>\n",
       "    </tr>\n",
       "    <tr>\n",
       "      <th>min</th>\n",
       "      <td>-5808.77</td>\n",
       "      <td>50005.43</td>\n",
       "      <td>500.05</td>\n",
       "    </tr>\n",
       "    <tr>\n",
       "      <th>25%</th>\n",
       "      <td>1042.38</td>\n",
       "      <td>86936.65</td>\n",
       "      <td>869.37</td>\n",
       "    </tr>\n",
       "    <tr>\n",
       "      <th>50%</th>\n",
       "      <td>2766.95</td>\n",
       "      <td>233395.92</td>\n",
       "      <td>2333.96</td>\n",
       "    </tr>\n",
       "    <tr>\n",
       "      <th>75%</th>\n",
       "      <td>10921.42</td>\n",
       "      <td>976393.67</td>\n",
       "      <td>9763.94</td>\n",
       "    </tr>\n",
       "    <tr>\n",
       "      <th>max</th>\n",
       "      <td>7782760.86</td>\n",
       "      <td>950853503.03</td>\n",
       "      <td>9508535.03</td>\n",
       "    </tr>\n",
       "  </tbody>\n",
       "</table>\n",
       "</div>"
      ],
      "text/plain": [
       "       Начисления, руб.  Трафик ПД, Мб  Себестоимость трафика, руб.\n",
       "count           5837.00        5837.00                      5837.00\n",
       "mean           50144.98     4938013.28                     49380.13\n",
       "std           281542.95    30851410.90                    308514.11\n",
       "min            -5808.77       50005.43                       500.05\n",
       "25%             1042.38       86936.65                       869.37\n",
       "50%             2766.95      233395.92                      2333.96\n",
       "75%            10921.42      976393.67                      9763.94\n",
       "max          7782760.86   950853503.03                   9508535.03"
      ]
     },
     "execution_count": 23,
     "metadata": {},
     "output_type": "execute_result"
    }
   ],
   "source": [
    "# Проверим числовые данные на наличие явных язъянов\n",
    "data[['Начисления, руб.', 'Трафик ПД, Мб', 'Себестоимость трафика, руб.']].describe()"
   ]
  },
  {
   "cell_type": "markdown",
   "id": "0385826a",
   "metadata": {},
   "source": [
    "Что касается категориальных данных, то значения `(пусто)` и `UNDEFINED` можно объединить и анализировать как одно целое, так как эти оба значения не определены. Во втором столбце видим много одиночных значений, и в целом, анализировать можно.\n",
    "\n",
    "Если смотреть на числовые данные, то, во-первых, в данных наблюдается сильный разброс. Во-вторых, в первом столбце прослеживаются отрицательные и нулевые значения (можно предположить, что отрицательные -  это либо ошибка в данных и таких значений не должно было быть, либо это возврат средств за отмену операции; что касается нулевых - то, с высокой долей вероятности, это ошибки в данных). Необходимо будет проверить, сколько таких данных присутствует в таблице и уже принять решение о том, что с ними делать дальше. "
   ]
  },
  {
   "cell_type": "code",
   "execution_count": 24,
   "id": "277afccd",
   "metadata": {},
   "outputs": [
    {
     "data": {
      "text/plain": [
       "48"
      ]
     },
     "execution_count": 24,
     "metadata": {},
     "output_type": "execute_result"
    }
   ],
   "source": [
    "data[data['Начисления, руб.'] <= 0].shape[0]"
   ]
  },
  {
   "cell_type": "markdown",
   "id": "44805929",
   "metadata": {},
   "source": [
    "Видим, что таких данных крайне мало в общем соотношении, следовательно, их можно просто удалить. "
   ]
  },
  {
   "cell_type": "code",
   "execution_count": 25,
   "id": "659a3603",
   "metadata": {},
   "outputs": [],
   "source": [
    "# Срезаем данные и оставляем только те, что строго больше 0\n",
    "data = data[data['Начисления, руб.'] > 0]"
   ]
  },
  {
   "cell_type": "code",
   "execution_count": 26,
   "id": "79d83f66",
   "metadata": {},
   "outputs": [],
   "source": [
    "data.loc[data['Тип устройства'] == '(пусто)'] = 'UNDEFINED'"
   ]
  },
  {
   "cell_type": "code",
   "execution_count": 27,
   "id": "3b0046fc",
   "metadata": {},
   "outputs": [
    {
     "data": {
      "text/plain": [
       "SMARTPHONE        2041\n",
       "USB MODEM         1043\n",
       "TABLET             784\n",
       "ROUTER             697\n",
       "UNDEFINED          584\n",
       "PHONE              437\n",
       "DATA CARD          131\n",
       "NETWORK DEVICE      72\n",
       "Name: Тип устройства, dtype: int64"
      ]
     },
     "execution_count": 27,
     "metadata": {},
     "output_type": "execute_result"
    }
   ],
   "source": [
    "# Проверим, на сколько корректно отработал метод\n",
    "data['Тип устройства'].value_counts()"
   ]
  },
  {
   "cell_type": "code",
   "execution_count": 28,
   "id": "e059e8e6",
   "metadata": {},
   "outputs": [],
   "source": [
    "# Обработаем не числовых данных в столбцах с начислениями, трафиком и затратами\n",
    "data['Начисления, руб.'] = pd.to_numeric(data['Начисления, руб.'], errors='coerce')\n",
    "data['Трафик ПД, Мб'] = pd.to_numeric(data['Трафик ПД, Мб'], errors='coerce')\n",
    "data['Себестоимость трафика, руб.'] = pd.to_numeric(data['Себестоимость трафика, руб.'], errors='coerce')"
   ]
  },
  {
   "cell_type": "markdown",
   "id": "3b3140d1",
   "metadata": {},
   "source": [
    "Замена прошла корректным образом. \n",
    "\n",
    "Далее необходимо поработать с аномалиями (посмотреть на распределение числовых данных и отсечь сильно выбивающиеся значения)"
   ]
  },
  {
   "cell_type": "code",
   "execution_count": 29,
   "id": "ec1b853a",
   "metadata": {},
   "outputs": [],
   "source": [
    "def viz_plot(column, range_param):\n",
    "    plt.figure(figsize=(15, 7))\n",
    "    data[column].plot(kind='hist', range=range_param, bins=50, title=f'Распределение для столбца \"{column}\"')"
   ]
  },
  {
   "cell_type": "code",
   "execution_count": 30,
   "id": "3a70f3eb",
   "metadata": {},
   "outputs": [
    {
     "data": {
      "image/png": "[encoded data removed]",
      "text/plain": [
       "<Figure size 1080x504 with 1 Axes>"
      ]
     },
     "metadata": {
      "needs_background": "light"
     },
     "output_type": "display_data"
    }
   ],
   "source": [
    "viz_plot('Начисления, руб.', (0, 50000))"
   ]
  },
  {
   "cell_type": "code",
   "execution_count": 31,
   "id": "e9901cf3",
   "metadata": {},
   "outputs": [
    {
     "data": {
      "image/png": "[encoded data removed]",
      "text/plain": [
       "<Figure size 1080x504 with 1 Axes>"
      ]
     },
     "metadata": {
      "needs_background": "light"
     },
     "output_type": "display_data"
    }
   ],
   "source": [
    "viz_plot('Трафик ПД, Мб', (40000, 2000000))"
   ]
  },
  {
   "cell_type": "code",
   "execution_count": 32,
   "id": "f756c77b",
   "metadata": {},
   "outputs": [
    {
     "data": {
      "image/png": "[encoded data removed]",
      "text/plain": [
       "<Figure size 1080x504 with 1 Axes>"
      ]
     },
     "metadata": {
      "needs_background": "light"
     },
     "output_type": "display_data"
    }
   ],
   "source": [
    "viz_plot('Себестоимость трафика, руб.', (400, 20000))"
   ]
  },
  {
   "cell_type": "markdown",
   "id": "7b93f648",
   "metadata": {},
   "source": [
    "Анализируя графики распределения, на них представлены отрезки, по которым стоит срезать итоговый датасет, чтобы избавиться от аномалий."
   ]
  },
  {
   "cell_type": "code",
   "execution_count": 33,
   "id": "bee68301",
   "metadata": {},
   "outputs": [],
   "source": [
    "data = data[(data['Начисления, руб.'] >= 0) & \n",
    "            (data['Начисления, руб.'] <= 50000) &\n",
    "            (data['Трафик ПД, Мб'] >= 40000) &\n",
    "            (data['Трафик ПД, Мб'] <= 2000000) &\n",
    "            (data['Себестоимость трафика, руб.'] >= 400) &\n",
    "            (data['Себестоимость трафика, руб.'] <= 20000)\n",
    "           ]"
   ]
  },
  {
   "cell_type": "markdown",
   "id": "85ba186a",
   "metadata": {},
   "source": [
    "Проверим, сколько было удалено записей в процессе предобработки данных."
   ]
  },
  {
   "cell_type": "code",
   "execution_count": 34,
   "id": "e3a60191",
   "metadata": {},
   "outputs": [
    {
     "name": "stdout",
     "output_type": "stream",
     "text": [
      "0.22254582833647418\n"
     ]
    }
   ],
   "source": [
    "print(1 - data.shape[0] / 5837)"
   ]
  },
  {
   "cell_type": "markdown",
   "id": "f25d389f",
   "metadata": {},
   "source": [
    "Исходя из полученного числа, можно сделать вывод о том, что данных было удалено немного (учитывая общепринятую норму в 10%, я удалил чуть больше 20%). \n",
    "\n",
    "Теперь можем приступать к основной части задания - исследованию данных. Для начала сформируем сводную таблицу, которая отразит затраты, выручку по трафику в разрезе типов устройств."
   ]
  },
  {
   "cell_type": "code",
   "execution_count": 35,
   "id": "56c1ca93",
   "metadata": {},
   "outputs": [
    {
     "data": {
      "text/html": [
       "<div>\n",
       "<style scoped>\n",
       "    .dataframe tbody tr th:only-of-type {\n",
       "        vertical-align: middle;\n",
       "    }\n",
       "\n",
       "    .dataframe tbody tr th {\n",
       "        vertical-align: top;\n",
       "    }\n",
       "\n",
       "    .dataframe thead th {\n",
       "        text-align: right;\n",
       "    }\n",
       "</style>\n",
       "<table border=\"1\" class=\"dataframe\">\n",
       "  <thead>\n",
       "    <tr style=\"text-align: right;\">\n",
       "      <th></th>\n",
       "      <th>Начисления, руб.</th>\n",
       "      <th>Себестоимость трафика, руб.</th>\n",
       "      <th>Маржинальность, руб.</th>\n",
       "      <th>Маржинальность, %</th>\n",
       "    </tr>\n",
       "    <tr>\n",
       "      <th>Тип устройства</th>\n",
       "      <th></th>\n",
       "      <th></th>\n",
       "      <th></th>\n",
       "      <th></th>\n",
       "    </tr>\n",
       "  </thead>\n",
       "  <tbody>\n",
       "    <tr>\n",
       "      <th>DATA CARD</th>\n",
       "      <td>374593.84</td>\n",
       "      <td>416313.02</td>\n",
       "      <td>-41719.18</td>\n",
       "      <td>-10.02</td>\n",
       "    </tr>\n",
       "    <tr>\n",
       "      <th>NETWORK DEVICE</th>\n",
       "      <td>106182.67</td>\n",
       "      <td>172760.75</td>\n",
       "      <td>-66578.08</td>\n",
       "      <td>-38.54</td>\n",
       "    </tr>\n",
       "    <tr>\n",
       "      <th>PHONE</th>\n",
       "      <td>1347316.78</td>\n",
       "      <td>1373543.17</td>\n",
       "      <td>-26226.39</td>\n",
       "      <td>-1.91</td>\n",
       "    </tr>\n",
       "    <tr>\n",
       "      <th>ROUTER</th>\n",
       "      <td>1803626.12</td>\n",
       "      <td>1837676.95</td>\n",
       "      <td>-34050.83</td>\n",
       "      <td>-1.85</td>\n",
       "    </tr>\n",
       "    <tr>\n",
       "      <th>SMARTPHONE</th>\n",
       "      <td>10120869.98</td>\n",
       "      <td>5839692.46</td>\n",
       "      <td>4281177.51</td>\n",
       "      <td>73.31</td>\n",
       "    </tr>\n",
       "    <tr>\n",
       "      <th>TABLET</th>\n",
       "      <td>2361402.63</td>\n",
       "      <td>2396823.36</td>\n",
       "      <td>-35420.73</td>\n",
       "      <td>-1.48</td>\n",
       "    </tr>\n",
       "    <tr>\n",
       "      <th>UNDEFINED</th>\n",
       "      <td>899732.27</td>\n",
       "      <td>917905.17</td>\n",
       "      <td>-18172.90</td>\n",
       "      <td>-1.98</td>\n",
       "    </tr>\n",
       "    <tr>\n",
       "      <th>USB MODEM</th>\n",
       "      <td>2795835.59</td>\n",
       "      <td>2958942.64</td>\n",
       "      <td>-163107.05</td>\n",
       "      <td>-5.51</td>\n",
       "    </tr>\n",
       "  </tbody>\n",
       "</table>\n",
       "</div>"
      ],
      "text/plain": [
       "                Начисления, руб.  Себестоимость трафика, руб.  \\\n",
       "Тип устройства                                                  \n",
       "DATA CARD              374593.84                    416313.02   \n",
       "NETWORK DEVICE         106182.67                    172760.75   \n",
       "PHONE                 1347316.78                   1373543.17   \n",
       "ROUTER                1803626.12                   1837676.95   \n",
       "SMARTPHONE           10120869.98                   5839692.46   \n",
       "TABLET                2361402.63                   2396823.36   \n",
       "UNDEFINED              899732.27                    917905.17   \n",
       "USB MODEM             2795835.59                   2958942.64   \n",
       "\n",
       "                Маржинальность, руб.  Маржинальность, %  \n",
       "Тип устройства                                           \n",
       "DATA CARD                  -41719.18             -10.02  \n",
       "NETWORK DEVICE             -66578.08             -38.54  \n",
       "PHONE                      -26226.39              -1.91  \n",
       "ROUTER                     -34050.83              -1.85  \n",
       "SMARTPHONE                4281177.51              73.31  \n",
       "TABLET                     -35420.73              -1.48  \n",
       "UNDEFINED                  -18172.90              -1.98  \n",
       "USB MODEM                 -163107.05              -5.51  "
      ]
     },
     "execution_count": 35,
     "metadata": {},
     "output_type": "execute_result"
    }
   ],
   "source": [
    "pivot_data = (data.groupby('Тип устройства').agg({'Начисления, руб.': 'sum'})\n",
    "                  .merge(data.groupby('Тип устройства').agg({'Себестоимость трафика, руб.': 'sum'}), \n",
    "                         on='Тип устройства', \n",
    "                         how='left')\n",
    "             )\n",
    "pivot_data['Маржинальность, руб.'] = pivot_data['Начисления, руб.'] - pivot_data['Себестоимость трафика, руб.']\n",
    "pivot_data['Маржинальность, %'] = (pivot_data['Начисления, руб.'] / pivot_data['Себестоимость трафика, руб.'] - 1) * 100\n",
    "pivot_data"
   ]
  },
  {
   "cell_type": "markdown",
   "id": "2599973e",
   "metadata": {},
   "source": [
    "Маржинальность (маржинальная прибыль/доход) — это разница между выручкой и затратами. В нашем случае, начисления - это выручка, полученная от абонентов, а себестоимость - это затраты на трафик. Таким образом, мы вычли второе из первого и получили маржинальность в разрезе каждого устройства (а поделив второе на первое, получили тоже самое, только в относительном выражении)"
   ]
  },
  {
   "cell_type": "markdown",
   "id": "572ff741",
   "metadata": {},
   "source": [
    "Далее визуализируем данные метрики на отдельных графиках. Изображать всё это на одной плоскости не целесообразно, так как масштаб у показателей разный."
   ]
  },
  {
   "cell_type": "code",
   "execution_count": 36,
   "id": "27b20aff",
   "metadata": {},
   "outputs": [
    {
     "data": {
      "image/png": "[encoded data removed]",
      "text/plain": [
       "<Figure size 1080x504 with 1 Axes>"
      ]
     },
     "metadata": {
      "needs_background": "light"
     },
     "output_type": "display_data"
    }
   ],
   "source": [
    "pivot_data[['Начисления, руб.', 'Себестоимость трафика, руб.']].plot(kind='bar', figsize=(15, 7), grid=True)\n",
    "plt.title('Выручка и затраты на пользователя в разрезе типов устройств')\n",
    "plt.xlabel('Тип устройства')\n",
    "plt.ylabel('Выручка и затраты, руб.')\n",
    "plt.xticks(rotation=360)\n",
    "plt.show()"
   ]
  },
  {
   "cell_type": "code",
   "execution_count": 37,
   "id": "a6f5309c",
   "metadata": {},
   "outputs": [
    {
     "data": {
      "image/png": "[encoded data removed]",
      "text/plain": [
       "<Figure size 1080x504 with 1 Axes>"
      ]
     },
     "metadata": {
      "needs_background": "light"
     },
     "output_type": "display_data"
    }
   ],
   "source": [
    "(pivot_data[['Маржинальность, %']].sort_values(by='Маржинальность, %', ascending=True)\n",
    "                                .plot(kind='bar', figsize=(15, 7), grid=True)\n",
    ")\n",
    "plt.title('Маржинальность в разрезе типов устройств, %')\n",
    "plt.xlabel('Тип устройства')\n",
    "plt.ylabel('Маржинальность, %')\n",
    "plt.xticks(rotation=360)\n",
    "plt.show()"
   ]
  },
  {
   "cell_type": "code",
   "execution_count": 38,
   "id": "762aa7b3",
   "metadata": {},
   "outputs": [
    {
     "data": {
      "image/png": "[encoded data removed]",
      "text/plain": [
       "<Figure size 1080x504 with 1 Axes>"
      ]
     },
     "metadata": {
      "needs_background": "light"
     },
     "output_type": "display_data"
    }
   ],
   "source": [
    "(pivot_data[['Маржинальность, руб.']].sort_values(by='Маржинальность, руб.', ascending=True)\n",
    "                                   .plot(kind='bar', figsize=(15, 7), grid=True)\n",
    ")\n",
    "plt.title('Маржинальность в разрезе типов устройств, руб.')\n",
    "plt.xlabel('Тип устройства')\n",
    "plt.ylabel('Маржинальность, руб.')\n",
    "plt.xticks(rotation=360)\n",
    "plt.show()"
   ]
  },
  {
   "cell_type": "markdown",
   "id": "e019c55e",
   "metadata": {},
   "source": [
    "Стоит заметить, что по абсолютным показателям самая низкомаржинальная категория в разрезе типов устройств - `USB MODEM`, а по относительным - `NETWORK DEVICE`. Самая высокомаржинальная и по абсолютным показателям, и по относительным - `SMARTPHONE`. "
   ]
  },
  {
   "cell_type": "markdown",
   "id": "1ed1adfb",
   "metadata": {},
   "source": [
    "## Итоговый вывод по 2 заданию\n",
    "\n",
    "1. Исходя из того, что себестоимость 1 Мб равна 1 копейке, были посчитаны затраты на трафик, а также маржинальность в разрезе типов устройств. Наибольшая выручка и, соответственно, затраты обнаружены в категории `SMARTPHONE`, наименьший показатель - в `NETWORK DEVICE`.\n",
    "2. Среди типов устройств наименьшую маржинальность по абсолютным показателям показала категория `USB MODEM`, по относительным - `NETWORK DEVICE`. Самую высокую маржинальность по обоим показателям показала категория `SMARTPHONE`.\n",
    "3. Также, были визуализированы метрики на графиках (выручка, затраты, GM (валовая прибыль) в абсолютных, а также в относительных показателях. "
   ]
  }
 ],
 "metadata": {
  "kernelspec": {
   "display_name": "Python 3 (ipykernel)",
   "language": "python",
   "name": "python3"
  },
  "language_info": {
   "codemirror_mode": {
    "name": "ipython",
    "version": 3
   },
   "file_extension": ".py",
   "mimetype": "text/x-python",
   "name": "python",
   "nbconvert_exporter": "python",
   "pygments_lexer": "ipython3",
   "version": "3.9.7"
  }
 },
 "nbformat": 4,
 "nbformat_minor": 5
}
