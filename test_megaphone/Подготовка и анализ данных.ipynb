{
 "cells": [
  {
   "cell_type": "code",
   "execution_count": 1,
   "id": "4ded9166",
   "metadata": {},
   "outputs": [],
   "source": [
    "import pandas as pd\n",
    "import matplotlib.pyplot as plt\n",
    "import warnings\n",
    "\n",
    "# Вводим дополнительные надстройки\n",
    "warnings.filterwarnings('ignore')\n",
    "# Устанавливаем дополнительные настройки отображения данных в таблице (округление чисел до двух знаков после запятой)\n",
    "pd.set_option('display.float_format', '{:.2f}'.format)\n",
    "# Задаём стиль отрисовки графиков\n",
    "plt.style.use('seaborn-dark')"
   ]
  },
  {
   "cell_type": "markdown",
   "id": "29fb17f1",
   "metadata": {},
   "source": [
    "## Задание 1. \n",
    "В таблице ниже приведена выборка абонентов и показателей по ним (ежемесячные начисления, трафик, тип устройства)\n",
    "\n",
    "Необходимо подготовить выборку к анализу (выделить или исключить нехарактерные/потенциально ошибочные значения) и сделать сегментацию или несколько сегментаций, выделив 3-5 характерных сегментов на основе профиля абонента. Обосновать выбор критериев, сделать выводы и предложить варианты использования предложенных классификаций."
   ]
  },
  {
   "cell_type": "code",
   "execution_count": 2,
   "id": "3d1d04af",
   "metadata": {},
   "outputs": [
    {
     "data": {
      "text/html": [
       "<div>\n",
       "<style scoped>\n",
       "    .dataframe tbody tr th:only-of-type {\n",
       "        vertical-align: middle;\n",
       "    }\n",
       "\n",
       "    .dataframe tbody tr th {\n",
       "        vertical-align: top;\n",
       "    }\n",
       "\n",
       "    .dataframe thead th {\n",
       "        text-align: right;\n",
       "    }\n",
       "</style>\n",
       "<table border=\"1\" class=\"dataframe\">\n",
       "  <thead>\n",
       "    <tr style=\"text-align: right;\">\n",
       "      <th></th>\n",
       "      <th>ID абонента</th>\n",
       "      <th>Категория устройства</th>\n",
       "      <th>Сумма начислений в месяц, руб</th>\n",
       "      <th>Трафик голосовой, мин</th>\n",
       "      <th>Трафик передачи данных, Мб</th>\n",
       "      <th>Трафик в роуминге, мин</th>\n",
       "    </tr>\n",
       "  </thead>\n",
       "  <tbody>\n",
       "    <tr>\n",
       "      <th>0</th>\n",
       "      <td>4277642</td>\n",
       "      <td>SMARTPHONE</td>\n",
       "      <td>11961.99</td>\n",
       "      <td>1003.59</td>\n",
       "      <td>13975.66</td>\n",
       "      <td>2.04</td>\n",
       "    </tr>\n",
       "    <tr>\n",
       "      <th>1</th>\n",
       "      <td>4277933</td>\n",
       "      <td>SMARTPHONE</td>\n",
       "      <td>13864.58</td>\n",
       "      <td>1159.11</td>\n",
       "      <td>3619.60</td>\n",
       "      <td>22.82</td>\n",
       "    </tr>\n",
       "    <tr>\n",
       "      <th>2</th>\n",
       "      <td>4278138</td>\n",
       "      <td>SMARTPHONE</td>\n",
       "      <td>3905.09</td>\n",
       "      <td>6300.61</td>\n",
       "      <td>2298.16</td>\n",
       "      <td>0.00</td>\n",
       "    </tr>\n",
       "    <tr>\n",
       "      <th>3</th>\n",
       "      <td>4281994</td>\n",
       "      <td>SMARTPHONE</td>\n",
       "      <td>12475.65</td>\n",
       "      <td>1845.75</td>\n",
       "      <td>6296.27</td>\n",
       "      <td>70.27</td>\n",
       "    </tr>\n",
       "    <tr>\n",
       "      <th>4</th>\n",
       "      <td>4282050</td>\n",
       "      <td>SMARTPHONE</td>\n",
       "      <td>9519.50</td>\n",
       "      <td>6565.54</td>\n",
       "      <td>2576.80</td>\n",
       "      <td>1.74</td>\n",
       "    </tr>\n",
       "  </tbody>\n",
       "</table>\n",
       "</div>"
      ],
      "text/plain": [
       "   ID абонента Категория устройства  Сумма начислений в месяц, руб   \n",
       "0      4277642           SMARTPHONE                       11961.99  \\\n",
       "1      4277933           SMARTPHONE                       13864.58   \n",
       "2      4278138           SMARTPHONE                        3905.09   \n",
       "3      4281994           SMARTPHONE                       12475.65   \n",
       "4      4282050           SMARTPHONE                        9519.50   \n",
       "\n",
       "   Трафик голосовой, мин  Трафик передачи данных, Мб  Трафик в роуминге, мин  \n",
       "0                1003.59                    13975.66                    2.04  \n",
       "1                1159.11                     3619.60                   22.82  \n",
       "2                6300.61                     2298.16                    0.00  \n",
       "3                1845.75                     6296.27                   70.27  \n",
       "4                6565.54                     2576.80                    1.74  "
      ]
     },
     "execution_count": 2,
     "metadata": {},
     "output_type": "execute_result"
    }
   ],
   "source": [
    "task_1_df = pd.read_excel('Тестовое задание для кандидатов 2022.xlsx', sheet_name='Задание 1', header=4)\n",
    "task_1_df.head()"
   ]
  },
  {
   "cell_type": "code",
   "execution_count": 3,
   "id": "b8166b8a",
   "metadata": {},
   "outputs": [
    {
     "name": "stdout",
     "output_type": "stream",
     "text": [
      "<class 'pandas.core.frame.DataFrame'>\n",
      "RangeIndex: 14636 entries, 0 to 14635\n",
      "Data columns (total 6 columns):\n",
      " #   Column                         Non-Null Count  Dtype  \n",
      "---  ------                         --------------  -----  \n",
      " 0   ID абонента                    14636 non-null  int64  \n",
      " 1   Категория устройства           14589 non-null  object \n",
      " 2   Сумма начислений в месяц, руб  14636 non-null  float64\n",
      " 3   Трафик голосовой, мин          14636 non-null  float64\n",
      " 4   Трафик передачи данных, Мб     14636 non-null  float64\n",
      " 5   Трафик в роуминге, мин         14636 non-null  float64\n",
      "dtypes: float64(4), int64(1), object(1)\n",
      "memory usage: 686.2+ KB\n"
     ]
    }
   ],
   "source": [
    "task_1_df.info()"
   ]
  },
  {
   "cell_type": "markdown",
   "id": "35fc103c",
   "metadata": {},
   "source": [
    "Видим, что все наши данные имеют тип данных `object`, следовательно, их нужно преобразовать в числа.\n",
    "\n",
    "Проверим наши данные на явные дубликаты"
   ]
  },
  {
   "cell_type": "code",
   "execution_count": 4,
   "id": "18251845",
   "metadata": {},
   "outputs": [
    {
     "name": "stdout",
     "output_type": "stream",
     "text": [
      "В датасете task_1_df найдено 26 явных дубликатов\n"
     ]
    }
   ],
   "source": [
    "cnt_duplicates = task_1_df.duplicated().sum()\n",
    "print(f'В датасете task_1_df найдено {cnt_duplicates} явных дубликатов')"
   ]
  },
  {
   "cell_type": "markdown",
   "id": "5a787e81",
   "metadata": {},
   "source": [
    "В датасете были обанружены дубликаты, их следует удалить."
   ]
  },
  {
   "cell_type": "code",
   "execution_count": 5,
   "id": "28e535cf",
   "metadata": {},
   "outputs": [],
   "source": [
    "# Удаление явных дубликатов (с внесением изменений в исходный датафрейм)\n",
    "task_1_df.drop_duplicates(inplace=True)"
   ]
  },
  {
   "cell_type": "code",
   "execution_count": 6,
   "id": "c2a44c0f",
   "metadata": {},
   "outputs": [
    {
     "data": {
      "text/plain": [
       "0"
      ]
     },
     "execution_count": 6,
     "metadata": {},
     "output_type": "execute_result"
    }
   ],
   "source": [
    "# Проверка, на сколько корректно отработал метод\n",
    "task_1_df.duplicated().sum()"
   ]
  },
  {
   "cell_type": "markdown",
   "id": "8733850a",
   "metadata": {},
   "source": [
    "Скорее всего, `id` абонента в датасетее не уникальны, так как человек мог воспользоваться услугой несколько раз. Про это ничего не сказано, поэтому проверим этот момент."
   ]
  },
  {
   "cell_type": "code",
   "execution_count": 7,
   "id": "a1331082",
   "metadata": {},
   "outputs": [
    {
     "name": "stdout",
     "output_type": "stream",
     "text": [
      "В датасете \"task_1_df\" 14610 записей\n"
     ]
    }
   ],
   "source": [
    "print('В датасете \"task_1_df\"', len(task_1_df), 'записей')"
   ]
  },
  {
   "cell_type": "code",
   "execution_count": 8,
   "id": "d9355082",
   "metadata": {},
   "outputs": [
    {
     "name": "stdout",
     "output_type": "stream",
     "text": [
      "В столбце \"ID абонента\" 14600 уникальных значений\n"
     ]
    }
   ],
   "source": [
    "print('В столбце \"ID абонента\"', task_1_df['ID абонента'].nunique(), 'уникальных значений')"
   ]
  },
  {
   "cell_type": "markdown",
   "id": "746c3930",
   "metadata": {},
   "source": [
    "Видим, что `id` действительно не уникальны, однако использовать этот столбец для анализа пользовательских профилей не имеет никакого смысла, так как в датафрейме информация представлена почти по уникальным абонентам.\n",
    "\n",
    "Далее посмотрим на столбец с категориями"
   ]
  },
  {
   "cell_type": "code",
   "execution_count": 9,
   "id": "ea9c6494",
   "metadata": {},
   "outputs": [
    {
     "data": {
      "text/plain": [
       "array(['SMARTPHONE', 'PHONE', 'MODEM', 'DATA CARD', nan, 'ROUTER',\n",
       "       'TABLET', 'NETWORK DEVICE', 'USB MODEM'], dtype=object)"
      ]
     },
     "execution_count": 9,
     "metadata": {},
     "output_type": "execute_result"
    }
   ],
   "source": [
    "task_1_df['Категория устройства'].unique()"
   ]
  },
  {
   "cell_type": "markdown",
   "id": "639e6f31",
   "metadata": {},
   "source": [
    "Видим, что в столбце есть пропуски, которые обозначаются `nan`. \n",
    "\n",
    "Посмотрим на то, сколько каждая из категорий встречается в данных. "
   ]
  },
  {
   "cell_type": "code",
   "execution_count": 10,
   "id": "66f305ad",
   "metadata": {},
   "outputs": [
    {
     "data": {
      "text/plain": [
       "Категория устройства\n",
       "SMARTPHONE        8158\n",
       "MODEM             3043\n",
       "DATA CARD         2456\n",
       "ROUTER             573\n",
       "PHONE              325\n",
       "TABLET               4\n",
       "NETWORK DEVICE       3\n",
       "USB MODEM            1\n",
       "Name: count, dtype: int64"
      ]
     },
     "execution_count": 10,
     "metadata": {},
     "output_type": "execute_result"
    }
   ],
   "source": [
    "task_1_df['Категория устройства'].value_counts()"
   ]
  },
  {
   "cell_type": "markdown",
   "id": "9e163d2c",
   "metadata": {},
   "source": [
    "Можно предположить, что `USB MODEM` это и есть категория `MODEM`, а `NETWORK DEVICE` и `TABLET` написаны были ошибочно. Стоит также заметить, удаление такого малого количества данных никак не повлияет на исход дальнейшего анализа.\n",
    "\n",
    "Скорее всего, `PHONE` это и есть устройство `SMARTPHONE`, поэтому также можно было бы провести змену. Однако, может быть и такое, что под смартфоном подразумевается современный сенсорный телефон, а под телефоном - обычный телефон (либо кнопочный, либо стационарный), поэтому заменять данные не будем, так как данных по телефону представлено тоже немало.\n",
    "\n",
    "У нас есть пропуски в столбце `Категория устройства`, поэтому для понимания общей картины и агрегирования в дальнейшем, заменим их на значение `unknown`, чтобы понимать и информацию по ним, а то может быть и такое, что по этим данным будет составлен неплохой пользовательский профиль. Хотя с другой стороны, пропусков слишком мало, чтобы беспокоиться о том, что они могут как-то сильно изменить картину анализа. "
   ]
  },
  {
   "cell_type": "code",
   "execution_count": 11,
   "id": "554c8794",
   "metadata": {},
   "outputs": [],
   "source": [
    "task_1_df['Категория устройства'] = task_1_df['Категория устройства'].fillna('unknown')"
   ]
  },
  {
   "cell_type": "code",
   "execution_count": 12,
   "id": "ef6dac9f",
   "metadata": {},
   "outputs": [],
   "source": [
    "task_1_df.loc[task_1_df['Категория устройства'] == 'USB MODEM'] = 'MODEM'"
   ]
  },
  {
   "cell_type": "code",
   "execution_count": 13,
   "id": "f2b56975",
   "metadata": {},
   "outputs": [],
   "source": [
    "task_1_df = task_1_df[(task_1_df['Категория устройства'] != 'NETWORK DEVICE') & \n",
    "                      (task_1_df['Категория устройства'] != 'TABLET')]"
   ]
  },
  {
   "cell_type": "code",
   "execution_count": 14,
   "id": "2f53b6f7",
   "metadata": {},
   "outputs": [
    {
     "data": {
      "text/plain": [
       "Категория устройства\n",
       "SMARTPHONE    8158\n",
       "MODEM         3044\n",
       "DATA CARD     2456\n",
       "ROUTER         573\n",
       "PHONE          325\n",
       "unknown         47\n",
       "Name: count, dtype: int64"
      ]
     },
     "execution_count": 14,
     "metadata": {},
     "output_type": "execute_result"
    }
   ],
   "source": [
    "# Проверим выполнение результата\n",
    "task_1_df['Категория устройства'].value_counts()"
   ]
  },
  {
   "cell_type": "markdown",
   "id": "5776f38a",
   "metadata": {},
   "source": [
    "Видим, что всё отработало корректно: значение `USB MODEM` заменился на `MODEM`, а категории `NETWORK DEVICE` и `TABLET` были исключены."
   ]
  },
  {
   "cell_type": "code",
   "execution_count": 15,
   "id": "df85d133",
   "metadata": {},
   "outputs": [],
   "source": [
    "# Исправим тип данных на числовой\n",
    "list_columns = ['Сумма начислений в месяц, руб', 'Трафик голосовой, мин', 'Трафик передачи данных, Мб', 'Трафик в роуминге, мин']\n",
    "for column in list_columns:\n",
    "    task_1_df[column] = pd.to_numeric(task_1_df[column], errors='coerce')"
   ]
  },
  {
   "cell_type": "markdown",
   "id": "bad4917f",
   "metadata": {},
   "source": [
    "Обработав данные таким образом, что вместо какого-то непонятного значения, которое встретится в цикле, на это место проставится пропуск, проверим, сколько таких пропусков у нас появилось, а также посмотрим на то, исправил ли метод тип данных."
   ]
  },
  {
   "cell_type": "code",
   "execution_count": 16,
   "id": "3d65bf5f",
   "metadata": {},
   "outputs": [
    {
     "name": "stdout",
     "output_type": "stream",
     "text": [
      "<class 'pandas.core.frame.DataFrame'>\n",
      "Index: 14603 entries, 0 to 14635\n",
      "Data columns (total 6 columns):\n",
      " #   Column                         Non-Null Count  Dtype  \n",
      "---  ------                         --------------  -----  \n",
      " 0   ID абонента                    14603 non-null  object \n",
      " 1   Категория устройства           14603 non-null  object \n",
      " 2   Сумма начислений в месяц, руб  14602 non-null  float64\n",
      " 3   Трафик голосовой, мин          14602 non-null  float64\n",
      " 4   Трафик передачи данных, Мб     14602 non-null  float64\n",
      " 5   Трафик в роуминге, мин         14602 non-null  float64\n",
      "dtypes: float64(4), object(2)\n",
      "memory usage: 798.6+ KB\n"
     ]
    }
   ],
   "source": [
    "task_1_df.info()"
   ]
  },
  {
   "cell_type": "markdown",
   "id": "503e025f",
   "metadata": {},
   "source": [
    "Исходя из информации, полученной методом `info`, можно сделать вывод о том, что метод отработал корректно: все количественные данные заменены на тип данных `float64`."
   ]
  },
  {
   "cell_type": "markdown",
   "id": "8ba21637",
   "metadata": {},
   "source": [
    "Далее попробуем найти, а затем выделить или исключить нехарактерные/потенциально ошибочные значения в количественных переменных. Для этого проделаем несколько шагов:\n",
    "1. Посмотрим визуально распределение, чтобы было видно, где находится основное количество данных, а где выбросы (также можно было бы использовать бокс плоты)\n",
    "2. Использовать персентили для отсеивания конкретного процента данных, а также использовать скаттер плот также для визуализации того, где у нас находится основная масса, но это альтернативные методы."
   ]
  },
  {
   "cell_type": "code",
   "execution_count": 17,
   "id": "414fca86",
   "metadata": {},
   "outputs": [
    {
     "data": {
      "text/html": [
       "<div>\n",
       "<style scoped>\n",
       "    .dataframe tbody tr th:only-of-type {\n",
       "        vertical-align: middle;\n",
       "    }\n",
       "\n",
       "    .dataframe tbody tr th {\n",
       "        vertical-align: top;\n",
       "    }\n",
       "\n",
       "    .dataframe thead th {\n",
       "        text-align: right;\n",
       "    }\n",
       "</style>\n",
       "<table border=\"1\" class=\"dataframe\">\n",
       "  <thead>\n",
       "    <tr style=\"text-align: right;\">\n",
       "      <th></th>\n",
       "      <th>Сумма начислений в месяц, руб</th>\n",
       "      <th>Трафик голосовой, мин</th>\n",
       "      <th>Трафик передачи данных, Мб</th>\n",
       "      <th>Трафик в роуминге, мин</th>\n",
       "    </tr>\n",
       "  </thead>\n",
       "  <tbody>\n",
       "    <tr>\n",
       "      <th>count</th>\n",
       "      <td>14602.00</td>\n",
       "      <td>14602.00</td>\n",
       "      <td>14602.00</td>\n",
       "      <td>14602.00</td>\n",
       "    </tr>\n",
       "    <tr>\n",
       "      <th>mean</th>\n",
       "      <td>101335.55</td>\n",
       "      <td>2167.15</td>\n",
       "      <td>23560.43</td>\n",
       "      <td>91.33</td>\n",
       "    </tr>\n",
       "    <tr>\n",
       "      <th>std</th>\n",
       "      <td>12443125.06</td>\n",
       "      <td>97675.97</td>\n",
       "      <td>48249.10</td>\n",
       "      <td>296.87</td>\n",
       "    </tr>\n",
       "    <tr>\n",
       "      <th>min</th>\n",
       "      <td>-100359563.00</td>\n",
       "      <td>-541.00</td>\n",
       "      <td>-51937.38</td>\n",
       "      <td>-1.00</td>\n",
       "    </tr>\n",
       "    <tr>\n",
       "      <th>25%</th>\n",
       "      <td>315.00</td>\n",
       "      <td>3.93</td>\n",
       "      <td>499.24</td>\n",
       "      <td>0.00</td>\n",
       "    </tr>\n",
       "    <tr>\n",
       "      <th>50%</th>\n",
       "      <td>755.26</td>\n",
       "      <td>58.16</td>\n",
       "      <td>3060.73</td>\n",
       "      <td>0.00</td>\n",
       "    </tr>\n",
       "    <tr>\n",
       "      <th>75%</th>\n",
       "      <td>1746.63</td>\n",
       "      <td>975.67</td>\n",
       "      <td>44130.29</td>\n",
       "      <td>0.47</td>\n",
       "    </tr>\n",
       "    <tr>\n",
       "      <th>max</th>\n",
       "      <td>1500098005.00</td>\n",
       "      <td>8335667.56</td>\n",
       "      <td>1772188.20</td>\n",
       "      <td>6782.91</td>\n",
       "    </tr>\n",
       "  </tbody>\n",
       "</table>\n",
       "</div>"
      ],
      "text/plain": [
       "       Сумма начислений в месяц, руб  Трафик голосовой, мин   \n",
       "count                       14602.00               14602.00  \\\n",
       "mean                       101335.55                2167.15   \n",
       "std                      12443125.06               97675.97   \n",
       "min                    -100359563.00                -541.00   \n",
       "25%                           315.00                   3.93   \n",
       "50%                           755.26                  58.16   \n",
       "75%                          1746.63                 975.67   \n",
       "max                    1500098005.00             8335667.56   \n",
       "\n",
       "       Трафик передачи данных, Мб  Трафик в роуминге, мин  \n",
       "count                    14602.00                14602.00  \n",
       "mean                     23560.43                   91.33  \n",
       "std                      48249.10                  296.87  \n",
       "min                     -51937.38                   -1.00  \n",
       "25%                        499.24                    0.00  \n",
       "50%                       3060.73                    0.00  \n",
       "75%                      44130.29                    0.47  \n",
       "max                    1772188.20                 6782.91  "
      ]
     },
     "execution_count": 17,
     "metadata": {},
     "output_type": "execute_result"
    }
   ],
   "source": [
    "# Посмотрим сначала на то, в каком диапазоне имеем данные\n",
    "task_1_df[['Сумма начислений в месяц, руб', 'Трафик голосовой, мин', \n",
    "           'Трафик передачи данных, Мб','Трафик в роуминге, мин']].describe()"
   ]
  },
  {
   "cell_type": "markdown",
   "id": "82b11058",
   "metadata": {},
   "source": [
    "Видим, что данные очень сильно скошены. Необходимо решить данную проблему и убрать слишком выбивающиеся значения."
   ]
  },
  {
   "cell_type": "code",
   "execution_count": 18,
   "id": "f4ad28c4",
   "metadata": {},
   "outputs": [],
   "source": [
    "def viz_plot(column, range_param):\n",
    "    plt.figure(figsize=(15, 7))\n",
    "    task_1_df[column].plot(kind='hist', range=range_param, bins=50, title=f'Распределение для столбца \"{column}\"')"
   ]
  },
  {
   "cell_type": "code",
   "execution_count": 19,
   "id": "43bc5041",
   "metadata": {},
   "outputs": [
    {
     "data": {
      "image/png": "[encoded data removed]",
      "text/plain": [
       "<Figure size 1080x504 with 1 Axes>"
      ]
     },
     "metadata": {
      "needs_background": "light"
     },
     "output_type": "display_data"
    }
   ],
   "source": [
    "viz_plot('Сумма начислений в месяц, руб', (0, 40000))"
   ]
  },
  {
   "cell_type": "code",
   "execution_count": 20,
   "id": "15f1d7c2",
   "metadata": {},
   "outputs": [
    {
     "data": {
      "image/png": "[encoded data removed]",
      "text/plain": [
       "<Figure size 1080x504 with 1 Axes>"
      ]
     },
     "metadata": {
      "needs_background": "light"
     },
     "output_type": "display_data"
    }
   ],
   "source": [
    "viz_plot('Трафик голосовой, мин', (0, 9000))"
   ]
  },
  {
   "cell_type": "code",
   "execution_count": 21,
   "id": "30525218",
   "metadata": {},
   "outputs": [
    {
     "data": {
      "image/png": "[encoded data removed]",
      "text/plain": [
       "<Figure size 1080x504 with 1 Axes>"
      ]
     },
     "metadata": {
      "needs_background": "light"
     },
     "output_type": "display_data"
    }
   ],
   "source": [
    "viz_plot('Трафик передачи данных, Мб', (0, 180000))"
   ]
  },
  {
   "cell_type": "code",
   "execution_count": 22,
   "id": "5b6dfa58",
   "metadata": {},
   "outputs": [
    {
     "data": {
      "image/png": "[encoded data removed]",
      "text/plain": [
       "<Figure size 1080x504 with 1 Axes>"
      ]
     },
     "metadata": {
      "needs_background": "light"
     },
     "output_type": "display_data"
    }
   ],
   "source": [
    "viz_plot('Трафик в роуминге, мин', (0, 2000))"
   ]
  },
  {
   "cell_type": "markdown",
   "id": "07e2bbfa",
   "metadata": {},
   "source": [
    "**Вывод по графикам**\n",
    "\n",
    "Анализируя графики, можем сделать следующие выводы:\n",
    "1. Те данные, которые были представлены в количественных переменных, не могут иметь отрицательные значения.\n",
    "2. По графикам видны сильно выбивающиеся значения, которые необходимо срезать, чтобы иметь более правдоподобную картину о данных. "
   ]
  },
  {
   "cell_type": "code",
   "execution_count": 23,
   "id": "cda2cc6d",
   "metadata": {},
   "outputs": [],
   "source": [
    "# Срезаем данные и оставляем только нужные данные\n",
    "task_1_df_filtered = task_1_df[(task_1_df['Сумма начислений в месяц, руб'] >= 0) & \n",
    "                               (task_1_df['Сумма начислений в месяц, руб'] <= 40000) &\n",
    "                               (task_1_df['Трафик голосовой, мин'] >= 0) &\n",
    "                               (task_1_df['Трафик голосовой, мин'] <= 9000) &\n",
    "                               (task_1_df['Трафик передачи данных, Мб'] >= 0) &\n",
    "                               (task_1_df['Трафик передачи данных, Мб'] <= 180000) &\n",
    "                               (task_1_df['Трафик в роуминге, мин'] >= 0) &\n",
    "                               (task_1_df['Трафик в роуминге, мин'] <= 2000)]"
   ]
  },
  {
   "cell_type": "markdown",
   "id": "b0f6b63b",
   "metadata": {},
   "source": [
    "**Вывод по аномальным значениям**\n",
    "\n",
    "Объяснение того, почему срезал данные именно в таком диапазоне:\n",
    " 1. На графиках распределения видно то, где находится большинство данных, а где какие-то единичные случаи и таких случаев очень мало, они только искажают реальную картину и из-за этого появляется скошенность.\n",
    " 2. Что касается столбца с суммой начислений, то до 40 000 рублей мне кажется картина более менее реальна, так как такие суммы могут поступать от крупных компаний, которые оплачивают тарифы либо работникам, которые сидят на телефонных звонках, либо оплачивают корпоративные связи. \n",
    " 3. Если рассматривать столбец с голосовым трафиком, то я посчитал нужным оставить данные до 9000 минут. Конечно, это очень большое количество, однако есть люди, которые любят поговорить и используют в основном звонки, и опять же, такие тарифы могут покупать компании для холодных звонков с целью привлечения к себе клиентов. \n",
    " 4. Рассматривая трафик передачи данных, отмечу, что есть пользователи, которые очень много и долго сидят за интернетом, тем самым расходуют его в очень большом количестве. Это могут быть как физические, так и юридические лица. Физические, например, могут смотреть фильмы на протяжение долгого времени, что съедает много трафика, а юридические - используют много интернета для передачи данных и использования его в рабочих целях внутри своего рабочего дня. Посчитал нужным оставить данные до 180Гб, потому что это наиболее реальная картина для абонента, исходя из распределения.\n",
    " 5. Рассматривая распределение по этому столбцу, записей после 25 минут крайне мало, однако здесь не так жёстко резал данные, потому что как раз такое распределение показывает нам тех абонентов, которые много путешествуют. \n",
    "\n",
    "После того, как мы убрали все выбивающиеся значения, необходимо проверить, сколько данных было удалено, относительно первоначального количества."
   ]
  },
  {
   "cell_type": "code",
   "execution_count": 24,
   "id": "50085a34",
   "metadata": {},
   "outputs": [
    {
     "name": "stdout",
     "output_type": "stream",
     "text": [
      "В абсолютном выражении было удалено 452 записи, относительно первоначального количества это составляет 3.10%\n"
     ]
    }
   ],
   "source": [
    "cnt_emissions = len(task_1_df) - task_1_df_filtered.shape[0]\n",
    "percent_emissions = 1 - (task_1_df_filtered.shape[0] / len(task_1_df))\n",
    "print(f'В абсолютном выражении было удалено {cnt_emissions} записи, относительно первоначального количества это составляет {percent_emissions:.2%}')"
   ]
  },
  {
   "cell_type": "markdown",
   "id": "0875486e",
   "metadata": {},
   "source": [
    "Видим, что было удалено чуть больше 3%. Так как данные были представлены в плохом состоянии, данный процент считаю нормальным (учитывая общепринятую норму в 10%).\n",
    "\n",
    "Стоит также заметить, что если бы данные не были очищены от аномальных значений, то результат исследования был бы очень сильно искажён, так как в датасете были представлены сильно выбивающиеся от общей картины значения."
   ]
  },
  {
   "cell_type": "code",
   "execution_count": 25,
   "id": "27747840",
   "metadata": {},
   "outputs": [
    {
     "data": {
      "text/html": [
       "<div>\n",
       "<style scoped>\n",
       "    .dataframe tbody tr th:only-of-type {\n",
       "        vertical-align: middle;\n",
       "    }\n",
       "\n",
       "    .dataframe tbody tr th {\n",
       "        vertical-align: top;\n",
       "    }\n",
       "\n",
       "    .dataframe thead th {\n",
       "        text-align: right;\n",
       "    }\n",
       "</style>\n",
       "<table border=\"1\" class=\"dataframe\">\n",
       "  <thead>\n",
       "    <tr style=\"text-align: right;\">\n",
       "      <th></th>\n",
       "      <th>Сумма начислений в месяц, руб</th>\n",
       "    </tr>\n",
       "    <tr>\n",
       "      <th>ID абонента</th>\n",
       "      <th></th>\n",
       "    </tr>\n",
       "  </thead>\n",
       "  <tbody>\n",
       "    <tr>\n",
       "      <th>144560886</th>\n",
       "      <td>39935.72</td>\n",
       "    </tr>\n",
       "    <tr>\n",
       "      <th>414730268</th>\n",
       "      <td>38919.29</td>\n",
       "    </tr>\n",
       "    <tr>\n",
       "      <th>149352798</th>\n",
       "      <td>38893.09</td>\n",
       "    </tr>\n",
       "    <tr>\n",
       "      <th>148721637</th>\n",
       "      <td>38878.54</td>\n",
       "    </tr>\n",
       "    <tr>\n",
       "      <th>148047518</th>\n",
       "      <td>38656.13</td>\n",
       "    </tr>\n",
       "  </tbody>\n",
       "</table>\n",
       "</div>"
      ],
      "text/plain": [
       "             Сумма начислений в месяц, руб\n",
       "ID абонента                               \n",
       "144560886                         39935.72\n",
       "414730268                         38919.29\n",
       "149352798                         38893.09\n",
       "148721637                         38878.54\n",
       "148047518                         38656.13"
      ]
     },
     "execution_count": 25,
     "metadata": {},
     "output_type": "execute_result"
    }
   ],
   "source": [
    "(task_1_df_filtered.groupby('ID абонента')[['Сумма начислений в месяц, руб']].sum()\n",
    "                                                                        .sort_values(by='Сумма начислений в месяц, руб',\n",
    "                                                                                     ascending=False)\n",
    "                                                                        .head()\n",
    "                                                                                                             \n",
    ")"
   ]
  },
  {
   "cell_type": "markdown",
   "id": "dd475d04",
   "metadata": {},
   "source": [
    "Как ранее было сказано, агрегировать данные по `id` абонента не имеет смысла, так как в этом столбце почти все значения уникальные и как-то это использовать в анализе не получится. Следовательно, будем смотреть на категории используемого устройства.\n",
    "\n",
    "Для сегментации пользователей можем использовать функцию, которая будет написана для того, чтобы разделить абонентов на группы, после чего будет видно сколько и каких абонентов попало в ту или иную категорию."
   ]
  },
  {
   "cell_type": "code",
   "execution_count": 26,
   "id": "1f358a0d",
   "metadata": {},
   "outputs": [
    {
     "data": {
      "text/html": [
       "<div>\n",
       "<style scoped>\n",
       "    .dataframe tbody tr th:only-of-type {\n",
       "        vertical-align: middle;\n",
       "    }\n",
       "\n",
       "    .dataframe tbody tr th {\n",
       "        vertical-align: top;\n",
       "    }\n",
       "\n",
       "    .dataframe thead th {\n",
       "        text-align: right;\n",
       "    }\n",
       "</style>\n",
       "<table border=\"1\" class=\"dataframe\">\n",
       "  <thead>\n",
       "    <tr style=\"text-align: right;\">\n",
       "      <th></th>\n",
       "      <th>Сумма начислений в месяц, руб</th>\n",
       "      <th>Трафик голосовой, мин</th>\n",
       "      <th>Трафик передачи данных, Мб</th>\n",
       "      <th>Трафик в роуминге, мин</th>\n",
       "    </tr>\n",
       "  </thead>\n",
       "  <tbody>\n",
       "    <tr>\n",
       "      <th>count</th>\n",
       "      <td>14151.00</td>\n",
       "      <td>14151.00</td>\n",
       "      <td>14151.00</td>\n",
       "      <td>14151.00</td>\n",
       "    </tr>\n",
       "    <tr>\n",
       "      <th>mean</th>\n",
       "      <td>2736.89</td>\n",
       "      <td>850.87</td>\n",
       "      <td>21702.42</td>\n",
       "      <td>84.27</td>\n",
       "    </tr>\n",
       "    <tr>\n",
       "      <th>std</th>\n",
       "      <td>5575.22</td>\n",
       "      <td>1677.75</td>\n",
       "      <td>33751.64</td>\n",
       "      <td>246.56</td>\n",
       "    </tr>\n",
       "    <tr>\n",
       "      <th>min</th>\n",
       "      <td>0.00</td>\n",
       "      <td>0.00</td>\n",
       "      <td>0.00</td>\n",
       "      <td>0.00</td>\n",
       "    </tr>\n",
       "    <tr>\n",
       "      <th>25%</th>\n",
       "      <td>313.25</td>\n",
       "      <td>3.85</td>\n",
       "      <td>614.00</td>\n",
       "      <td>0.00</td>\n",
       "    </tr>\n",
       "    <tr>\n",
       "      <th>50%</th>\n",
       "      <td>747.42</td>\n",
       "      <td>56.54</td>\n",
       "      <td>3070.26</td>\n",
       "      <td>0.00</td>\n",
       "    </tr>\n",
       "    <tr>\n",
       "      <th>75%</th>\n",
       "      <td>1694.26</td>\n",
       "      <td>943.44</td>\n",
       "      <td>43853.95</td>\n",
       "      <td>0.41</td>\n",
       "    </tr>\n",
       "    <tr>\n",
       "      <th>max</th>\n",
       "      <td>39935.72</td>\n",
       "      <td>8995.61</td>\n",
       "      <td>179984.76</td>\n",
       "      <td>1996.62</td>\n",
       "    </tr>\n",
       "  </tbody>\n",
       "</table>\n",
       "</div>"
      ],
      "text/plain": [
       "       Сумма начислений в месяц, руб  Трафик голосовой, мин   \n",
       "count                       14151.00               14151.00  \\\n",
       "mean                         2736.89                 850.87   \n",
       "std                          5575.22                1677.75   \n",
       "min                             0.00                   0.00   \n",
       "25%                           313.25                   3.85   \n",
       "50%                           747.42                  56.54   \n",
       "75%                          1694.26                 943.44   \n",
       "max                         39935.72                8995.61   \n",
       "\n",
       "       Трафик передачи данных, Мб  Трафик в роуминге, мин  \n",
       "count                    14151.00                14151.00  \n",
       "mean                     21702.42                   84.27  \n",
       "std                      33751.64                  246.56  \n",
       "min                          0.00                    0.00  \n",
       "25%                        614.00                    0.00  \n",
       "50%                       3070.26                    0.00  \n",
       "75%                      43853.95                    0.41  \n",
       "max                     179984.76                 1996.62  "
      ]
     },
     "execution_count": 26,
     "metadata": {},
     "output_type": "execute_result"
    }
   ],
   "source": [
    "# Проверим описательную статистику уже по обработанным данным\n",
    "task_1_df_filtered[['Сумма начислений в месяц, руб', 'Трафик голосовой, мин', \n",
    "                    'Трафик передачи данных, Мб','Трафик в роуминге, мин']].describe()"
   ]
  },
  {
   "cell_type": "markdown",
   "id": "7095cf53",
   "metadata": {},
   "source": [
    "Из описательной статистики по очищенным данным видим, что картина по количественным переменным стала более реалисичной и нет сильно выбивающихся значений от общей массы. \n",
    "\n",
    "Далее сделаем сегментацию, выделив несколько характерных признаков на основе профиля абонента, который определялся на основании количественных данных, представленных в датафрейме. Проще говоря, сегментация — это инструмент повышения эффективности работы с клиентами за счет их разделения на разные группы в соответствии с профилем. Сегментация помогает понять, с каким предложением подойти к каждому человеку, чтобы повысить показатель эффективности. "
   ]
  },
  {
   "cell_type": "code",
   "execution_count": 27,
   "id": "b44378e4",
   "metadata": {},
   "outputs": [],
   "source": [
    "# Функция для категоризации данных относительно количественных переменных, представленных в датасете\n",
    "def accrual_amount(number):\n",
    "    try:\n",
    "        # Сумма начислений в месяц\n",
    "        amount = number['Сумма начислений в месяц, руб']\n",
    "        # Голосовой трафик\n",
    "        voice_traffic = number['Трафик голосовой, мин']\n",
    "        # Трафик передачи данных\n",
    "        data_traffic = number['Трафик передачи данных, Мб']\n",
    "        # Трафик в роуминге\n",
    "        roaming_traffic = number['Трафик в роуминге, мин']\n",
    "        \n",
    "        # Алгоритм функции\n",
    "        if amount >= 6000 and data_traffic >= 80000 or voice_traffic >= 6000:\n",
    "            return 'Корпоративные клиенты'\n",
    "        \n",
    "        elif roaming_traffic >= 250:\n",
    "            return 'Любители путешествовать'\n",
    "        \n",
    "        elif 3000 <= amount < 6000 and 40000 <= data_traffic < 80000 or 0 <= voice_traffic < 200:\n",
    "            return 'Сёрферы интернет-трафика'\n",
    "                \n",
    "        elif 2000 <= amount < 3000 and 20000 <= data_traffic < 40000 or 1000 <= voice_traffic < 6000:\n",
    "            return 'Универсальные пользователи'\n",
    "                \n",
    "        elif amount < 2000 and data_traffic < 20000 or 200 <= voice_traffic < 1000:\n",
    "            return 'Стандартные пользователи'\n",
    "        else:\n",
    "            return 'Не определены'\n",
    "    except:\n",
    "        return 'ошибка'\n",
    "# Создаём новый столбец и передаём методу apply собственную функцию\n",
    "task_1_df_filtered['subscriber_category'] = task_1_df_filtered.apply(accrual_amount, axis=1)"
   ]
  },
  {
   "cell_type": "markdown",
   "id": "81d5009d",
   "metadata": {},
   "source": [
    "Первоначальная логика функции была такой, что она должна учитывать строго три фактора (то есть одновременно все три условия через оператор `and`), но после пробного исполнения такой функции, было выяснено, что получается слишком много пропусков, так как использовались очень жёсткие критерии категоризации, поэтому было принято решение о том, чтобы смягчить применимые условия и прописать их не только через `and `, но и `or`."
   ]
  },
  {
   "cell_type": "markdown",
   "id": "60089ee2",
   "metadata": {},
   "source": [
    "**Вывод по написанной функции**\n",
    "\n",
    "Пояснение к функции, почему брались именно такие диапазоны для категоризации данных:\n",
    " 1. Столбец с роумингом учитывался только один раз, исходя из этого определялась категория людей, которые очень любят путешествовать.\n",
    " 2. Корпоративные клиенты определялись исходя из больших сумм начислений, большого интернет трафика и большого количества голосового трафика, так как есть много компаний, которые тратят всё это в больших объёмах в рабочем процессе.\n",
    " 3. Сёрферы интернет-трафика - люди, которые являются большими любителями посидеть в интернете (посмотреть видео на ютубе, поиграть в какие-то онлайн игры и просто посидеть в соц. сетях). Эти люди готовы вложить в тариф сумму, равную больше среднестатистической по всем пользователям, используют интернет в большом объёме, и мало используют звонки, так как в основном общаются через discord, telegram и другие мессенджеры, пока играют или вовсе не являются общительными, так как сильно погружены в игровой процесс и их мало интересует реальная жизнь, общение с другими людьми, им больше интересен игровой процесс. \n",
    " 4. Универсальные пользователи - абоненты, которые пользуются всем, но понемногу: готовы потратить на тариф не маленькую сумму, используют достаточно большой трафик интернета и любят общаться по телефону достаточно часто. \n",
    " 5. Стандартные пользователи - такие пользователи, которые готовы заплатить не сильно большую сумму за свой тариф, используют не так много интернета (до 20 Гб в месяц) и относительно других не так много общаются по телефону"
   ]
  },
  {
   "cell_type": "code",
   "execution_count": 28,
   "id": "91522efb",
   "metadata": {},
   "outputs": [
    {
     "data": {
      "text/plain": [
       "subscriber_category\n",
       "Сёрферы интернет-трафика      7836\n",
       "Стандартные пользователи      2399\n",
       "Универсальные пользователи    1549\n",
       "Любители путешествовать       1514\n",
       "Корпоративные клиенты          853\n",
       "Name: count, dtype: int64"
      ]
     },
     "execution_count": 28,
     "metadata": {},
     "output_type": "execute_result"
    }
   ],
   "source": [
    "task_1_df_filtered['subscriber_category'].value_counts()"
   ]
  },
  {
   "cell_type": "markdown",
   "id": "9eb1a430",
   "metadata": {},
   "source": [
    "Посмотримна то, какую пользу приносят абоненты, которых ранее разбили на группы. Классификация поможет понять, какая из категорий наиболее перспективная и активная. "
   ]
  },
  {
   "cell_type": "code",
   "execution_count": 29,
   "id": "57c50b10",
   "metadata": {},
   "outputs": [
    {
     "data": {
      "text/html": [
       "<div>\n",
       "<style scoped>\n",
       "    .dataframe tbody tr th:only-of-type {\n",
       "        vertical-align: middle;\n",
       "    }\n",
       "\n",
       "    .dataframe tbody tr th {\n",
       "        vertical-align: top;\n",
       "    }\n",
       "\n",
       "    .dataframe thead th {\n",
       "        text-align: right;\n",
       "    }\n",
       "</style>\n",
       "<table border=\"1\" class=\"dataframe\">\n",
       "  <thead>\n",
       "    <tr style=\"text-align: right;\">\n",
       "      <th></th>\n",
       "      <th>Сумма начислений в месяц, руб</th>\n",
       "      <th>Трафик в роуминге, мин</th>\n",
       "      <th>Трафик голосовой, мин</th>\n",
       "      <th>Трафик передачи данных, Мб</th>\n",
       "    </tr>\n",
       "    <tr>\n",
       "      <th>subscriber_category</th>\n",
       "      <th></th>\n",
       "      <th></th>\n",
       "      <th></th>\n",
       "      <th></th>\n",
       "    </tr>\n",
       "  </thead>\n",
       "  <tbody>\n",
       "    <tr>\n",
       "      <th>Корпоративные клиенты</th>\n",
       "      <td>2232.29</td>\n",
       "      <td>37.21</td>\n",
       "      <td>6835.91</td>\n",
       "      <td>6861.52</td>\n",
       "    </tr>\n",
       "    <tr>\n",
       "      <th>Любители путешествовать</th>\n",
       "      <td>3716.81</td>\n",
       "      <td>734.54</td>\n",
       "      <td>1296.18</td>\n",
       "      <td>2841.35</td>\n",
       "    </tr>\n",
       "    <tr>\n",
       "      <th>Стандартные пользователи</th>\n",
       "      <td>4615.71</td>\n",
       "      <td>6.28</td>\n",
       "      <td>586.82</td>\n",
       "      <td>60604.50</td>\n",
       "    </tr>\n",
       "    <tr>\n",
       "      <th>Сёрферы интернет-трафика</th>\n",
       "      <td>453.50</td>\n",
       "      <td>0.28</td>\n",
       "      <td>29.70</td>\n",
       "      <td>12678.05</td>\n",
       "    </tr>\n",
       "    <tr>\n",
       "      <th>Универсальные пользователи</th>\n",
       "      <td>10698.27</td>\n",
       "      <td>20.29</td>\n",
       "      <td>1682.84</td>\n",
       "      <td>33712.57</td>\n",
       "    </tr>\n",
       "  </tbody>\n",
       "</table>\n",
       "</div>"
      ],
      "text/plain": [
       "                            Сумма начислений в месяц, руб   \n",
       "subscriber_category                                         \n",
       "Корпоративные клиенты                             2232.29  \\\n",
       "Любители путешествовать                           3716.81   \n",
       "Стандартные пользователи                          4615.71   \n",
       "Сёрферы интернет-трафика                           453.50   \n",
       "Универсальные пользователи                       10698.27   \n",
       "\n",
       "                            Трафик в роуминге, мин  Трафик голосовой, мин   \n",
       "subscriber_category                                                         \n",
       "Корпоративные клиенты                        37.21                6835.91  \\\n",
       "Любители путешествовать                     734.54                1296.18   \n",
       "Стандартные пользователи                      6.28                 586.82   \n",
       "Сёрферы интернет-трафика                      0.28                  29.70   \n",
       "Универсальные пользователи                   20.29                1682.84   \n",
       "\n",
       "                            Трафик передачи данных, Мб  \n",
       "subscriber_category                                     \n",
       "Корпоративные клиенты                          6861.52  \n",
       "Любители путешествовать                        2841.35  \n",
       "Стандартные пользователи                      60604.50  \n",
       "Сёрферы интернет-трафика                      12678.05  \n",
       "Универсальные пользователи                    33712.57  "
      ]
     },
     "execution_count": 29,
     "metadata": {},
     "output_type": "execute_result"
    }
   ],
   "source": [
    "pivot_subscriber = task_1_df_filtered.pivot_table(index='subscriber_category', \n",
    "                                                  values=['Сумма начислений в месяц, руб', 'Трафик голосовой, мин', \n",
    "                                                          'Трафик передачи данных, Мб', 'Трафик в роуминге, мин'])\n",
    "pivot_subscriber"
   ]
  },
  {
   "cell_type": "code",
   "execution_count": 30,
   "id": "f7c26b79",
   "metadata": {},
   "outputs": [
    {
     "data": {
      "image/png": "[encoded data removed]",
      "text/plain": [
       "<Figure size 1080x504 with 1 Axes>"
      ]
     },
     "metadata": {
      "needs_background": "light"
     },
     "output_type": "display_data"
    }
   ],
   "source": [
    "pivot_subscriber.plot(kind='bar', figsize=(15, 7), grid=True)\n",
    "plt.title('Средняя величина показателя в разрезе категории устройства')\n",
    "plt.xlabel('Категория абонентов')\n",
    "plt.ylabel('Значение показателя')\n",
    "plt.xticks(rotation=360)\n",
    "plt.show()"
   ]
  },
  {
   "cell_type": "markdown",
   "id": "4c86b540",
   "metadata": {},
   "source": [
    "**Вывод**\n",
    "\n",
    "Глядя на график, можно заметить, что:\n",
    "1. У стандартных пользователей представлен наибольший средний трафик передачи данных, на втором месте у универсальных пользователей, потом уже идут те абоненты, которые долго и много сидят в интернете. \n",
    "2. Средняя сумма начислений в месяц в большем объёме представлена у универсальных пользователей. \n",
    "3. Голосовым трафиком чаще пользуются корпоративные клиенты."
   ]
  },
  {
   "cell_type": "markdown",
   "id": "8a367ca5",
   "metadata": {},
   "source": [
    "Теперь проанализируем каждую категорию устройства, что позволит понять, чем люди пользуются больше и какое из них приносит наибольшую пользу компании. Тем самым составим профиль абонента - то, чем пользователь больше всего пользуется, какой трафик использует, сколько Мб тратит и тд., псоле чего уже можно будет делать определённые выводы. "
   ]
  },
  {
   "cell_type": "code",
   "execution_count": 31,
   "id": "157503dd",
   "metadata": {},
   "outputs": [
    {
     "data": {
      "text/html": [
       "<div>\n",
       "<style scoped>\n",
       "    .dataframe tbody tr th:only-of-type {\n",
       "        vertical-align: middle;\n",
       "    }\n",
       "\n",
       "    .dataframe tbody tr th {\n",
       "        vertical-align: top;\n",
       "    }\n",
       "\n",
       "    .dataframe thead th {\n",
       "        text-align: right;\n",
       "    }\n",
       "</style>\n",
       "<table border=\"1\" class=\"dataframe\">\n",
       "  <thead>\n",
       "    <tr style=\"text-align: right;\">\n",
       "      <th></th>\n",
       "      <th>Сумма начислений в месяц, руб</th>\n",
       "      <th>Трафик в роуминге, мин</th>\n",
       "      <th>Трафик голосовой, мин</th>\n",
       "      <th>Трафик передачи данных, Мб</th>\n",
       "    </tr>\n",
       "    <tr>\n",
       "      <th>Категория устройства</th>\n",
       "      <th></th>\n",
       "      <th></th>\n",
       "      <th></th>\n",
       "      <th></th>\n",
       "    </tr>\n",
       "  </thead>\n",
       "  <tbody>\n",
       "    <tr>\n",
       "      <th>DATA CARD</th>\n",
       "      <td>84.20</td>\n",
       "      <td>0.03</td>\n",
       "      <td>77.83</td>\n",
       "      <td>82.19</td>\n",
       "    </tr>\n",
       "    <tr>\n",
       "      <th>MODEM</th>\n",
       "      <td>564.61</td>\n",
       "      <td>0.24</td>\n",
       "      <td>23.64</td>\n",
       "      <td>7631.38</td>\n",
       "    </tr>\n",
       "    <tr>\n",
       "      <th>PHONE</th>\n",
       "      <td>6563.82</td>\n",
       "      <td>167.62</td>\n",
       "      <td>5322.47</td>\n",
       "      <td>783.13</td>\n",
       "    </tr>\n",
       "    <tr>\n",
       "      <th>ROUTER</th>\n",
       "      <td>575.58</td>\n",
       "      <td>0.25</td>\n",
       "      <td>50.35</td>\n",
       "      <td>8194.35</td>\n",
       "    </tr>\n",
       "    <tr>\n",
       "      <th>SMARTPHONE</th>\n",
       "      <td>4405.57</td>\n",
       "      <td>145.77</td>\n",
       "      <td>1284.47</td>\n",
       "      <td>35418.34</td>\n",
       "    </tr>\n",
       "    <tr>\n",
       "      <th>unknown</th>\n",
       "      <td>3085.02</td>\n",
       "      <td>20.79</td>\n",
       "      <td>7032.12</td>\n",
       "      <td>2603.85</td>\n",
       "    </tr>\n",
       "  </tbody>\n",
       "</table>\n",
       "</div>"
      ],
      "text/plain": [
       "                      Сумма начислений в месяц, руб  Трафик в роуминге, мин   \n",
       "Категория устройства                                                          \n",
       "DATA CARD                                     84.20                    0.03  \\\n",
       "MODEM                                        564.61                    0.24   \n",
       "PHONE                                       6563.82                  167.62   \n",
       "ROUTER                                       575.58                    0.25   \n",
       "SMARTPHONE                                  4405.57                  145.77   \n",
       "unknown                                     3085.02                   20.79   \n",
       "\n",
       "                      Трафик голосовой, мин  Трафик передачи данных, Мб  \n",
       "Категория устройства                                                     \n",
       "DATA CARD                             77.83                       82.19  \n",
       "MODEM                                 23.64                     7631.38  \n",
       "PHONE                               5322.47                      783.13  \n",
       "ROUTER                                50.35                     8194.35  \n",
       "SMARTPHONE                          1284.47                    35418.34  \n",
       "unknown                             7032.12                     2603.85  "
      ]
     },
     "execution_count": 31,
     "metadata": {},
     "output_type": "execute_result"
    }
   ],
   "source": [
    "pivot_category = task_1_df_filtered.pivot_table(index='Категория устройства', \n",
    "                               values=['Сумма начислений в месяц, руб', 'Трафик голосовой, мин', 'Трафик передачи данных, Мб',\n",
    "                                       'Трафик в роуминге, мин'])\n",
    "pivot_category"
   ]
  },
  {
   "cell_type": "code",
   "execution_count": 32,
   "id": "7fea3b9f",
   "metadata": {},
   "outputs": [
    {
     "data": {
      "image/png": "[encoded data removed]",
      "text/plain": [
       "<Figure size 1080x504 with 1 Axes>"
      ]
     },
     "metadata": {
      "needs_background": "light"
     },
     "output_type": "display_data"
    }
   ],
   "source": [
    "pivot_category.plot(kind='bar', figsize=(15, 7), grid=True)\n",
    "plt.title('Величина показателя в разрезе устройства')\n",
    "plt.xlabel('Категория устройства')\n",
    "plt.ylabel('Значение показателя')\n",
    "plt.xticks(rotation=360)\n",
    "plt.show()"
   ]
  },
  {
   "cell_type": "markdown",
   "id": "a3358175",
   "metadata": {},
   "source": [
    "**Вывод**\n",
    "\n",
    "Рассматривая сводную таблицу по среднему использованию каждого из показателей в разрезе устройства, можно заметить следующее:\n",
    " 1. Абоненты, обладающие смартфоном и телефоном, в среднем, готовы тратить наибольшую сумму на использования своего тарифа.\n",
    " 2. Трафик в роуминге особым спросом пользуется у абонентов, имеющие смартфон и телефон. Всё логично, потому что эти устройства сейчас, как правило, беспроводные и их можно брать с собой куда угодно. \n",
    " 3. Голосовым трафиком больше всего пользуются обладатели неизвестной категории устройства (unknown) и телефона.\n",
    " 4. Интернет трафик в подавляющем объёме используют люди, имеющие смартфоны, после них уже люди, у которых есть роутер. \n",
    " \n",
    "Стоит также отметить тот факт, что неизвестная категория устройства пользуется достаточным спросом. Следует обратить на это пристальное внимание и передать данную информацию коллегам, потому что возможно, какие-то важные данные утеряны и из нужно восстановить. \n",
    "Данную сводную таблицу можно также использовать с целью классификации пользователей: запускать таргетированную рекламу на абонентов, которые имеют определённые устройства, с целью предлагать им более выгодные тарифы."
   ]
  },
  {
   "cell_type": "code",
   "execution_count": 33,
   "id": "d785e880",
   "metadata": {},
   "outputs": [
    {
     "data": {
      "text/plain": [
       "Категория устройства\n",
       "SMARTPHONE    7873\n",
       "MODEM         3026\n",
       "DATA CARD     2386\n",
       "ROUTER         570\n",
       "PHONE          257\n",
       "unknown         39\n",
       "Name: count, dtype: int64"
      ]
     },
     "execution_count": 33,
     "metadata": {},
     "output_type": "execute_result"
    }
   ],
   "source": [
    "task_1_df_filtered['Категория устройства'].value_counts()"
   ]
  },
  {
   "cell_type": "code",
   "execution_count": 34,
   "id": "edbebaeb",
   "metadata": {},
   "outputs": [
    {
     "data": {
      "image/png": "[encoded data removed]",
      "text/plain": [
       "<Figure size 1080x504 with 1 Axes>"
      ]
     },
     "metadata": {
      "needs_background": "light"
     },
     "output_type": "display_data"
    }
   ],
   "source": [
    "task_1_df_filtered.groupby('subscriber_category')['subscriber_category'].count().plot(kind='bar', figsize=(15, 7),\n",
    "                                                                                      grid=True)\n",
    "plt.title('Количество абонентов, входящих в каждую из категорий')\n",
    "plt.xlabel('Категория абонентов')\n",
    "plt.ylabel('Количество, шт.')\n",
    "plt.xticks(rotation=360)\n",
    "plt.show()"
   ]
  },
  {
   "cell_type": "markdown",
   "id": "61d79d93",
   "metadata": {},
   "source": [
    "**Вывод**\n",
    "\n",
    "Анализируя категории, полученные путём классификации абонентов по их профилю, можно сделать следующие выводы:\n",
    "1. Подавляющее большинство в нашем датасете представлено тех абонентов, которые очень много используют интернет. \n",
    "2. На втором месте представлены стандартные пользователи и уже на третьем - универсальные. \n",
    "\n",
    "Исходя из такого распределения по категориям, следует перераспределять силы и средства компании в приоритетных направлениях, чтобы предлагать пользователям компании нужные и выгодные тарифы, с целью их удержания и вовлечения."
   ]
  },
  {
   "cell_type": "markdown",
   "id": "656826b5",
   "metadata": {},
   "source": [
    "## Итоговый вывод по 1 заданию"
   ]
  },
  {
   "cell_type": "markdown",
   "id": "0160a5ed",
   "metadata": {},
   "source": [
    "Варианты того, как можно использовать предложенные классификации. Для каждой группы абонентов можно предложить персонализированные предложения. \n",
    "\n",
    "Например, для \"Корпоративных клиентов\" можно предложить специальные корпоративные тарифы или услуги\n",
    "\n",
    "Для \"Сёрферов интернет-трафика\" - дополнительные пакеты интернет-трафика или тарифы с более высокой скоростью, чтобы они могли играть на большой скорости и скачивать то, что им захочется\n",
    "\n",
    "Для \"Стандартных пользователей\" - простые и доступные тарифы, которые не будут иметь каких-то излишеств, там будет включено только то, что им действительно необходимо\n",
    "\n",
    "Для \"Универсальных абонентов\" - предложить что-то среднее, найти золотую середину, чтобы им было комфортно пользоваться всем и понемногу, так как им не захочется переплачивать за то, что они не используют, следовательно, такие абоненты будут искать более выгодные тарифы у конкурентов, а такого допустить нельзя. \n",
    "\n",
    "Для \"Любителей путешествовать\" можно предложить такие персонализированные тарифы, где будет не так много интернета и минут внутри страны, зато они будут комфортно себя чувствовать за границей, так как достаточно часто там бывают (лтбо по работе, либо для отдыха). Однако можно сделать и так, чтобы с этим тарифом они себя комфортно чувствовали как на территории своей страны, так и за её пределами. "
   ]
  },
  {
   "cell_type": "markdown",
   "id": "d9d279be",
   "metadata": {},
   "source": [
    "## Задание 4.\n",
    "На листах 1 и 2 приведены данные по абонентской базе и выручке.\n",
    "\n",
    "Необходимо рассчитать среднюю выручку от активного абонента по сегменту B2B в разрезе филиалов, показать помесячную динамику. Выручка должна быть указана в руб. без НДС на одного абонента."
   ]
  },
  {
   "cell_type": "code",
   "execution_count": 35,
   "id": "6739a5cd",
   "metadata": {},
   "outputs": [
    {
     "data": {
      "text/html": [
       "<div>\n",
       "<style scoped>\n",
       "    .dataframe tbody tr th:only-of-type {\n",
       "        vertical-align: middle;\n",
       "    }\n",
       "\n",
       "    .dataframe tbody tr th {\n",
       "        vertical-align: top;\n",
       "    }\n",
       "\n",
       "    .dataframe thead th {\n",
       "        text-align: right;\n",
       "    }\n",
       "</style>\n",
       "<table border=\"1\" class=\"dataframe\">\n",
       "  <thead>\n",
       "    <tr style=\"text-align: right;\">\n",
       "      <th></th>\n",
       "      <th>Месяц (YYYYMM)</th>\n",
       "      <th>Филиал</th>\n",
       "      <th>Регион клиента (Hyperion)</th>\n",
       "      <th>Сегмент рынка</th>\n",
       "      <th>Кол-во активных абонентов на конец периода, шт.</th>\n",
       "    </tr>\n",
       "  </thead>\n",
       "  <tbody>\n",
       "    <tr>\n",
       "      <th>0</th>\n",
       "      <td>201701</td>\n",
       "      <td>Дальневосточный филиал</td>\n",
       "      <td>Амурская область</td>\n",
       "      <td>B2B</td>\n",
       "      <td>13590</td>\n",
       "    </tr>\n",
       "    <tr>\n",
       "      <th>1</th>\n",
       "      <td>201701</td>\n",
       "      <td>Дальневосточный филиал</td>\n",
       "      <td>Амурская область</td>\n",
       "      <td>B2C</td>\n",
       "      <td>238181</td>\n",
       "    </tr>\n",
       "    <tr>\n",
       "      <th>2</th>\n",
       "      <td>201701</td>\n",
       "      <td>Дальневосточный филиал</td>\n",
       "      <td>Амурская область</td>\n",
       "      <td>B2G</td>\n",
       "      <td>9455</td>\n",
       "    </tr>\n",
       "    <tr>\n",
       "      <th>3</th>\n",
       "      <td>201701</td>\n",
       "      <td>Дальневосточный филиал</td>\n",
       "      <td>Амурская область</td>\n",
       "      <td>B2O</td>\n",
       "      <td>0</td>\n",
       "    </tr>\n",
       "    <tr>\n",
       "      <th>4</th>\n",
       "      <td>201701</td>\n",
       "      <td>Дальневосточный филиал</td>\n",
       "      <td>Еврейская АО</td>\n",
       "      <td>B2B</td>\n",
       "      <td>6444</td>\n",
       "    </tr>\n",
       "  </tbody>\n",
       "</table>\n",
       "</div>"
      ],
      "text/plain": [
       "   Месяц (YYYYMM)                  Филиал Регион клиента (Hyperion)   \n",
       "0          201701  Дальневосточный филиал          Амурская область  \\\n",
       "1          201701  Дальневосточный филиал          Амурская область   \n",
       "2          201701  Дальневосточный филиал          Амурская область   \n",
       "3          201701  Дальневосточный филиал          Амурская область   \n",
       "4          201701  Дальневосточный филиал              Еврейская АО   \n",
       "\n",
       "  Сегмент рынка  Кол-во активных абонентов на конец периода, шт.  \n",
       "0           B2B                                            13590  \n",
       "1           B2C                                           238181  \n",
       "2           B2G                                             9455  \n",
       "3           B2O                                                0  \n",
       "4           B2B                                             6444  "
      ]
     },
     "execution_count": 35,
     "metadata": {},
     "output_type": "execute_result"
    }
   ],
   "source": [
    "subscriber_base = pd.read_excel('Тестовое задание для кандидатов 2022.xlsx', sheet_name='Лист1')\n",
    "subscriber_base.head()"
   ]
  },
  {
   "cell_type": "code",
   "execution_count": 36,
   "id": "36d888c6",
   "metadata": {},
   "outputs": [
    {
     "name": "stdout",
     "output_type": "stream",
     "text": [
      "<class 'pandas.core.frame.DataFrame'>\n",
      "RangeIndex: 1934 entries, 0 to 1933\n",
      "Data columns (total 5 columns):\n",
      " #   Column                                           Non-Null Count  Dtype \n",
      "---  ------                                           --------------  ----- \n",
      " 0   Месяц (YYYYMM)                                   1934 non-null   int64 \n",
      " 1   Филиал                                           1934 non-null   object\n",
      " 2   Регион клиента (Hyperion)                        1828 non-null   object\n",
      " 3   Сегмент рынка                                    1844 non-null   object\n",
      " 4   Кол-во активных абонентов на конец периода, шт.  1934 non-null   int64 \n",
      "dtypes: int64(2), object(3)\n",
      "memory usage: 75.7+ KB\n"
     ]
    }
   ],
   "source": [
    "# Информация по абонентской базе\n",
    "subscriber_base.info()"
   ]
  },
  {
   "cell_type": "code",
   "execution_count": 37,
   "id": "cd2b48b5",
   "metadata": {},
   "outputs": [
    {
     "data": {
      "text/html": [
       "<div>\n",
       "<style scoped>\n",
       "    .dataframe tbody tr th:only-of-type {\n",
       "        vertical-align: middle;\n",
       "    }\n",
       "\n",
       "    .dataframe tbody tr th {\n",
       "        vertical-align: top;\n",
       "    }\n",
       "\n",
       "    .dataframe thead th {\n",
       "        text-align: right;\n",
       "    }\n",
       "</style>\n",
       "<table border=\"1\" class=\"dataframe\">\n",
       "  <thead>\n",
       "    <tr style=\"text-align: right;\">\n",
       "      <th></th>\n",
       "      <th>Месяц (YYYYMM)</th>\n",
       "      <th>Филиал</th>\n",
       "      <th>Сегмент рынка</th>\n",
       "      <th>Выручка, тыс руб., без НДС</th>\n",
       "    </tr>\n",
       "  </thead>\n",
       "  <tbody>\n",
       "    <tr>\n",
       "      <th>0</th>\n",
       "      <td>201701</td>\n",
       "      <td>Дальневосточный филиал</td>\n",
       "      <td>B2B</td>\n",
       "      <td>54949.08</td>\n",
       "    </tr>\n",
       "    <tr>\n",
       "      <th>1</th>\n",
       "      <td>201701</td>\n",
       "      <td>Дальневосточный филиал</td>\n",
       "      <td>B2C</td>\n",
       "      <td>1023969.75</td>\n",
       "    </tr>\n",
       "    <tr>\n",
       "      <th>2</th>\n",
       "      <td>201701</td>\n",
       "      <td>Дальневосточный филиал</td>\n",
       "      <td>B2G</td>\n",
       "      <td>21139.21</td>\n",
       "    </tr>\n",
       "    <tr>\n",
       "      <th>3</th>\n",
       "      <td>201701</td>\n",
       "      <td>Дальневосточный филиал</td>\n",
       "      <td>B2O</td>\n",
       "      <td>0.39</td>\n",
       "    </tr>\n",
       "    <tr>\n",
       "      <th>4</th>\n",
       "      <td>201701</td>\n",
       "      <td>Кавказский филиал</td>\n",
       "      <td>B2B</td>\n",
       "      <td>89872.08</td>\n",
       "    </tr>\n",
       "  </tbody>\n",
       "</table>\n",
       "</div>"
      ],
      "text/plain": [
       "   Месяц (YYYYMM)                  Филиал Сегмент рынка   \n",
       "0          201701  Дальневосточный филиал           B2B  \\\n",
       "1          201701  Дальневосточный филиал           B2C   \n",
       "2          201701  Дальневосточный филиал           B2G   \n",
       "3          201701  Дальневосточный филиал           B2O   \n",
       "4          201701       Кавказский филиал           B2B   \n",
       "\n",
       "   Выручка, тыс руб., без НДС  \n",
       "0                    54949.08  \n",
       "1                  1023969.75  \n",
       "2                    21139.21  \n",
       "3                        0.39  \n",
       "4                    89872.08  "
      ]
     },
     "execution_count": 37,
     "metadata": {},
     "output_type": "execute_result"
    }
   ],
   "source": [
    "revenue_subscribers = pd.read_excel('Тестовое задание для кандидатов 2022.xlsx', sheet_name='Лист2')\n",
    "revenue_subscribers.head()"
   ]
  },
  {
   "cell_type": "code",
   "execution_count": 38,
   "id": "6513cd41",
   "metadata": {},
   "outputs": [
    {
     "name": "stdout",
     "output_type": "stream",
     "text": [
      "<class 'pandas.core.frame.DataFrame'>\n",
      "RangeIndex: 201 entries, 0 to 200\n",
      "Data columns (total 4 columns):\n",
      " #   Column                      Non-Null Count  Dtype  \n",
      "---  ------                      --------------  -----  \n",
      " 0   Месяц (YYYYMM)              201 non-null    int64  \n",
      " 1   Филиал                      201 non-null    object \n",
      " 2   Сегмент рынка               189 non-null    object \n",
      " 3   Выручка, тыс руб., без НДС  201 non-null    float64\n",
      "dtypes: float64(1), int64(1), object(2)\n",
      "memory usage: 6.4+ KB\n"
     ]
    }
   ],
   "source": [
    "# Информация по выручке от абонентов\n",
    "revenue_subscribers.info()"
   ]
  },
  {
   "cell_type": "markdown",
   "id": "d850b0c2",
   "metadata": {},
   "source": [
    "Видим следующие проблемы в данных: столбец с месяцем представлен в виде целого числа в обоих датасетах\n",
    "\n",
    "Перед тем, как начать исследование, необходимо исправить эти недочёты, чтобы можно было корректно анализировать данные."
   ]
  },
  {
   "cell_type": "code",
   "execution_count": 39,
   "id": "4447a992",
   "metadata": {},
   "outputs": [],
   "source": [
    "# Исправляем тип данных в столбцах с датой (также рабочий метод)\n",
    "subscriber_base['Месяц (YYYYMM)'] = pd.to_datetime(subscriber_base['Месяц (YYYYMM)'], format='%Y%m')\n",
    "revenue_subscribers['Месяц (YYYYMM)'] = pd.to_datetime(revenue_subscribers['Месяц (YYYYMM)'], format='%Y%m')"
   ]
  },
  {
   "cell_type": "markdown",
   "id": "1a591d42",
   "metadata": {},
   "source": [
    "Теперь нужно проверить то, как отработали методы по предобработке данных"
   ]
  },
  {
   "cell_type": "code",
   "execution_count": 40,
   "id": "2584ae27",
   "metadata": {},
   "outputs": [
    {
     "data": {
      "text/html": [
       "<div>\n",
       "<style scoped>\n",
       "    .dataframe tbody tr th:only-of-type {\n",
       "        vertical-align: middle;\n",
       "    }\n",
       "\n",
       "    .dataframe tbody tr th {\n",
       "        vertical-align: top;\n",
       "    }\n",
       "\n",
       "    .dataframe thead th {\n",
       "        text-align: right;\n",
       "    }\n",
       "</style>\n",
       "<table border=\"1\" class=\"dataframe\">\n",
       "  <thead>\n",
       "    <tr style=\"text-align: right;\">\n",
       "      <th></th>\n",
       "      <th>Месяц (YYYYMM)</th>\n",
       "      <th>Филиал</th>\n",
       "      <th>Регион клиента (Hyperion)</th>\n",
       "      <th>Сегмент рынка</th>\n",
       "      <th>Кол-во активных абонентов на конец периода, шт.</th>\n",
       "    </tr>\n",
       "  </thead>\n",
       "  <tbody>\n",
       "    <tr>\n",
       "      <th>0</th>\n",
       "      <td>2017-01-01</td>\n",
       "      <td>Дальневосточный филиал</td>\n",
       "      <td>Амурская область</td>\n",
       "      <td>B2B</td>\n",
       "      <td>13590</td>\n",
       "    </tr>\n",
       "    <tr>\n",
       "      <th>1</th>\n",
       "      <td>2017-01-01</td>\n",
       "      <td>Дальневосточный филиал</td>\n",
       "      <td>Амурская область</td>\n",
       "      <td>B2C</td>\n",
       "      <td>238181</td>\n",
       "    </tr>\n",
       "    <tr>\n",
       "      <th>2</th>\n",
       "      <td>2017-01-01</td>\n",
       "      <td>Дальневосточный филиал</td>\n",
       "      <td>Амурская область</td>\n",
       "      <td>B2G</td>\n",
       "      <td>9455</td>\n",
       "    </tr>\n",
       "    <tr>\n",
       "      <th>3</th>\n",
       "      <td>2017-01-01</td>\n",
       "      <td>Дальневосточный филиал</td>\n",
       "      <td>Амурская область</td>\n",
       "      <td>B2O</td>\n",
       "      <td>0</td>\n",
       "    </tr>\n",
       "    <tr>\n",
       "      <th>4</th>\n",
       "      <td>2017-01-01</td>\n",
       "      <td>Дальневосточный филиал</td>\n",
       "      <td>Еврейская АО</td>\n",
       "      <td>B2B</td>\n",
       "      <td>6444</td>\n",
       "    </tr>\n",
       "  </tbody>\n",
       "</table>\n",
       "</div>"
      ],
      "text/plain": [
       "  Месяц (YYYYMM)                  Филиал Регион клиента (Hyperion)   \n",
       "0     2017-01-01  Дальневосточный филиал          Амурская область  \\\n",
       "1     2017-01-01  Дальневосточный филиал          Амурская область   \n",
       "2     2017-01-01  Дальневосточный филиал          Амурская область   \n",
       "3     2017-01-01  Дальневосточный филиал          Амурская область   \n",
       "4     2017-01-01  Дальневосточный филиал              Еврейская АО   \n",
       "\n",
       "  Сегмент рынка  Кол-во активных абонентов на конец периода, шт.  \n",
       "0           B2B                                            13590  \n",
       "1           B2C                                           238181  \n",
       "2           B2G                                             9455  \n",
       "3           B2O                                                0  \n",
       "4           B2B                                             6444  "
      ]
     },
     "execution_count": 40,
     "metadata": {},
     "output_type": "execute_result"
    }
   ],
   "source": [
    "subscriber_base.head()"
   ]
  },
  {
   "cell_type": "code",
   "execution_count": 41,
   "id": "c6a9bf37",
   "metadata": {},
   "outputs": [
    {
     "data": {
      "text/html": [
       "<div>\n",
       "<style scoped>\n",
       "    .dataframe tbody tr th:only-of-type {\n",
       "        vertical-align: middle;\n",
       "    }\n",
       "\n",
       "    .dataframe tbody tr th {\n",
       "        vertical-align: top;\n",
       "    }\n",
       "\n",
       "    .dataframe thead th {\n",
       "        text-align: right;\n",
       "    }\n",
       "</style>\n",
       "<table border=\"1\" class=\"dataframe\">\n",
       "  <thead>\n",
       "    <tr style=\"text-align: right;\">\n",
       "      <th></th>\n",
       "      <th>Месяц (YYYYMM)</th>\n",
       "      <th>Филиал</th>\n",
       "      <th>Сегмент рынка</th>\n",
       "      <th>Выручка, тыс руб., без НДС</th>\n",
       "    </tr>\n",
       "  </thead>\n",
       "  <tbody>\n",
       "    <tr>\n",
       "      <th>0</th>\n",
       "      <td>2017-01-01</td>\n",
       "      <td>Дальневосточный филиал</td>\n",
       "      <td>B2B</td>\n",
       "      <td>54949.08</td>\n",
       "    </tr>\n",
       "    <tr>\n",
       "      <th>1</th>\n",
       "      <td>2017-01-01</td>\n",
       "      <td>Дальневосточный филиал</td>\n",
       "      <td>B2C</td>\n",
       "      <td>1023969.75</td>\n",
       "    </tr>\n",
       "    <tr>\n",
       "      <th>2</th>\n",
       "      <td>2017-01-01</td>\n",
       "      <td>Дальневосточный филиал</td>\n",
       "      <td>B2G</td>\n",
       "      <td>21139.21</td>\n",
       "    </tr>\n",
       "    <tr>\n",
       "      <th>3</th>\n",
       "      <td>2017-01-01</td>\n",
       "      <td>Дальневосточный филиал</td>\n",
       "      <td>B2O</td>\n",
       "      <td>0.39</td>\n",
       "    </tr>\n",
       "    <tr>\n",
       "      <th>4</th>\n",
       "      <td>2017-01-01</td>\n",
       "      <td>Кавказский филиал</td>\n",
       "      <td>B2B</td>\n",
       "      <td>89872.08</td>\n",
       "    </tr>\n",
       "  </tbody>\n",
       "</table>\n",
       "</div>"
      ],
      "text/plain": [
       "  Месяц (YYYYMM)                  Филиал Сегмент рынка   \n",
       "0     2017-01-01  Дальневосточный филиал           B2B  \\\n",
       "1     2017-01-01  Дальневосточный филиал           B2C   \n",
       "2     2017-01-01  Дальневосточный филиал           B2G   \n",
       "3     2017-01-01  Дальневосточный филиал           B2O   \n",
       "4     2017-01-01       Кавказский филиал           B2B   \n",
       "\n",
       "   Выручка, тыс руб., без НДС  \n",
       "0                    54949.08  \n",
       "1                  1023969.75  \n",
       "2                    21139.21  \n",
       "3                        0.39  \n",
       "4                    89872.08  "
      ]
     },
     "execution_count": 41,
     "metadata": {},
     "output_type": "execute_result"
    }
   ],
   "source": [
    "revenue_subscribers.head()"
   ]
  },
  {
   "cell_type": "markdown",
   "id": "438e0781",
   "metadata": {},
   "source": [
    "Далее посмотрим на столбец с месяцем, за одинаковый ли период даны данные и совпадают ли эти значения. Если да, то можно соединить две таблицы именно по этому полю."
   ]
  },
  {
   "cell_type": "code",
   "execution_count": 42,
   "id": "9b20cb34",
   "metadata": {},
   "outputs": [
    {
     "data": {
      "text/plain": [
       "<DatetimeArray>\n",
       "['2017-01-01 00:00:00', '2017-02-01 00:00:00', '2017-03-01 00:00:00',\n",
       " '2017-04-01 00:00:00', '2017-05-01 00:00:00', '2017-06-01 00:00:00']\n",
       "Length: 6, dtype: datetime64[ns]"
      ]
     },
     "execution_count": 42,
     "metadata": {},
     "output_type": "execute_result"
    }
   ],
   "source": [
    "subscriber_base['Месяц (YYYYMM)'].unique()"
   ]
  },
  {
   "cell_type": "code",
   "execution_count": 43,
   "id": "a66367b2",
   "metadata": {},
   "outputs": [
    {
     "data": {
      "text/plain": [
       "<DatetimeArray>\n",
       "['2017-01-01 00:00:00', '2017-02-01 00:00:00', '2017-03-01 00:00:00',\n",
       " '2017-04-01 00:00:00', '2017-05-01 00:00:00', '2017-06-01 00:00:00']\n",
       "Length: 6, dtype: datetime64[ns]"
      ]
     },
     "execution_count": 43,
     "metadata": {},
     "output_type": "execute_result"
    }
   ],
   "source": [
    "revenue_subscribers['Месяц (YYYYMM)'].unique()"
   ]
  },
  {
   "cell_type": "markdown",
   "id": "29c7c603",
   "metadata": {},
   "source": [
    "На данном этапе необходимо соединить два датасета в один, чтобы можно было уже приступить к исследованию данных. Видим, что данные по месяцам абсолютно одинаковы, можем соединить именно по этому столбцу. Однако, при таком соединении, получается слишком много заспией. \n",
    "\n",
    "Также, стоит заметить, что в таблицах нет первичного и вторичного ключей, поэтому можно соединять данные и по двум полям: `Филиал` и `Сегмент рынка`, а не по какому-то одному из них, во избежании дубликатов и помноженных лишних записей. "
   ]
  },
  {
   "cell_type": "code",
   "execution_count": 44,
   "id": "61d8d062",
   "metadata": {},
   "outputs": [
    {
     "data": {
      "text/html": [
       "<div>\n",
       "<style scoped>\n",
       "    .dataframe tbody tr th:only-of-type {\n",
       "        vertical-align: middle;\n",
       "    }\n",
       "\n",
       "    .dataframe tbody tr th {\n",
       "        vertical-align: top;\n",
       "    }\n",
       "\n",
       "    .dataframe thead th {\n",
       "        text-align: right;\n",
       "    }\n",
       "</style>\n",
       "<table border=\"1\" class=\"dataframe\">\n",
       "  <thead>\n",
       "    <tr style=\"text-align: right;\">\n",
       "      <th></th>\n",
       "      <th>Месяц (YYYYMM)_x</th>\n",
       "      <th>Филиал</th>\n",
       "      <th>Регион клиента (Hyperion)</th>\n",
       "      <th>Сегмент рынка</th>\n",
       "      <th>Кол-во активных абонентов на конец периода, шт.</th>\n",
       "      <th>Месяц (YYYYMM)_y</th>\n",
       "      <th>Выручка, тыс руб., без НДС</th>\n",
       "    </tr>\n",
       "  </thead>\n",
       "  <tbody>\n",
       "    <tr>\n",
       "      <th>0</th>\n",
       "      <td>2017-01-01</td>\n",
       "      <td>Дальневосточный филиал</td>\n",
       "      <td>Амурская область</td>\n",
       "      <td>B2B</td>\n",
       "      <td>13590</td>\n",
       "      <td>2017-01-01</td>\n",
       "      <td>54949.08</td>\n",
       "    </tr>\n",
       "    <tr>\n",
       "      <th>1</th>\n",
       "      <td>2017-01-01</td>\n",
       "      <td>Дальневосточный филиал</td>\n",
       "      <td>Амурская область</td>\n",
       "      <td>B2B</td>\n",
       "      <td>13590</td>\n",
       "      <td>2017-02-01</td>\n",
       "      <td>52572.03</td>\n",
       "    </tr>\n",
       "    <tr>\n",
       "      <th>2</th>\n",
       "      <td>2017-01-01</td>\n",
       "      <td>Дальневосточный филиал</td>\n",
       "      <td>Амурская область</td>\n",
       "      <td>B2B</td>\n",
       "      <td>13590</td>\n",
       "      <td>2017-03-01</td>\n",
       "      <td>56091.22</td>\n",
       "    </tr>\n",
       "    <tr>\n",
       "      <th>3</th>\n",
       "      <td>2017-01-01</td>\n",
       "      <td>Дальневосточный филиал</td>\n",
       "      <td>Амурская область</td>\n",
       "      <td>B2B</td>\n",
       "      <td>13590</td>\n",
       "      <td>2017-04-01</td>\n",
       "      <td>53383.59</td>\n",
       "    </tr>\n",
       "    <tr>\n",
       "      <th>4</th>\n",
       "      <td>2017-01-01</td>\n",
       "      <td>Дальневосточный филиал</td>\n",
       "      <td>Амурская область</td>\n",
       "      <td>B2B</td>\n",
       "      <td>13590</td>\n",
       "      <td>2017-05-01</td>\n",
       "      <td>54386.30</td>\n",
       "    </tr>\n",
       "  </tbody>\n",
       "</table>\n",
       "</div>"
      ],
      "text/plain": [
       "  Месяц (YYYYMM)_x                  Филиал Регион клиента (Hyperion)   \n",
       "0       2017-01-01  Дальневосточный филиал          Амурская область  \\\n",
       "1       2017-01-01  Дальневосточный филиал          Амурская область   \n",
       "2       2017-01-01  Дальневосточный филиал          Амурская область   \n",
       "3       2017-01-01  Дальневосточный филиал          Амурская область   \n",
       "4       2017-01-01  Дальневосточный филиал          Амурская область   \n",
       "\n",
       "  Сегмент рынка  Кол-во активных абонентов на конец периода, шт.   \n",
       "0           B2B                                            13590  \\\n",
       "1           B2B                                            13590   \n",
       "2           B2B                                            13590   \n",
       "3           B2B                                            13590   \n",
       "4           B2B                                            13590   \n",
       "\n",
       "  Месяц (YYYYMM)_y  Выручка, тыс руб., без НДС  \n",
       "0       2017-01-01                    54949.08  \n",
       "1       2017-02-01                    52572.03  \n",
       "2       2017-03-01                    56091.22  \n",
       "3       2017-04-01                    53383.59  \n",
       "4       2017-05-01                    54386.30  "
      ]
     },
     "execution_count": 44,
     "metadata": {},
     "output_type": "execute_result"
    }
   ],
   "source": [
    "total_df = subscriber_base.merge(revenue_subscribers, on=['Филиал', 'Сегмент рынка'], how='left')\n",
    "total_df.head()"
   ]
  },
  {
   "cell_type": "code",
   "execution_count": 45,
   "id": "69f68293",
   "metadata": {},
   "outputs": [
    {
     "name": "stdout",
     "output_type": "stream",
     "text": [
      "<class 'pandas.core.frame.DataFrame'>\n",
      "RangeIndex: 11595 entries, 0 to 11594\n",
      "Data columns (total 7 columns):\n",
      " #   Column                                           Non-Null Count  Dtype         \n",
      "---  ------                                           --------------  -----         \n",
      " 0   Месяц (YYYYMM)_x                                 11595 non-null  datetime64[ns]\n",
      " 1   Филиал                                           11595 non-null  object        \n",
      " 2   Регион клиента (Hyperion)                        10959 non-null  object        \n",
      " 3   Сегмент рынка                                    11055 non-null  object        \n",
      " 4   Кол-во активных абонентов на конец периода, шт.  11595 non-null  int64         \n",
      " 5   Месяц (YYYYMM)_y                                 11595 non-null  datetime64[ns]\n",
      " 6   Выручка, тыс руб., без НДС                       11595 non-null  float64       \n",
      "dtypes: datetime64[ns](2), float64(1), int64(1), object(3)\n",
      "memory usage: 634.2+ KB\n"
     ]
    }
   ],
   "source": [
    "total_df.info()"
   ]
  },
  {
   "cell_type": "markdown",
   "id": "6be6ae6d",
   "metadata": {},
   "source": [
    "Видим, что соединение таблиц произвелось корректным образом."
   ]
  },
  {
   "cell_type": "code",
   "execution_count": 46,
   "id": "2c1ad89e",
   "metadata": {},
   "outputs": [
    {
     "data": {
      "text/html": [
       "<div>\n",
       "<style scoped>\n",
       "    .dataframe tbody tr th:only-of-type {\n",
       "        vertical-align: middle;\n",
       "    }\n",
       "\n",
       "    .dataframe tbody tr th {\n",
       "        vertical-align: top;\n",
       "    }\n",
       "\n",
       "    .dataframe thead th {\n",
       "        text-align: right;\n",
       "    }\n",
       "</style>\n",
       "<table border=\"1\" class=\"dataframe\">\n",
       "  <thead>\n",
       "    <tr style=\"text-align: right;\">\n",
       "      <th></th>\n",
       "      <th>Месяц (YYYYMM)_x</th>\n",
       "      <th>Филиал</th>\n",
       "      <th>Регион клиента (Hyperion)</th>\n",
       "      <th>Сегмент рынка</th>\n",
       "      <th>Кол-во активных абонентов на конец периода, шт.</th>\n",
       "      <th>Месяц (YYYYMM)_y</th>\n",
       "      <th>Выручка, тыс руб., без НДС</th>\n",
       "    </tr>\n",
       "  </thead>\n",
       "  <tbody>\n",
       "    <tr>\n",
       "      <th>0</th>\n",
       "      <td>2017-01-01</td>\n",
       "      <td>Дальневосточный филиал</td>\n",
       "      <td>Амурская область</td>\n",
       "      <td>B2B</td>\n",
       "      <td>13590</td>\n",
       "      <td>2017-01-01</td>\n",
       "      <td>54949.08</td>\n",
       "    </tr>\n",
       "    <tr>\n",
       "      <th>1</th>\n",
       "      <td>2017-01-01</td>\n",
       "      <td>Дальневосточный филиал</td>\n",
       "      <td>Амурская область</td>\n",
       "      <td>B2B</td>\n",
       "      <td>13590</td>\n",
       "      <td>2017-02-01</td>\n",
       "      <td>52572.03</td>\n",
       "    </tr>\n",
       "    <tr>\n",
       "      <th>2</th>\n",
       "      <td>2017-01-01</td>\n",
       "      <td>Дальневосточный филиал</td>\n",
       "      <td>Амурская область</td>\n",
       "      <td>B2B</td>\n",
       "      <td>13590</td>\n",
       "      <td>2017-03-01</td>\n",
       "      <td>56091.22</td>\n",
       "    </tr>\n",
       "    <tr>\n",
       "      <th>3</th>\n",
       "      <td>2017-01-01</td>\n",
       "      <td>Дальневосточный филиал</td>\n",
       "      <td>Амурская область</td>\n",
       "      <td>B2B</td>\n",
       "      <td>13590</td>\n",
       "      <td>2017-04-01</td>\n",
       "      <td>53383.59</td>\n",
       "    </tr>\n",
       "    <tr>\n",
       "      <th>4</th>\n",
       "      <td>2017-01-01</td>\n",
       "      <td>Дальневосточный филиал</td>\n",
       "      <td>Амурская область</td>\n",
       "      <td>B2B</td>\n",
       "      <td>13590</td>\n",
       "      <td>2017-05-01</td>\n",
       "      <td>54386.30</td>\n",
       "    </tr>\n",
       "  </tbody>\n",
       "</table>\n",
       "</div>"
      ],
      "text/plain": [
       "  Месяц (YYYYMM)_x                  Филиал Регион клиента (Hyperion)   \n",
       "0       2017-01-01  Дальневосточный филиал          Амурская область  \\\n",
       "1       2017-01-01  Дальневосточный филиал          Амурская область   \n",
       "2       2017-01-01  Дальневосточный филиал          Амурская область   \n",
       "3       2017-01-01  Дальневосточный филиал          Амурская область   \n",
       "4       2017-01-01  Дальневосточный филиал          Амурская область   \n",
       "\n",
       "  Сегмент рынка  Кол-во активных абонентов на конец периода, шт.   \n",
       "0           B2B                                            13590  \\\n",
       "1           B2B                                            13590   \n",
       "2           B2B                                            13590   \n",
       "3           B2B                                            13590   \n",
       "4           B2B                                            13590   \n",
       "\n",
       "  Месяц (YYYYMM)_y  Выручка, тыс руб., без НДС  \n",
       "0       2017-01-01                    54949.08  \n",
       "1       2017-02-01                    52572.03  \n",
       "2       2017-03-01                    56091.22  \n",
       "3       2017-04-01                    53383.59  \n",
       "4       2017-05-01                    54386.30  "
      ]
     },
     "execution_count": 46,
     "metadata": {},
     "output_type": "execute_result"
    }
   ],
   "source": [
    "# Срезаем данные по нужному нам сегменту\n",
    "b2b_df = total_df[total_df['Сегмент рынка'] == 'B2B']\n",
    "b2b_df.head()"
   ]
  },
  {
   "cell_type": "markdown",
   "id": "c3c05a10",
   "metadata": {},
   "source": [
    "Далее находим среднюю выручку на одного активного абонента. Для этого необходимо поделить показатель выручки на количество активных абонентов на конец периода."
   ]
  },
  {
   "cell_type": "code",
   "execution_count": 47,
   "id": "67e82b32",
   "metadata": {},
   "outputs": [
    {
     "data": {
      "text/html": [
       "<div>\n",
       "<style scoped>\n",
       "    .dataframe tbody tr th:only-of-type {\n",
       "        vertical-align: middle;\n",
       "    }\n",
       "\n",
       "    .dataframe tbody tr th {\n",
       "        vertical-align: top;\n",
       "    }\n",
       "\n",
       "    .dataframe thead th {\n",
       "        text-align: right;\n",
       "    }\n",
       "</style>\n",
       "<table border=\"1\" class=\"dataframe\">\n",
       "  <thead>\n",
       "    <tr style=\"text-align: right;\">\n",
       "      <th></th>\n",
       "      <th>Месяц (YYYYMM)_x</th>\n",
       "      <th>Филиал</th>\n",
       "      <th>Регион клиента (Hyperion)</th>\n",
       "      <th>Сегмент рынка</th>\n",
       "      <th>Кол-во активных абонентов на конец периода, шт.</th>\n",
       "      <th>Месяц (YYYYMM)_y</th>\n",
       "      <th>Выручка, руб., без НДС</th>\n",
       "    </tr>\n",
       "  </thead>\n",
       "  <tbody>\n",
       "    <tr>\n",
       "      <th>0</th>\n",
       "      <td>2017-01-01</td>\n",
       "      <td>Дальневосточный филиал</td>\n",
       "      <td>Амурская область</td>\n",
       "      <td>B2B</td>\n",
       "      <td>13590</td>\n",
       "      <td>2017-01-01</td>\n",
       "      <td>54949082.82</td>\n",
       "    </tr>\n",
       "    <tr>\n",
       "      <th>1</th>\n",
       "      <td>2017-01-01</td>\n",
       "      <td>Дальневосточный филиал</td>\n",
       "      <td>Амурская область</td>\n",
       "      <td>B2B</td>\n",
       "      <td>13590</td>\n",
       "      <td>2017-02-01</td>\n",
       "      <td>52572027.00</td>\n",
       "    </tr>\n",
       "    <tr>\n",
       "      <th>2</th>\n",
       "      <td>2017-01-01</td>\n",
       "      <td>Дальневосточный филиал</td>\n",
       "      <td>Амурская область</td>\n",
       "      <td>B2B</td>\n",
       "      <td>13590</td>\n",
       "      <td>2017-03-01</td>\n",
       "      <td>56091217.18</td>\n",
       "    </tr>\n",
       "    <tr>\n",
       "      <th>3</th>\n",
       "      <td>2017-01-01</td>\n",
       "      <td>Дальневосточный филиал</td>\n",
       "      <td>Амурская область</td>\n",
       "      <td>B2B</td>\n",
       "      <td>13590</td>\n",
       "      <td>2017-04-01</td>\n",
       "      <td>53383593.95</td>\n",
       "    </tr>\n",
       "    <tr>\n",
       "      <th>4</th>\n",
       "      <td>2017-01-01</td>\n",
       "      <td>Дальневосточный филиал</td>\n",
       "      <td>Амурская область</td>\n",
       "      <td>B2B</td>\n",
       "      <td>13590</td>\n",
       "      <td>2017-05-01</td>\n",
       "      <td>54386295.67</td>\n",
       "    </tr>\n",
       "  </tbody>\n",
       "</table>\n",
       "</div>"
      ],
      "text/plain": [
       "  Месяц (YYYYMM)_x                  Филиал Регион клиента (Hyperion)   \n",
       "0       2017-01-01  Дальневосточный филиал          Амурская область  \\\n",
       "1       2017-01-01  Дальневосточный филиал          Амурская область   \n",
       "2       2017-01-01  Дальневосточный филиал          Амурская область   \n",
       "3       2017-01-01  Дальневосточный филиал          Амурская область   \n",
       "4       2017-01-01  Дальневосточный филиал          Амурская область   \n",
       "\n",
       "  Сегмент рынка  Кол-во активных абонентов на конец периода, шт.   \n",
       "0           B2B                                            13590  \\\n",
       "1           B2B                                            13590   \n",
       "2           B2B                                            13590   \n",
       "3           B2B                                            13590   \n",
       "4           B2B                                            13590   \n",
       "\n",
       "  Месяц (YYYYMM)_y  Выручка, руб., без НДС  \n",
       "0       2017-01-01             54949082.82  \n",
       "1       2017-02-01             52572027.00  \n",
       "2       2017-03-01             56091217.18  \n",
       "3       2017-04-01             53383593.95  \n",
       "4       2017-05-01             54386295.67  "
      ]
     },
     "execution_count": 47,
     "metadata": {},
     "output_type": "execute_result"
    }
   ],
   "source": [
    "# Переводим выручку из тыс. руб в рубли\n",
    "b2b_df['Выручка, тыс руб., без НДС'] = b2b_df['Выручка, тыс руб., без НДС'] * 1000\n",
    "b2b_df = b2b_df.rename(columns={'Выручка, тыс руб., без НДС': 'Выручка, руб., без НДС'})\n",
    "b2b_df.head()"
   ]
  },
  {
   "cell_type": "markdown",
   "id": "3158ffb2",
   "metadata": {},
   "source": [
    "Так как дальне шам необходимо будет посчитать динамику в разрезе филиалов, уберу из датасета `Столичный филиал`, потому что там большинство данных сильно отличаются от всех остальных. Возможно, изначально там данные представлены в рублях, а может и совершены какие-то ошибки. \n",
    "\n",
    "Также стоит предположить, что данные в порядке, так как всё-таки филиал находится в столице и такие показатели для Москвы это вполне себе нормально, но, чтобы на графиках всё визуализировалось красиво, уберём из анализа информацию об этом филиале."
   ]
  },
  {
   "cell_type": "code",
   "execution_count": 48,
   "id": "72955de3",
   "metadata": {},
   "outputs": [],
   "source": [
    "b2b_df = b2b_df[b2b_df['Филиал'] != 'Столичный филиал']"
   ]
  },
  {
   "cell_type": "code",
   "execution_count": 49,
   "id": "064131a2",
   "metadata": {},
   "outputs": [
    {
     "data": {
      "text/html": [
       "<div>\n",
       "<style scoped>\n",
       "    .dataframe tbody tr th:only-of-type {\n",
       "        vertical-align: middle;\n",
       "    }\n",
       "\n",
       "    .dataframe tbody tr th {\n",
       "        vertical-align: top;\n",
       "    }\n",
       "\n",
       "    .dataframe thead th {\n",
       "        text-align: right;\n",
       "    }\n",
       "</style>\n",
       "<table border=\"1\" class=\"dataframe\">\n",
       "  <thead>\n",
       "    <tr style=\"text-align: right;\">\n",
       "      <th></th>\n",
       "      <th>Месяц (YYYYMM)_x</th>\n",
       "      <th>Филиал</th>\n",
       "      <th>Регион клиента (Hyperion)</th>\n",
       "      <th>Сегмент рынка</th>\n",
       "      <th>Кол-во активных абонентов на конец периода, шт.</th>\n",
       "      <th>Месяц (YYYYMM)_y</th>\n",
       "      <th>Выручка, руб., без НДС</th>\n",
       "      <th>Средняя выручка на одного активного абонента, руб.</th>\n",
       "    </tr>\n",
       "  </thead>\n",
       "  <tbody>\n",
       "    <tr>\n",
       "      <th>0</th>\n",
       "      <td>2017-01-01</td>\n",
       "      <td>Дальневосточный филиал</td>\n",
       "      <td>Амурская область</td>\n",
       "      <td>B2B</td>\n",
       "      <td>13590</td>\n",
       "      <td>2017-01-01</td>\n",
       "      <td>54949082.82</td>\n",
       "      <td>4043.35</td>\n",
       "    </tr>\n",
       "    <tr>\n",
       "      <th>1</th>\n",
       "      <td>2017-01-01</td>\n",
       "      <td>Дальневосточный филиал</td>\n",
       "      <td>Амурская область</td>\n",
       "      <td>B2B</td>\n",
       "      <td>13590</td>\n",
       "      <td>2017-02-01</td>\n",
       "      <td>52572027.00</td>\n",
       "      <td>3868.43</td>\n",
       "    </tr>\n",
       "    <tr>\n",
       "      <th>2</th>\n",
       "      <td>2017-01-01</td>\n",
       "      <td>Дальневосточный филиал</td>\n",
       "      <td>Амурская область</td>\n",
       "      <td>B2B</td>\n",
       "      <td>13590</td>\n",
       "      <td>2017-03-01</td>\n",
       "      <td>56091217.18</td>\n",
       "      <td>4127.39</td>\n",
       "    </tr>\n",
       "    <tr>\n",
       "      <th>3</th>\n",
       "      <td>2017-01-01</td>\n",
       "      <td>Дальневосточный филиал</td>\n",
       "      <td>Амурская область</td>\n",
       "      <td>B2B</td>\n",
       "      <td>13590</td>\n",
       "      <td>2017-04-01</td>\n",
       "      <td>53383593.95</td>\n",
       "      <td>3928.15</td>\n",
       "    </tr>\n",
       "    <tr>\n",
       "      <th>4</th>\n",
       "      <td>2017-01-01</td>\n",
       "      <td>Дальневосточный филиал</td>\n",
       "      <td>Амурская область</td>\n",
       "      <td>B2B</td>\n",
       "      <td>13590</td>\n",
       "      <td>2017-05-01</td>\n",
       "      <td>54386295.67</td>\n",
       "      <td>4001.93</td>\n",
       "    </tr>\n",
       "  </tbody>\n",
       "</table>\n",
       "</div>"
      ],
      "text/plain": [
       "  Месяц (YYYYMM)_x                  Филиал Регион клиента (Hyperion)   \n",
       "0       2017-01-01  Дальневосточный филиал          Амурская область  \\\n",
       "1       2017-01-01  Дальневосточный филиал          Амурская область   \n",
       "2       2017-01-01  Дальневосточный филиал          Амурская область   \n",
       "3       2017-01-01  Дальневосточный филиал          Амурская область   \n",
       "4       2017-01-01  Дальневосточный филиал          Амурская область   \n",
       "\n",
       "  Сегмент рынка  Кол-во активных абонентов на конец периода, шт.   \n",
       "0           B2B                                            13590  \\\n",
       "1           B2B                                            13590   \n",
       "2           B2B                                            13590   \n",
       "3           B2B                                            13590   \n",
       "4           B2B                                            13590   \n",
       "\n",
       "  Месяц (YYYYMM)_y  Выручка, руб., без НДС   \n",
       "0       2017-01-01             54949082.82  \\\n",
       "1       2017-02-01             52572027.00   \n",
       "2       2017-03-01             56091217.18   \n",
       "3       2017-04-01             53383593.95   \n",
       "4       2017-05-01             54386295.67   \n",
       "\n",
       "   Средняя выручка на одного активного абонента, руб.  \n",
       "0                                            4043.35   \n",
       "1                                            3868.43   \n",
       "2                                            4127.39   \n",
       "3                                            3928.15   \n",
       "4                                            4001.93   "
      ]
     },
     "execution_count": 49,
     "metadata": {},
     "output_type": "execute_result"
    }
   ],
   "source": [
    "b2b_df['Средняя выручка на одного активного абонента, руб.'] = (b2b_df['Выручка, руб., без НДС'] / \n",
    "                                         b2b_df['Кол-во активных абонентов на конец периода, шт.']\n",
    "                                         )\n",
    "b2b_df.head()"
   ]
  },
  {
   "cell_type": "markdown",
   "id": "1409ae7c",
   "metadata": {},
   "source": [
    "После того, как была найдена средняя выручка на одного активного абонента, необходимо посмотреть на помесячную динамику данной метрики в разрезе филиалов.\n",
    "\n",
    "Однако, в сводной таблице будет найден медианный показатель по всем месяца, так как в данных есть сильно выбивающиеся значения, которые искажают данные, медиана будет отражать наиболее правдоподобную картину. По сути, поделив выручку на количество абонентов, мы нашли, сколько в среднем выручки приходится на одного пользователя. "
   ]
  },
  {
   "cell_type": "code",
   "execution_count": 50,
   "id": "73193f2f",
   "metadata": {},
   "outputs": [
    {
     "data": {
      "text/html": [
       "<div>\n",
       "<style scoped>\n",
       "    .dataframe tbody tr th:only-of-type {\n",
       "        vertical-align: middle;\n",
       "    }\n",
       "\n",
       "    .dataframe tbody tr th {\n",
       "        vertical-align: top;\n",
       "    }\n",
       "\n",
       "    .dataframe thead th {\n",
       "        text-align: right;\n",
       "    }\n",
       "</style>\n",
       "<table border=\"1\" class=\"dataframe\">\n",
       "  <thead>\n",
       "    <tr style=\"text-align: right;\">\n",
       "      <th>Месяц (YYYYMM)_x</th>\n",
       "      <th>2017-01-01</th>\n",
       "      <th>2017-02-01</th>\n",
       "      <th>2017-03-01</th>\n",
       "      <th>2017-04-01</th>\n",
       "      <th>2017-05-01</th>\n",
       "      <th>2017-06-01</th>\n",
       "    </tr>\n",
       "    <tr>\n",
       "      <th>Филиал</th>\n",
       "      <th></th>\n",
       "      <th></th>\n",
       "      <th></th>\n",
       "      <th></th>\n",
       "      <th></th>\n",
       "      <th></th>\n",
       "    </tr>\n",
       "  </thead>\n",
       "  <tbody>\n",
       "    <tr>\n",
       "      <th>Дальневосточный филиал</th>\n",
       "      <td>3929.74</td>\n",
       "      <td>3953.47</td>\n",
       "      <td>3919.61</td>\n",
       "      <td>3858.20</td>\n",
       "      <td>3853.21</td>\n",
       "      <td>3664.38</td>\n",
       "    </tr>\n",
       "    <tr>\n",
       "      <th>Кавказский филиал</th>\n",
       "      <td>8617.93</td>\n",
       "      <td>8619.90</td>\n",
       "      <td>8389.50</td>\n",
       "      <td>8170.36</td>\n",
       "      <td>8008.05</td>\n",
       "      <td>7801.86</td>\n",
       "    </tr>\n",
       "    <tr>\n",
       "      <th>Поволжский филиал</th>\n",
       "      <td>4857.52</td>\n",
       "      <td>4818.07</td>\n",
       "      <td>4757.76</td>\n",
       "      <td>4675.11</td>\n",
       "      <td>4621.97</td>\n",
       "      <td>4559.94</td>\n",
       "    </tr>\n",
       "    <tr>\n",
       "      <th>Северо-Западный филиал</th>\n",
       "      <td>10501.14</td>\n",
       "      <td>10414.52</td>\n",
       "      <td>10330.66</td>\n",
       "      <td>10221.84</td>\n",
       "      <td>10135.24</td>\n",
       "      <td>10034.57</td>\n",
       "    </tr>\n",
       "    <tr>\n",
       "      <th>Сибирский филиал</th>\n",
       "      <td>1885.62</td>\n",
       "      <td>1856.09</td>\n",
       "      <td>1802.55</td>\n",
       "      <td>1795.53</td>\n",
       "      <td>1783.26</td>\n",
       "      <td>1747.93</td>\n",
       "    </tr>\n",
       "    <tr>\n",
       "      <th>Уральский филиал</th>\n",
       "      <td>4245.87</td>\n",
       "      <td>4211.50</td>\n",
       "      <td>4140.03</td>\n",
       "      <td>4125.31</td>\n",
       "      <td>4156.08</td>\n",
       "      <td>3966.20</td>\n",
       "    </tr>\n",
       "    <tr>\n",
       "      <th>Центральный филиал</th>\n",
       "      <td>2822.80</td>\n",
       "      <td>2804.01</td>\n",
       "      <td>2745.24</td>\n",
       "      <td>2725.00</td>\n",
       "      <td>2687.46</td>\n",
       "      <td>2655.22</td>\n",
       "    </tr>\n",
       "  </tbody>\n",
       "</table>\n",
       "</div>"
      ],
      "text/plain": [
       "Месяц (YYYYMM)_x        2017-01-01  2017-02-01  2017-03-01  2017-04-01   \n",
       "Филиал                                                                   \n",
       "Дальневосточный филиал     3929.74     3953.47     3919.61     3858.20  \\\n",
       "Кавказский филиал          8617.93     8619.90     8389.50     8170.36   \n",
       "Поволжский филиал          4857.52     4818.07     4757.76     4675.11   \n",
       "Северо-Западный филиал    10501.14    10414.52    10330.66    10221.84   \n",
       "Сибирский филиал           1885.62     1856.09     1802.55     1795.53   \n",
       "Уральский филиал           4245.87     4211.50     4140.03     4125.31   \n",
       "Центральный филиал         2822.80     2804.01     2745.24     2725.00   \n",
       "\n",
       "Месяц (YYYYMM)_x        2017-05-01  2017-06-01  \n",
       "Филиал                                          \n",
       "Дальневосточный филиал     3853.21     3664.38  \n",
       "Кавказский филиал          8008.05     7801.86  \n",
       "Поволжский филиал          4621.97     4559.94  \n",
       "Северо-Западный филиал    10135.24    10034.57  \n",
       "Сибирский филиал           1783.26     1747.93  \n",
       "Уральский филиал           4156.08     3966.20  \n",
       "Центральный филиал         2687.46     2655.22  "
      ]
     },
     "execution_count": 50,
     "metadata": {},
     "output_type": "execute_result"
    }
   ],
   "source": [
    "pivot_revenue = b2b_df.pivot_table(index='Филиал', columns='Месяц (YYYYMM)_x', \n",
    "                                   values='Средняя выручка на одного активного абонента, руб.', \n",
    "                                   aggfunc='median')\n",
    "pivot_revenue"
   ]
  },
  {
   "cell_type": "code",
   "execution_count": 51,
   "id": "43fbdeb1",
   "metadata": {},
   "outputs": [
    {
     "data": {
      "image/png": "[encoded data removed]",
      "text/plain": [
       "<Figure size 1080x504 with 1 Axes>"
      ]
     },
     "metadata": {
      "needs_background": "light"
     },
     "output_type": "display_data"
    }
   ],
   "source": [
    "pivot_revenue.T.plot(figsize=(15, 7))\n",
    "plt.title('Медианный показатель выручки по месяцам на одного абонента без НДС в разрезе филиалов')\n",
    "plt.xlabel('Месяц')\n",
    "plt.ylabel('Выручка на одного абонента, руб.')\n",
    "plt.show()"
   ]
  },
  {
   "cell_type": "markdown",
   "id": "13d921d6",
   "metadata": {},
   "source": [
    "## Итоговый вывод по 4 заданию\n",
    "\n",
    "Анализируя помесячную динамику средней выручки от активного абонента по сегменту B2B в разрезе филиалов, можно сделать следующие выводы: \n",
    "\n",
    "1. Показатель выручки по всем филиалам на протяжение всего рассматриваемого периода стабильный и никаких колебаний по ней не наблюдается.\n",
    "2. Наибольшая выручка на одного активного абонента представлена в Северо-Западном и Кавказском филиалах. Выручка остальных филиалов находится в диапазоне примерно от 2000 до 5000 рублей. "
   ]
  }
 ],
 "metadata": {
  "kernelspec": {
   "display_name": "Python 3 (ipykernel)",
   "language": "python",
   "name": "python3"
  },
  "language_info": {
   "codemirror_mode": {
    "name": "ipython",
    "version": 3
   },
   "file_extension": ".py",
   "mimetype": "text/x-python",
   "name": "python",
   "nbconvert_exporter": "python",
   "pygments_lexer": "ipython3",
   "version": "3.9.7"
  }
 },
 "nbformat": 4,
 "nbformat_minor": 5
}
