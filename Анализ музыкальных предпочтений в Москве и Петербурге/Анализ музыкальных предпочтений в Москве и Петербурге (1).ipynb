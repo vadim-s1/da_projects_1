{
 "cells": [
  {
   "cell_type": "markdown",
   "metadata": {
    "id": "E0vqbgi9ay0H"
   },
   "source": [
    "# Анализ музыкальных предпочтений в Москве и Петербурге "
   ]
  },
  {
   "cell_type": "markdown",
   "metadata": {
    "id": "VUC88oWjTJw2"
   },
   "source": [
    "Сравнение музыкальных предпочтений Москвы и Петербурга окружено мифами. Например:\n",
    " * Москва — мегаполис, подчинённый жёсткому ритму рабочей недели;\n",
    " * Петербург — культурная столица, со своими вкусами.\n",
    "\n",
    "На данных Яндекс.Музыки необходимо сравнить поведение пользователей двух столиц.\n",
    "\n",
    "**Цель исследования** — проверить три гипотезы:\n",
    "1. Активность пользователей зависит от дня недели. Причём в Москве и Петербурге это проявляется по-разному.\n",
    "2. В понедельник утром в Москве преобладают одни жанры, а в Петербурге — другие. Так же и вечером пятницы преобладают разные жанры — в зависимости от города. \n",
    "3. Москва и Петербург предпочитают разные жанры музыки. В Москве чаще слушают поп-музыку, в Петербурге — русский рэп.\n",
    "\n",
    "**Ход исследования** — данные о поведении пользователей получим из файла `yandex_music_project.csv`. О качестве данных ничего не известно, поэтому перед проверкой гипотез понадобится обзор данных, а также при необходимости, предобработка.  \n",
    "\n",
    "Проверим данные на ошибки и оценим их влияние на исследование. Затем, на этапе предобработки исправим самые критичные ошибки данных.\n",
    " \n",
    "Таким образом, исследование пройдёт в четыре этапа:\n",
    "1. Обзор данных.\n",
    "2. Предобработка данных.\n",
    "3. Проверка гипотез.\n",
    "4. Итоги исследования."
   ]
  },
  {
   "cell_type": "markdown",
   "metadata": {
    "id": "Ml1hmfXC_Zcs"
   },
   "source": [
    "## 1. Обзор данных\n",
    "Составляем первое представление о данных Яндекс.Музыки"
   ]
  },
  {
   "cell_type": "code",
   "execution_count": 1,
   "metadata": {
    "id": "AXN7PHPN_Zcs"
   },
   "outputs": [],
   "source": [
    "# Импорт библиотек\n",
    "import pandas as pd \n",
    "import datetime as dt\n",
    "import matplotlib.pyplot as plt\n",
    "import seaborn as sns"
   ]
  },
  {
   "cell_type": "code",
   "execution_count": 2,
   "metadata": {
    "id": "fFVu7vqh_Zct"
   },
   "outputs": [],
   "source": [
    "# Чтение файла с данными и сохранение их в переменную df \n",
    "df = pd.read_csv('yandex_music_project.csv')"
   ]
  },
  {
   "cell_type": "code",
   "execution_count": 3,
   "metadata": {
    "id": "oWTVX3gW_Zct"
   },
   "outputs": [
    {
     "data": {
      "text/html": [
       "<div>\n",
       "<style scoped>\n",
       "    .dataframe tbody tr th:only-of-type {\n",
       "        vertical-align: middle;\n",
       "    }\n",
       "\n",
       "    .dataframe tbody tr th {\n",
       "        vertical-align: top;\n",
       "    }\n",
       "\n",
       "    .dataframe thead th {\n",
       "        text-align: right;\n",
       "    }\n",
       "</style>\n",
       "<table border=\"1\" class=\"dataframe\">\n",
       "  <thead>\n",
       "    <tr style=\"text-align: right;\">\n",
       "      <th></th>\n",
       "      <th>userID</th>\n",
       "      <th>Track</th>\n",
       "      <th>artist</th>\n",
       "      <th>genre</th>\n",
       "      <th>City</th>\n",
       "      <th>time</th>\n",
       "      <th>Day</th>\n",
       "    </tr>\n",
       "  </thead>\n",
       "  <tbody>\n",
       "    <tr>\n",
       "      <th>0</th>\n",
       "      <td>FFB692EC</td>\n",
       "      <td>Kamigata To Boots</td>\n",
       "      <td>The Mass Missile</td>\n",
       "      <td>rock</td>\n",
       "      <td>Saint-Petersburg</td>\n",
       "      <td>20:28:33</td>\n",
       "      <td>Wednesday</td>\n",
       "    </tr>\n",
       "    <tr>\n",
       "      <th>1</th>\n",
       "      <td>55204538</td>\n",
       "      <td>Delayed Because of Accident</td>\n",
       "      <td>Andreas Rönnberg</td>\n",
       "      <td>rock</td>\n",
       "      <td>Moscow</td>\n",
       "      <td>14:07:09</td>\n",
       "      <td>Friday</td>\n",
       "    </tr>\n",
       "    <tr>\n",
       "      <th>2</th>\n",
       "      <td>20EC38</td>\n",
       "      <td>Funiculì funiculà</td>\n",
       "      <td>Mario Lanza</td>\n",
       "      <td>pop</td>\n",
       "      <td>Saint-Petersburg</td>\n",
       "      <td>20:58:07</td>\n",
       "      <td>Wednesday</td>\n",
       "    </tr>\n",
       "    <tr>\n",
       "      <th>3</th>\n",
       "      <td>A3DD03C9</td>\n",
       "      <td>Dragons in the Sunset</td>\n",
       "      <td>Fire + Ice</td>\n",
       "      <td>folk</td>\n",
       "      <td>Saint-Petersburg</td>\n",
       "      <td>08:37:09</td>\n",
       "      <td>Monday</td>\n",
       "    </tr>\n",
       "    <tr>\n",
       "      <th>4</th>\n",
       "      <td>E2DC1FAE</td>\n",
       "      <td>Soul People</td>\n",
       "      <td>Space Echo</td>\n",
       "      <td>dance</td>\n",
       "      <td>Moscow</td>\n",
       "      <td>08:34:34</td>\n",
       "      <td>Monday</td>\n",
       "    </tr>\n",
       "  </tbody>\n",
       "</table>\n",
       "</div>"
      ],
      "text/plain": [
       "     userID                        Track            artist  genre  \\\n",
       "0  FFB692EC            Kamigata To Boots  The Mass Missile   rock   \n",
       "1  55204538  Delayed Because of Accident  Andreas Rönnberg   rock   \n",
       "2    20EC38            Funiculì funiculà       Mario Lanza    pop   \n",
       "3  A3DD03C9        Dragons in the Sunset        Fire + Ice   folk   \n",
       "4  E2DC1FAE                  Soul People        Space Echo  dance   \n",
       "\n",
       "             City        time        Day  \n",
       "0  Saint-Petersburg  20:28:33  Wednesday  \n",
       "1            Moscow  14:07:09     Friday  \n",
       "2  Saint-Petersburg  20:58:07  Wednesday  \n",
       "3  Saint-Petersburg  08:37:09     Monday  \n",
       "4            Moscow  08:34:34     Monday  "
      ]
     },
     "execution_count": 3,
     "metadata": {},
     "output_type": "execute_result"
    }
   ],
   "source": [
    "df.head()"
   ]
  },
  {
   "cell_type": "code",
   "execution_count": 4,
   "metadata": {
    "id": "DSf2kIb-_Zct"
   },
   "outputs": [
    {
     "name": "stdout",
     "output_type": "stream",
     "text": [
      "<class 'pandas.core.frame.DataFrame'>\n",
      "RangeIndex: 65079 entries, 0 to 65078\n",
      "Data columns (total 7 columns):\n",
      " #   Column    Non-Null Count  Dtype \n",
      "---  ------    --------------  ----- \n",
      " 0     userID  65079 non-null  object\n",
      " 1   Track     63848 non-null  object\n",
      " 2   artist    57876 non-null  object\n",
      " 3   genre     63881 non-null  object\n",
      " 4     City    65079 non-null  object\n",
      " 5   time      65079 non-null  object\n",
      " 6   Day       65079 non-null  object\n",
      "dtypes: object(7)\n",
      "memory usage: 3.5+ MB\n"
     ]
    }
   ],
   "source": [
    "# Получение общей информации о данных в таблице df\n",
    "df.info()"
   ]
  },
  {
   "cell_type": "markdown",
   "metadata": {
    "id": "TaQ2Iwbr_Zct"
   },
   "source": [
    "Итак, в таблице семь столбцов. Тип данных во всех столбцах — `object`.\n",
    "\n",
    "Согласно документации к данным:\n",
    "* `userID` — идентификатор пользователя;\n",
    "* `Track` — название трека;  \n",
    "* `artist` — имя исполнителя;\n",
    "* `genre` — название жанра;\n",
    "* `City` — город пользователя;\n",
    "* `time` — время начала прослушивания;\n",
    "* `Day` — день недели.\n",
    "\n",
    "В названиях колонок видны три нарушения стиля:\n",
    "1. Строчные буквы сочетаются с прописными.\n",
    "2. Встречаются пробелы.\n",
    "3. Названия столбцов записаны не в \"змеином регистре\", например, колонку с ID нужно было назвать user_id\n",
    "\n",
    "\n",
    "\n",
    "Количество значений в столбцах различается. Значит, в данных есть пропущенные значения.\n"
   ]
  },
  {
   "cell_type": "markdown",
   "metadata": {
    "id": "MCB6-dXG_Zct"
   },
   "source": [
    "**Вывод по 1-ому разделу**\n",
    "\n",
    "В каждой строке таблицы — данные о прослушанном треке. Часть колонок описывает саму композицию: название, исполнителя и жанр. Остальные данные рассказывают о пользователе: из какого он города, когда он слушал музыку. \n",
    "\n",
    "Предварительно можно утверждать, что данных достаточно для проверки гипотез. Но встречаются пропуски в данных, а в названиях колонок — расхождения с хорошим стилем.\n",
    "\n",
    "Чтобы двигаться дальше, нужно устранить проблемы в данных."
   ]
  },
  {
   "cell_type": "markdown",
   "metadata": {
    "id": "SjYF6Ub9_Zct"
   },
   "source": [
    "## 2. Предобработка данных\n",
    "В данном разделе будут устранены самые критичные ошибки в данных"
   ]
  },
  {
   "cell_type": "markdown",
   "metadata": {
    "id": "dIaKXr29_Zct"
   },
   "source": [
    "### 2.1. Работа со стилем заголовков"
   ]
  },
  {
   "cell_type": "code",
   "execution_count": 5,
   "metadata": {
    "id": "oKOTdF_Q_Zct"
   },
   "outputs": [
    {
     "data": {
      "text/plain": [
       "Index(['  userID', 'Track', 'artist', 'genre', '  City  ', 'time', 'Day'], dtype='object')"
      ]
     },
     "execution_count": 5,
     "metadata": {},
     "output_type": "execute_result"
    }
   ],
   "source": [
    "# Перечень названий столбцов таблицы df\n",
    "df.columns"
   ]
  },
  {
   "cell_type": "markdown",
   "metadata": {
    "id": "zj5534cv_Zct"
   },
   "source": [
    "Приведём названия к хорошему стилю:\n",
    "* Несколько слов в названии запишим в «змеином_регистре»,\n",
    "* Все символы сделаем строчными,\n",
    "* Устраним пробелы.\n",
    "\n",
    "Для этого переименуем колонки так:\n",
    "* `'  userID'` → `'user_id'`;\n",
    "* `'Track'` → `'track'`;\n",
    "* `'  City  '` → `'city'`;\n",
    "* `'Day'` → `'day'`."
   ]
  },
  {
   "cell_type": "code",
   "execution_count": 6,
   "metadata": {
    "id": "ISlFqs5y_Zct"
   },
   "outputs": [],
   "source": [
    "# Переименование столбцов с помощью метода rename, так как он отработает без ошибок, даже если изменится порядок столбцов\n",
    "df = df.rename(columns={'  userID':'user_id', 'Track':'track', '  City  ':'city', 'Day':'day'})"
   ]
  },
  {
   "cell_type": "markdown",
   "metadata": {
    "id": "1dqbh00J_Zct"
   },
   "source": [
    "Проверим результат. Для этого ещё раз посмотрим на названия столбцов:"
   ]
  },
  {
   "cell_type": "code",
   "execution_count": 7,
   "metadata": {
    "id": "d4NOAmTW_Zct"
   },
   "outputs": [
    {
     "data": {
      "text/plain": [
       "Index(['user_id', 'track', 'artist', 'genre', 'city', 'time', 'day'], dtype='object')"
      ]
     },
     "execution_count": 7,
     "metadata": {},
     "output_type": "execute_result"
    }
   ],
   "source": [
    "# Проверка применения метода rename\n",
    "df.columns"
   ]
  },
  {
   "cell_type": "markdown",
   "metadata": {
    "id": "5ISfbcfY_Zct"
   },
   "source": [
    "### 2.2. Работа с пропусками значений"
   ]
  },
  {
   "cell_type": "code",
   "execution_count": 8,
   "metadata": {
    "id": "RskX29qr_Zct"
   },
   "outputs": [
    {
     "data": {
      "text/plain": [
       "user_id       0\n",
       "track      1231\n",
       "artist     7203\n",
       "genre      1198\n",
       "city          0\n",
       "time          0\n",
       "day           0\n",
       "dtype: int64"
      ]
     },
     "execution_count": 8,
     "metadata": {},
     "output_type": "execute_result"
    }
   ],
   "source": [
    "# Подсчёт пропусков в столбцах таблицы\n",
    "df.isna().sum()"
   ]
  },
  {
   "cell_type": "markdown",
   "metadata": {},
   "source": [
    "<div class=\"alert alert-success\">\n",
    "<b>Комментарий ревьюера ✔️:</b> Выбран метод isna() для нахождения пропущенных значений, это отлично! На самом деле, isnull() и isna() делают одно и то же, но использование isna() предпочтительнее. </div>"
   ]
  },
  {
   "cell_type": "markdown",
   "metadata": {
    "id": "qubhgnlO_Zct"
   },
   "source": [
    "Не все пропущенные значения влияют на исследование. Так, в `track` и `artist` пропуски не важны для данной работы. Достаточно заменить их явными обозначениями.\n",
    "\n",
    "Но пропуски в `genre` могут помешать сравнению музыкальных вкусов в Москве и Санкт-Петербурге. Было бы правильно установить причину пропусков и восстановить данные, но такой возможности нет, поэтому придётся:\n",
    "1. Заполнить и эти пропуски явными обозначениями\n",
    "2. Оценить, насколько они повредят расчётам. "
   ]
  },
  {
   "cell_type": "markdown",
   "metadata": {
    "id": "fSv2laPA_Zct"
   },
   "source": [
    "Заменим пропущенные значения в столбцах `track`, `artist` и `genre` на строку `'unknown'`. Для этого создадим список `columns_to_replace`, переберём его элементы циклом и для каждого столбца выполним замену пропущенных значений"
   ]
  },
  {
   "cell_type": "code",
   "execution_count": 9,
   "metadata": {
    "id": "KplB5qWs_Zct"
   },
   "outputs": [],
   "source": [
    "# Перебор названий столбцов в цикле и замена пропущенных значений на 'unknown'\n",
    "columns_to_replace = ['track', 'artist', 'genre']\n",
    "for columns in columns_to_replace:\n",
    "    df[columns] = df[columns].fillna('unknown')"
   ]
  },
  {
   "cell_type": "markdown",
   "metadata": {
    "id": "Ilsm-MZo_Zct"
   },
   "source": [
    "Убедимся, что в таблице не осталось пропусков. Для этого ещё раз посчитаем пропущенные значения."
   ]
  },
  {
   "cell_type": "code",
   "execution_count": 10,
   "metadata": {
    "id": "Tq4nYRX4_Zct"
   },
   "outputs": [
    {
     "data": {
      "text/plain": [
       "user_id    0\n",
       "track      0\n",
       "artist     0\n",
       "genre      0\n",
       "city       0\n",
       "time       0\n",
       "day        0\n",
       "dtype: int64"
      ]
     },
     "execution_count": 10,
     "metadata": {},
     "output_type": "execute_result"
    }
   ],
   "source": [
    "# Подсчёт пропусков с целью проверки выполнения кода\n",
    "df.isna().sum()"
   ]
  },
  {
   "cell_type": "markdown",
   "metadata": {
    "id": "BWKRtBJ3_Zct"
   },
   "source": [
    "### 2.3. Работа с дубликатами"
   ]
  },
  {
   "cell_type": "code",
   "execution_count": 11,
   "metadata": {
    "id": "36eES_S0_Zct"
   },
   "outputs": [
    {
     "data": {
      "text/plain": [
       "3826"
      ]
     },
     "execution_count": 11,
     "metadata": {},
     "output_type": "execute_result"
    }
   ],
   "source": [
    "# Подсчёт явных дубликатов\n",
    "df.duplicated().sum()"
   ]
  },
  {
   "cell_type": "code",
   "execution_count": 12,
   "metadata": {
    "id": "exFHq6tt_Zct"
   },
   "outputs": [],
   "source": [
    "# Удаление явных дубликатов (с внесением изменений в исходный датафрейм)\n",
    "df.drop_duplicates(inplace=True)"
   ]
  },
  {
   "cell_type": "code",
   "execution_count": 13,
   "metadata": {
    "id": "-8PuNWQ0_Zct"
   },
   "outputs": [
    {
     "data": {
      "text/plain": [
       "0"
      ]
     },
     "execution_count": 13,
     "metadata": {},
     "output_type": "execute_result"
    }
   ],
   "source": [
    "# Проверка на отсутствие дубликатов\n",
    "df.duplicated().sum()"
   ]
  },
  {
   "cell_type": "markdown",
   "metadata": {
    "id": "QlFBsxAr_Zct"
   },
   "source": [
    "Теперь избавимся от неявных дубликатов в колонке `genre`. Например, название одного и того же жанра может быть записано немного по-разному. Такие ошибки тоже повлияют на результат исследования."
   ]
  },
  {
   "cell_type": "markdown",
   "metadata": {
    "id": "eSjWwsOh_Zct"
   },
   "source": [
    "Посмотрим список уникальных названий жанров, отсортированный в алфавитном порядке."
   ]
  },
  {
   "cell_type": "code",
   "execution_count": 14,
   "metadata": {},
   "outputs": [
    {
     "data": {
      "text/plain": [
       "array(['acid', 'acoustic', 'action', 'adult', 'africa', 'afrikaans',\n",
       "       'alternative', 'alternativepunk', 'ambient', 'americana',\n",
       "       'animated', 'anime', 'arabesk', 'arabic', 'arena',\n",
       "       'argentinetango', 'art', 'audiobook', 'author', 'avantgarde',\n",
       "       'axé', 'baile', 'balkan', 'beats', 'bigroom', 'black', 'bluegrass',\n",
       "       'blues', 'bollywood', 'bossa', 'brazilian', 'breakbeat', 'breaks',\n",
       "       'broadway', 'cantautori', 'cantopop', 'canzone', 'caribbean',\n",
       "       'caucasian', 'celtic', 'chamber', 'chanson', 'children', 'chill',\n",
       "       'chinese', 'choral', 'christian', 'christmas', 'classical',\n",
       "       'classicmetal', 'club', 'colombian', 'comedy', 'conjazz',\n",
       "       'contemporary', 'country', 'cuban', 'dance', 'dancehall',\n",
       "       'dancepop', 'dark', 'death', 'deep', 'deutschrock', 'deutschspr',\n",
       "       'dirty', 'disco', 'dnb', 'documentary', 'downbeat', 'downtempo',\n",
       "       'drum', 'dub', 'dubstep', 'eastern', 'easy', 'electronic',\n",
       "       'electropop', 'emo', 'entehno', 'epicmetal', 'estrada', 'ethnic',\n",
       "       'eurofolk', 'european', 'experimental', 'extrememetal', 'fado',\n",
       "       'fairytail', 'film', 'fitness', 'flamenco', 'folk', 'folklore',\n",
       "       'folkmetal', 'folkrock', 'folktronica', 'forró', 'frankreich',\n",
       "       'französisch', 'french', 'funk', 'future', 'gangsta', 'garage',\n",
       "       'german', 'ghazal', 'gitarre', 'glitch', 'gospel', 'gothic',\n",
       "       'grime', 'grunge', 'gypsy', 'handsup', \"hard'n'heavy\", 'hardcore',\n",
       "       'hardstyle', 'hardtechno', 'hip', 'hip-hop', 'hiphop',\n",
       "       'historisch', 'holiday', 'hop', 'horror', 'house', 'hymn', 'idm',\n",
       "       'independent', 'indian', 'indie', 'indipop', 'industrial',\n",
       "       'inspirational', 'instrumental', 'international', 'irish', 'jam',\n",
       "       'japanese', 'jazz', 'jewish', 'jpop', 'jungle', 'k-pop',\n",
       "       'karadeniz', 'karaoke', 'kayokyoku', 'korean', 'laiko', 'latin',\n",
       "       'latino', 'leftfield', 'local', 'lounge', 'loungeelectronic',\n",
       "       'lovers', 'malaysian', 'mandopop', 'marschmusik', 'meditative',\n",
       "       'mediterranean', 'melodic', 'metal', 'metalcore', 'mexican',\n",
       "       'middle', 'minimal', 'miscellaneous', 'modern', 'mood', 'mpb',\n",
       "       'muslim', 'native', 'neoklassik', 'neue', 'new', 'newage',\n",
       "       'newwave', 'nu', 'nujazz', 'numetal', 'oceania', 'old', 'opera',\n",
       "       'orchestral', 'other', 'piano', 'podcasts', 'pop', 'popdance',\n",
       "       'popelectronic', 'popeurodance', 'poprussian', 'post',\n",
       "       'posthardcore', 'postrock', 'power', 'progmetal', 'progressive',\n",
       "       'psychedelic', 'punjabi', 'punk', 'quebecois', 'ragga', 'ram',\n",
       "       'rancheras', 'rap', 'rave', 'reggae', 'reggaeton', 'regional',\n",
       "       'relax', 'religious', 'retro', 'rhythm', 'rnb', 'rnr', 'rock',\n",
       "       'rockabilly', 'rockalternative', 'rockindie', 'rockother',\n",
       "       'romance', 'roots', 'ruspop', 'rusrap', 'rusrock', 'russian',\n",
       "       'salsa', 'samba', 'scenic', 'schlager', 'self', 'sertanejo',\n",
       "       'shanson', 'shoegazing', 'showtunes', 'singer', 'ska', 'skarock',\n",
       "       'slow', 'smooth', 'soft', 'soul', 'soulful', 'sound', 'soundtrack',\n",
       "       'southern', 'specialty', 'speech', 'spiritual', 'sport',\n",
       "       'stonerrock', 'surf', 'swing', 'synthpop', 'synthrock',\n",
       "       'sängerportrait', 'tango', 'tanzorchester', 'taraftar', 'tatar',\n",
       "       'tech', 'techno', 'teen', 'thrash', 'top', 'traditional',\n",
       "       'tradjazz', 'trance', 'tribal', 'trip', 'triphop', 'tropical',\n",
       "       'türk', 'türkçe', 'ukrrock', 'unknown', 'urban', 'uzbek',\n",
       "       'variété', 'vi', 'videogame', 'vocal', 'western', 'world',\n",
       "       'worldbeat', 'ïîï', 'электроника'], dtype=object)"
      ]
     },
     "execution_count": 14,
     "metadata": {},
     "output_type": "execute_result"
    }
   ],
   "source": [
    "# Поиск неявных дубликатов\n",
    "df['genre'].sort_values().unique()"
   ]
  },
  {
   "cell_type": "markdown",
   "metadata": {
    "id": "qej-Qmuo_Zct"
   },
   "source": [
    "Видим следующие неявные дубликаты названия `hiphop`:\n",
    "* *hip*,\n",
    "* *hop*,\n",
    "* *hip-hop*.\n",
    "\n",
    "Чтобы очистить от них таблицу, напишем функцию `replace_wrong_genres()` с двумя параметрами: \n",
    "* `wrong_genres` — список дубликатов,\n",
    "* `correct_genre` — строка с правильным значением.\n",
    "\n",
    "Функция должна заменить каждое значение из списка `wrong_genres` на значение из `correct_genre`, тем самым исправив колонку `genre` в таблице `df`."
   ]
  },
  {
   "cell_type": "code",
   "execution_count": 15,
   "metadata": {
    "id": "ErNDkmns_Zct"
   },
   "outputs": [],
   "source": [
    "# Функция для замены неявных дубликатов\n",
    "def replace_wrong_genres(wrong_genres, correct_genre):\n",
    "    for wrong_genre in wrong_genres:\n",
    "        df['genre'] = df['genre'].replace(wrong_genre, correct_genre)\n",
    "unique_duplicates = ['hip', 'hop', 'hip-hop']\n",
    "right_genre = 'hiphop'"
   ]
  },
  {
   "cell_type": "markdown",
   "metadata": {
    "id": "aDoBJxbA_Zct"
   },
   "source": [
    "Вызовем `replace_wrong_genres()` и передадим ей такие аргументы, чтобы она устранила неявные дубликаты: вместо `hip`, `hop` и `hip-hop` в таблице должно быть значение `hiphop`"
   ]
  },
  {
   "cell_type": "code",
   "execution_count": 16,
   "metadata": {
    "id": "YN5i2hpmSo09"
   },
   "outputs": [],
   "source": [
    "replace_wrong_genres(unique_duplicates, right_genre)"
   ]
  },
  {
   "cell_type": "markdown",
   "metadata": {
    "id": "zQKF16_RG15m"
   },
   "source": [
    "Выведим отсортированный список уникальных значений столбца `genre` для проверки:"
   ]
  },
  {
   "cell_type": "code",
   "execution_count": 17,
   "metadata": {},
   "outputs": [
    {
     "data": {
      "text/plain": [
       "array(['acid', 'acoustic', 'action', 'adult', 'africa', 'afrikaans',\n",
       "       'alternative', 'alternativepunk', 'ambient', 'americana',\n",
       "       'animated', 'anime', 'arabesk', 'arabic', 'arena',\n",
       "       'argentinetango', 'art', 'audiobook', 'author', 'avantgarde',\n",
       "       'axé', 'baile', 'balkan', 'beats', 'bigroom', 'black', 'bluegrass',\n",
       "       'blues', 'bollywood', 'bossa', 'brazilian', 'breakbeat', 'breaks',\n",
       "       'broadway', 'cantautori', 'cantopop', 'canzone', 'caribbean',\n",
       "       'caucasian', 'celtic', 'chamber', 'chanson', 'children', 'chill',\n",
       "       'chinese', 'choral', 'christian', 'christmas', 'classical',\n",
       "       'classicmetal', 'club', 'colombian', 'comedy', 'conjazz',\n",
       "       'contemporary', 'country', 'cuban', 'dance', 'dancehall',\n",
       "       'dancepop', 'dark', 'death', 'deep', 'deutschrock', 'deutschspr',\n",
       "       'dirty', 'disco', 'dnb', 'documentary', 'downbeat', 'downtempo',\n",
       "       'drum', 'dub', 'dubstep', 'eastern', 'easy', 'electronic',\n",
       "       'electropop', 'emo', 'entehno', 'epicmetal', 'estrada', 'ethnic',\n",
       "       'eurofolk', 'european', 'experimental', 'extrememetal', 'fado',\n",
       "       'fairytail', 'film', 'fitness', 'flamenco', 'folk', 'folklore',\n",
       "       'folkmetal', 'folkrock', 'folktronica', 'forró', 'frankreich',\n",
       "       'französisch', 'french', 'funk', 'future', 'gangsta', 'garage',\n",
       "       'german', 'ghazal', 'gitarre', 'glitch', 'gospel', 'gothic',\n",
       "       'grime', 'grunge', 'gypsy', 'handsup', \"hard'n'heavy\", 'hardcore',\n",
       "       'hardstyle', 'hardtechno', 'hiphop', 'historisch', 'holiday',\n",
       "       'horror', 'house', 'hymn', 'idm', 'independent', 'indian', 'indie',\n",
       "       'indipop', 'industrial', 'inspirational', 'instrumental',\n",
       "       'international', 'irish', 'jam', 'japanese', 'jazz', 'jewish',\n",
       "       'jpop', 'jungle', 'k-pop', 'karadeniz', 'karaoke', 'kayokyoku',\n",
       "       'korean', 'laiko', 'latin', 'latino', 'leftfield', 'local',\n",
       "       'lounge', 'loungeelectronic', 'lovers', 'malaysian', 'mandopop',\n",
       "       'marschmusik', 'meditative', 'mediterranean', 'melodic', 'metal',\n",
       "       'metalcore', 'mexican', 'middle', 'minimal', 'miscellaneous',\n",
       "       'modern', 'mood', 'mpb', 'muslim', 'native', 'neoklassik', 'neue',\n",
       "       'new', 'newage', 'newwave', 'nu', 'nujazz', 'numetal', 'oceania',\n",
       "       'old', 'opera', 'orchestral', 'other', 'piano', 'podcasts', 'pop',\n",
       "       'popdance', 'popelectronic', 'popeurodance', 'poprussian', 'post',\n",
       "       'posthardcore', 'postrock', 'power', 'progmetal', 'progressive',\n",
       "       'psychedelic', 'punjabi', 'punk', 'quebecois', 'ragga', 'ram',\n",
       "       'rancheras', 'rap', 'rave', 'reggae', 'reggaeton', 'regional',\n",
       "       'relax', 'religious', 'retro', 'rhythm', 'rnb', 'rnr', 'rock',\n",
       "       'rockabilly', 'rockalternative', 'rockindie', 'rockother',\n",
       "       'romance', 'roots', 'ruspop', 'rusrap', 'rusrock', 'russian',\n",
       "       'salsa', 'samba', 'scenic', 'schlager', 'self', 'sertanejo',\n",
       "       'shanson', 'shoegazing', 'showtunes', 'singer', 'ska', 'skarock',\n",
       "       'slow', 'smooth', 'soft', 'soul', 'soulful', 'sound', 'soundtrack',\n",
       "       'southern', 'specialty', 'speech', 'spiritual', 'sport',\n",
       "       'stonerrock', 'surf', 'swing', 'synthpop', 'synthrock',\n",
       "       'sängerportrait', 'tango', 'tanzorchester', 'taraftar', 'tatar',\n",
       "       'tech', 'techno', 'teen', 'thrash', 'top', 'traditional',\n",
       "       'tradjazz', 'trance', 'tribal', 'trip', 'triphop', 'tropical',\n",
       "       'türk', 'türkçe', 'ukrrock', 'unknown', 'urban', 'uzbek',\n",
       "       'variété', 'vi', 'videogame', 'vocal', 'western', 'world',\n",
       "       'worldbeat', 'ïîï', 'электроника'], dtype=object)"
      ]
     },
     "execution_count": 17,
     "metadata": {},
     "output_type": "execute_result"
    }
   ],
   "source": [
    "# Проверяем работу функции\n",
    "df['genre'].sort_values().unique()"
   ]
  },
  {
   "cell_type": "markdown",
   "metadata": {},
   "source": [
    "### 2.4. Работа с типом данных"
   ]
  },
  {
   "cell_type": "code",
   "execution_count": 18,
   "metadata": {},
   "outputs": [],
   "source": [
    "# Исправляем тип данных object на datetime\n",
    "df['time'] = pd.to_datetime(df['time'])\n",
    "# В столбце time оставляем только дату\n",
    "df['time'] = df['time'].dt.time"
   ]
  },
  {
   "cell_type": "code",
   "execution_count": 19,
   "metadata": {},
   "outputs": [
    {
     "name": "stdout",
     "output_type": "stream",
     "text": [
      "<class 'pandas.core.frame.DataFrame'>\n",
      "Int64Index: 61253 entries, 0 to 65078\n",
      "Data columns (total 7 columns):\n",
      " #   Column   Non-Null Count  Dtype \n",
      "---  ------   --------------  ----- \n",
      " 0   user_id  61253 non-null  object\n",
      " 1   track    61253 non-null  object\n",
      " 2   artist   61253 non-null  object\n",
      " 3   genre    61253 non-null  object\n",
      " 4   city     61253 non-null  object\n",
      " 5   time     61253 non-null  object\n",
      " 6   day      61253 non-null  object\n",
      "dtypes: object(7)\n",
      "memory usage: 3.7+ MB\n"
     ]
    }
   ],
   "source": [
    "df.info()"
   ]
  },
  {
   "cell_type": "markdown",
   "metadata": {
    "id": "jz6a9-7HQUDd"
   },
   "source": [
    "**Вывод по 2-ому разделу**\n",
    "\n",
    "В ходе предобработки были устранены следующие проблемы в данных:\n",
    "\n",
    "- Нарушение в стиле заголовков\n",
    "- Пропущенные значения\n",
    "- Дубликаты — явные и неявные\n",
    "- Тип данных.\n",
    "\n",
    "Исправили заголовки, чтобы упростить работу с таблицей. Без дубликатов исследование станет более точным.\n",
    "\n",
    "Пропущенные значения заменили на `unknown`. Ещё предстоит увидеть, не повредят ли исследованию пропуски в колонке `genre`.\n",
    "\n",
    "Теперь можно перейти к проверке гипотез. "
   ]
  },
  {
   "cell_type": "markdown",
   "metadata": {
    "id": "WttZHXH0SqKk"
   },
   "source": [
    "## 3. Проверка гипотез"
   ]
  },
  {
   "cell_type": "markdown",
   "metadata": {
    "id": "Im936VVi_Zcu"
   },
   "source": [
    "### 3.1. Сравнение поведения пользователей двух столиц"
   ]
  },
  {
   "cell_type": "markdown",
   "metadata": {
    "id": "nwt_MuaL_Zcu"
   },
   "source": [
    "Первая гипотеза утверждает, что пользователи по-разному слушают музыку в Москве и Санкт-Петербурге. Проверим это предположение по данным о трёх днях недели — понедельнике, среде и пятнице. Для этого:\n",
    "\n",
    "1. Разделим пользователей Москвы и Санкт-Петербурга\n",
    "2. Сравним, сколько треков послушала каждая группа пользователей в понедельник, среду и пятницу.\n"
   ]
  },
  {
   "cell_type": "markdown",
   "metadata": {
    "id": "8Dw_YMmT_Zcu"
   },
   "source": [
    "Оценим активность пользователей в каждом городе."
   ]
  },
  {
   "cell_type": "code",
   "execution_count": 20,
   "metadata": {},
   "outputs": [
    {
     "data": {
      "text/html": [
       "<div>\n",
       "<style scoped>\n",
       "    .dataframe tbody tr th:only-of-type {\n",
       "        vertical-align: middle;\n",
       "    }\n",
       "\n",
       "    .dataframe tbody tr th {\n",
       "        vertical-align: top;\n",
       "    }\n",
       "\n",
       "    .dataframe thead th {\n",
       "        text-align: right;\n",
       "    }\n",
       "</style>\n",
       "<table border=\"1\" class=\"dataframe\">\n",
       "  <thead>\n",
       "    <tr style=\"text-align: right;\">\n",
       "      <th></th>\n",
       "      <th>city</th>\n",
       "      <th>cnt_listenings</th>\n",
       "    </tr>\n",
       "  </thead>\n",
       "  <tbody>\n",
       "    <tr>\n",
       "      <th>0</th>\n",
       "      <td>Moscow</td>\n",
       "      <td>42741</td>\n",
       "    </tr>\n",
       "    <tr>\n",
       "      <th>1</th>\n",
       "      <td>Saint-Petersburg</td>\n",
       "      <td>18512</td>\n",
       "    </tr>\n",
       "  </tbody>\n",
       "</table>\n",
       "</div>"
      ],
      "text/plain": [
       "               city  cnt_listenings\n",
       "0            Moscow           42741\n",
       "1  Saint-Petersburg           18512"
      ]
     },
     "execution_count": 20,
     "metadata": {},
     "output_type": "execute_result"
    }
   ],
   "source": [
    "# Подсчёт количества прослушиваний в каждом из городов\n",
    "(df.groupby('city')[['user_id']].count()\n",
    "                                .rename(columns={'user_id':'cnt_listenings'})\n",
    "                                .reset_index()\n",
    ")"
   ]
  },
  {
   "cell_type": "markdown",
   "metadata": {
    "id": "dzli3w8o_Zcu"
   },
   "source": [
    "В Москве прослушиваний больше, чем в Петербурге. Из этого не следует, что московские пользователи чаще слушают музыку. Просто самих пользователей в Москве больше.\n",
    "\n",
    "Теперь сгруппируем данные по дню недели и подсчитайте прослушивания в понедельник, среду и пятницу. Учтём, что в данных есть информация о прослушиваниях только за эти дни."
   ]
  },
  {
   "cell_type": "code",
   "execution_count": 21,
   "metadata": {},
   "outputs": [
    {
     "data": {
      "text/html": [
       "<div>\n",
       "<style scoped>\n",
       "    .dataframe tbody tr th:only-of-type {\n",
       "        vertical-align: middle;\n",
       "    }\n",
       "\n",
       "    .dataframe tbody tr th {\n",
       "        vertical-align: top;\n",
       "    }\n",
       "\n",
       "    .dataframe thead th {\n",
       "        text-align: right;\n",
       "    }\n",
       "</style>\n",
       "<table border=\"1\" class=\"dataframe\">\n",
       "  <thead>\n",
       "    <tr style=\"text-align: right;\">\n",
       "      <th></th>\n",
       "      <th>day</th>\n",
       "      <th>cnt_listenings</th>\n",
       "    </tr>\n",
       "  </thead>\n",
       "  <tbody>\n",
       "    <tr>\n",
       "      <th>0</th>\n",
       "      <td>Friday</td>\n",
       "      <td>21840</td>\n",
       "    </tr>\n",
       "    <tr>\n",
       "      <th>1</th>\n",
       "      <td>Monday</td>\n",
       "      <td>21354</td>\n",
       "    </tr>\n",
       "    <tr>\n",
       "      <th>2</th>\n",
       "      <td>Wednesday</td>\n",
       "      <td>18059</td>\n",
       "    </tr>\n",
       "  </tbody>\n",
       "</table>\n",
       "</div>"
      ],
      "text/plain": [
       "         day  cnt_listenings\n",
       "0     Friday           21840\n",
       "1     Monday           21354\n",
       "2  Wednesday           18059"
      ]
     },
     "execution_count": 21,
     "metadata": {},
     "output_type": "execute_result"
    }
   ],
   "source": [
    "# Подсчёт количества прослушиваний в понедельник, среду и пятницу\n",
    "(df.groupby('day')[['user_id']].count()\n",
    "                               .rename(columns={'user_id':'cnt_listenings'})\n",
    "                               .reset_index()\n",
    ")"
   ]
  },
  {
   "cell_type": "markdown",
   "metadata": {
    "id": "cC2tNrlL_Zcu"
   },
   "source": [
    "В среднем пользователи из двух городов менее активны по средам. Но картина может измениться, если рассмотреть каждый город в отдельности."
   ]
  },
  {
   "cell_type": "markdown",
   "metadata": {
    "id": "POzs8bGa_Zcu"
   },
   "source": [
    "Теперь напишем функцию, которая объединит эти два расчёта.\n",
    "\n",
    "Создадим функцию `number_tracks()`, которая посчитает прослушивания для заданного дня и города."
   ]
  },
  {
   "cell_type": "code",
   "execution_count": 22,
   "metadata": {},
   "outputs": [],
   "source": [
    "cities = ['Moscow', 'Saint-Petersburg']\n",
    "intermediate_list = ['city', 'Monday', 'Wednesday', 'Friday']\n",
    "list_data = []\n",
    "\n",
    "# Функция для подсчёта прослушиваний для конкретного города и дня (учитывая, что в датасете данные только за три дня)\n",
    "def number_tracks():\n",
    "    for city in cities:\n",
    "        print(f'Количество прослушиваний в {city}')\n",
    "        print('-----------------------------')\n",
    "        count_tracks = []\n",
    "        count_tracks.append(city)\n",
    "        for day in range(1, len(intermediate_list)):\n",
    "            track_list = df[df['day'] == intermediate_list[day]]\n",
    "            track_list = track_list[track_list['city'] == city]\n",
    "            track_list_count = track_list['user_id'].count()\n",
    "            count_tracks.append(track_list_count)\n",
    "            print(f'- {intermediate_list[day]}: {track_list_count}')\n",
    "            if intermediate_list[day] == 'Friday' and city == 'Moscow':\n",
    "                print()\n",
    "        list_data.append(count_tracks)"
   ]
  },
  {
   "cell_type": "code",
   "execution_count": 23,
   "metadata": {
    "scrolled": true
   },
   "outputs": [
    {
     "name": "stdout",
     "output_type": "stream",
     "text": [
      "Количество прослушиваний в Moscow\n",
      "-----------------------------\n",
      "- Monday: 15740\n",
      "- Wednesday: 11056\n",
      "- Friday: 15945\n",
      "\n",
      "Количество прослушиваний в Saint-Petersburg\n",
      "-----------------------------\n",
      "- Monday: 5614\n",
      "- Wednesday: 7003\n",
      "- Friday: 5895\n"
     ]
    }
   ],
   "source": [
    "number_tracks()"
   ]
  },
  {
   "cell_type": "markdown",
   "metadata": {
    "id": "7QXffbO-_Zcu"
   },
   "source": [
    "Создадим c помощью конструктора `pd.DataFrame` таблицу, где\n",
    "* Названия колонок — `['city', 'Monday', 'Wednesday', 'Friday']`;\n",
    "* Данные — результаты, которые получили с помощью функции `number_tracks`."
   ]
  },
  {
   "cell_type": "code",
   "execution_count": 24,
   "metadata": {},
   "outputs": [
    {
     "data": {
      "text/html": [
       "<div>\n",
       "<style scoped>\n",
       "    .dataframe tbody tr th:only-of-type {\n",
       "        vertical-align: middle;\n",
       "    }\n",
       "\n",
       "    .dataframe tbody tr th {\n",
       "        vertical-align: top;\n",
       "    }\n",
       "\n",
       "    .dataframe thead th {\n",
       "        text-align: right;\n",
       "    }\n",
       "</style>\n",
       "<table border=\"1\" class=\"dataframe\">\n",
       "  <thead>\n",
       "    <tr style=\"text-align: right;\">\n",
       "      <th></th>\n",
       "      <th>city</th>\n",
       "      <th>Monday</th>\n",
       "      <th>Wednesday</th>\n",
       "      <th>Friday</th>\n",
       "    </tr>\n",
       "  </thead>\n",
       "  <tbody>\n",
       "    <tr>\n",
       "      <th>0</th>\n",
       "      <td>Moscow</td>\n",
       "      <td>15740</td>\n",
       "      <td>11056</td>\n",
       "      <td>15945</td>\n",
       "    </tr>\n",
       "    <tr>\n",
       "      <th>1</th>\n",
       "      <td>Saint-Petersburg</td>\n",
       "      <td>5614</td>\n",
       "      <td>7003</td>\n",
       "      <td>5895</td>\n",
       "    </tr>\n",
       "  </tbody>\n",
       "</table>\n",
       "</div>"
      ],
      "text/plain": [
       "               city  Monday  Wednesday  Friday\n",
       "0            Moscow   15740      11056   15945\n",
       "1  Saint-Petersburg    5614       7003    5895"
      ]
     },
     "execution_count": 24,
     "metadata": {},
     "output_type": "execute_result"
    }
   ],
   "source": [
    "# Создаём датафрейм с полученными результатами\n",
    "cities_df = pd.DataFrame(data=list_data, columns=intermediate_list)\n",
    "cities_df"
   ]
  },
  {
   "cell_type": "code",
   "execution_count": 25,
   "metadata": {},
   "outputs": [
    {
     "data": {
      "image/png": "[encoded data removed]",
      "text/plain": [
       "<Figure size 864x360 with 1 Axes>"
      ]
     },
     "metadata": {},
     "output_type": "display_data"
    }
   ],
   "source": [
    "sns.set_theme(style=\"darkgrid\")\n",
    "(cities_df.set_index('city')\n",
    "          .plot(kind='bar', figsize=(12,5), grid=True)\n",
    ")\n",
    "plt.title('Количество прослушиваний треков в Москве и Санкт-Петербурге в зависимости от дня недели')\n",
    "plt.ylabel('Количество прослушиваний, раз')\n",
    "plt.xlabel('Название города')\n",
    "plt.xticks(rotation=360);"
   ]
  },
  {
   "cell_type": "markdown",
   "metadata": {
    "id": "-EgPIHYu_Zcu"
   },
   "source": [
    "**Вывод**\n",
    "\n",
    "Данные показывают разницу поведения пользователей:\n",
    "\n",
    "- В Москве пик прослушиваний приходится на понедельник и пятницу, а в среду заметен спад.\n",
    "- В Петербурге, наоборот, больше слушают музыку по средам. Активность в понедельник и пятницу здесь почти в равной мере уступает среде.\n",
    "\n",
    "Следовательно, данные говорят в пользу первой гипотезы."
   ]
  },
  {
   "cell_type": "markdown",
   "metadata": {
    "id": "atZAxtq4_Zcu"
   },
   "source": [
    "### 3.2. Прослушивание музыки в начале и в конце недели"
   ]
  },
  {
   "cell_type": "markdown",
   "metadata": {
    "id": "eXrQqXFH_Zcu"
   },
   "source": [
    "Согласно второй гипотезе, утром в понедельник в Москве преобладают одни жанры, а в Петербурге — другие. Так же и вечером пятницы преобладают разные жанры — в зависимости от города."
   ]
  },
  {
   "cell_type": "markdown",
   "metadata": {
    "id": "S8UcW6Hw_Zcu"
   },
   "source": [
    "Сохраним таблицы с данными в две переменные:\n",
    "* по Москве — в `moscow_general`;\n",
    "* по Санкт-Петербургу — в `spb_general`."
   ]
  },
  {
   "cell_type": "code",
   "execution_count": 26,
   "metadata": {
    "id": "qeaFfM_P_Zcu"
   },
   "outputs": [
    {
     "data": {
      "text/html": [
       "<div>\n",
       "<style scoped>\n",
       "    .dataframe tbody tr th:only-of-type {\n",
       "        vertical-align: middle;\n",
       "    }\n",
       "\n",
       "    .dataframe tbody tr th {\n",
       "        vertical-align: top;\n",
       "    }\n",
       "\n",
       "    .dataframe thead th {\n",
       "        text-align: right;\n",
       "    }\n",
       "</style>\n",
       "<table border=\"1\" class=\"dataframe\">\n",
       "  <thead>\n",
       "    <tr style=\"text-align: right;\">\n",
       "      <th></th>\n",
       "      <th>user_id</th>\n",
       "      <th>track</th>\n",
       "      <th>artist</th>\n",
       "      <th>genre</th>\n",
       "      <th>city</th>\n",
       "      <th>time</th>\n",
       "      <th>day</th>\n",
       "    </tr>\n",
       "  </thead>\n",
       "  <tbody>\n",
       "    <tr>\n",
       "      <th>1</th>\n",
       "      <td>55204538</td>\n",
       "      <td>Delayed Because of Accident</td>\n",
       "      <td>Andreas Rönnberg</td>\n",
       "      <td>rock</td>\n",
       "      <td>Moscow</td>\n",
       "      <td>14:07:09</td>\n",
       "      <td>Friday</td>\n",
       "    </tr>\n",
       "    <tr>\n",
       "      <th>4</th>\n",
       "      <td>E2DC1FAE</td>\n",
       "      <td>Soul People</td>\n",
       "      <td>Space Echo</td>\n",
       "      <td>dance</td>\n",
       "      <td>Moscow</td>\n",
       "      <td>08:34:34</td>\n",
       "      <td>Monday</td>\n",
       "    </tr>\n",
       "    <tr>\n",
       "      <th>6</th>\n",
       "      <td>4CB90AA5</td>\n",
       "      <td>True</td>\n",
       "      <td>Roman Messer</td>\n",
       "      <td>dance</td>\n",
       "      <td>Moscow</td>\n",
       "      <td>13:00:07</td>\n",
       "      <td>Wednesday</td>\n",
       "    </tr>\n",
       "    <tr>\n",
       "      <th>7</th>\n",
       "      <td>F03E1C1F</td>\n",
       "      <td>Feeling This Way</td>\n",
       "      <td>Polina Griffith</td>\n",
       "      <td>dance</td>\n",
       "      <td>Moscow</td>\n",
       "      <td>20:47:49</td>\n",
       "      <td>Wednesday</td>\n",
       "    </tr>\n",
       "    <tr>\n",
       "      <th>8</th>\n",
       "      <td>8FA1D3BE</td>\n",
       "      <td>И вновь продолжается бой</td>\n",
       "      <td>unknown</td>\n",
       "      <td>ruspop</td>\n",
       "      <td>Moscow</td>\n",
       "      <td>09:17:40</td>\n",
       "      <td>Friday</td>\n",
       "    </tr>\n",
       "  </tbody>\n",
       "</table>\n",
       "</div>"
      ],
      "text/plain": [
       "    user_id                        track            artist   genre    city  \\\n",
       "1  55204538  Delayed Because of Accident  Andreas Rönnberg    rock  Moscow   \n",
       "4  E2DC1FAE                  Soul People        Space Echo   dance  Moscow   \n",
       "6  4CB90AA5                         True      Roman Messer   dance  Moscow   \n",
       "7  F03E1C1F             Feeling This Way   Polina Griffith   dance  Moscow   \n",
       "8  8FA1D3BE     И вновь продолжается бой           unknown  ruspop  Moscow   \n",
       "\n",
       "       time        day  \n",
       "1  14:07:09     Friday  \n",
       "4  08:34:34     Monday  \n",
       "6  13:00:07  Wednesday  \n",
       "7  20:47:49  Wednesday  \n",
       "8  09:17:40     Friday  "
      ]
     },
     "execution_count": 26,
     "metadata": {},
     "output_type": "execute_result"
    }
   ],
   "source": [
    "# Таблица с результатами по Москве\n",
    "moscow_general = df[df['city'] == 'Moscow']\n",
    "moscow_general.head()"
   ]
  },
  {
   "cell_type": "code",
   "execution_count": 27,
   "metadata": {
    "id": "ORaVRKto_Zcu"
   },
   "outputs": [
    {
     "data": {
      "text/html": [
       "<div>\n",
       "<style scoped>\n",
       "    .dataframe tbody tr th:only-of-type {\n",
       "        vertical-align: middle;\n",
       "    }\n",
       "\n",
       "    .dataframe tbody tr th {\n",
       "        vertical-align: top;\n",
       "    }\n",
       "\n",
       "    .dataframe thead th {\n",
       "        text-align: right;\n",
       "    }\n",
       "</style>\n",
       "<table border=\"1\" class=\"dataframe\">\n",
       "  <thead>\n",
       "    <tr style=\"text-align: right;\">\n",
       "      <th></th>\n",
       "      <th>user_id</th>\n",
       "      <th>track</th>\n",
       "      <th>artist</th>\n",
       "      <th>genre</th>\n",
       "      <th>city</th>\n",
       "      <th>time</th>\n",
       "      <th>day</th>\n",
       "    </tr>\n",
       "  </thead>\n",
       "  <tbody>\n",
       "    <tr>\n",
       "      <th>0</th>\n",
       "      <td>FFB692EC</td>\n",
       "      <td>Kamigata To Boots</td>\n",
       "      <td>The Mass Missile</td>\n",
       "      <td>rock</td>\n",
       "      <td>Saint-Petersburg</td>\n",
       "      <td>20:28:33</td>\n",
       "      <td>Wednesday</td>\n",
       "    </tr>\n",
       "    <tr>\n",
       "      <th>2</th>\n",
       "      <td>20EC38</td>\n",
       "      <td>Funiculì funiculà</td>\n",
       "      <td>Mario Lanza</td>\n",
       "      <td>pop</td>\n",
       "      <td>Saint-Petersburg</td>\n",
       "      <td>20:58:07</td>\n",
       "      <td>Wednesday</td>\n",
       "    </tr>\n",
       "    <tr>\n",
       "      <th>3</th>\n",
       "      <td>A3DD03C9</td>\n",
       "      <td>Dragons in the Sunset</td>\n",
       "      <td>Fire + Ice</td>\n",
       "      <td>folk</td>\n",
       "      <td>Saint-Petersburg</td>\n",
       "      <td>08:37:09</td>\n",
       "      <td>Monday</td>\n",
       "    </tr>\n",
       "    <tr>\n",
       "      <th>5</th>\n",
       "      <td>842029A1</td>\n",
       "      <td>Преданная</td>\n",
       "      <td>IMPERVTOR</td>\n",
       "      <td>rusrap</td>\n",
       "      <td>Saint-Petersburg</td>\n",
       "      <td>13:09:41</td>\n",
       "      <td>Friday</td>\n",
       "    </tr>\n",
       "    <tr>\n",
       "      <th>9</th>\n",
       "      <td>E772D5C0</td>\n",
       "      <td>Pessimist</td>\n",
       "      <td>unknown</td>\n",
       "      <td>dance</td>\n",
       "      <td>Saint-Petersburg</td>\n",
       "      <td>21:20:49</td>\n",
       "      <td>Wednesday</td>\n",
       "    </tr>\n",
       "  </tbody>\n",
       "</table>\n",
       "</div>"
      ],
      "text/plain": [
       "    user_id                  track            artist   genre  \\\n",
       "0  FFB692EC      Kamigata To Boots  The Mass Missile    rock   \n",
       "2    20EC38      Funiculì funiculà       Mario Lanza     pop   \n",
       "3  A3DD03C9  Dragons in the Sunset        Fire + Ice    folk   \n",
       "5  842029A1              Преданная         IMPERVTOR  rusrap   \n",
       "9  E772D5C0              Pessimist           unknown   dance   \n",
       "\n",
       "               city      time        day  \n",
       "0  Saint-Petersburg  20:28:33  Wednesday  \n",
       "2  Saint-Petersburg  20:58:07  Wednesday  \n",
       "3  Saint-Petersburg  08:37:09     Monday  \n",
       "5  Saint-Petersburg  13:09:41     Friday  \n",
       "9  Saint-Petersburg  21:20:49  Wednesday  "
      ]
     },
     "execution_count": 27,
     "metadata": {},
     "output_type": "execute_result"
    }
   ],
   "source": [
    "# Таблица с результатами по Санкт-Петербургу\n",
    "spb_general = df[df['city'] == 'Saint-Petersburg']\n",
    "spb_general.head()"
   ]
  },
  {
   "cell_type": "markdown",
   "metadata": {
    "id": "MEJV-CX2_Zcu"
   },
   "source": [
    "Создадим функцию `genre_weekday()`, которая должна вернуть информацию о топ-10 жанров тех треков, которые прослушивали в указанный день, в промежутке между двумя отметками времени."
   ]
  },
  {
   "cell_type": "markdown",
   "metadata": {},
   "source": [
    "Объекты, которые хранят время, можно было реализовать через строки и сравнивать их как строки. В этом же варианте, столбец `time` был переведён в тип данных `datetime` и всё реализовалось через этот тип. "
   ]
  },
  {
   "cell_type": "code",
   "execution_count": 28,
   "metadata": {
    "id": "laJT9BYl_Zcu"
   },
   "outputs": [],
   "source": [
    "# Функция для анализа количества прослушиваний по жанрам в определённый день и промежуток времени\n",
    "def genre_weekday(table, day, time1, time2):\n",
    "    genre_df = table[table['day'] == day]\n",
    "    genre_df = genre_df[(genre_df['time'] > time1) & (genre_df['time'] < time2)]\n",
    "    genre_df_count = genre_df.groupby('genre')['genre'].count().sort_values(ascending=False).head(10)\n",
    "    return genre_df_count"
   ]
  },
  {
   "cell_type": "markdown",
   "metadata": {},
   "source": [
    "Cравним результаты функции `genre_weekday()` для Москвы и Санкт-Петербурга в понедельник утром (с 7:00 до 11:00) и в пятницу вечером (с 17:00 до 23:00)"
   ]
  },
  {
   "cell_type": "code",
   "execution_count": 29,
   "metadata": {},
   "outputs": [],
   "source": [
    "# Функция для визуализации количества прослушиваний треков по жанрам в Москве и Санкт-Петербурге в пн утром и в пт вечером\n",
    "def plotting_genres_time(genre_series, header):\n",
    "    sns.set_theme(style=\"darkgrid\")\n",
    "    genre_series.plot(kind='barh', figsize=(12,5), grid=True)\n",
    "    plt.title(header)\n",
    "    plt.ylabel('Название жанра')\n",
    "    plt.xlabel('Количество прослушиваний, раз')"
   ]
  },
  {
   "cell_type": "code",
   "execution_count": 30,
   "metadata": {},
   "outputs": [
    {
     "data": {
      "image/png": "[encoded data removed]",
      "text/plain": [
       "<Figure size 864x360 with 1 Axes>"
      ]
     },
     "metadata": {},
     "output_type": "display_data"
    }
   ],
   "source": [
    "# Прослушивания в понедельник утром в Москве\n",
    "plotting_genres_time(genre_weekday(moscow_general, 'Monday', dt.time(7), dt.time(11)).sort_values(ascending=True),\n",
    "                     'Количество прослушиваний треков по жанрам в Москве с 7:00 до 11:00 в понедельник')"
   ]
  },
  {
   "cell_type": "code",
   "execution_count": 31,
   "metadata": {},
   "outputs": [
    {
     "data": {
      "image/png": "[encoded data removed]",
      "text/plain": [
       "<Figure size 864x360 with 1 Axes>"
      ]
     },
     "metadata": {},
     "output_type": "display_data"
    }
   ],
   "source": [
    "# Прослушивания в пятницу вечером в Москве\n",
    "plotting_genres_time(genre_weekday(moscow_general, 'Friday', dt.time(17), dt.time(23)).sort_values(ascending=True),\n",
    "                     'Количество прослушиваний треков по жанрам в Москве с 17:00 до 23:00 в пятницу')"
   ]
  },
  {
   "cell_type": "code",
   "execution_count": 32,
   "metadata": {},
   "outputs": [
    {
     "data": {
      "image/png": "[encoded data removed]",
      "text/plain": [
       "<Figure size 864x360 with 1 Axes>"
      ]
     },
     "metadata": {},
     "output_type": "display_data"
    }
   ],
   "source": [
    "# Прослушивания в понедельник утром в Петербурге \n",
    "plotting_genres_time(genre_weekday(spb_general, 'Monday', dt.time(7), dt.time(11)).sort_values(ascending=True),\n",
    "                     'Количество прослушиваний треков по жанрам в Санкт-Петербурге с 7:00 до 11:00 в понедельник')"
   ]
  },
  {
   "cell_type": "code",
   "execution_count": 33,
   "metadata": {},
   "outputs": [
    {
     "data": {
      "image/png": "[encoded data removed]",
      "text/plain": [
       "<Figure size 864x360 with 1 Axes>"
      ]
     },
     "metadata": {},
     "output_type": "display_data"
    }
   ],
   "source": [
    "# Прослушивания в пятницу вечером в Петербурге \n",
    "plotting_genres_time(genre_weekday(spb_general, 'Friday', dt.time(17), dt.time(23)).sort_values(ascending=True),\n",
    "                     'Количество прослушиваний треков по жанрам в Санкт-Петербурге с 17:00 до 23:00 в пятницу')"
   ]
  },
  {
   "cell_type": "markdown",
   "metadata": {
    "id": "wrCe4MNX_Zcu"
   },
   "source": [
    "**Вывод**\n",
    "\n",
    "Если сравнить топ-10 жанров в понедельник утром, можно сделать такие выводы:\n",
    "\n",
    "1. В Москве и Петербурге слушают похожую музыку. Единственное отличие — в московский рейтинг вошёл жанр “world”, а в петербургский — джаз и классика.\n",
    "\n",
    "2. В Москве пропущенных значений оказалось так много, что значение `'unknown'` заняло десятое место среди самых популярных жанров. Значит, пропущенные значения занимают существенную долю в данных и угрожают достоверности исследования.\n",
    "\n",
    "Вечер пятницы не меняет эту картину. Некоторые жанры поднимаются немного выше, другие спускаются, но в целом топ-10 остаётся тем же самым.\n",
    "\n",
    "Таким образом, вторая гипотеза подтвердилась лишь частично:\n",
    "* Пользователи слушают похожую музыку в начале недели и в конце.\n",
    "* Разница между Москвой и Петербургом не слишком выражена. В Москве чаще слушают русскую популярную музыку, в Петербурге — джаз.\n",
    "\n",
    "Однако пропуски в данных ставят под сомнение этот результат. В Москве их так много, что рейтинг топ-10 мог бы выглядеть иначе, если бы не утерянные  данные о жанрах."
   ]
  },
  {
   "cell_type": "markdown",
   "metadata": {
    "id": "JolODAqr_Zcu"
   },
   "source": [
    "### 3.3. Жанровые предпочтения в Москве и Петербурге"
   ]
  },
  {
   "cell_type": "markdown",
   "metadata": {},
   "source": [
    "Рассматривая следующую гипотезу, Петербург — столица рэпа, музыку этого жанра там слушают чаще, чем в Москве. А Москва — город контрастов, в котором, тем не менее, преобладает поп-музыка."
   ]
  },
  {
   "cell_type": "markdown",
   "metadata": {
    "id": "DlegSvaT_Zcu"
   },
   "source": [
    "Сгруппируем таблицу `moscow_general` по жанру и посчитаем прослушивания треков каждого жанра"
   ]
  },
  {
   "cell_type": "code",
   "execution_count": 34,
   "metadata": {},
   "outputs": [],
   "source": [
    "moscow_genres = (moscow_general.groupby('genre')[['genre']].count()\n",
    "                                                           .rename(columns={'genre':'cnt_listenings'})\n",
    "                                                           .sort_values(by='cnt_listenings', ascending=False)\n",
    "                                                           .head(10)\n",
    "                )"
   ]
  },
  {
   "cell_type": "code",
   "execution_count": 35,
   "metadata": {},
   "outputs": [],
   "source": [
    "# Функция для визуализации количества прослушиваний по каждому жанру\n",
    "def plotting_barh(data, header):\n",
    "    plt.figure(figsize=(12,5))\n",
    "    sns.barplot(data=data, x=data.index, y=data['cnt_listenings'])\n",
    "    plt.title(header)\n",
    "    plt.xlabel('Название жанра')\n",
    "    plt.ylabel('Количество прослушиваний, раз')\n",
    "    plt.xticks(rotation=360)"
   ]
  },
  {
   "cell_type": "code",
   "execution_count": 36,
   "metadata": {},
   "outputs": [
    {
     "data": {
      "image/png": "[encoded data removed]",
      "text/plain": [
       "<Figure size 864x360 with 1 Axes>"
      ]
     },
     "metadata": {},
     "output_type": "display_data"
    }
   ],
   "source": [
    "plotting_barh(moscow_genres, 'Топ-10 жанров по прослушиваниям треков в Москве')"
   ]
  },
  {
   "cell_type": "markdown",
   "metadata": {
    "id": "cnPG2vnN_Zcv"
   },
   "source": [
    "Теперь повторим то же и для Петербурга"
   ]
  },
  {
   "cell_type": "code",
   "execution_count": 37,
   "metadata": {},
   "outputs": [],
   "source": [
    "spb_genres = (spb_general.groupby('genre')[['genre']].count()\n",
    "                                                     .rename(columns={'genre':'cnt_listenings'})\n",
    "                                                     .sort_values(by='cnt_listenings', ascending=False)\n",
    "                                                     .head(10)\n",
    "             )"
   ]
  },
  {
   "cell_type": "code",
   "execution_count": 38,
   "metadata": {},
   "outputs": [
    {
     "data": {
      "image/png": "[encoded data removed]",
      "text/plain": [
       "<Figure size 864x360 with 1 Axes>"
      ]
     },
     "metadata": {},
     "output_type": "display_data"
    }
   ],
   "source": [
    "plotting_barh(spb_genres, 'Топ-10 жанров по прослушиваниям треков в Санкт-Петербурге')"
   ]
  },
  {
   "cell_type": "markdown",
   "metadata": {
    "id": "RY51YJYu_Zcv"
   },
   "source": [
    "**Вывод**"
   ]
  },
  {
   "cell_type": "markdown",
   "metadata": {
    "id": "nVhnJEm__Zcv"
   },
   "source": [
    "Гипотеза частично подтвердилась:\n",
    "* Поп-музыка — самый популярный жанр в Москве, как и предполагала гипотеза. Более того, в топ-10 жанров встречается близкий жанр — русская популярная музыка.\n",
    "* Вопреки ожиданиям, рэп одинаково популярен в Москве и Петербурге. \n"
   ]
  },
  {
   "cell_type": "markdown",
   "metadata": {
    "id": "ykKQ0N65_Zcv"
   },
   "source": [
    "## 4. Итоги исследования"
   ]
  },
  {
   "cell_type": "markdown",
   "metadata": {
    "id": "tjUwbHb3_Zcv"
   },
   "source": [
    "Были проверены три гипотезы, после чего установили:\n",
    "\n",
    "1. День недели по-разному влияет на активность пользователей в Москве и Петербурге. \n",
    "\n",
    "Первая гипотеза полностью подтвердилась.\n",
    "\n",
    "2. Музыкальные предпочтения не сильно меняются в течение недели — будь то Москва или Петербург. Небольшие различия заметны в начале недели, по понедельникам:\n",
    "* В Москве слушают музыку жанра \"world\"\n",
    "* В Петербурге — джаз и классика.\n",
    "\n",
    "Таким образом, вторая гипотеза подтвердилась лишь отчасти. Этот результат мог оказаться иным, если бы не пропуски в данных.\n",
    "\n",
    "3. Во вкусах пользователей Москвы и Петербурга больше общего чем различий. Вопреки ожиданиям, предпочтения жанров в Петербурге напоминают московские.\n",
    "\n",
    "Третья гипотеза не подтвердилась. Если различия в предпочтениях и существуют, на основной массе пользователей они незаметны."
   ]
  }
 ],
 "metadata": {
  "ExecuteTimeLog": [
   {
    "duration": 75,
    "start_time": "2022-04-12T17:04:02.083Z"
   },
   {
    "duration": 8,
    "start_time": "2022-04-12T17:04:13.105Z"
   },
   {
    "duration": 8,
    "start_time": "2022-04-12T17:04:17.109Z"
   },
   {
    "duration": 9,
    "start_time": "2022-04-12T17:04:38.945Z"
   },
   {
    "duration": 9,
    "start_time": "2022-04-12T17:06:11.857Z"
   },
   {
    "duration": 8,
    "start_time": "2022-04-12T17:07:03.619Z"
   },
   {
    "duration": 9,
    "start_time": "2022-04-12T17:07:57.827Z"
   },
   {
    "duration": 8,
    "start_time": "2022-04-12T17:08:20.051Z"
   },
   {
    "duration": 8,
    "start_time": "2022-04-12T17:09:17.769Z"
   },
   {
    "duration": 8,
    "start_time": "2022-04-12T17:09:37.883Z"
   },
   {
    "duration": 8,
    "start_time": "2022-04-12T17:09:38.875Z"
   },
   {
    "duration": 8,
    "start_time": "2022-04-12T17:09:39.706Z"
   },
   {
    "duration": 10,
    "start_time": "2022-04-12T17:35:51.553Z"
   },
   {
    "duration": 9,
    "start_time": "2022-04-12T17:35:52.629Z"
   },
   {
    "duration": 8,
    "start_time": "2022-04-12T17:36:01.866Z"
   },
   {
    "duration": 9,
    "start_time": "2022-04-12T17:36:02.711Z"
   },
   {
    "duration": 8,
    "start_time": "2022-04-12T17:36:03.885Z"
   },
   {
    "duration": 8,
    "start_time": "2022-04-12T17:36:05.642Z"
   },
   {
    "duration": 9,
    "start_time": "2022-04-12T17:36:06.247Z"
   },
   {
    "duration": 8,
    "start_time": "2022-04-12T17:36:06.899Z"
   },
   {
    "duration": 9,
    "start_time": "2022-04-12T17:36:07.353Z"
   },
   {
    "duration": 9,
    "start_time": "2022-04-12T17:37:05.598Z"
   },
   {
    "duration": 9,
    "start_time": "2022-04-12T17:37:06.246Z"
   },
   {
    "duration": 9,
    "start_time": "2022-04-12T17:37:06.697Z"
   },
   {
    "duration": 502,
    "start_time": "2022-04-12T18:31:47.450Z"
   },
   {
    "duration": 4,
    "start_time": "2022-04-12T18:31:49.890Z"
   },
   {
    "duration": 4,
    "start_time": "2022-04-12T18:31:50.726Z"
   },
   {
    "duration": 39,
    "start_time": "2022-04-12T19:48:12.529Z"
   },
   {
    "duration": 9,
    "start_time": "2022-04-12T19:49:02.071Z"
   },
   {
    "duration": 10,
    "start_time": "2022-04-12T19:49:06.293Z"
   },
   {
    "duration": 11,
    "start_time": "2022-04-12T19:49:08.276Z"
   },
   {
    "duration": 9,
    "start_time": "2022-04-12T19:49:09.210Z"
   },
   {
    "duration": 1142,
    "start_time": "2022-04-13T09:06:04.597Z"
   },
   {
    "duration": 609,
    "start_time": "2022-04-13T09:06:15.972Z"
   },
   {
    "duration": 598,
    "start_time": "2022-04-13T09:22:16.133Z"
   },
   {
    "duration": 568,
    "start_time": "2022-04-13T09:25:17.892Z"
   },
   {
    "duration": 465,
    "start_time": "2022-04-13T09:25:23.862Z"
   },
   {
    "duration": 21,
    "start_time": "2022-04-13T09:26:35.243Z"
   },
   {
    "duration": 966,
    "start_time": "2022-04-13T10:13:00.668Z"
   },
   {
    "duration": 12,
    "start_time": "2022-04-13T10:13:06.168Z"
   },
   {
    "duration": 30,
    "start_time": "2022-04-13T10:59:04.613Z"
   },
   {
    "duration": 68,
    "start_time": "2022-04-13T11:07:53.057Z"
   },
   {
    "duration": 8,
    "start_time": "2022-04-13T11:08:03.075Z"
   },
   {
    "duration": 4,
    "start_time": "2022-04-13T11:09:00.228Z"
   },
   {
    "duration": 205,
    "start_time": "2022-04-13T11:13:55.638Z"
   },
   {
    "duration": 145,
    "start_time": "2022-04-13T11:14:46.359Z"
   },
   {
    "duration": 163,
    "start_time": "2022-04-13T11:15:03.447Z"
   },
   {
    "duration": 211,
    "start_time": "2022-04-13T11:15:23.369Z"
   },
   {
    "duration": 11,
    "start_time": "2022-04-13T11:16:10.417Z"
   },
   {
    "duration": 6,
    "start_time": "2022-04-13T11:16:30.651Z"
   },
   {
    "duration": 26,
    "start_time": "2022-04-13T11:18:37.396Z"
   },
   {
    "duration": 20,
    "start_time": "2022-04-13T12:25:57.394Z"
   },
   {
    "duration": 49,
    "start_time": "2022-04-13T12:27:23.133Z"
   },
   {
    "duration": 9,
    "start_time": "2022-04-13T12:28:54.591Z"
   },
   {
    "duration": 84,
    "start_time": "2022-04-13T12:29:47.226Z"
   },
   {
    "duration": 68,
    "start_time": "2022-04-13T12:30:03.465Z"
   },
   {
    "duration": 90,
    "start_time": "2022-04-13T12:39:30.131Z"
   },
   {
    "duration": 8,
    "start_time": "2022-04-13T12:42:54.525Z"
   },
   {
    "duration": 74,
    "start_time": "2022-04-13T12:43:03.469Z"
   },
   {
    "duration": 74,
    "start_time": "2022-04-13T12:43:13.257Z"
   },
   {
    "duration": 77,
    "start_time": "2022-04-13T12:43:16.526Z"
   },
   {
    "duration": 69,
    "start_time": "2022-04-13T12:43:18.495Z"
   },
   {
    "duration": 85,
    "start_time": "2022-04-13T12:43:48.826Z"
   },
   {
    "duration": 72,
    "start_time": "2022-04-13T12:43:50.811Z"
   },
   {
    "duration": 80,
    "start_time": "2022-04-13T12:43:53.872Z"
   },
   {
    "duration": 71,
    "start_time": "2022-04-13T12:43:55.998Z"
   },
   {
    "duration": 9,
    "start_time": "2022-04-13T13:01:56.588Z"
   },
   {
    "duration": 11,
    "start_time": "2022-04-13T13:17:16.595Z"
   },
   {
    "duration": 9,
    "start_time": "2022-04-13T13:20:24.206Z"
   },
   {
    "duration": 38,
    "start_time": "2022-04-13T13:45:16.556Z"
   },
   {
    "duration": 5,
    "start_time": "2022-04-13T13:46:27.307Z"
   },
   {
    "duration": 5,
    "start_time": "2022-04-13T13:46:31.971Z"
   },
   {
    "duration": 177,
    "start_time": "2022-04-13T13:46:43.825Z"
   },
   {
    "duration": 40,
    "start_time": "2022-04-13T13:46:49.985Z"
   },
   {
    "duration": 68,
    "start_time": "2022-04-13T13:49:22.392Z"
   },
   {
    "duration": 12,
    "start_time": "2022-04-13T13:50:32.175Z"
   },
   {
    "duration": 276,
    "start_time": "2022-04-13T13:50:52.287Z"
   },
   {
    "duration": 13,
    "start_time": "2022-04-13T13:51:05.189Z"
   },
   {
    "duration": 13,
    "start_time": "2022-04-13T13:51:27.086Z"
   },
   {
    "duration": 39,
    "start_time": "2022-04-13T13:52:32.890Z"
   },
   {
    "duration": 21,
    "start_time": "2022-04-13T13:56:06.196Z"
   },
   {
    "duration": 19,
    "start_time": "2022-04-13T13:57:25.956Z"
   },
   {
    "duration": 8,
    "start_time": "2022-04-13T14:07:03.118Z"
   },
   {
    "duration": 13,
    "start_time": "2022-04-13T14:07:15.675Z"
   },
   {
    "duration": 37,
    "start_time": "2022-04-13T14:07:59.671Z"
   },
   {
    "duration": 15,
    "start_time": "2022-04-13T14:08:15.342Z"
   },
   {
    "duration": 39,
    "start_time": "2022-04-13T14:09:53.902Z"
   },
   {
    "duration": 11,
    "start_time": "2022-04-13T14:10:25.227Z"
   },
   {
    "duration": 3,
    "start_time": "2022-04-13T14:31:11.759Z"
   },
   {
    "duration": 784,
    "start_time": "2022-04-13T14:31:15.259Z"
   },
   {
    "duration": 3,
    "start_time": "2022-04-13T14:31:53.076Z"
   },
   {
    "duration": 839,
    "start_time": "2022-04-13T14:31:55.348Z"
   },
   {
    "duration": 130,
    "start_time": "2022-04-26T17:40:10.945Z"
   },
   {
    "duration": 10,
    "start_time": "2022-04-26T17:41:26.283Z"
   },
   {
    "duration": 536,
    "start_time": "2022-04-26T17:41:35.987Z"
   },
   {
    "duration": 1017,
    "start_time": "2022-04-26T17:41:36.526Z"
   },
   {
    "duration": 29,
    "start_time": "2022-04-26T17:41:37.549Z"
   },
   {
    "duration": 70,
    "start_time": "2022-04-26T17:41:37.581Z"
   },
   {
    "duration": 11,
    "start_time": "2022-04-26T17:41:37.653Z"
   },
   {
    "duration": 23,
    "start_time": "2022-04-26T17:41:37.666Z"
   },
   {
    "duration": 10,
    "start_time": "2022-04-26T17:41:37.692Z"
   },
   {
    "duration": 55,
    "start_time": "2022-04-26T17:41:37.704Z"
   },
   {
    "duration": 33,
    "start_time": "2022-04-26T17:41:37.762Z"
   },
   {
    "duration": 33,
    "start_time": "2022-04-26T17:41:37.800Z"
   },
   {
    "duration": 111,
    "start_time": "2022-04-26T17:41:37.852Z"
   },
   {
    "duration": 135,
    "start_time": "2022-04-26T17:41:37.965Z"
   },
   {
    "duration": 109,
    "start_time": "2022-04-26T17:41:38.103Z"
   },
   {
    "duration": 11,
    "start_time": "2022-04-26T17:41:38.214Z"
   },
   {
    "duration": 82,
    "start_time": "2022-04-26T17:41:38.227Z"
   },
   {
    "duration": 4,
    "start_time": "2022-04-26T17:41:38.312Z"
   },
   {
    "duration": 41,
    "start_time": "2022-04-26T17:41:38.318Z"
   },
   {
    "duration": 16,
    "start_time": "2022-04-26T17:41:38.361Z"
   },
   {
    "duration": 103,
    "start_time": "2022-04-26T17:41:38.379Z"
   },
   {
    "duration": 22,
    "start_time": "2022-04-26T17:41:38.485Z"
   },
   {
    "duration": 7,
    "start_time": "2022-04-26T17:41:38.510Z"
   },
   {
    "duration": 54,
    "start_time": "2022-04-26T17:41:38.520Z"
   },
   {
    "duration": 24,
    "start_time": "2022-04-26T17:41:38.577Z"
   },
   {
    "duration": 64,
    "start_time": "2022-04-26T17:41:38.603Z"
   },
   {
    "duration": 19,
    "start_time": "2022-04-26T17:41:38.670Z"
   },
   {
    "duration": 23,
    "start_time": "2022-04-26T17:41:38.691Z"
   },
   {
    "duration": 41,
    "start_time": "2022-04-26T17:41:38.716Z"
   },
   {
    "duration": 103,
    "start_time": "2022-04-26T17:41:38.767Z"
   },
   {
    "duration": 31,
    "start_time": "2022-04-26T17:41:38.872Z"
   },
   {
    "duration": 55,
    "start_time": "2022-04-26T17:41:38.905Z"
   },
   {
    "duration": 6,
    "start_time": "2022-04-26T17:41:38.965Z"
   },
   {
    "duration": 36,
    "start_time": "2022-04-26T17:41:38.973Z"
   },
   {
    "duration": 16,
    "start_time": "2022-04-26T17:41:39.011Z"
   },
   {
    "duration": 51,
    "start_time": "2022-04-26T17:41:39.029Z"
   },
   {
    "duration": 16,
    "start_time": "2022-04-26T17:41:39.082Z"
   },
   {
    "duration": 36,
    "start_time": "2022-04-26T17:41:39.100Z"
   },
   {
    "duration": 16,
    "start_time": "2022-04-26T17:41:39.152Z"
   },
   {
    "duration": 23,
    "start_time": "2022-04-26T17:41:39.171Z"
   },
   {
    "duration": 19,
    "start_time": "2022-04-26T17:41:39.196Z"
   },
   {
    "duration": 53,
    "start_time": "2022-04-26T17:43:01.457Z"
   },
   {
    "duration": 33,
    "start_time": "2022-04-26T17:44:35.259Z"
   },
   {
    "duration": 17,
    "start_time": "2022-04-26T17:45:30.610Z"
   },
   {
    "duration": 50,
    "start_time": "2022-04-26T17:48:19.472Z"
   },
   {
    "duration": 116,
    "start_time": "2022-04-26T17:49:16.444Z"
   },
   {
    "duration": 12,
    "start_time": "2022-04-26T17:49:21.874Z"
   },
   {
    "duration": 17,
    "start_time": "2022-04-26T17:49:23.949Z"
   },
   {
    "duration": 11,
    "start_time": "2022-04-26T17:49:30.715Z"
   },
   {
    "duration": 11,
    "start_time": "2022-04-26T17:49:40.145Z"
   },
   {
    "duration": 11,
    "start_time": "2022-04-26T17:49:46.353Z"
   },
   {
    "duration": 11,
    "start_time": "2022-04-26T17:49:52.534Z"
   },
   {
    "duration": 18,
    "start_time": "2022-04-26T17:49:59.243Z"
   },
   {
    "duration": 19,
    "start_time": "2022-04-26T17:50:01.495Z"
   },
   {
    "duration": 19,
    "start_time": "2022-04-26T17:50:02.151Z"
   },
   {
    "duration": 105,
    "start_time": "2022-04-26T17:50:05.099Z"
   },
   {
    "duration": 19,
    "start_time": "2022-04-26T17:50:07.320Z"
   },
   {
    "duration": 8,
    "start_time": "2022-04-26T17:50:19.831Z"
   },
   {
    "duration": 9,
    "start_time": "2022-04-26T17:51:13.862Z"
   },
   {
    "duration": 7,
    "start_time": "2022-04-26T17:51:31.385Z"
   },
   {
    "duration": 8,
    "start_time": "2022-04-26T17:51:49.521Z"
   },
   {
    "duration": 7,
    "start_time": "2022-04-26T17:52:07.152Z"
   },
   {
    "duration": 615,
    "start_time": "2022-04-26T17:52:42.829Z"
   },
   {
    "duration": 939,
    "start_time": "2022-04-26T17:52:43.446Z"
   },
   {
    "duration": 25,
    "start_time": "2022-04-26T17:52:44.389Z"
   },
   {
    "duration": 83,
    "start_time": "2022-04-26T17:52:44.417Z"
   },
   {
    "duration": 6,
    "start_time": "2022-04-26T17:52:44.502Z"
   },
   {
    "duration": 17,
    "start_time": "2022-04-26T17:52:44.509Z"
   },
   {
    "duration": 12,
    "start_time": "2022-04-26T17:52:44.528Z"
   },
   {
    "duration": 35,
    "start_time": "2022-04-26T17:52:44.551Z"
   },
   {
    "duration": 33,
    "start_time": "2022-04-26T17:52:44.589Z"
   },
   {
    "duration": 51,
    "start_time": "2022-04-26T17:52:44.652Z"
   },
   {
    "duration": 156,
    "start_time": "2022-04-26T17:52:44.706Z"
   },
   {
    "duration": 180,
    "start_time": "2022-04-26T17:52:44.865Z"
   },
   {
    "duration": 147,
    "start_time": "2022-04-26T17:52:45.048Z"
   },
   {
    "duration": 16,
    "start_time": "2022-04-26T17:52:45.198Z"
   },
   {
    "duration": 113,
    "start_time": "2022-04-26T17:52:45.217Z"
   },
   {
    "duration": 5,
    "start_time": "2022-04-26T17:52:45.333Z"
   },
   {
    "duration": 30,
    "start_time": "2022-04-26T17:52:45.341Z"
   },
   {
    "duration": 17,
    "start_time": "2022-04-26T17:52:45.374Z"
   },
   {
    "duration": 78,
    "start_time": "2022-04-26T17:52:45.394Z"
   },
   {
    "duration": 51,
    "start_time": "2022-04-26T17:52:45.474Z"
   },
   {
    "duration": 33,
    "start_time": "2022-04-26T17:52:45.527Z"
   },
   {
    "duration": 19,
    "start_time": "2022-04-26T17:52:45.562Z"
   },
   {
    "duration": 18,
    "start_time": "2022-04-26T17:52:45.584Z"
   },
   {
    "duration": 6,
    "start_time": "2022-04-26T17:52:45.607Z"
   },
   {
    "duration": 24,
    "start_time": "2022-04-26T17:52:45.652Z"
   },
   {
    "duration": 21,
    "start_time": "2022-04-26T17:52:45.678Z"
   },
   {
    "duration": 52,
    "start_time": "2022-04-26T17:52:45.701Z"
   },
   {
    "duration": 21,
    "start_time": "2022-04-26T17:52:45.758Z"
   },
   {
    "duration": 23,
    "start_time": "2022-04-26T17:52:45.781Z"
   },
   {
    "duration": 51,
    "start_time": "2022-04-26T17:52:45.806Z"
   },
   {
    "duration": 115,
    "start_time": "2022-04-26T17:52:45.859Z"
   },
   {
    "duration": 46,
    "start_time": "2022-04-26T17:52:45.977Z"
   },
   {
    "duration": 56,
    "start_time": "2022-04-26T17:52:46.026Z"
   },
   {
    "duration": 8,
    "start_time": "2022-04-26T17:52:46.085Z"
   },
   {
    "duration": 63,
    "start_time": "2022-04-26T17:52:46.096Z"
   },
   {
    "duration": 23,
    "start_time": "2022-04-26T17:52:46.162Z"
   },
   {
    "duration": 32,
    "start_time": "2022-04-26T17:52:46.187Z"
   },
   {
    "duration": 45,
    "start_time": "2022-04-26T17:52:46.222Z"
   },
   {
    "duration": 50,
    "start_time": "2022-04-26T17:52:46.270Z"
   },
   {
    "duration": 43,
    "start_time": "2022-04-26T17:52:46.323Z"
   },
   {
    "duration": 18,
    "start_time": "2022-04-26T17:52:46.368Z"
   },
   {
    "duration": 7,
    "start_time": "2022-04-26T17:52:46.388Z"
   },
   {
    "duration": 26,
    "start_time": "2022-04-26T17:52:46.397Z"
   },
   {
    "duration": 37,
    "start_time": "2022-04-26T17:52:46.425Z"
   },
   {
    "duration": 11,
    "start_time": "2022-04-26T17:52:46.465Z"
   },
   {
    "duration": 6,
    "start_time": "2022-04-26T17:52:46.479Z"
   }
  ],
  "colab": {
   "collapsed_sections": [
    "E0vqbgi9ay0H",
    "VUC88oWjTJw2"
   ],
   "name": "yandex_music_project.ipynb",
   "provenance": []
  },
  "kernelspec": {
   "display_name": "Python 3 (ipykernel)",
   "language": "python",
   "name": "python3"
  },
  "language_info": {
   "codemirror_mode": {
    "name": "ipython",
    "version": 3
   },
   "file_extension": ".py",
   "mimetype": "text/x-python",
   "name": "python",
   "nbconvert_exporter": "python",
   "pygments_lexer": "ipython3",
   "version": "3.9.7"
  },
  "toc": {
   "base_numbering": 1,
   "nav_menu": {},
   "number_sections": true,
   "sideBar": true,
   "skip_h1_title": true,
   "title_cell": "Table of Contents",
   "title_sidebar": "Contents",
   "toc_cell": false,
   "toc_position": {
    "height": "calc(100% - 180px)",
    "left": "10px",
    "top": "150px",
    "width": "208.391px"
   },
   "toc_section_display": true,
   "toc_window_display": false
  }
 },
 "nbformat": 4,
 "nbformat_minor": 1
}
